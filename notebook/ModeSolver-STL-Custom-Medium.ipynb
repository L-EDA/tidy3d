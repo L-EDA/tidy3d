{
 "cells": [
  {
   "cell_type": "code",
   "execution_count": 6,
   "id": "ca8f4eb5",
   "metadata": {},
   "outputs": [
    {
     "name": "stdout",
     "output_type": "stream",
     "text": [
      "center: (0.0, 0.0, -1.4901199999611814e-07)\n",
      "size: (0.499999940396, 0.40000000596, 0.22000046074399998)\n"
     ]
    }
   ],
   "source": [
    "import tidy3d as td\n",
    "\n",
    "# size of simulation domain\n",
    "Lx, Ly, Lz = 2, 2, 2\n",
    "# Lx, Ly, Lz = 2,3,2\n",
    "dl = 0.06667\n",
    "\n",
    "# waveguide information\n",
    "wg_permittivity = 3.477 ** 2\n",
    "\n",
    "# automatic grid specification\n",
    "# grid_spec = td.GridSpec.auto(min_steps_per_wvl=20, wavelength=wvl_um)\n",
    "grid_spec = td.GridSpec.uniform(dl=dl)\n",
    "# mesh = td.TriangleMesh.from_stl(\"./models/unit_cube.stl\")\n",
    "# mesh = td.TriangleMesh.from_stl(\"./models/busted.stl\")\n",
    "mesh = td.TriangleMesh.from_stl(\"./wg.stl\", scale=1)\n",
    "\n",
    "tmesh = mesh.trimesh\n",
    "# tmesh.rezero()\n",
    "# tmesh.apply_translation(-tmesh.centroid)\n",
    "\n",
    "bmesh = tmesh.bounding_box\n",
    "bmesh.visual.face_colors = [115, 112, 255, 100]\n",
    "print(\"center:\", mesh.bounding_box.center)\n",
    "print(\"size:\", mesh.bounding_box.size)\n",
    "\n",
    "# (tmesh).show(viewer='gl')\n",
    "\n",
    "geometry = mesh\n",
    "\n",
    "# geometry = td.Box(center=(0, 0, 0), size=(1,1,1))"
   ]
  },
  {
   "cell_type": "code",
   "execution_count": 7,
   "id": "0b96b1cd",
   "metadata": {},
   "outputs": [
    {
     "data": {
      "text/plain": [
       "<Axes: title={'center': 'cross section at y=0.00'}, xlabel='x', ylabel='z'>"
      ]
     },
     "execution_count": 7,
     "metadata": {},
     "output_type": "execute_result"
    },
    {
     "data": {
      "image/png": "[encoded data removed]",
      "text/plain": [
       "<Figure size 640x480 with 2 Axes>"
      ]
     },
     "metadata": {},
     "output_type": "display_data"
    }
   ],
   "source": [
    "\n",
    "waveguide = td.Structure(\n",
    "    geometry=geometry,\n",
    "    medium=td.Medium(permittivity=wg_permittivity),\n",
    ")\n",
    "\n",
    "sim = td.Simulation(\n",
    "    size=(Lx, Ly, Lz),\n",
    "    grid_spec=grid_spec,\n",
    "    structures=[waveguide],\n",
    "    run_time=1e-12,\n",
    "    boundary_spec=td.BoundarySpec.all_sides(boundary=td.Periodic()),\n",
    ")\n",
    "\n",
    "sim.plot_eps(y=0)"
   ]
  },
  {
   "cell_type": "markdown",
   "id": "c8b3c16a",
   "metadata": {},
   "source": [
    "use sim to generate spatial medium"
   ]
  },
  {
   "cell_type": "code",
   "execution_count": 10,
   "id": "d2b65196",
   "metadata": {},
   "outputs": [
    {
     "name": "stdout",
     "output_type": "stream",
     "text": [
      "--total cells 27000\n",
      "Calc Time elapsed: 301.25851060000423\n",
      "Average Time elapsed: 12.637659100000747\n"
     ]
    }
   ],
   "source": [
    "import custom.spatial_medium as sm\n",
    "creator = sm.SpatialMediumCreator2(sim)\n",
    "\n",
    "medium, cell_permittivity = creator.create()\n",
    "# waveguide.medium = medium"
   ]
  },
  {
   "cell_type": "markdown",
   "id": "8b5a858f",
   "metadata": {},
   "source": [
    "visualize the medium"
   ]
  },
  {
   "cell_type": "code",
   "execution_count": 1,
   "id": "c23cf387",
   "metadata": {},
   "outputs": [
    {
     "ename": "NameError",
     "evalue": "name 'medium' is not defined",
     "output_type": "error",
     "traceback": [
      "\u001b[1;31m---------------------------------------------------------------------------\u001b[0m",
      "\u001b[1;31mNameError\u001b[0m                                 Traceback (most recent call last)",
      "Cell \u001b[1;32mIn[1], line 4\u001b[0m\n\u001b[0;32m      1\u001b[0m \u001b[38;5;28;01mimport\u001b[39;00m \u001b[38;5;21;01mnumpy\u001b[39;00m \u001b[38;5;28;01mas\u001b[39;00m \u001b[38;5;21;01mnp\u001b[39;00m\n\u001b[0;32m      2\u001b[0m \u001b[38;5;28;01mimport\u001b[39;00m \u001b[38;5;21;01mmatplotlib\u001b[39;00m\u001b[38;5;21;01m.\u001b[39;00m\u001b[38;5;21;01mpyplot\u001b[39;00m \u001b[38;5;28;01mas\u001b[39;00m \u001b[38;5;21;01mplt\u001b[39;00m  \n\u001b[1;32m----> 4\u001b[0m permittivity: td\u001b[38;5;241m.\u001b[39mSpatialDataArray \u001b[38;5;241m=\u001b[39m \u001b[43mmedium\u001b[49m\u001b[38;5;241m.\u001b[39mpermittivity \u001b[38;5;66;03m# type: ignore\u001b[39;00m\n\u001b[0;32m      6\u001b[0m \u001b[38;5;28;01mif\u001b[39;00m \u001b[38;5;28;01mTrue\u001b[39;00m:\n\u001b[0;32m      7\u001b[0m \tX,Y,Z \u001b[38;5;241m=\u001b[39m np\u001b[38;5;241m.\u001b[39mmeshgrid(permittivity\u001b[38;5;241m.\u001b[39mx, permittivity\u001b[38;5;241m.\u001b[39my, permittivity\u001b[38;5;241m.\u001b[39mz, indexing\u001b[38;5;241m=\u001b[39m\u001b[38;5;124m'\u001b[39m\u001b[38;5;124mij\u001b[39m\u001b[38;5;124m'\u001b[39m)\n",
      "\u001b[1;31mNameError\u001b[0m: name 'medium' is not defined"
     ]
    }
   ],
   "source": [
    "import numpy as np\n",
    "import matplotlib.pyplot as plt  \n",
    "\n",
    "permittivity: td.SpatialDataArray = medium.permittivity # type: ignore\n",
    "\n",
    "if True:\n",
    "\tX,Y,Z = np.meshgrid(permittivity.x, permittivity.y, permittivity.z, indexing='ij')\n",
    "\tfig = plt.figure(figsize=(8, 7))\n",
    "\tax = fig.add_subplot(111, projection='3d')\n",
    "\tX_1 = X.flatten()\n",
    "\tY_1 = Y.flatten()\n",
    "\tZ_1 = Z.flatten()\n",
    "\tE_1 = permittivity.values.flatten()\n",
    "\tscatter = ax.scatter(X_1, Y_1, Z_1, s=E_1*12, c=E_1, cmap='viridis', marker='o')\n",
    "\tcbar = plt.colorbar(scatter, ax=ax, shrink=0.5, aspect=10)\n",
    "\tcbar.set_label('Permittivity')\n",
    "\tax.set_xlabel('X')\n",
    "\tax.set_ylabel('Y')\n",
    "\tax.set_zlabel('Z')\n",
    "\tplt.show()\n",
    "\n",
    "import vedo\n",
    "vedo.settings.default_backend = 'vtk'\n",
    "sim_box = vedo.Box(\n",
    "\tpos=sim.bounding_box.center,\n",
    "\tsize=sim.size,\n",
    "\tc='g2',\n",
    "\talpha=0.1\n",
    ")\n",
    "plotter = vedo.Plotter()\n",
    "\n",
    "if True:\n",
    "\tx_bounds = [float(permittivity.x.min()), float(permittivity.x.max())]\n",
    "\ty_bounds = [float(permittivity.y.min()), float(permittivity.y.max())]\n",
    "\tz_bounds = [float(permittivity.z.min()), float(permittivity.z.max())]\n",
    "\n",
    "\tX_2, Y_2 = np.meshgrid(permittivity.x, permittivity.y)\n",
    "\tstart_pts = np.array([X_2.flatten(), Y_2.flatten(), np.ones_like(X_2.flatten()) * z_bounds[0]]).T\n",
    "\tend_pts = np.array([X_2.flatten(), Y_2.flatten(), np.ones_like(X_2.flatten()) * z_bounds[1]]).T\n",
    "\n",
    "\tY_2, Z_2 = np.meshgrid(permittivity.y, permittivity.z)\n",
    "\tstart_pts = np.vstack([start_pts, np.array([np.ones_like(Y_2.flatten()) * x_bounds[0], Y_2.flatten(), Z_2.flatten()]).T])\n",
    "\tend_pts = np.vstack([end_pts, np.array([np.ones_like(Y_2.flatten()) * x_bounds[1], Y_2.flatten(), Z_2.flatten()]).T])\n",
    "\n",
    "\tX_2, Z_2 = np.meshgrid(permittivity.x, permittivity.z)\n",
    "\tstart_pts = np.vstack([start_pts, np.array([X_2.flatten(), np.ones_like(Z_2.flatten()) * y_bounds[0], Z_2.flatten()]).T])\n",
    "\tend_pts = np.vstack([end_pts, np.array([X_2.flatten(), np.ones_like(Z_2.flatten()) * y_bounds[1], Z_2.flatten()]).T])\n",
    "\n",
    "\tlines = vedo.Lines(start_pts, end_pts, c='k')\n",
    "\n",
    "\tplotter.add(lines)\n",
    "\n",
    "original_shape = cell_permittivity.shape\n",
    "new_shape = (original_shape[0] + 2, original_shape[1] + 2, original_shape[2] + 2)\n",
    "cell_permittivity[cell_permittivity <= 1.0] = 0\n",
    "new_data_matrix = np.zeros(new_shape, dtype=np.uint8)\n",
    "new_data_matrix[1:-1, 1:-1, 1:-1] = cell_permittivity\n",
    "\n",
    "vol1 = vedo.Volume(new_data_matrix, spacing=(dl, dl, dl), origin=(-(Lx+dl)/2, -(Ly+dl)/2, -(Lz+dl)/2))\n",
    "vol1.cmap(['white','b','r']).mode(1).off()\n",
    "plotter.add(vol1)\n",
    "\n",
    "\n",
    "vol2 = vedo.Volume(permittivity.values, spacing=(dl, dl, dl), origin=(-(Lx)/2, -(Ly)/2, -(Lz)/2))\n",
    "vol2.cmap(['white','b', 'r']).mode(1)\n",
    "plotter.add(vol2)\n",
    "\n",
    "plotter.add(sim_box)\n",
    "structures = vedo.Mesh([tmesh.vertices, tmesh.faces])\n",
    "structures.c('y').alpha(0.4)\n",
    "plotter.add(structures)\n",
    "\n",
    "def buttonfunc(obj, ename):\n",
    "\tstructures.toggle()\n",
    "\tobj.switch()\n",
    "\n",
    "plotter.add_button(\n",
    "    buttonfunc,\n",
    "    pos=(0.9, 0.1),   # x,y fraction from bottom left corner\n",
    "    states=[\"hide s\", \"show s\"],  # text for each state\n",
    "    c=[\"w\", \"r\"],     # font color for each state\n",
    "    bc=[\"dg\", \"dv\"],  # background color for each state\n",
    "    size=30,          # font size\n",
    "    bold=True,        # bold font\n",
    "    italic=False,     # non-italic font style\n",
    ")\n",
    "def buttonfunc2(obj, ename):\n",
    "\tvol1.toggle()\n",
    "\tvol2.toggle()\n",
    "\tobj.switch()\n",
    "\n",
    "\n",
    "def buttonfunc3(obj, ename):\n",
    "\tlines.toggle()\n",
    "\n",
    "plotter.add_button(\n",
    "    buttonfunc2,\n",
    "    pos=(0.9, 0.2),   # x,y fraction from bottom left corner\n",
    "    states=[\"coords\", \"cell\"],  # text for each state\n",
    "    c=[\"w\", \"r\"],     # font color for each state\n",
    "    size=30,          # font size\n",
    "    bold=True,        # bold font\n",
    "    italic=False,     # non-italic font style\n",
    ")\n",
    "\n",
    "plotter.add_button(\n",
    "    buttonfunc3,\n",
    "    pos=(0.9, 0.3),   # x,y fraction from bottom left corner\n",
    "    states=[\"lines\"],  # text for each state\n",
    "    c=[\"g\", \"r\"],     # font color for each state\n",
    "    size=30,          # font size\n",
    "    bold=True,        # bold font\n",
    "    italic=False,     # non-italic font style\n",
    ")\n",
    "\n",
    "plotter.show(viewup='z', axes=1).close()"
   ]
  },
  {
   "cell_type": "code",
   "execution_count": 5,
   "id": "95d0dcb6",
   "metadata": {},
   "outputs": [
    {
     "data": {
      "text/html": [
       "<pre style=\"white-space:pre;overflow-x:auto;line-height:normal;font-family:Menlo,'DejaVu Sans Mono',consolas,'Courier New',monospace\"><span style=\"color: #7fbfbf; text-decoration-color: #7fbfbf\">17:02:34 中国标准时间 </span><span style=\"color: #800000; text-decoration-color: #800000\">WARNING: Use the remote mode solver with subpixel         </span>\n",
       "<span style=\"color: #7fbfbf; text-decoration-color: #7fbfbf\">                      </span><span style=\"color: #800000; text-decoration-color: #800000\">averaging for better accuracy through                     </span>\n",
       "<span style=\"color: #7fbfbf; text-decoration-color: #7fbfbf\">                      </span><span style=\"color: #008000; text-decoration-color: #008000\">'tidy3d.plugins.mode.web.run(...)'</span><span style=\"color: #800000; text-decoration-color: #800000\">.                       </span>\n",
       "</pre>\n"
      ],
      "text/plain": [
       "\u001b[2;36m17:02:34 中国标准时间\u001b[0m\u001b[2;36m \u001b[0m\u001b[31mWARNING: Use the remote mode solver with subpixel         \u001b[0m\n",
       "\u001b[2;36m                      \u001b[0m\u001b[31maveraging for better accuracy through                     \u001b[0m\n",
       "\u001b[2;36m                      \u001b[0m\u001b[32m'tidy3d.plugins.mode.web.run\u001b[0m\u001b[32m(\u001b[0m\u001b[32m...\u001b[0m\u001b[32m)\u001b[0m\u001b[32m'\u001b[0m\u001b[31m.                       \u001b[0m\n"
      ]
     },
     "metadata": {},
     "output_type": "display_data"
    },
    {
     "data": {
      "text/html": [
       "<pre style=\"white-space:pre;overflow-x:auto;line-height:normal;font-family:Menlo,'DejaVu Sans Mono',consolas,'Courier New',monospace\"><span style=\"color: #7fbfbf; text-decoration-color: #7fbfbf\">                </span><span style=\"color: #800000; text-decoration-color: #800000\">WARNING: Client-side permittivity of a </span><span style=\"color: #008000; text-decoration-color: #008000\">'TriangleMesh'</span><span style=\"color: #800000; text-decoration-color: #800000\"> may be    </span>\n",
       "<span style=\"color: #7fbfbf; text-decoration-color: #7fbfbf\">                </span><span style=\"color: #800000; text-decoration-color: #800000\">inaccurate if the mesh is not unionized. We recommend unionizing</span>\n",
       "<span style=\"color: #7fbfbf; text-decoration-color: #7fbfbf\">                </span><span style=\"color: #800000; text-decoration-color: #800000\">all meshes before import. A </span><span style=\"color: #008000; text-decoration-color: #008000\">'PermittivityMonitor'</span><span style=\"color: #800000; text-decoration-color: #800000\"> can be used to</span>\n",
       "<span style=\"color: #7fbfbf; text-decoration-color: #7fbfbf\">                </span><span style=\"color: #800000; text-decoration-color: #800000\">obtain the true permittivity and check that the surface mesh is </span>\n",
       "<span style=\"color: #7fbfbf; text-decoration-color: #7fbfbf\">                </span><span style=\"color: #800000; text-decoration-color: #800000\">loaded correctly.                                               </span>\n",
       "</pre>\n"
      ],
      "text/plain": [
       "\u001b[2;36m               \u001b[0m\u001b[2;36m \u001b[0m\u001b[31mWARNING: Client-side permittivity of a \u001b[0m\u001b[32m'TriangleMesh'\u001b[0m\u001b[31m may be    \u001b[0m\n",
       "\u001b[2;36m                \u001b[0m\u001b[31minaccurate if the mesh is not unionized. We recommend unionizing\u001b[0m\n",
       "\u001b[2;36m                \u001b[0m\u001b[31mall meshes before import. A \u001b[0m\u001b[32m'PermittivityMonitor'\u001b[0m\u001b[31m can be used to\u001b[0m\n",
       "\u001b[2;36m                \u001b[0m\u001b[31mobtain the true permittivity and check that the surface mesh is \u001b[0m\n",
       "\u001b[2;36m                \u001b[0m\u001b[31mloaded correctly.                                               \u001b[0m\n"
      ]
     },
     "metadata": {},
     "output_type": "display_data"
    },
    {
     "data": {
      "text/html": [
       "<pre style=\"white-space:pre;overflow-x:auto;line-height:normal;font-family:Menlo,'DejaVu Sans Mono',consolas,'Courier New',monospace\"><span style=\"color: #7fbfbf; text-decoration-color: #7fbfbf\">                </span><span style=\"color: #800000; text-decoration-color: #800000\">WARNING: Client-side permittivity of a </span><span style=\"color: #008000; text-decoration-color: #008000\">'TriangleMesh'</span><span style=\"color: #800000; text-decoration-color: #800000\"> may be    </span>\n",
       "<span style=\"color: #7fbfbf; text-decoration-color: #7fbfbf\">                </span><span style=\"color: #800000; text-decoration-color: #800000\">inaccurate if the mesh is not unionized. We recommend unionizing</span>\n",
       "<span style=\"color: #7fbfbf; text-decoration-color: #7fbfbf\">                </span><span style=\"color: #800000; text-decoration-color: #800000\">all meshes before import. A </span><span style=\"color: #008000; text-decoration-color: #008000\">'PermittivityMonitor'</span><span style=\"color: #800000; text-decoration-color: #800000\"> can be used to</span>\n",
       "<span style=\"color: #7fbfbf; text-decoration-color: #7fbfbf\">                </span><span style=\"color: #800000; text-decoration-color: #800000\">obtain the true permittivity and check that the surface mesh is </span>\n",
       "<span style=\"color: #7fbfbf; text-decoration-color: #7fbfbf\">                </span><span style=\"color: #800000; text-decoration-color: #800000\">loaded correctly.                                               </span>\n",
       "</pre>\n"
      ],
      "text/plain": [
       "\u001b[2;36m               \u001b[0m\u001b[2;36m \u001b[0m\u001b[31mWARNING: Client-side permittivity of a \u001b[0m\u001b[32m'TriangleMesh'\u001b[0m\u001b[31m may be    \u001b[0m\n",
       "\u001b[2;36m                \u001b[0m\u001b[31minaccurate if the mesh is not unionized. We recommend unionizing\u001b[0m\n",
       "\u001b[2;36m                \u001b[0m\u001b[31mall meshes before import. A \u001b[0m\u001b[32m'PermittivityMonitor'\u001b[0m\u001b[31m can be used to\u001b[0m\n",
       "\u001b[2;36m                \u001b[0m\u001b[31mobtain the true permittivity and check that the surface mesh is \u001b[0m\n",
       "\u001b[2;36m                \u001b[0m\u001b[31mloaded correctly.                                               \u001b[0m\n"
      ]
     },
     "metadata": {},
     "output_type": "display_data"
    },
    {
     "data": {
      "text/html": [
       "<pre style=\"white-space:pre;overflow-x:auto;line-height:normal;font-family:Menlo,'DejaVu Sans Mono',consolas,'Courier New',monospace\"><span style=\"color: #7fbfbf; text-decoration-color: #7fbfbf\">                </span><span style=\"color: #800000; text-decoration-color: #800000\">WARNING: Client-side permittivity of a </span><span style=\"color: #008000; text-decoration-color: #008000\">'TriangleMesh'</span><span style=\"color: #800000; text-decoration-color: #800000\"> may be    </span>\n",
       "<span style=\"color: #7fbfbf; text-decoration-color: #7fbfbf\">                </span><span style=\"color: #800000; text-decoration-color: #800000\">inaccurate if the mesh is not unionized. We recommend unionizing</span>\n",
       "<span style=\"color: #7fbfbf; text-decoration-color: #7fbfbf\">                </span><span style=\"color: #800000; text-decoration-color: #800000\">all meshes before import. A </span><span style=\"color: #008000; text-decoration-color: #008000\">'PermittivityMonitor'</span><span style=\"color: #800000; text-decoration-color: #800000\"> can be used to</span>\n",
       "<span style=\"color: #7fbfbf; text-decoration-color: #7fbfbf\">                </span><span style=\"color: #800000; text-decoration-color: #800000\">obtain the true permittivity and check that the surface mesh is </span>\n",
       "<span style=\"color: #7fbfbf; text-decoration-color: #7fbfbf\">                </span><span style=\"color: #800000; text-decoration-color: #800000\">loaded correctly.                                               </span>\n",
       "</pre>\n"
      ],
      "text/plain": [
       "\u001b[2;36m               \u001b[0m\u001b[2;36m \u001b[0m\u001b[31mWARNING: Client-side permittivity of a \u001b[0m\u001b[32m'TriangleMesh'\u001b[0m\u001b[31m may be    \u001b[0m\n",
       "\u001b[2;36m                \u001b[0m\u001b[31minaccurate if the mesh is not unionized. We recommend unionizing\u001b[0m\n",
       "\u001b[2;36m                \u001b[0m\u001b[31mall meshes before import. A \u001b[0m\u001b[32m'PermittivityMonitor'\u001b[0m\u001b[31m can be used to\u001b[0m\n",
       "\u001b[2;36m                \u001b[0m\u001b[31mobtain the true permittivity and check that the surface mesh is \u001b[0m\n",
       "\u001b[2;36m                \u001b[0m\u001b[31mloaded correctly.                                               \u001b[0m\n"
      ]
     },
     "metadata": {},
     "output_type": "display_data"
    },
    {
     "data": {
      "text/html": [
       "<pre style=\"white-space:pre;overflow-x:auto;line-height:normal;font-family:Menlo,'DejaVu Sans Mono',consolas,'Courier New',monospace\"><span style=\"color: #7fbfbf; text-decoration-color: #7fbfbf\">                </span><span style=\"color: #800000; text-decoration-color: #800000\">WARNING: Client-side permittivity of a </span><span style=\"color: #008000; text-decoration-color: #008000\">'TriangleMesh'</span><span style=\"color: #800000; text-decoration-color: #800000\"> may be    </span>\n",
       "<span style=\"color: #7fbfbf; text-decoration-color: #7fbfbf\">                </span><span style=\"color: #800000; text-decoration-color: #800000\">inaccurate if the mesh is not unionized. We recommend unionizing</span>\n",
       "<span style=\"color: #7fbfbf; text-decoration-color: #7fbfbf\">                </span><span style=\"color: #800000; text-decoration-color: #800000\">all meshes before import. A </span><span style=\"color: #008000; text-decoration-color: #008000\">'PermittivityMonitor'</span><span style=\"color: #800000; text-decoration-color: #800000\"> can be used to</span>\n",
       "<span style=\"color: #7fbfbf; text-decoration-color: #7fbfbf\">                </span><span style=\"color: #800000; text-decoration-color: #800000\">obtain the true permittivity and check that the surface mesh is </span>\n",
       "<span style=\"color: #7fbfbf; text-decoration-color: #7fbfbf\">                </span><span style=\"color: #800000; text-decoration-color: #800000\">loaded correctly.                                               </span>\n",
       "</pre>\n"
      ],
      "text/plain": [
       "\u001b[2;36m               \u001b[0m\u001b[2;36m \u001b[0m\u001b[31mWARNING: Client-side permittivity of a \u001b[0m\u001b[32m'TriangleMesh'\u001b[0m\u001b[31m may be    \u001b[0m\n",
       "\u001b[2;36m                \u001b[0m\u001b[31minaccurate if the mesh is not unionized. We recommend unionizing\u001b[0m\n",
       "\u001b[2;36m                \u001b[0m\u001b[31mall meshes before import. A \u001b[0m\u001b[32m'PermittivityMonitor'\u001b[0m\u001b[31m can be used to\u001b[0m\n",
       "\u001b[2;36m                \u001b[0m\u001b[31mobtain the true permittivity and check that the surface mesh is \u001b[0m\n",
       "\u001b[2;36m                \u001b[0m\u001b[31mloaded correctly.                                               \u001b[0m\n"
      ]
     },
     "metadata": {},
     "output_type": "display_data"
    },
    {
     "data": {
      "text/html": [
       "<pre style=\"white-space:pre;overflow-x:auto;line-height:normal;font-family:Menlo,'DejaVu Sans Mono',consolas,'Courier New',monospace\"><span style=\"color: #7fbfbf; text-decoration-color: #7fbfbf\">                </span><span style=\"color: #800000; text-decoration-color: #800000\">WARNING: Client-side permittivity of a </span><span style=\"color: #008000; text-decoration-color: #008000\">'TriangleMesh'</span><span style=\"color: #800000; text-decoration-color: #800000\"> may be    </span>\n",
       "<span style=\"color: #7fbfbf; text-decoration-color: #7fbfbf\">                </span><span style=\"color: #800000; text-decoration-color: #800000\">inaccurate if the mesh is not unionized. We recommend unionizing</span>\n",
       "<span style=\"color: #7fbfbf; text-decoration-color: #7fbfbf\">                </span><span style=\"color: #800000; text-decoration-color: #800000\">all meshes before import. A </span><span style=\"color: #008000; text-decoration-color: #008000\">'PermittivityMonitor'</span><span style=\"color: #800000; text-decoration-color: #800000\"> can be used to</span>\n",
       "<span style=\"color: #7fbfbf; text-decoration-color: #7fbfbf\">                </span><span style=\"color: #800000; text-decoration-color: #800000\">obtain the true permittivity and check that the surface mesh is </span>\n",
       "<span style=\"color: #7fbfbf; text-decoration-color: #7fbfbf\">                </span><span style=\"color: #800000; text-decoration-color: #800000\">loaded correctly.                                               </span>\n",
       "</pre>\n"
      ],
      "text/plain": [
       "\u001b[2;36m               \u001b[0m\u001b[2;36m \u001b[0m\u001b[31mWARNING: Client-side permittivity of a \u001b[0m\u001b[32m'TriangleMesh'\u001b[0m\u001b[31m may be    \u001b[0m\n",
       "\u001b[2;36m                \u001b[0m\u001b[31minaccurate if the mesh is not unionized. We recommend unionizing\u001b[0m\n",
       "\u001b[2;36m                \u001b[0m\u001b[31mall meshes before import. A \u001b[0m\u001b[32m'PermittivityMonitor'\u001b[0m\u001b[31m can be used to\u001b[0m\n",
       "\u001b[2;36m                \u001b[0m\u001b[31mobtain the true permittivity and check that the surface mesh is \u001b[0m\n",
       "\u001b[2;36m                \u001b[0m\u001b[31mloaded correctly.                                               \u001b[0m\n"
      ]
     },
     "metadata": {},
     "output_type": "display_data"
    },
    {
     "data": {
      "text/html": [
       "<pre style=\"white-space:pre;overflow-x:auto;line-height:normal;font-family:Menlo,'DejaVu Sans Mono',consolas,'Courier New',monospace\"><span style=\"color: #7fbfbf; text-decoration-color: #7fbfbf\">                </span><span style=\"color: #800000; text-decoration-color: #800000\">WARNING: Client-side permittivity of a </span><span style=\"color: #008000; text-decoration-color: #008000\">'TriangleMesh'</span><span style=\"color: #800000; text-decoration-color: #800000\"> may be    </span>\n",
       "<span style=\"color: #7fbfbf; text-decoration-color: #7fbfbf\">                </span><span style=\"color: #800000; text-decoration-color: #800000\">inaccurate if the mesh is not unionized. We recommend unionizing</span>\n",
       "<span style=\"color: #7fbfbf; text-decoration-color: #7fbfbf\">                </span><span style=\"color: #800000; text-decoration-color: #800000\">all meshes before import. A </span><span style=\"color: #008000; text-decoration-color: #008000\">'PermittivityMonitor'</span><span style=\"color: #800000; text-decoration-color: #800000\"> can be used to</span>\n",
       "<span style=\"color: #7fbfbf; text-decoration-color: #7fbfbf\">                </span><span style=\"color: #800000; text-decoration-color: #800000\">obtain the true permittivity and check that the surface mesh is </span>\n",
       "<span style=\"color: #7fbfbf; text-decoration-color: #7fbfbf\">                </span><span style=\"color: #800000; text-decoration-color: #800000\">loaded correctly.                                               </span>\n",
       "</pre>\n"
      ],
      "text/plain": [
       "\u001b[2;36m               \u001b[0m\u001b[2;36m \u001b[0m\u001b[31mWARNING: Client-side permittivity of a \u001b[0m\u001b[32m'TriangleMesh'\u001b[0m\u001b[31m may be    \u001b[0m\n",
       "\u001b[2;36m                \u001b[0m\u001b[31minaccurate if the mesh is not unionized. We recommend unionizing\u001b[0m\n",
       "\u001b[2;36m                \u001b[0m\u001b[31mall meshes before import. A \u001b[0m\u001b[32m'PermittivityMonitor'\u001b[0m\u001b[31m can be used to\u001b[0m\n",
       "\u001b[2;36m                \u001b[0m\u001b[31mobtain the true permittivity and check that the surface mesh is \u001b[0m\n",
       "\u001b[2;36m                \u001b[0m\u001b[31mloaded correctly.                                               \u001b[0m\n"
      ]
     },
     "metadata": {},
     "output_type": "display_data"
    },
    {
     "data": {
      "text/html": [
       "<pre style=\"white-space:pre;overflow-x:auto;line-height:normal;font-family:Menlo,'DejaVu Sans Mono',consolas,'Courier New',monospace\"><span style=\"color: #7fbfbf; text-decoration-color: #7fbfbf\">                </span><span style=\"color: #800000; text-decoration-color: #800000\">WARNING: Client-side permittivity of a </span><span style=\"color: #008000; text-decoration-color: #008000\">'TriangleMesh'</span><span style=\"color: #800000; text-decoration-color: #800000\"> may be    </span>\n",
       "<span style=\"color: #7fbfbf; text-decoration-color: #7fbfbf\">                </span><span style=\"color: #800000; text-decoration-color: #800000\">inaccurate if the mesh is not unionized. We recommend unionizing</span>\n",
       "<span style=\"color: #7fbfbf; text-decoration-color: #7fbfbf\">                </span><span style=\"color: #800000; text-decoration-color: #800000\">all meshes before import. A </span><span style=\"color: #008000; text-decoration-color: #008000\">'PermittivityMonitor'</span><span style=\"color: #800000; text-decoration-color: #800000\"> can be used to</span>\n",
       "<span style=\"color: #7fbfbf; text-decoration-color: #7fbfbf\">                </span><span style=\"color: #800000; text-decoration-color: #800000\">obtain the true permittivity and check that the surface mesh is </span>\n",
       "<span style=\"color: #7fbfbf; text-decoration-color: #7fbfbf\">                </span><span style=\"color: #800000; text-decoration-color: #800000\">loaded correctly.                                               </span>\n",
       "</pre>\n"
      ],
      "text/plain": [
       "\u001b[2;36m               \u001b[0m\u001b[2;36m \u001b[0m\u001b[31mWARNING: Client-side permittivity of a \u001b[0m\u001b[32m'TriangleMesh'\u001b[0m\u001b[31m may be    \u001b[0m\n",
       "\u001b[2;36m                \u001b[0m\u001b[31minaccurate if the mesh is not unionized. We recommend unionizing\u001b[0m\n",
       "\u001b[2;36m                \u001b[0m\u001b[31mall meshes before import. A \u001b[0m\u001b[32m'PermittivityMonitor'\u001b[0m\u001b[31m can be used to\u001b[0m\n",
       "\u001b[2;36m                \u001b[0m\u001b[31mobtain the true permittivity and check that the surface mesh is \u001b[0m\n",
       "\u001b[2;36m                \u001b[0m\u001b[31mloaded correctly.                                               \u001b[0m\n"
      ]
     },
     "metadata": {},
     "output_type": "display_data"
    },
    {
     "data": {
      "text/html": [
       "<pre style=\"white-space:pre;overflow-x:auto;line-height:normal;font-family:Menlo,'DejaVu Sans Mono',consolas,'Courier New',monospace\"><span style=\"color: #7fbfbf; text-decoration-color: #7fbfbf\">                </span><span style=\"color: #800000; text-decoration-color: #800000\">WARNING: Client-side permittivity of a </span><span style=\"color: #008000; text-decoration-color: #008000\">'TriangleMesh'</span><span style=\"color: #800000; text-decoration-color: #800000\"> may be    </span>\n",
       "<span style=\"color: #7fbfbf; text-decoration-color: #7fbfbf\">                </span><span style=\"color: #800000; text-decoration-color: #800000\">inaccurate if the mesh is not unionized. We recommend unionizing</span>\n",
       "<span style=\"color: #7fbfbf; text-decoration-color: #7fbfbf\">                </span><span style=\"color: #800000; text-decoration-color: #800000\">all meshes before import. A </span><span style=\"color: #008000; text-decoration-color: #008000\">'PermittivityMonitor'</span><span style=\"color: #800000; text-decoration-color: #800000\"> can be used to</span>\n",
       "<span style=\"color: #7fbfbf; text-decoration-color: #7fbfbf\">                </span><span style=\"color: #800000; text-decoration-color: #800000\">obtain the true permittivity and check that the surface mesh is </span>\n",
       "<span style=\"color: #7fbfbf; text-decoration-color: #7fbfbf\">                </span><span style=\"color: #800000; text-decoration-color: #800000\">loaded correctly.                                               </span>\n",
       "</pre>\n"
      ],
      "text/plain": [
       "\u001b[2;36m               \u001b[0m\u001b[2;36m \u001b[0m\u001b[31mWARNING: Client-side permittivity of a \u001b[0m\u001b[32m'TriangleMesh'\u001b[0m\u001b[31m may be    \u001b[0m\n",
       "\u001b[2;36m                \u001b[0m\u001b[31minaccurate if the mesh is not unionized. We recommend unionizing\u001b[0m\n",
       "\u001b[2;36m                \u001b[0m\u001b[31mall meshes before import. A \u001b[0m\u001b[32m'PermittivityMonitor'\u001b[0m\u001b[31m can be used to\u001b[0m\n",
       "\u001b[2;36m                \u001b[0m\u001b[31mobtain the true permittivity and check that the surface mesh is \u001b[0m\n",
       "\u001b[2;36m                \u001b[0m\u001b[31mloaded correctly.                                               \u001b[0m\n"
      ]
     },
     "metadata": {},
     "output_type": "display_data"
    },
    {
     "data": {
      "text/html": [
       "<pre style=\"white-space:pre;overflow-x:auto;line-height:normal;font-family:Menlo,'DejaVu Sans Mono',consolas,'Courier New',monospace\"><span style=\"color: #7fbfbf; text-decoration-color: #7fbfbf\">                </span><span style=\"color: #800000; text-decoration-color: #800000\">WARNING: Client-side permittivity of a </span><span style=\"color: #008000; text-decoration-color: #008000\">'TriangleMesh'</span><span style=\"color: #800000; text-decoration-color: #800000\"> may be    </span>\n",
       "<span style=\"color: #7fbfbf; text-decoration-color: #7fbfbf\">                </span><span style=\"color: #800000; text-decoration-color: #800000\">inaccurate if the mesh is not unionized. We recommend unionizing</span>\n",
       "<span style=\"color: #7fbfbf; text-decoration-color: #7fbfbf\">                </span><span style=\"color: #800000; text-decoration-color: #800000\">all meshes before import. A </span><span style=\"color: #008000; text-decoration-color: #008000\">'PermittivityMonitor'</span><span style=\"color: #800000; text-decoration-color: #800000\"> can be used to</span>\n",
       "<span style=\"color: #7fbfbf; text-decoration-color: #7fbfbf\">                </span><span style=\"color: #800000; text-decoration-color: #800000\">obtain the true permittivity and check that the surface mesh is </span>\n",
       "<span style=\"color: #7fbfbf; text-decoration-color: #7fbfbf\">                </span><span style=\"color: #800000; text-decoration-color: #800000\">loaded correctly.                                               </span>\n",
       "</pre>\n"
      ],
      "text/plain": [
       "\u001b[2;36m               \u001b[0m\u001b[2;36m \u001b[0m\u001b[31mWARNING: Client-side permittivity of a \u001b[0m\u001b[32m'TriangleMesh'\u001b[0m\u001b[31m may be    \u001b[0m\n",
       "\u001b[2;36m                \u001b[0m\u001b[31minaccurate if the mesh is not unionized. We recommend unionizing\u001b[0m\n",
       "\u001b[2;36m                \u001b[0m\u001b[31mall meshes before import. A \u001b[0m\u001b[32m'PermittivityMonitor'\u001b[0m\u001b[31m can be used to\u001b[0m\n",
       "\u001b[2;36m                \u001b[0m\u001b[31mobtain the true permittivity and check that the surface mesh is \u001b[0m\n",
       "\u001b[2;36m                \u001b[0m\u001b[31mloaded correctly.                                               \u001b[0m\n"
      ]
     },
     "metadata": {},
     "output_type": "display_data"
    },
    {
     "data": {
      "text/html": [
       "<pre style=\"white-space:pre;overflow-x:auto;line-height:normal;font-family:Menlo,'DejaVu Sans Mono',consolas,'Courier New',monospace\"><span style=\"color: #7fbfbf; text-decoration-color: #7fbfbf\">                </span><span style=\"color: #800000; text-decoration-color: #800000\">WARNING: Client-side permittivity of a </span><span style=\"color: #008000; text-decoration-color: #008000\">'TriangleMesh'</span><span style=\"color: #800000; text-decoration-color: #800000\"> may be    </span>\n",
       "<span style=\"color: #7fbfbf; text-decoration-color: #7fbfbf\">                </span><span style=\"color: #800000; text-decoration-color: #800000\">inaccurate if the mesh is not unionized. We recommend unionizing</span>\n",
       "<span style=\"color: #7fbfbf; text-decoration-color: #7fbfbf\">                </span><span style=\"color: #800000; text-decoration-color: #800000\">all meshes before import. A </span><span style=\"color: #008000; text-decoration-color: #008000\">'PermittivityMonitor'</span><span style=\"color: #800000; text-decoration-color: #800000\"> can be used to</span>\n",
       "<span style=\"color: #7fbfbf; text-decoration-color: #7fbfbf\">                </span><span style=\"color: #800000; text-decoration-color: #800000\">obtain the true permittivity and check that the surface mesh is </span>\n",
       "<span style=\"color: #7fbfbf; text-decoration-color: #7fbfbf\">                </span><span style=\"color: #800000; text-decoration-color: #800000\">loaded correctly.                                               </span>\n",
       "</pre>\n"
      ],
      "text/plain": [
       "\u001b[2;36m               \u001b[0m\u001b[2;36m \u001b[0m\u001b[31mWARNING: Client-side permittivity of a \u001b[0m\u001b[32m'TriangleMesh'\u001b[0m\u001b[31m may be    \u001b[0m\n",
       "\u001b[2;36m                \u001b[0m\u001b[31minaccurate if the mesh is not unionized. We recommend unionizing\u001b[0m\n",
       "\u001b[2;36m                \u001b[0m\u001b[31mall meshes before import. A \u001b[0m\u001b[32m'PermittivityMonitor'\u001b[0m\u001b[31m can be used to\u001b[0m\n",
       "\u001b[2;36m                \u001b[0m\u001b[31mobtain the true permittivity and check that the surface mesh is \u001b[0m\n",
       "\u001b[2;36m                \u001b[0m\u001b[31mloaded correctly.                                               \u001b[0m\n"
      ]
     },
     "metadata": {},
     "output_type": "display_data"
    },
    {
     "data": {
      "text/html": [
       "<pre style=\"white-space:pre;overflow-x:auto;line-height:normal;font-family:Menlo,'DejaVu Sans Mono',consolas,'Courier New',monospace\"><span style=\"color: #7fbfbf; text-decoration-color: #7fbfbf\">                </span><span style=\"color: #800000; text-decoration-color: #800000\">WARNING: Client-side permittivity of a </span><span style=\"color: #008000; text-decoration-color: #008000\">'TriangleMesh'</span><span style=\"color: #800000; text-decoration-color: #800000\"> may be    </span>\n",
       "<span style=\"color: #7fbfbf; text-decoration-color: #7fbfbf\">                </span><span style=\"color: #800000; text-decoration-color: #800000\">inaccurate if the mesh is not unionized. We recommend unionizing</span>\n",
       "<span style=\"color: #7fbfbf; text-decoration-color: #7fbfbf\">                </span><span style=\"color: #800000; text-decoration-color: #800000\">all meshes before import. A </span><span style=\"color: #008000; text-decoration-color: #008000\">'PermittivityMonitor'</span><span style=\"color: #800000; text-decoration-color: #800000\"> can be used to</span>\n",
       "<span style=\"color: #7fbfbf; text-decoration-color: #7fbfbf\">                </span><span style=\"color: #800000; text-decoration-color: #800000\">obtain the true permittivity and check that the surface mesh is </span>\n",
       "<span style=\"color: #7fbfbf; text-decoration-color: #7fbfbf\">                </span><span style=\"color: #800000; text-decoration-color: #800000\">loaded correctly.                                               </span>\n",
       "</pre>\n"
      ],
      "text/plain": [
       "\u001b[2;36m               \u001b[0m\u001b[2;36m \u001b[0m\u001b[31mWARNING: Client-side permittivity of a \u001b[0m\u001b[32m'TriangleMesh'\u001b[0m\u001b[31m may be    \u001b[0m\n",
       "\u001b[2;36m                \u001b[0m\u001b[31minaccurate if the mesh is not unionized. We recommend unionizing\u001b[0m\n",
       "\u001b[2;36m                \u001b[0m\u001b[31mall meshes before import. A \u001b[0m\u001b[32m'PermittivityMonitor'\u001b[0m\u001b[31m can be used to\u001b[0m\n",
       "\u001b[2;36m                \u001b[0m\u001b[31mobtain the true permittivity and check that the surface mesh is \u001b[0m\n",
       "\u001b[2;36m                \u001b[0m\u001b[31mloaded correctly.                                               \u001b[0m\n"
      ]
     },
     "metadata": {},
     "output_type": "display_data"
    },
    {
     "data": {
      "text/html": [
       "<pre style=\"white-space:pre;overflow-x:auto;line-height:normal;font-family:Menlo,'DejaVu Sans Mono',consolas,'Courier New',monospace\"><span style=\"color: #7fbfbf; text-decoration-color: #7fbfbf\">                </span><span style=\"color: #800000; text-decoration-color: #800000\">WARNING: Client-side permittivity of a </span><span style=\"color: #008000; text-decoration-color: #008000\">'TriangleMesh'</span><span style=\"color: #800000; text-decoration-color: #800000\"> may be    </span>\n",
       "<span style=\"color: #7fbfbf; text-decoration-color: #7fbfbf\">                </span><span style=\"color: #800000; text-decoration-color: #800000\">inaccurate if the mesh is not unionized. We recommend unionizing</span>\n",
       "<span style=\"color: #7fbfbf; text-decoration-color: #7fbfbf\">                </span><span style=\"color: #800000; text-decoration-color: #800000\">all meshes before import. A </span><span style=\"color: #008000; text-decoration-color: #008000\">'PermittivityMonitor'</span><span style=\"color: #800000; text-decoration-color: #800000\"> can be used to</span>\n",
       "<span style=\"color: #7fbfbf; text-decoration-color: #7fbfbf\">                </span><span style=\"color: #800000; text-decoration-color: #800000\">obtain the true permittivity and check that the surface mesh is </span>\n",
       "<span style=\"color: #7fbfbf; text-decoration-color: #7fbfbf\">                </span><span style=\"color: #800000; text-decoration-color: #800000\">loaded correctly.                                               </span>\n",
       "</pre>\n"
      ],
      "text/plain": [
       "\u001b[2;36m               \u001b[0m\u001b[2;36m \u001b[0m\u001b[31mWARNING: Client-side permittivity of a \u001b[0m\u001b[32m'TriangleMesh'\u001b[0m\u001b[31m may be    \u001b[0m\n",
       "\u001b[2;36m                \u001b[0m\u001b[31minaccurate if the mesh is not unionized. We recommend unionizing\u001b[0m\n",
       "\u001b[2;36m                \u001b[0m\u001b[31mall meshes before import. A \u001b[0m\u001b[32m'PermittivityMonitor'\u001b[0m\u001b[31m can be used to\u001b[0m\n",
       "\u001b[2;36m                \u001b[0m\u001b[31mobtain the true permittivity and check that the surface mesh is \u001b[0m\n",
       "\u001b[2;36m                \u001b[0m\u001b[31mloaded correctly.                                               \u001b[0m\n"
      ]
     },
     "metadata": {},
     "output_type": "display_data"
    },
    {
     "data": {
      "text/html": [
       "<pre style=\"white-space:pre;overflow-x:auto;line-height:normal;font-family:Menlo,'DejaVu Sans Mono',consolas,'Courier New',monospace\"><span style=\"color: #7fbfbf; text-decoration-color: #7fbfbf\">                </span><span style=\"color: #800000; text-decoration-color: #800000\">WARNING: Client-side permittivity of a </span><span style=\"color: #008000; text-decoration-color: #008000\">'TriangleMesh'</span><span style=\"color: #800000; text-decoration-color: #800000\"> may be    </span>\n",
       "<span style=\"color: #7fbfbf; text-decoration-color: #7fbfbf\">                </span><span style=\"color: #800000; text-decoration-color: #800000\">inaccurate if the mesh is not unionized. We recommend unionizing</span>\n",
       "<span style=\"color: #7fbfbf; text-decoration-color: #7fbfbf\">                </span><span style=\"color: #800000; text-decoration-color: #800000\">all meshes before import. A </span><span style=\"color: #008000; text-decoration-color: #008000\">'PermittivityMonitor'</span><span style=\"color: #800000; text-decoration-color: #800000\"> can be used to</span>\n",
       "<span style=\"color: #7fbfbf; text-decoration-color: #7fbfbf\">                </span><span style=\"color: #800000; text-decoration-color: #800000\">obtain the true permittivity and check that the surface mesh is </span>\n",
       "<span style=\"color: #7fbfbf; text-decoration-color: #7fbfbf\">                </span><span style=\"color: #800000; text-decoration-color: #800000\">loaded correctly.                                               </span>\n",
       "</pre>\n"
      ],
      "text/plain": [
       "\u001b[2;36m               \u001b[0m\u001b[2;36m \u001b[0m\u001b[31mWARNING: Client-side permittivity of a \u001b[0m\u001b[32m'TriangleMesh'\u001b[0m\u001b[31m may be    \u001b[0m\n",
       "\u001b[2;36m                \u001b[0m\u001b[31minaccurate if the mesh is not unionized. We recommend unionizing\u001b[0m\n",
       "\u001b[2;36m                \u001b[0m\u001b[31mall meshes before import. A \u001b[0m\u001b[32m'PermittivityMonitor'\u001b[0m\u001b[31m can be used to\u001b[0m\n",
       "\u001b[2;36m                \u001b[0m\u001b[31mobtain the true permittivity and check that the surface mesh is \u001b[0m\n",
       "\u001b[2;36m                \u001b[0m\u001b[31mloaded correctly.                                               \u001b[0m\n"
      ]
     },
     "metadata": {},
     "output_type": "display_data"
    },
    {
     "data": {
      "text/html": [
       "<pre style=\"white-space:pre;overflow-x:auto;line-height:normal;font-family:Menlo,'DejaVu Sans Mono',consolas,'Courier New',monospace\"><span style=\"color: #7fbfbf; text-decoration-color: #7fbfbf\">                </span><span style=\"color: #800000; text-decoration-color: #800000\">WARNING: Client-side permittivity of a </span><span style=\"color: #008000; text-decoration-color: #008000\">'TriangleMesh'</span><span style=\"color: #800000; text-decoration-color: #800000\"> may be    </span>\n",
       "<span style=\"color: #7fbfbf; text-decoration-color: #7fbfbf\">                </span><span style=\"color: #800000; text-decoration-color: #800000\">inaccurate if the mesh is not unionized. We recommend unionizing</span>\n",
       "<span style=\"color: #7fbfbf; text-decoration-color: #7fbfbf\">                </span><span style=\"color: #800000; text-decoration-color: #800000\">all meshes before import. A </span><span style=\"color: #008000; text-decoration-color: #008000\">'PermittivityMonitor'</span><span style=\"color: #800000; text-decoration-color: #800000\"> can be used to</span>\n",
       "<span style=\"color: #7fbfbf; text-decoration-color: #7fbfbf\">                </span><span style=\"color: #800000; text-decoration-color: #800000\">obtain the true permittivity and check that the surface mesh is </span>\n",
       "<span style=\"color: #7fbfbf; text-decoration-color: #7fbfbf\">                </span><span style=\"color: #800000; text-decoration-color: #800000\">loaded correctly.                                               </span>\n",
       "</pre>\n"
      ],
      "text/plain": [
       "\u001b[2;36m               \u001b[0m\u001b[2;36m \u001b[0m\u001b[31mWARNING: Client-side permittivity of a \u001b[0m\u001b[32m'TriangleMesh'\u001b[0m\u001b[31m may be    \u001b[0m\n",
       "\u001b[2;36m                \u001b[0m\u001b[31minaccurate if the mesh is not unionized. We recommend unionizing\u001b[0m\n",
       "\u001b[2;36m                \u001b[0m\u001b[31mall meshes before import. A \u001b[0m\u001b[32m'PermittivityMonitor'\u001b[0m\u001b[31m can be used to\u001b[0m\n",
       "\u001b[2;36m                \u001b[0m\u001b[31mobtain the true permittivity and check that the surface mesh is \u001b[0m\n",
       "\u001b[2;36m                \u001b[0m\u001b[31mloaded correctly.                                               \u001b[0m\n"
      ]
     },
     "metadata": {},
     "output_type": "display_data"
    },
    {
     "data": {
      "text/html": [
       "<pre style=\"white-space:pre;overflow-x:auto;line-height:normal;font-family:Menlo,'DejaVu Sans Mono',consolas,'Courier New',monospace\"><span style=\"color: #7fbfbf; text-decoration-color: #7fbfbf\">                </span><span style=\"color: #800000; text-decoration-color: #800000\">WARNING: Client-side permittivity of a </span><span style=\"color: #008000; text-decoration-color: #008000\">'TriangleMesh'</span><span style=\"color: #800000; text-decoration-color: #800000\"> may be    </span>\n",
       "<span style=\"color: #7fbfbf; text-decoration-color: #7fbfbf\">                </span><span style=\"color: #800000; text-decoration-color: #800000\">inaccurate if the mesh is not unionized. We recommend unionizing</span>\n",
       "<span style=\"color: #7fbfbf; text-decoration-color: #7fbfbf\">                </span><span style=\"color: #800000; text-decoration-color: #800000\">all meshes before import. A </span><span style=\"color: #008000; text-decoration-color: #008000\">'PermittivityMonitor'</span><span style=\"color: #800000; text-decoration-color: #800000\"> can be used to</span>\n",
       "<span style=\"color: #7fbfbf; text-decoration-color: #7fbfbf\">                </span><span style=\"color: #800000; text-decoration-color: #800000\">obtain the true permittivity and check that the surface mesh is </span>\n",
       "<span style=\"color: #7fbfbf; text-decoration-color: #7fbfbf\">                </span><span style=\"color: #800000; text-decoration-color: #800000\">loaded correctly.                                               </span>\n",
       "</pre>\n"
      ],
      "text/plain": [
       "\u001b[2;36m               \u001b[0m\u001b[2;36m \u001b[0m\u001b[31mWARNING: Client-side permittivity of a \u001b[0m\u001b[32m'TriangleMesh'\u001b[0m\u001b[31m may be    \u001b[0m\n",
       "\u001b[2;36m                \u001b[0m\u001b[31minaccurate if the mesh is not unionized. We recommend unionizing\u001b[0m\n",
       "\u001b[2;36m                \u001b[0m\u001b[31mall meshes before import. A \u001b[0m\u001b[32m'PermittivityMonitor'\u001b[0m\u001b[31m can be used to\u001b[0m\n",
       "\u001b[2;36m                \u001b[0m\u001b[31mobtain the true permittivity and check that the surface mesh is \u001b[0m\n",
       "\u001b[2;36m                \u001b[0m\u001b[31mloaded correctly.                                               \u001b[0m\n"
      ]
     },
     "metadata": {},
     "output_type": "display_data"
    },
    {
     "data": {
      "text/html": [
       "<pre style=\"white-space:pre;overflow-x:auto;line-height:normal;font-family:Menlo,'DejaVu Sans Mono',consolas,'Courier New',monospace\"><span style=\"color: #7fbfbf; text-decoration-color: #7fbfbf\">                </span><span style=\"color: #800000; text-decoration-color: #800000\">WARNING: Client-side permittivity of a </span><span style=\"color: #008000; text-decoration-color: #008000\">'TriangleMesh'</span><span style=\"color: #800000; text-decoration-color: #800000\"> may be    </span>\n",
       "<span style=\"color: #7fbfbf; text-decoration-color: #7fbfbf\">                </span><span style=\"color: #800000; text-decoration-color: #800000\">inaccurate if the mesh is not unionized. We recommend unionizing</span>\n",
       "<span style=\"color: #7fbfbf; text-decoration-color: #7fbfbf\">                </span><span style=\"color: #800000; text-decoration-color: #800000\">all meshes before import. A </span><span style=\"color: #008000; text-decoration-color: #008000\">'PermittivityMonitor'</span><span style=\"color: #800000; text-decoration-color: #800000\"> can be used to</span>\n",
       "<span style=\"color: #7fbfbf; text-decoration-color: #7fbfbf\">                </span><span style=\"color: #800000; text-decoration-color: #800000\">obtain the true permittivity and check that the surface mesh is </span>\n",
       "<span style=\"color: #7fbfbf; text-decoration-color: #7fbfbf\">                </span><span style=\"color: #800000; text-decoration-color: #800000\">loaded correctly.                                               </span>\n",
       "</pre>\n"
      ],
      "text/plain": [
       "\u001b[2;36m               \u001b[0m\u001b[2;36m \u001b[0m\u001b[31mWARNING: Client-side permittivity of a \u001b[0m\u001b[32m'TriangleMesh'\u001b[0m\u001b[31m may be    \u001b[0m\n",
       "\u001b[2;36m                \u001b[0m\u001b[31minaccurate if the mesh is not unionized. We recommend unionizing\u001b[0m\n",
       "\u001b[2;36m                \u001b[0m\u001b[31mall meshes before import. A \u001b[0m\u001b[32m'PermittivityMonitor'\u001b[0m\u001b[31m can be used to\u001b[0m\n",
       "\u001b[2;36m                \u001b[0m\u001b[31mobtain the true permittivity and check that the surface mesh is \u001b[0m\n",
       "\u001b[2;36m                \u001b[0m\u001b[31mloaded correctly.                                               \u001b[0m\n"
      ]
     },
     "metadata": {},
     "output_type": "display_data"
    },
    {
     "data": {
      "text/html": [
       "<pre style=\"white-space:pre;overflow-x:auto;line-height:normal;font-family:Menlo,'DejaVu Sans Mono',consolas,'Courier New',monospace\"><span style=\"color: #7fbfbf; text-decoration-color: #7fbfbf\">                </span><span style=\"color: #800000; text-decoration-color: #800000\">WARNING: Client-side permittivity of a </span><span style=\"color: #008000; text-decoration-color: #008000\">'TriangleMesh'</span><span style=\"color: #800000; text-decoration-color: #800000\"> may be    </span>\n",
       "<span style=\"color: #7fbfbf; text-decoration-color: #7fbfbf\">                </span><span style=\"color: #800000; text-decoration-color: #800000\">inaccurate if the mesh is not unionized. We recommend unionizing</span>\n",
       "<span style=\"color: #7fbfbf; text-decoration-color: #7fbfbf\">                </span><span style=\"color: #800000; text-decoration-color: #800000\">all meshes before import. A </span><span style=\"color: #008000; text-decoration-color: #008000\">'PermittivityMonitor'</span><span style=\"color: #800000; text-decoration-color: #800000\"> can be used to</span>\n",
       "<span style=\"color: #7fbfbf; text-decoration-color: #7fbfbf\">                </span><span style=\"color: #800000; text-decoration-color: #800000\">obtain the true permittivity and check that the surface mesh is </span>\n",
       "<span style=\"color: #7fbfbf; text-decoration-color: #7fbfbf\">                </span><span style=\"color: #800000; text-decoration-color: #800000\">loaded correctly.                                               </span>\n",
       "</pre>\n"
      ],
      "text/plain": [
       "\u001b[2;36m               \u001b[0m\u001b[2;36m \u001b[0m\u001b[31mWARNING: Client-side permittivity of a \u001b[0m\u001b[32m'TriangleMesh'\u001b[0m\u001b[31m may be    \u001b[0m\n",
       "\u001b[2;36m                \u001b[0m\u001b[31minaccurate if the mesh is not unionized. We recommend unionizing\u001b[0m\n",
       "\u001b[2;36m                \u001b[0m\u001b[31mall meshes before import. A \u001b[0m\u001b[32m'PermittivityMonitor'\u001b[0m\u001b[31m can be used to\u001b[0m\n",
       "\u001b[2;36m                \u001b[0m\u001b[31mobtain the true permittivity and check that the surface mesh is \u001b[0m\n",
       "\u001b[2;36m                \u001b[0m\u001b[31mloaded correctly.                                               \u001b[0m\n"
      ]
     },
     "metadata": {},
     "output_type": "display_data"
    },
    {
     "data": {
      "text/html": [
       "<pre style=\"white-space:pre;overflow-x:auto;line-height:normal;font-family:Menlo,'DejaVu Sans Mono',consolas,'Courier New',monospace\"><span style=\"color: #7fbfbf; text-decoration-color: #7fbfbf\">                </span><span style=\"color: #800000; text-decoration-color: #800000\">WARNING: Client-side permittivity of a </span><span style=\"color: #008000; text-decoration-color: #008000\">'TriangleMesh'</span><span style=\"color: #800000; text-decoration-color: #800000\"> may be    </span>\n",
       "<span style=\"color: #7fbfbf; text-decoration-color: #7fbfbf\">                </span><span style=\"color: #800000; text-decoration-color: #800000\">inaccurate if the mesh is not unionized. We recommend unionizing</span>\n",
       "<span style=\"color: #7fbfbf; text-decoration-color: #7fbfbf\">                </span><span style=\"color: #800000; text-decoration-color: #800000\">all meshes before import. A </span><span style=\"color: #008000; text-decoration-color: #008000\">'PermittivityMonitor'</span><span style=\"color: #800000; text-decoration-color: #800000\"> can be used to</span>\n",
       "<span style=\"color: #7fbfbf; text-decoration-color: #7fbfbf\">                </span><span style=\"color: #800000; text-decoration-color: #800000\">obtain the true permittivity and check that the surface mesh is </span>\n",
       "<span style=\"color: #7fbfbf; text-decoration-color: #7fbfbf\">                </span><span style=\"color: #800000; text-decoration-color: #800000\">loaded correctly.                                               </span>\n",
       "</pre>\n"
      ],
      "text/plain": [
       "\u001b[2;36m               \u001b[0m\u001b[2;36m \u001b[0m\u001b[31mWARNING: Client-side permittivity of a \u001b[0m\u001b[32m'TriangleMesh'\u001b[0m\u001b[31m may be    \u001b[0m\n",
       "\u001b[2;36m                \u001b[0m\u001b[31minaccurate if the mesh is not unionized. We recommend unionizing\u001b[0m\n",
       "\u001b[2;36m                \u001b[0m\u001b[31mall meshes before import. A \u001b[0m\u001b[32m'PermittivityMonitor'\u001b[0m\u001b[31m can be used to\u001b[0m\n",
       "\u001b[2;36m                \u001b[0m\u001b[31mobtain the true permittivity and check that the surface mesh is \u001b[0m\n",
       "\u001b[2;36m                \u001b[0m\u001b[31mloaded correctly.                                               \u001b[0m\n"
      ]
     },
     "metadata": {},
     "output_type": "display_data"
    },
    {
     "data": {
      "text/html": [
       "<pre style=\"white-space:pre;overflow-x:auto;line-height:normal;font-family:Menlo,'DejaVu Sans Mono',consolas,'Courier New',monospace\"><span style=\"color: #7fbfbf; text-decoration-color: #7fbfbf\">                </span><span style=\"color: #800000; text-decoration-color: #800000\">WARNING: Client-side permittivity of a </span><span style=\"color: #008000; text-decoration-color: #008000\">'TriangleMesh'</span><span style=\"color: #800000; text-decoration-color: #800000\"> may be    </span>\n",
       "<span style=\"color: #7fbfbf; text-decoration-color: #7fbfbf\">                </span><span style=\"color: #800000; text-decoration-color: #800000\">inaccurate if the mesh is not unionized. We recommend unionizing</span>\n",
       "<span style=\"color: #7fbfbf; text-decoration-color: #7fbfbf\">                </span><span style=\"color: #800000; text-decoration-color: #800000\">all meshes before import. A </span><span style=\"color: #008000; text-decoration-color: #008000\">'PermittivityMonitor'</span><span style=\"color: #800000; text-decoration-color: #800000\"> can be used to</span>\n",
       "<span style=\"color: #7fbfbf; text-decoration-color: #7fbfbf\">                </span><span style=\"color: #800000; text-decoration-color: #800000\">obtain the true permittivity and check that the surface mesh is </span>\n",
       "<span style=\"color: #7fbfbf; text-decoration-color: #7fbfbf\">                </span><span style=\"color: #800000; text-decoration-color: #800000\">loaded correctly.                                               </span>\n",
       "</pre>\n"
      ],
      "text/plain": [
       "\u001b[2;36m               \u001b[0m\u001b[2;36m \u001b[0m\u001b[31mWARNING: Client-side permittivity of a \u001b[0m\u001b[32m'TriangleMesh'\u001b[0m\u001b[31m may be    \u001b[0m\n",
       "\u001b[2;36m                \u001b[0m\u001b[31minaccurate if the mesh is not unionized. We recommend unionizing\u001b[0m\n",
       "\u001b[2;36m                \u001b[0m\u001b[31mall meshes before import. A \u001b[0m\u001b[32m'PermittivityMonitor'\u001b[0m\u001b[31m can be used to\u001b[0m\n",
       "\u001b[2;36m                \u001b[0m\u001b[31mobtain the true permittivity and check that the surface mesh is \u001b[0m\n",
       "\u001b[2;36m                \u001b[0m\u001b[31mloaded correctly.                                               \u001b[0m\n"
      ]
     },
     "metadata": {},
     "output_type": "display_data"
    },
    {
     "data": {
      "text/html": [
       "<pre style=\"white-space:pre;overflow-x:auto;line-height:normal;font-family:Menlo,'DejaVu Sans Mono',consolas,'Courier New',monospace\"><span style=\"color: #7fbfbf; text-decoration-color: #7fbfbf\">                </span><span style=\"color: #800000; text-decoration-color: #800000\">WARNING: Client-side permittivity of a </span><span style=\"color: #008000; text-decoration-color: #008000\">'TriangleMesh'</span><span style=\"color: #800000; text-decoration-color: #800000\"> may be    </span>\n",
       "<span style=\"color: #7fbfbf; text-decoration-color: #7fbfbf\">                </span><span style=\"color: #800000; text-decoration-color: #800000\">inaccurate if the mesh is not unionized. We recommend unionizing</span>\n",
       "<span style=\"color: #7fbfbf; text-decoration-color: #7fbfbf\">                </span><span style=\"color: #800000; text-decoration-color: #800000\">all meshes before import. A </span><span style=\"color: #008000; text-decoration-color: #008000\">'PermittivityMonitor'</span><span style=\"color: #800000; text-decoration-color: #800000\"> can be used to</span>\n",
       "<span style=\"color: #7fbfbf; text-decoration-color: #7fbfbf\">                </span><span style=\"color: #800000; text-decoration-color: #800000\">obtain the true permittivity and check that the surface mesh is </span>\n",
       "<span style=\"color: #7fbfbf; text-decoration-color: #7fbfbf\">                </span><span style=\"color: #800000; text-decoration-color: #800000\">loaded correctly.                                               </span>\n",
       "</pre>\n"
      ],
      "text/plain": [
       "\u001b[2;36m               \u001b[0m\u001b[2;36m \u001b[0m\u001b[31mWARNING: Client-side permittivity of a \u001b[0m\u001b[32m'TriangleMesh'\u001b[0m\u001b[31m may be    \u001b[0m\n",
       "\u001b[2;36m                \u001b[0m\u001b[31minaccurate if the mesh is not unionized. We recommend unionizing\u001b[0m\n",
       "\u001b[2;36m                \u001b[0m\u001b[31mall meshes before import. A \u001b[0m\u001b[32m'PermittivityMonitor'\u001b[0m\u001b[31m can be used to\u001b[0m\n",
       "\u001b[2;36m                \u001b[0m\u001b[31mobtain the true permittivity and check that the surface mesh is \u001b[0m\n",
       "\u001b[2;36m                \u001b[0m\u001b[31mloaded correctly.                                               \u001b[0m\n"
      ]
     },
     "metadata": {},
     "output_type": "display_data"
    },
    {
     "data": {
      "text/html": [
       "<pre style=\"white-space:pre;overflow-x:auto;line-height:normal;font-family:Menlo,'DejaVu Sans Mono',consolas,'Courier New',monospace\"><span style=\"color: #7fbfbf; text-decoration-color: #7fbfbf\">                </span><span style=\"color: #800000; text-decoration-color: #800000\">WARNING: Client-side permittivity of a </span><span style=\"color: #008000; text-decoration-color: #008000\">'TriangleMesh'</span><span style=\"color: #800000; text-decoration-color: #800000\"> may be    </span>\n",
       "<span style=\"color: #7fbfbf; text-decoration-color: #7fbfbf\">                </span><span style=\"color: #800000; text-decoration-color: #800000\">inaccurate if the mesh is not unionized. We recommend unionizing</span>\n",
       "<span style=\"color: #7fbfbf; text-decoration-color: #7fbfbf\">                </span><span style=\"color: #800000; text-decoration-color: #800000\">all meshes before import. A </span><span style=\"color: #008000; text-decoration-color: #008000\">'PermittivityMonitor'</span><span style=\"color: #800000; text-decoration-color: #800000\"> can be used to</span>\n",
       "<span style=\"color: #7fbfbf; text-decoration-color: #7fbfbf\">                </span><span style=\"color: #800000; text-decoration-color: #800000\">obtain the true permittivity and check that the surface mesh is </span>\n",
       "<span style=\"color: #7fbfbf; text-decoration-color: #7fbfbf\">                </span><span style=\"color: #800000; text-decoration-color: #800000\">loaded correctly.                                               </span>\n",
       "</pre>\n"
      ],
      "text/plain": [
       "\u001b[2;36m               \u001b[0m\u001b[2;36m \u001b[0m\u001b[31mWARNING: Client-side permittivity of a \u001b[0m\u001b[32m'TriangleMesh'\u001b[0m\u001b[31m may be    \u001b[0m\n",
       "\u001b[2;36m                \u001b[0m\u001b[31minaccurate if the mesh is not unionized. We recommend unionizing\u001b[0m\n",
       "\u001b[2;36m                \u001b[0m\u001b[31mall meshes before import. A \u001b[0m\u001b[32m'PermittivityMonitor'\u001b[0m\u001b[31m can be used to\u001b[0m\n",
       "\u001b[2;36m                \u001b[0m\u001b[31mobtain the true permittivity and check that the surface mesh is \u001b[0m\n",
       "\u001b[2;36m                \u001b[0m\u001b[31mloaded correctly.                                               \u001b[0m\n"
      ]
     },
     "metadata": {},
     "output_type": "display_data"
    },
    {
     "data": {
      "text/html": [
       "<pre style=\"white-space:pre;overflow-x:auto;line-height:normal;font-family:Menlo,'DejaVu Sans Mono',consolas,'Courier New',monospace\"><span style=\"color: #7fbfbf; text-decoration-color: #7fbfbf\">                </span><span style=\"color: #800000; text-decoration-color: #800000\">WARNING: Client-side permittivity of a </span><span style=\"color: #008000; text-decoration-color: #008000\">'TriangleMesh'</span><span style=\"color: #800000; text-decoration-color: #800000\"> may be    </span>\n",
       "<span style=\"color: #7fbfbf; text-decoration-color: #7fbfbf\">                </span><span style=\"color: #800000; text-decoration-color: #800000\">inaccurate if the mesh is not unionized. We recommend unionizing</span>\n",
       "<span style=\"color: #7fbfbf; text-decoration-color: #7fbfbf\">                </span><span style=\"color: #800000; text-decoration-color: #800000\">all meshes before import. A </span><span style=\"color: #008000; text-decoration-color: #008000\">'PermittivityMonitor'</span><span style=\"color: #800000; text-decoration-color: #800000\"> can be used to</span>\n",
       "<span style=\"color: #7fbfbf; text-decoration-color: #7fbfbf\">                </span><span style=\"color: #800000; text-decoration-color: #800000\">obtain the true permittivity and check that the surface mesh is </span>\n",
       "<span style=\"color: #7fbfbf; text-decoration-color: #7fbfbf\">                </span><span style=\"color: #800000; text-decoration-color: #800000\">loaded correctly.                                               </span>\n",
       "</pre>\n"
      ],
      "text/plain": [
       "\u001b[2;36m               \u001b[0m\u001b[2;36m \u001b[0m\u001b[31mWARNING: Client-side permittivity of a \u001b[0m\u001b[32m'TriangleMesh'\u001b[0m\u001b[31m may be    \u001b[0m\n",
       "\u001b[2;36m                \u001b[0m\u001b[31minaccurate if the mesh is not unionized. We recommend unionizing\u001b[0m\n",
       "\u001b[2;36m                \u001b[0m\u001b[31mall meshes before import. A \u001b[0m\u001b[32m'PermittivityMonitor'\u001b[0m\u001b[31m can be used to\u001b[0m\n",
       "\u001b[2;36m                \u001b[0m\u001b[31mobtain the true permittivity and check that the surface mesh is \u001b[0m\n",
       "\u001b[2;36m                \u001b[0m\u001b[31mloaded correctly.                                               \u001b[0m\n"
      ]
     },
     "metadata": {},
     "output_type": "display_data"
    },
    {
     "data": {
      "text/html": [
       "<pre style=\"white-space:pre;overflow-x:auto;line-height:normal;font-family:Menlo,'DejaVu Sans Mono',consolas,'Courier New',monospace\"><span style=\"color: #7fbfbf; text-decoration-color: #7fbfbf\">                </span><span style=\"color: #800000; text-decoration-color: #800000\">WARNING: Client-side permittivity of a </span><span style=\"color: #008000; text-decoration-color: #008000\">'TriangleMesh'</span><span style=\"color: #800000; text-decoration-color: #800000\"> may be    </span>\n",
       "<span style=\"color: #7fbfbf; text-decoration-color: #7fbfbf\">                </span><span style=\"color: #800000; text-decoration-color: #800000\">inaccurate if the mesh is not unionized. We recommend unionizing</span>\n",
       "<span style=\"color: #7fbfbf; text-decoration-color: #7fbfbf\">                </span><span style=\"color: #800000; text-decoration-color: #800000\">all meshes before import. A </span><span style=\"color: #008000; text-decoration-color: #008000\">'PermittivityMonitor'</span><span style=\"color: #800000; text-decoration-color: #800000\"> can be used to</span>\n",
       "<span style=\"color: #7fbfbf; text-decoration-color: #7fbfbf\">                </span><span style=\"color: #800000; text-decoration-color: #800000\">obtain the true permittivity and check that the surface mesh is </span>\n",
       "<span style=\"color: #7fbfbf; text-decoration-color: #7fbfbf\">                </span><span style=\"color: #800000; text-decoration-color: #800000\">loaded correctly.                                               </span>\n",
       "</pre>\n"
      ],
      "text/plain": [
       "\u001b[2;36m               \u001b[0m\u001b[2;36m \u001b[0m\u001b[31mWARNING: Client-side permittivity of a \u001b[0m\u001b[32m'TriangleMesh'\u001b[0m\u001b[31m may be    \u001b[0m\n",
       "\u001b[2;36m                \u001b[0m\u001b[31minaccurate if the mesh is not unionized. We recommend unionizing\u001b[0m\n",
       "\u001b[2;36m                \u001b[0m\u001b[31mall meshes before import. A \u001b[0m\u001b[32m'PermittivityMonitor'\u001b[0m\u001b[31m can be used to\u001b[0m\n",
       "\u001b[2;36m                \u001b[0m\u001b[31mobtain the true permittivity and check that the surface mesh is \u001b[0m\n",
       "\u001b[2;36m                \u001b[0m\u001b[31mloaded correctly.                                               \u001b[0m\n"
      ]
     },
     "metadata": {},
     "output_type": "display_data"
    },
    {
     "data": {
      "text/html": [
       "<pre style=\"white-space:pre;overflow-x:auto;line-height:normal;font-family:Menlo,'DejaVu Sans Mono',consolas,'Courier New',monospace\"><span style=\"color: #7fbfbf; text-decoration-color: #7fbfbf\">                </span><span style=\"color: #800000; text-decoration-color: #800000\">WARNING: Client-side permittivity of a </span><span style=\"color: #008000; text-decoration-color: #008000\">'TriangleMesh'</span><span style=\"color: #800000; text-decoration-color: #800000\"> may be    </span>\n",
       "<span style=\"color: #7fbfbf; text-decoration-color: #7fbfbf\">                </span><span style=\"color: #800000; text-decoration-color: #800000\">inaccurate if the mesh is not unionized. We recommend unionizing</span>\n",
       "<span style=\"color: #7fbfbf; text-decoration-color: #7fbfbf\">                </span><span style=\"color: #800000; text-decoration-color: #800000\">all meshes before import. A </span><span style=\"color: #008000; text-decoration-color: #008000\">'PermittivityMonitor'</span><span style=\"color: #800000; text-decoration-color: #800000\"> can be used to</span>\n",
       "<span style=\"color: #7fbfbf; text-decoration-color: #7fbfbf\">                </span><span style=\"color: #800000; text-decoration-color: #800000\">obtain the true permittivity and check that the surface mesh is </span>\n",
       "<span style=\"color: #7fbfbf; text-decoration-color: #7fbfbf\">                </span><span style=\"color: #800000; text-decoration-color: #800000\">loaded correctly.                                               </span>\n",
       "</pre>\n"
      ],
      "text/plain": [
       "\u001b[2;36m               \u001b[0m\u001b[2;36m \u001b[0m\u001b[31mWARNING: Client-side permittivity of a \u001b[0m\u001b[32m'TriangleMesh'\u001b[0m\u001b[31m may be    \u001b[0m\n",
       "\u001b[2;36m                \u001b[0m\u001b[31minaccurate if the mesh is not unionized. We recommend unionizing\u001b[0m\n",
       "\u001b[2;36m                \u001b[0m\u001b[31mall meshes before import. A \u001b[0m\u001b[32m'PermittivityMonitor'\u001b[0m\u001b[31m can be used to\u001b[0m\n",
       "\u001b[2;36m                \u001b[0m\u001b[31mobtain the true permittivity and check that the surface mesh is \u001b[0m\n",
       "\u001b[2;36m                \u001b[0m\u001b[31mloaded correctly.                                               \u001b[0m\n"
      ]
     },
     "metadata": {},
     "output_type": "display_data"
    },
    {
     "data": {
      "text/html": [
       "<pre style=\"white-space:pre;overflow-x:auto;line-height:normal;font-family:Menlo,'DejaVu Sans Mono',consolas,'Courier New',monospace\"><span style=\"color: #7fbfbf; text-decoration-color: #7fbfbf\">                </span><span style=\"color: #800000; text-decoration-color: #800000\">WARNING: Client-side permittivity of a </span><span style=\"color: #008000; text-decoration-color: #008000\">'TriangleMesh'</span><span style=\"color: #800000; text-decoration-color: #800000\"> may be    </span>\n",
       "<span style=\"color: #7fbfbf; text-decoration-color: #7fbfbf\">                </span><span style=\"color: #800000; text-decoration-color: #800000\">inaccurate if the mesh is not unionized. We recommend unionizing</span>\n",
       "<span style=\"color: #7fbfbf; text-decoration-color: #7fbfbf\">                </span><span style=\"color: #800000; text-decoration-color: #800000\">all meshes before import. A </span><span style=\"color: #008000; text-decoration-color: #008000\">'PermittivityMonitor'</span><span style=\"color: #800000; text-decoration-color: #800000\"> can be used to</span>\n",
       "<span style=\"color: #7fbfbf; text-decoration-color: #7fbfbf\">                </span><span style=\"color: #800000; text-decoration-color: #800000\">obtain the true permittivity and check that the surface mesh is </span>\n",
       "<span style=\"color: #7fbfbf; text-decoration-color: #7fbfbf\">                </span><span style=\"color: #800000; text-decoration-color: #800000\">loaded correctly.                                               </span>\n",
       "</pre>\n"
      ],
      "text/plain": [
       "\u001b[2;36m               \u001b[0m\u001b[2;36m \u001b[0m\u001b[31mWARNING: Client-side permittivity of a \u001b[0m\u001b[32m'TriangleMesh'\u001b[0m\u001b[31m may be    \u001b[0m\n",
       "\u001b[2;36m                \u001b[0m\u001b[31minaccurate if the mesh is not unionized. We recommend unionizing\u001b[0m\n",
       "\u001b[2;36m                \u001b[0m\u001b[31mall meshes before import. A \u001b[0m\u001b[32m'PermittivityMonitor'\u001b[0m\u001b[31m can be used to\u001b[0m\n",
       "\u001b[2;36m                \u001b[0m\u001b[31mobtain the true permittivity and check that the surface mesh is \u001b[0m\n",
       "\u001b[2;36m                \u001b[0m\u001b[31mloaded correctly.                                               \u001b[0m\n"
      ]
     },
     "metadata": {},
     "output_type": "display_data"
    },
    {
     "data": {
      "text/html": [
       "<pre style=\"white-space:pre;overflow-x:auto;line-height:normal;font-family:Menlo,'DejaVu Sans Mono',consolas,'Courier New',monospace\"><span style=\"color: #7fbfbf; text-decoration-color: #7fbfbf\">                </span><span style=\"color: #800000; text-decoration-color: #800000\">WARNING: Client-side permittivity of a </span><span style=\"color: #008000; text-decoration-color: #008000\">'TriangleMesh'</span><span style=\"color: #800000; text-decoration-color: #800000\"> may be    </span>\n",
       "<span style=\"color: #7fbfbf; text-decoration-color: #7fbfbf\">                </span><span style=\"color: #800000; text-decoration-color: #800000\">inaccurate if the mesh is not unionized. We recommend unionizing</span>\n",
       "<span style=\"color: #7fbfbf; text-decoration-color: #7fbfbf\">                </span><span style=\"color: #800000; text-decoration-color: #800000\">all meshes before import. A </span><span style=\"color: #008000; text-decoration-color: #008000\">'PermittivityMonitor'</span><span style=\"color: #800000; text-decoration-color: #800000\"> can be used to</span>\n",
       "<span style=\"color: #7fbfbf; text-decoration-color: #7fbfbf\">                </span><span style=\"color: #800000; text-decoration-color: #800000\">obtain the true permittivity and check that the surface mesh is </span>\n",
       "<span style=\"color: #7fbfbf; text-decoration-color: #7fbfbf\">                </span><span style=\"color: #800000; text-decoration-color: #800000\">loaded correctly.                                               </span>\n",
       "</pre>\n"
      ],
      "text/plain": [
       "\u001b[2;36m               \u001b[0m\u001b[2;36m \u001b[0m\u001b[31mWARNING: Client-side permittivity of a \u001b[0m\u001b[32m'TriangleMesh'\u001b[0m\u001b[31m may be    \u001b[0m\n",
       "\u001b[2;36m                \u001b[0m\u001b[31minaccurate if the mesh is not unionized. We recommend unionizing\u001b[0m\n",
       "\u001b[2;36m                \u001b[0m\u001b[31mall meshes before import. A \u001b[0m\u001b[32m'PermittivityMonitor'\u001b[0m\u001b[31m can be used to\u001b[0m\n",
       "\u001b[2;36m                \u001b[0m\u001b[31mobtain the true permittivity and check that the surface mesh is \u001b[0m\n",
       "\u001b[2;36m                \u001b[0m\u001b[31mloaded correctly.                                               \u001b[0m\n"
      ]
     },
     "metadata": {},
     "output_type": "display_data"
    },
    {
     "data": {
      "text/html": [
       "<pre style=\"white-space:pre;overflow-x:auto;line-height:normal;font-family:Menlo,'DejaVu Sans Mono',consolas,'Courier New',monospace\"><span style=\"color: #7fbfbf; text-decoration-color: #7fbfbf\">                </span><span style=\"color: #800000; text-decoration-color: #800000\">WARNING: Client-side permittivity of a </span><span style=\"color: #008000; text-decoration-color: #008000\">'TriangleMesh'</span><span style=\"color: #800000; text-decoration-color: #800000\"> may be    </span>\n",
       "<span style=\"color: #7fbfbf; text-decoration-color: #7fbfbf\">                </span><span style=\"color: #800000; text-decoration-color: #800000\">inaccurate if the mesh is not unionized. We recommend unionizing</span>\n",
       "<span style=\"color: #7fbfbf; text-decoration-color: #7fbfbf\">                </span><span style=\"color: #800000; text-decoration-color: #800000\">all meshes before import. A </span><span style=\"color: #008000; text-decoration-color: #008000\">'PermittivityMonitor'</span><span style=\"color: #800000; text-decoration-color: #800000\"> can be used to</span>\n",
       "<span style=\"color: #7fbfbf; text-decoration-color: #7fbfbf\">                </span><span style=\"color: #800000; text-decoration-color: #800000\">obtain the true permittivity and check that the surface mesh is </span>\n",
       "<span style=\"color: #7fbfbf; text-decoration-color: #7fbfbf\">                </span><span style=\"color: #800000; text-decoration-color: #800000\">loaded correctly.                                               </span>\n",
       "</pre>\n"
      ],
      "text/plain": [
       "\u001b[2;36m               \u001b[0m\u001b[2;36m \u001b[0m\u001b[31mWARNING: Client-side permittivity of a \u001b[0m\u001b[32m'TriangleMesh'\u001b[0m\u001b[31m may be    \u001b[0m\n",
       "\u001b[2;36m                \u001b[0m\u001b[31minaccurate if the mesh is not unionized. We recommend unionizing\u001b[0m\n",
       "\u001b[2;36m                \u001b[0m\u001b[31mall meshes before import. A \u001b[0m\u001b[32m'PermittivityMonitor'\u001b[0m\u001b[31m can be used to\u001b[0m\n",
       "\u001b[2;36m                \u001b[0m\u001b[31mobtain the true permittivity and check that the surface mesh is \u001b[0m\n",
       "\u001b[2;36m                \u001b[0m\u001b[31mloaded correctly.                                               \u001b[0m\n"
      ]
     },
     "metadata": {},
     "output_type": "display_data"
    },
    {
     "data": {
      "text/html": [
       "<pre style=\"white-space:pre;overflow-x:auto;line-height:normal;font-family:Menlo,'DejaVu Sans Mono',consolas,'Courier New',monospace\"><span style=\"color: #7fbfbf; text-decoration-color: #7fbfbf\">                </span><span style=\"color: #800000; text-decoration-color: #800000\">WARNING: Client-side permittivity of a </span><span style=\"color: #008000; text-decoration-color: #008000\">'TriangleMesh'</span><span style=\"color: #800000; text-decoration-color: #800000\"> may be    </span>\n",
       "<span style=\"color: #7fbfbf; text-decoration-color: #7fbfbf\">                </span><span style=\"color: #800000; text-decoration-color: #800000\">inaccurate if the mesh is not unionized. We recommend unionizing</span>\n",
       "<span style=\"color: #7fbfbf; text-decoration-color: #7fbfbf\">                </span><span style=\"color: #800000; text-decoration-color: #800000\">all meshes before import. A </span><span style=\"color: #008000; text-decoration-color: #008000\">'PermittivityMonitor'</span><span style=\"color: #800000; text-decoration-color: #800000\"> can be used to</span>\n",
       "<span style=\"color: #7fbfbf; text-decoration-color: #7fbfbf\">                </span><span style=\"color: #800000; text-decoration-color: #800000\">obtain the true permittivity and check that the surface mesh is </span>\n",
       "<span style=\"color: #7fbfbf; text-decoration-color: #7fbfbf\">                </span><span style=\"color: #800000; text-decoration-color: #800000\">loaded correctly.                                               </span>\n",
       "</pre>\n"
      ],
      "text/plain": [
       "\u001b[2;36m               \u001b[0m\u001b[2;36m \u001b[0m\u001b[31mWARNING: Client-side permittivity of a \u001b[0m\u001b[32m'TriangleMesh'\u001b[0m\u001b[31m may be    \u001b[0m\n",
       "\u001b[2;36m                \u001b[0m\u001b[31minaccurate if the mesh is not unionized. We recommend unionizing\u001b[0m\n",
       "\u001b[2;36m                \u001b[0m\u001b[31mall meshes before import. A \u001b[0m\u001b[32m'PermittivityMonitor'\u001b[0m\u001b[31m can be used to\u001b[0m\n",
       "\u001b[2;36m                \u001b[0m\u001b[31mobtain the true permittivity and check that the surface mesh is \u001b[0m\n",
       "\u001b[2;36m                \u001b[0m\u001b[31mloaded correctly.                                               \u001b[0m\n"
      ]
     },
     "metadata": {},
     "output_type": "display_data"
    },
    {
     "data": {
      "text/html": [
       "<pre style=\"white-space:pre;overflow-x:auto;line-height:normal;font-family:Menlo,'DejaVu Sans Mono',consolas,'Courier New',monospace\"><span style=\"color: #7fbfbf; text-decoration-color: #7fbfbf\">                </span><span style=\"color: #800000; text-decoration-color: #800000\">WARNING: Client-side permittivity of a </span><span style=\"color: #008000; text-decoration-color: #008000\">'TriangleMesh'</span><span style=\"color: #800000; text-decoration-color: #800000\"> may be    </span>\n",
       "<span style=\"color: #7fbfbf; text-decoration-color: #7fbfbf\">                </span><span style=\"color: #800000; text-decoration-color: #800000\">inaccurate if the mesh is not unionized. We recommend unionizing</span>\n",
       "<span style=\"color: #7fbfbf; text-decoration-color: #7fbfbf\">                </span><span style=\"color: #800000; text-decoration-color: #800000\">all meshes before import. A </span><span style=\"color: #008000; text-decoration-color: #008000\">'PermittivityMonitor'</span><span style=\"color: #800000; text-decoration-color: #800000\"> can be used to</span>\n",
       "<span style=\"color: #7fbfbf; text-decoration-color: #7fbfbf\">                </span><span style=\"color: #800000; text-decoration-color: #800000\">obtain the true permittivity and check that the surface mesh is </span>\n",
       "<span style=\"color: #7fbfbf; text-decoration-color: #7fbfbf\">                </span><span style=\"color: #800000; text-decoration-color: #800000\">loaded correctly.                                               </span>\n",
       "</pre>\n"
      ],
      "text/plain": [
       "\u001b[2;36m               \u001b[0m\u001b[2;36m \u001b[0m\u001b[31mWARNING: Client-side permittivity of a \u001b[0m\u001b[32m'TriangleMesh'\u001b[0m\u001b[31m may be    \u001b[0m\n",
       "\u001b[2;36m                \u001b[0m\u001b[31minaccurate if the mesh is not unionized. We recommend unionizing\u001b[0m\n",
       "\u001b[2;36m                \u001b[0m\u001b[31mall meshes before import. A \u001b[0m\u001b[32m'PermittivityMonitor'\u001b[0m\u001b[31m can be used to\u001b[0m\n",
       "\u001b[2;36m                \u001b[0m\u001b[31mobtain the true permittivity and check that the surface mesh is \u001b[0m\n",
       "\u001b[2;36m                \u001b[0m\u001b[31mloaded correctly.                                               \u001b[0m\n"
      ]
     },
     "metadata": {},
     "output_type": "display_data"
    },
    {
     "data": {
      "text/html": [
       "<pre style=\"white-space:pre;overflow-x:auto;line-height:normal;font-family:Menlo,'DejaVu Sans Mono',consolas,'Courier New',monospace\"><span style=\"color: #7fbfbf; text-decoration-color: #7fbfbf\">                </span><span style=\"color: #800000; text-decoration-color: #800000\">WARNING: Client-side permittivity of a </span><span style=\"color: #008000; text-decoration-color: #008000\">'TriangleMesh'</span><span style=\"color: #800000; text-decoration-color: #800000\"> may be    </span>\n",
       "<span style=\"color: #7fbfbf; text-decoration-color: #7fbfbf\">                </span><span style=\"color: #800000; text-decoration-color: #800000\">inaccurate if the mesh is not unionized. We recommend unionizing</span>\n",
       "<span style=\"color: #7fbfbf; text-decoration-color: #7fbfbf\">                </span><span style=\"color: #800000; text-decoration-color: #800000\">all meshes before import. A </span><span style=\"color: #008000; text-decoration-color: #008000\">'PermittivityMonitor'</span><span style=\"color: #800000; text-decoration-color: #800000\"> can be used to</span>\n",
       "<span style=\"color: #7fbfbf; text-decoration-color: #7fbfbf\">                </span><span style=\"color: #800000; text-decoration-color: #800000\">obtain the true permittivity and check that the surface mesh is </span>\n",
       "<span style=\"color: #7fbfbf; text-decoration-color: #7fbfbf\">                </span><span style=\"color: #800000; text-decoration-color: #800000\">loaded correctly.                                               </span>\n",
       "</pre>\n"
      ],
      "text/plain": [
       "\u001b[2;36m               \u001b[0m\u001b[2;36m \u001b[0m\u001b[31mWARNING: Client-side permittivity of a \u001b[0m\u001b[32m'TriangleMesh'\u001b[0m\u001b[31m may be    \u001b[0m\n",
       "\u001b[2;36m                \u001b[0m\u001b[31minaccurate if the mesh is not unionized. We recommend unionizing\u001b[0m\n",
       "\u001b[2;36m                \u001b[0m\u001b[31mall meshes before import. A \u001b[0m\u001b[32m'PermittivityMonitor'\u001b[0m\u001b[31m can be used to\u001b[0m\n",
       "\u001b[2;36m                \u001b[0m\u001b[31mobtain the true permittivity and check that the surface mesh is \u001b[0m\n",
       "\u001b[2;36m                \u001b[0m\u001b[31mloaded correctly.                                               \u001b[0m\n"
      ]
     },
     "metadata": {},
     "output_type": "display_data"
    },
    {
     "data": {
      "text/html": [
       "<pre style=\"white-space:pre;overflow-x:auto;line-height:normal;font-family:Menlo,'DejaVu Sans Mono',consolas,'Courier New',monospace\"><span style=\"color: #7fbfbf; text-decoration-color: #7fbfbf\">                </span><span style=\"color: #800000; text-decoration-color: #800000\">WARNING: Client-side permittivity of a </span><span style=\"color: #008000; text-decoration-color: #008000\">'TriangleMesh'</span><span style=\"color: #800000; text-decoration-color: #800000\"> may be    </span>\n",
       "<span style=\"color: #7fbfbf; text-decoration-color: #7fbfbf\">                </span><span style=\"color: #800000; text-decoration-color: #800000\">inaccurate if the mesh is not unionized. We recommend unionizing</span>\n",
       "<span style=\"color: #7fbfbf; text-decoration-color: #7fbfbf\">                </span><span style=\"color: #800000; text-decoration-color: #800000\">all meshes before import. A </span><span style=\"color: #008000; text-decoration-color: #008000\">'PermittivityMonitor'</span><span style=\"color: #800000; text-decoration-color: #800000\"> can be used to</span>\n",
       "<span style=\"color: #7fbfbf; text-decoration-color: #7fbfbf\">                </span><span style=\"color: #800000; text-decoration-color: #800000\">obtain the true permittivity and check that the surface mesh is </span>\n",
       "<span style=\"color: #7fbfbf; text-decoration-color: #7fbfbf\">                </span><span style=\"color: #800000; text-decoration-color: #800000\">loaded correctly.                                               </span>\n",
       "</pre>\n"
      ],
      "text/plain": [
       "\u001b[2;36m               \u001b[0m\u001b[2;36m \u001b[0m\u001b[31mWARNING: Client-side permittivity of a \u001b[0m\u001b[32m'TriangleMesh'\u001b[0m\u001b[31m may be    \u001b[0m\n",
       "\u001b[2;36m                \u001b[0m\u001b[31minaccurate if the mesh is not unionized. We recommend unionizing\u001b[0m\n",
       "\u001b[2;36m                \u001b[0m\u001b[31mall meshes before import. A \u001b[0m\u001b[32m'PermittivityMonitor'\u001b[0m\u001b[31m can be used to\u001b[0m\n",
       "\u001b[2;36m                \u001b[0m\u001b[31mobtain the true permittivity and check that the surface mesh is \u001b[0m\n",
       "\u001b[2;36m                \u001b[0m\u001b[31mloaded correctly.                                               \u001b[0m\n"
      ]
     },
     "metadata": {},
     "output_type": "display_data"
    },
    {
     "data": {
      "text/html": [
       "<pre style=\"white-space:pre;overflow-x:auto;line-height:normal;font-family:Menlo,'DejaVu Sans Mono',consolas,'Courier New',monospace\"><span style=\"color: #7fbfbf; text-decoration-color: #7fbfbf\">                </span><span style=\"color: #800000; text-decoration-color: #800000\">WARNING: Client-side permittivity of a </span><span style=\"color: #008000; text-decoration-color: #008000\">'TriangleMesh'</span><span style=\"color: #800000; text-decoration-color: #800000\"> may be    </span>\n",
       "<span style=\"color: #7fbfbf; text-decoration-color: #7fbfbf\">                </span><span style=\"color: #800000; text-decoration-color: #800000\">inaccurate if the mesh is not unionized. We recommend unionizing</span>\n",
       "<span style=\"color: #7fbfbf; text-decoration-color: #7fbfbf\">                </span><span style=\"color: #800000; text-decoration-color: #800000\">all meshes before import. A </span><span style=\"color: #008000; text-decoration-color: #008000\">'PermittivityMonitor'</span><span style=\"color: #800000; text-decoration-color: #800000\"> can be used to</span>\n",
       "<span style=\"color: #7fbfbf; text-decoration-color: #7fbfbf\">                </span><span style=\"color: #800000; text-decoration-color: #800000\">obtain the true permittivity and check that the surface mesh is </span>\n",
       "<span style=\"color: #7fbfbf; text-decoration-color: #7fbfbf\">                </span><span style=\"color: #800000; text-decoration-color: #800000\">loaded correctly.                                               </span>\n",
       "</pre>\n"
      ],
      "text/plain": [
       "\u001b[2;36m               \u001b[0m\u001b[2;36m \u001b[0m\u001b[31mWARNING: Client-side permittivity of a \u001b[0m\u001b[32m'TriangleMesh'\u001b[0m\u001b[31m may be    \u001b[0m\n",
       "\u001b[2;36m                \u001b[0m\u001b[31minaccurate if the mesh is not unionized. We recommend unionizing\u001b[0m\n",
       "\u001b[2;36m                \u001b[0m\u001b[31mall meshes before import. A \u001b[0m\u001b[32m'PermittivityMonitor'\u001b[0m\u001b[31m can be used to\u001b[0m\n",
       "\u001b[2;36m                \u001b[0m\u001b[31mobtain the true permittivity and check that the surface mesh is \u001b[0m\n",
       "\u001b[2;36m                \u001b[0m\u001b[31mloaded correctly.                                               \u001b[0m\n"
      ]
     },
     "metadata": {},
     "output_type": "display_data"
    },
    {
     "data": {
      "text/html": [
       "<pre style=\"white-space:pre;overflow-x:auto;line-height:normal;font-family:Menlo,'DejaVu Sans Mono',consolas,'Courier New',monospace\"><span style=\"color: #7fbfbf; text-decoration-color: #7fbfbf\">                </span><span style=\"color: #800000; text-decoration-color: #800000\">WARNING: Client-side permittivity of a </span><span style=\"color: #008000; text-decoration-color: #008000\">'TriangleMesh'</span><span style=\"color: #800000; text-decoration-color: #800000\"> may be    </span>\n",
       "<span style=\"color: #7fbfbf; text-decoration-color: #7fbfbf\">                </span><span style=\"color: #800000; text-decoration-color: #800000\">inaccurate if the mesh is not unionized. We recommend unionizing</span>\n",
       "<span style=\"color: #7fbfbf; text-decoration-color: #7fbfbf\">                </span><span style=\"color: #800000; text-decoration-color: #800000\">all meshes before import. A </span><span style=\"color: #008000; text-decoration-color: #008000\">'PermittivityMonitor'</span><span style=\"color: #800000; text-decoration-color: #800000\"> can be used to</span>\n",
       "<span style=\"color: #7fbfbf; text-decoration-color: #7fbfbf\">                </span><span style=\"color: #800000; text-decoration-color: #800000\">obtain the true permittivity and check that the surface mesh is </span>\n",
       "<span style=\"color: #7fbfbf; text-decoration-color: #7fbfbf\">                </span><span style=\"color: #800000; text-decoration-color: #800000\">loaded correctly.                                               </span>\n",
       "</pre>\n"
      ],
      "text/plain": [
       "\u001b[2;36m               \u001b[0m\u001b[2;36m \u001b[0m\u001b[31mWARNING: Client-side permittivity of a \u001b[0m\u001b[32m'TriangleMesh'\u001b[0m\u001b[31m may be    \u001b[0m\n",
       "\u001b[2;36m                \u001b[0m\u001b[31minaccurate if the mesh is not unionized. We recommend unionizing\u001b[0m\n",
       "\u001b[2;36m                \u001b[0m\u001b[31mall meshes before import. A \u001b[0m\u001b[32m'PermittivityMonitor'\u001b[0m\u001b[31m can be used to\u001b[0m\n",
       "\u001b[2;36m                \u001b[0m\u001b[31mobtain the true permittivity and check that the surface mesh is \u001b[0m\n",
       "\u001b[2;36m                \u001b[0m\u001b[31mloaded correctly.                                               \u001b[0m\n"
      ]
     },
     "metadata": {},
     "output_type": "display_data"
    },
    {
     "data": {
      "text/html": [
       "<pre style=\"white-space:pre;overflow-x:auto;line-height:normal;font-family:Menlo,'DejaVu Sans Mono',consolas,'Courier New',monospace\"><span style=\"color: #7fbfbf; text-decoration-color: #7fbfbf\">                </span><span style=\"color: #800000; text-decoration-color: #800000\">WARNING: Client-side permittivity of a </span><span style=\"color: #008000; text-decoration-color: #008000\">'TriangleMesh'</span><span style=\"color: #800000; text-decoration-color: #800000\"> may be    </span>\n",
       "<span style=\"color: #7fbfbf; text-decoration-color: #7fbfbf\">                </span><span style=\"color: #800000; text-decoration-color: #800000\">inaccurate if the mesh is not unionized. We recommend unionizing</span>\n",
       "<span style=\"color: #7fbfbf; text-decoration-color: #7fbfbf\">                </span><span style=\"color: #800000; text-decoration-color: #800000\">all meshes before import. A </span><span style=\"color: #008000; text-decoration-color: #008000\">'PermittivityMonitor'</span><span style=\"color: #800000; text-decoration-color: #800000\"> can be used to</span>\n",
       "<span style=\"color: #7fbfbf; text-decoration-color: #7fbfbf\">                </span><span style=\"color: #800000; text-decoration-color: #800000\">obtain the true permittivity and check that the surface mesh is </span>\n",
       "<span style=\"color: #7fbfbf; text-decoration-color: #7fbfbf\">                </span><span style=\"color: #800000; text-decoration-color: #800000\">loaded correctly.                                               </span>\n",
       "</pre>\n"
      ],
      "text/plain": [
       "\u001b[2;36m               \u001b[0m\u001b[2;36m \u001b[0m\u001b[31mWARNING: Client-side permittivity of a \u001b[0m\u001b[32m'TriangleMesh'\u001b[0m\u001b[31m may be    \u001b[0m\n",
       "\u001b[2;36m                \u001b[0m\u001b[31minaccurate if the mesh is not unionized. We recommend unionizing\u001b[0m\n",
       "\u001b[2;36m                \u001b[0m\u001b[31mall meshes before import. A \u001b[0m\u001b[32m'PermittivityMonitor'\u001b[0m\u001b[31m can be used to\u001b[0m\n",
       "\u001b[2;36m                \u001b[0m\u001b[31mobtain the true permittivity and check that the surface mesh is \u001b[0m\n",
       "\u001b[2;36m                \u001b[0m\u001b[31mloaded correctly.                                               \u001b[0m\n"
      ]
     },
     "metadata": {},
     "output_type": "display_data"
    },
    {
     "data": {
      "text/html": [
       "<pre style=\"white-space:pre;overflow-x:auto;line-height:normal;font-family:Menlo,'DejaVu Sans Mono',consolas,'Courier New',monospace\"><span style=\"color: #7fbfbf; text-decoration-color: #7fbfbf\">                </span><span style=\"color: #800000; text-decoration-color: #800000\">WARNING: Client-side permittivity of a </span><span style=\"color: #008000; text-decoration-color: #008000\">'TriangleMesh'</span><span style=\"color: #800000; text-decoration-color: #800000\"> may be    </span>\n",
       "<span style=\"color: #7fbfbf; text-decoration-color: #7fbfbf\">                </span><span style=\"color: #800000; text-decoration-color: #800000\">inaccurate if the mesh is not unionized. We recommend unionizing</span>\n",
       "<span style=\"color: #7fbfbf; text-decoration-color: #7fbfbf\">                </span><span style=\"color: #800000; text-decoration-color: #800000\">all meshes before import. A </span><span style=\"color: #008000; text-decoration-color: #008000\">'PermittivityMonitor'</span><span style=\"color: #800000; text-decoration-color: #800000\"> can be used to</span>\n",
       "<span style=\"color: #7fbfbf; text-decoration-color: #7fbfbf\">                </span><span style=\"color: #800000; text-decoration-color: #800000\">obtain the true permittivity and check that the surface mesh is </span>\n",
       "<span style=\"color: #7fbfbf; text-decoration-color: #7fbfbf\">                </span><span style=\"color: #800000; text-decoration-color: #800000\">loaded correctly.                                               </span>\n",
       "</pre>\n"
      ],
      "text/plain": [
       "\u001b[2;36m               \u001b[0m\u001b[2;36m \u001b[0m\u001b[31mWARNING: Client-side permittivity of a \u001b[0m\u001b[32m'TriangleMesh'\u001b[0m\u001b[31m may be    \u001b[0m\n",
       "\u001b[2;36m                \u001b[0m\u001b[31minaccurate if the mesh is not unionized. We recommend unionizing\u001b[0m\n",
       "\u001b[2;36m                \u001b[0m\u001b[31mall meshes before import. A \u001b[0m\u001b[32m'PermittivityMonitor'\u001b[0m\u001b[31m can be used to\u001b[0m\n",
       "\u001b[2;36m                \u001b[0m\u001b[31mobtain the true permittivity and check that the surface mesh is \u001b[0m\n",
       "\u001b[2;36m                \u001b[0m\u001b[31mloaded correctly.                                               \u001b[0m\n"
      ]
     },
     "metadata": {},
     "output_type": "display_data"
    },
    {
     "data": {
      "text/html": [
       "<pre style=\"white-space:pre;overflow-x:auto;line-height:normal;font-family:Menlo,'DejaVu Sans Mono',consolas,'Courier New',monospace\"><span style=\"color: #7fbfbf; text-decoration-color: #7fbfbf\">                </span><span style=\"color: #800000; text-decoration-color: #800000\">WARNING: Client-side permittivity of a </span><span style=\"color: #008000; text-decoration-color: #008000\">'TriangleMesh'</span><span style=\"color: #800000; text-decoration-color: #800000\"> may be    </span>\n",
       "<span style=\"color: #7fbfbf; text-decoration-color: #7fbfbf\">                </span><span style=\"color: #800000; text-decoration-color: #800000\">inaccurate if the mesh is not unionized. We recommend unionizing</span>\n",
       "<span style=\"color: #7fbfbf; text-decoration-color: #7fbfbf\">                </span><span style=\"color: #800000; text-decoration-color: #800000\">all meshes before import. A </span><span style=\"color: #008000; text-decoration-color: #008000\">'PermittivityMonitor'</span><span style=\"color: #800000; text-decoration-color: #800000\"> can be used to</span>\n",
       "<span style=\"color: #7fbfbf; text-decoration-color: #7fbfbf\">                </span><span style=\"color: #800000; text-decoration-color: #800000\">obtain the true permittivity and check that the surface mesh is </span>\n",
       "<span style=\"color: #7fbfbf; text-decoration-color: #7fbfbf\">                </span><span style=\"color: #800000; text-decoration-color: #800000\">loaded correctly.                                               </span>\n",
       "</pre>\n"
      ],
      "text/plain": [
       "\u001b[2;36m               \u001b[0m\u001b[2;36m \u001b[0m\u001b[31mWARNING: Client-side permittivity of a \u001b[0m\u001b[32m'TriangleMesh'\u001b[0m\u001b[31m may be    \u001b[0m\n",
       "\u001b[2;36m                \u001b[0m\u001b[31minaccurate if the mesh is not unionized. We recommend unionizing\u001b[0m\n",
       "\u001b[2;36m                \u001b[0m\u001b[31mall meshes before import. A \u001b[0m\u001b[32m'PermittivityMonitor'\u001b[0m\u001b[31m can be used to\u001b[0m\n",
       "\u001b[2;36m                \u001b[0m\u001b[31mobtain the true permittivity and check that the surface mesh is \u001b[0m\n",
       "\u001b[2;36m                \u001b[0m\u001b[31mloaded correctly.                                               \u001b[0m\n"
      ]
     },
     "metadata": {},
     "output_type": "display_data"
    },
    {
     "data": {
      "text/html": [
       "<pre style=\"white-space:pre;overflow-x:auto;line-height:normal;font-family:Menlo,'DejaVu Sans Mono',consolas,'Courier New',monospace\"><span style=\"color: #7fbfbf; text-decoration-color: #7fbfbf\">                </span><span style=\"color: #800000; text-decoration-color: #800000\">WARNING: Client-side permittivity of a </span><span style=\"color: #008000; text-decoration-color: #008000\">'TriangleMesh'</span><span style=\"color: #800000; text-decoration-color: #800000\"> may be    </span>\n",
       "<span style=\"color: #7fbfbf; text-decoration-color: #7fbfbf\">                </span><span style=\"color: #800000; text-decoration-color: #800000\">inaccurate if the mesh is not unionized. We recommend unionizing</span>\n",
       "<span style=\"color: #7fbfbf; text-decoration-color: #7fbfbf\">                </span><span style=\"color: #800000; text-decoration-color: #800000\">all meshes before import. A </span><span style=\"color: #008000; text-decoration-color: #008000\">'PermittivityMonitor'</span><span style=\"color: #800000; text-decoration-color: #800000\"> can be used to</span>\n",
       "<span style=\"color: #7fbfbf; text-decoration-color: #7fbfbf\">                </span><span style=\"color: #800000; text-decoration-color: #800000\">obtain the true permittivity and check that the surface mesh is </span>\n",
       "<span style=\"color: #7fbfbf; text-decoration-color: #7fbfbf\">                </span><span style=\"color: #800000; text-decoration-color: #800000\">loaded correctly.                                               </span>\n",
       "</pre>\n"
      ],
      "text/plain": [
       "\u001b[2;36m               \u001b[0m\u001b[2;36m \u001b[0m\u001b[31mWARNING: Client-side permittivity of a \u001b[0m\u001b[32m'TriangleMesh'\u001b[0m\u001b[31m may be    \u001b[0m\n",
       "\u001b[2;36m                \u001b[0m\u001b[31minaccurate if the mesh is not unionized. We recommend unionizing\u001b[0m\n",
       "\u001b[2;36m                \u001b[0m\u001b[31mall meshes before import. A \u001b[0m\u001b[32m'PermittivityMonitor'\u001b[0m\u001b[31m can be used to\u001b[0m\n",
       "\u001b[2;36m                \u001b[0m\u001b[31mobtain the true permittivity and check that the surface mesh is \u001b[0m\n",
       "\u001b[2;36m                \u001b[0m\u001b[31mloaded correctly.                                               \u001b[0m\n"
      ]
     },
     "metadata": {},
     "output_type": "display_data"
    },
    {
     "data": {
      "text/html": [
       "<pre style=\"white-space:pre;overflow-x:auto;line-height:normal;font-family:Menlo,'DejaVu Sans Mono',consolas,'Courier New',monospace\"><span style=\"color: #7fbfbf; text-decoration-color: #7fbfbf\">                </span><span style=\"color: #800000; text-decoration-color: #800000\">WARNING: Client-side permittivity of a </span><span style=\"color: #008000; text-decoration-color: #008000\">'TriangleMesh'</span><span style=\"color: #800000; text-decoration-color: #800000\"> may be    </span>\n",
       "<span style=\"color: #7fbfbf; text-decoration-color: #7fbfbf\">                </span><span style=\"color: #800000; text-decoration-color: #800000\">inaccurate if the mesh is not unionized. We recommend unionizing</span>\n",
       "<span style=\"color: #7fbfbf; text-decoration-color: #7fbfbf\">                </span><span style=\"color: #800000; text-decoration-color: #800000\">all meshes before import. A </span><span style=\"color: #008000; text-decoration-color: #008000\">'PermittivityMonitor'</span><span style=\"color: #800000; text-decoration-color: #800000\"> can be used to</span>\n",
       "<span style=\"color: #7fbfbf; text-decoration-color: #7fbfbf\">                </span><span style=\"color: #800000; text-decoration-color: #800000\">obtain the true permittivity and check that the surface mesh is </span>\n",
       "<span style=\"color: #7fbfbf; text-decoration-color: #7fbfbf\">                </span><span style=\"color: #800000; text-decoration-color: #800000\">loaded correctly.                                               </span>\n",
       "</pre>\n"
      ],
      "text/plain": [
       "\u001b[2;36m               \u001b[0m\u001b[2;36m \u001b[0m\u001b[31mWARNING: Client-side permittivity of a \u001b[0m\u001b[32m'TriangleMesh'\u001b[0m\u001b[31m may be    \u001b[0m\n",
       "\u001b[2;36m                \u001b[0m\u001b[31minaccurate if the mesh is not unionized. We recommend unionizing\u001b[0m\n",
       "\u001b[2;36m                \u001b[0m\u001b[31mall meshes before import. A \u001b[0m\u001b[32m'PermittivityMonitor'\u001b[0m\u001b[31m can be used to\u001b[0m\n",
       "\u001b[2;36m                \u001b[0m\u001b[31mobtain the true permittivity and check that the surface mesh is \u001b[0m\n",
       "\u001b[2;36m                \u001b[0m\u001b[31mloaded correctly.                                               \u001b[0m\n"
      ]
     },
     "metadata": {},
     "output_type": "display_data"
    },
    {
     "data": {
      "text/html": [
       "<pre style=\"white-space:pre;overflow-x:auto;line-height:normal;font-family:Menlo,'DejaVu Sans Mono',consolas,'Courier New',monospace\"><span style=\"color: #7fbfbf; text-decoration-color: #7fbfbf\">                </span><span style=\"color: #800000; text-decoration-color: #800000\">WARNING: Client-side permittivity of a </span><span style=\"color: #008000; text-decoration-color: #008000\">'TriangleMesh'</span><span style=\"color: #800000; text-decoration-color: #800000\"> may be    </span>\n",
       "<span style=\"color: #7fbfbf; text-decoration-color: #7fbfbf\">                </span><span style=\"color: #800000; text-decoration-color: #800000\">inaccurate if the mesh is not unionized. We recommend unionizing</span>\n",
       "<span style=\"color: #7fbfbf; text-decoration-color: #7fbfbf\">                </span><span style=\"color: #800000; text-decoration-color: #800000\">all meshes before import. A </span><span style=\"color: #008000; text-decoration-color: #008000\">'PermittivityMonitor'</span><span style=\"color: #800000; text-decoration-color: #800000\"> can be used to</span>\n",
       "<span style=\"color: #7fbfbf; text-decoration-color: #7fbfbf\">                </span><span style=\"color: #800000; text-decoration-color: #800000\">obtain the true permittivity and check that the surface mesh is </span>\n",
       "<span style=\"color: #7fbfbf; text-decoration-color: #7fbfbf\">                </span><span style=\"color: #800000; text-decoration-color: #800000\">loaded correctly.                                               </span>\n",
       "</pre>\n"
      ],
      "text/plain": [
       "\u001b[2;36m               \u001b[0m\u001b[2;36m \u001b[0m\u001b[31mWARNING: Client-side permittivity of a \u001b[0m\u001b[32m'TriangleMesh'\u001b[0m\u001b[31m may be    \u001b[0m\n",
       "\u001b[2;36m                \u001b[0m\u001b[31minaccurate if the mesh is not unionized. We recommend unionizing\u001b[0m\n",
       "\u001b[2;36m                \u001b[0m\u001b[31mall meshes before import. A \u001b[0m\u001b[32m'PermittivityMonitor'\u001b[0m\u001b[31m can be used to\u001b[0m\n",
       "\u001b[2;36m                \u001b[0m\u001b[31mobtain the true permittivity and check that the surface mesh is \u001b[0m\n",
       "\u001b[2;36m                \u001b[0m\u001b[31mloaded correctly.                                               \u001b[0m\n"
      ]
     },
     "metadata": {},
     "output_type": "display_data"
    },
    {
     "data": {
      "text/html": [
       "<pre style=\"white-space:pre;overflow-x:auto;line-height:normal;font-family:Menlo,'DejaVu Sans Mono',consolas,'Courier New',monospace\"><span style=\"color: #7fbfbf; text-decoration-color: #7fbfbf\">                </span><span style=\"color: #800000; text-decoration-color: #800000\">WARNING: Client-side permittivity of a </span><span style=\"color: #008000; text-decoration-color: #008000\">'TriangleMesh'</span><span style=\"color: #800000; text-decoration-color: #800000\"> may be    </span>\n",
       "<span style=\"color: #7fbfbf; text-decoration-color: #7fbfbf\">                </span><span style=\"color: #800000; text-decoration-color: #800000\">inaccurate if the mesh is not unionized. We recommend unionizing</span>\n",
       "<span style=\"color: #7fbfbf; text-decoration-color: #7fbfbf\">                </span><span style=\"color: #800000; text-decoration-color: #800000\">all meshes before import. A </span><span style=\"color: #008000; text-decoration-color: #008000\">'PermittivityMonitor'</span><span style=\"color: #800000; text-decoration-color: #800000\"> can be used to</span>\n",
       "<span style=\"color: #7fbfbf; text-decoration-color: #7fbfbf\">                </span><span style=\"color: #800000; text-decoration-color: #800000\">obtain the true permittivity and check that the surface mesh is </span>\n",
       "<span style=\"color: #7fbfbf; text-decoration-color: #7fbfbf\">                </span><span style=\"color: #800000; text-decoration-color: #800000\">loaded correctly.                                               </span>\n",
       "</pre>\n"
      ],
      "text/plain": [
       "\u001b[2;36m               \u001b[0m\u001b[2;36m \u001b[0m\u001b[31mWARNING: Client-side permittivity of a \u001b[0m\u001b[32m'TriangleMesh'\u001b[0m\u001b[31m may be    \u001b[0m\n",
       "\u001b[2;36m                \u001b[0m\u001b[31minaccurate if the mesh is not unionized. We recommend unionizing\u001b[0m\n",
       "\u001b[2;36m                \u001b[0m\u001b[31mall meshes before import. A \u001b[0m\u001b[32m'PermittivityMonitor'\u001b[0m\u001b[31m can be used to\u001b[0m\n",
       "\u001b[2;36m                \u001b[0m\u001b[31mobtain the true permittivity and check that the surface mesh is \u001b[0m\n",
       "\u001b[2;36m                \u001b[0m\u001b[31mloaded correctly.                                               \u001b[0m\n"
      ]
     },
     "metadata": {},
     "output_type": "display_data"
    },
    {
     "data": {
      "text/html": [
       "<pre style=\"white-space:pre;overflow-x:auto;line-height:normal;font-family:Menlo,'DejaVu Sans Mono',consolas,'Courier New',monospace\"><span style=\"color: #7fbfbf; text-decoration-color: #7fbfbf\">                </span><span style=\"color: #800000; text-decoration-color: #800000\">WARNING: Client-side permittivity of a </span><span style=\"color: #008000; text-decoration-color: #008000\">'TriangleMesh'</span><span style=\"color: #800000; text-decoration-color: #800000\"> may be    </span>\n",
       "<span style=\"color: #7fbfbf; text-decoration-color: #7fbfbf\">                </span><span style=\"color: #800000; text-decoration-color: #800000\">inaccurate if the mesh is not unionized. We recommend unionizing</span>\n",
       "<span style=\"color: #7fbfbf; text-decoration-color: #7fbfbf\">                </span><span style=\"color: #800000; text-decoration-color: #800000\">all meshes before import. A </span><span style=\"color: #008000; text-decoration-color: #008000\">'PermittivityMonitor'</span><span style=\"color: #800000; text-decoration-color: #800000\"> can be used to</span>\n",
       "<span style=\"color: #7fbfbf; text-decoration-color: #7fbfbf\">                </span><span style=\"color: #800000; text-decoration-color: #800000\">obtain the true permittivity and check that the surface mesh is </span>\n",
       "<span style=\"color: #7fbfbf; text-decoration-color: #7fbfbf\">                </span><span style=\"color: #800000; text-decoration-color: #800000\">loaded correctly.                                               </span>\n",
       "</pre>\n"
      ],
      "text/plain": [
       "\u001b[2;36m               \u001b[0m\u001b[2;36m \u001b[0m\u001b[31mWARNING: Client-side permittivity of a \u001b[0m\u001b[32m'TriangleMesh'\u001b[0m\u001b[31m may be    \u001b[0m\n",
       "\u001b[2;36m                \u001b[0m\u001b[31minaccurate if the mesh is not unionized. We recommend unionizing\u001b[0m\n",
       "\u001b[2;36m                \u001b[0m\u001b[31mall meshes before import. A \u001b[0m\u001b[32m'PermittivityMonitor'\u001b[0m\u001b[31m can be used to\u001b[0m\n",
       "\u001b[2;36m                \u001b[0m\u001b[31mobtain the true permittivity and check that the surface mesh is \u001b[0m\n",
       "\u001b[2;36m                \u001b[0m\u001b[31mloaded correctly.                                               \u001b[0m\n"
      ]
     },
     "metadata": {},
     "output_type": "display_data"
    },
    {
     "data": {
      "text/html": [
       "<pre style=\"white-space:pre;overflow-x:auto;line-height:normal;font-family:Menlo,'DejaVu Sans Mono',consolas,'Courier New',monospace\"><span style=\"color: #7fbfbf; text-decoration-color: #7fbfbf\">                </span><span style=\"color: #800000; text-decoration-color: #800000\">WARNING: Client-side permittivity of a </span><span style=\"color: #008000; text-decoration-color: #008000\">'TriangleMesh'</span><span style=\"color: #800000; text-decoration-color: #800000\"> may be    </span>\n",
       "<span style=\"color: #7fbfbf; text-decoration-color: #7fbfbf\">                </span><span style=\"color: #800000; text-decoration-color: #800000\">inaccurate if the mesh is not unionized. We recommend unionizing</span>\n",
       "<span style=\"color: #7fbfbf; text-decoration-color: #7fbfbf\">                </span><span style=\"color: #800000; text-decoration-color: #800000\">all meshes before import. A </span><span style=\"color: #008000; text-decoration-color: #008000\">'PermittivityMonitor'</span><span style=\"color: #800000; text-decoration-color: #800000\"> can be used to</span>\n",
       "<span style=\"color: #7fbfbf; text-decoration-color: #7fbfbf\">                </span><span style=\"color: #800000; text-decoration-color: #800000\">obtain the true permittivity and check that the surface mesh is </span>\n",
       "<span style=\"color: #7fbfbf; text-decoration-color: #7fbfbf\">                </span><span style=\"color: #800000; text-decoration-color: #800000\">loaded correctly.                                               </span>\n",
       "</pre>\n"
      ],
      "text/plain": [
       "\u001b[2;36m               \u001b[0m\u001b[2;36m \u001b[0m\u001b[31mWARNING: Client-side permittivity of a \u001b[0m\u001b[32m'TriangleMesh'\u001b[0m\u001b[31m may be    \u001b[0m\n",
       "\u001b[2;36m                \u001b[0m\u001b[31minaccurate if the mesh is not unionized. We recommend unionizing\u001b[0m\n",
       "\u001b[2;36m                \u001b[0m\u001b[31mall meshes before import. A \u001b[0m\u001b[32m'PermittivityMonitor'\u001b[0m\u001b[31m can be used to\u001b[0m\n",
       "\u001b[2;36m                \u001b[0m\u001b[31mobtain the true permittivity and check that the surface mesh is \u001b[0m\n",
       "\u001b[2;36m                \u001b[0m\u001b[31mloaded correctly.                                               \u001b[0m\n"
      ]
     },
     "metadata": {},
     "output_type": "display_data"
    },
    {
     "data": {
      "text/html": [
       "<pre style=\"white-space:pre;overflow-x:auto;line-height:normal;font-family:Menlo,'DejaVu Sans Mono',consolas,'Courier New',monospace\"><span style=\"color: #7fbfbf; text-decoration-color: #7fbfbf\">                </span><span style=\"color: #800000; text-decoration-color: #800000\">WARNING: Client-side permittivity of a </span><span style=\"color: #008000; text-decoration-color: #008000\">'TriangleMesh'</span><span style=\"color: #800000; text-decoration-color: #800000\"> may be    </span>\n",
       "<span style=\"color: #7fbfbf; text-decoration-color: #7fbfbf\">                </span><span style=\"color: #800000; text-decoration-color: #800000\">inaccurate if the mesh is not unionized. We recommend unionizing</span>\n",
       "<span style=\"color: #7fbfbf; text-decoration-color: #7fbfbf\">                </span><span style=\"color: #800000; text-decoration-color: #800000\">all meshes before import. A </span><span style=\"color: #008000; text-decoration-color: #008000\">'PermittivityMonitor'</span><span style=\"color: #800000; text-decoration-color: #800000\"> can be used to</span>\n",
       "<span style=\"color: #7fbfbf; text-decoration-color: #7fbfbf\">                </span><span style=\"color: #800000; text-decoration-color: #800000\">obtain the true permittivity and check that the surface mesh is </span>\n",
       "<span style=\"color: #7fbfbf; text-decoration-color: #7fbfbf\">                </span><span style=\"color: #800000; text-decoration-color: #800000\">loaded correctly.                                               </span>\n",
       "</pre>\n"
      ],
      "text/plain": [
       "\u001b[2;36m               \u001b[0m\u001b[2;36m \u001b[0m\u001b[31mWARNING: Client-side permittivity of a \u001b[0m\u001b[32m'TriangleMesh'\u001b[0m\u001b[31m may be    \u001b[0m\n",
       "\u001b[2;36m                \u001b[0m\u001b[31minaccurate if the mesh is not unionized. We recommend unionizing\u001b[0m\n",
       "\u001b[2;36m                \u001b[0m\u001b[31mall meshes before import. A \u001b[0m\u001b[32m'PermittivityMonitor'\u001b[0m\u001b[31m can be used to\u001b[0m\n",
       "\u001b[2;36m                \u001b[0m\u001b[31mobtain the true permittivity and check that the surface mesh is \u001b[0m\n",
       "\u001b[2;36m                \u001b[0m\u001b[31mloaded correctly.                                               \u001b[0m\n"
      ]
     },
     "metadata": {},
     "output_type": "display_data"
    },
    {
     "data": {
      "text/html": [
       "<pre style=\"white-space:pre;overflow-x:auto;line-height:normal;font-family:Menlo,'DejaVu Sans Mono',consolas,'Courier New',monospace\"><span style=\"color: #7fbfbf; text-decoration-color: #7fbfbf\">                </span><span style=\"color: #800000; text-decoration-color: #800000\">WARNING: Client-side permittivity of a </span><span style=\"color: #008000; text-decoration-color: #008000\">'TriangleMesh'</span><span style=\"color: #800000; text-decoration-color: #800000\"> may be    </span>\n",
       "<span style=\"color: #7fbfbf; text-decoration-color: #7fbfbf\">                </span><span style=\"color: #800000; text-decoration-color: #800000\">inaccurate if the mesh is not unionized. We recommend unionizing</span>\n",
       "<span style=\"color: #7fbfbf; text-decoration-color: #7fbfbf\">                </span><span style=\"color: #800000; text-decoration-color: #800000\">all meshes before import. A </span><span style=\"color: #008000; text-decoration-color: #008000\">'PermittivityMonitor'</span><span style=\"color: #800000; text-decoration-color: #800000\"> can be used to</span>\n",
       "<span style=\"color: #7fbfbf; text-decoration-color: #7fbfbf\">                </span><span style=\"color: #800000; text-decoration-color: #800000\">obtain the true permittivity and check that the surface mesh is </span>\n",
       "<span style=\"color: #7fbfbf; text-decoration-color: #7fbfbf\">                </span><span style=\"color: #800000; text-decoration-color: #800000\">loaded correctly.                                               </span>\n",
       "</pre>\n"
      ],
      "text/plain": [
       "\u001b[2;36m               \u001b[0m\u001b[2;36m \u001b[0m\u001b[31mWARNING: Client-side permittivity of a \u001b[0m\u001b[32m'TriangleMesh'\u001b[0m\u001b[31m may be    \u001b[0m\n",
       "\u001b[2;36m                \u001b[0m\u001b[31minaccurate if the mesh is not unionized. We recommend unionizing\u001b[0m\n",
       "\u001b[2;36m                \u001b[0m\u001b[31mall meshes before import. A \u001b[0m\u001b[32m'PermittivityMonitor'\u001b[0m\u001b[31m can be used to\u001b[0m\n",
       "\u001b[2;36m                \u001b[0m\u001b[31mobtain the true permittivity and check that the surface mesh is \u001b[0m\n",
       "\u001b[2;36m                \u001b[0m\u001b[31mloaded correctly.                                               \u001b[0m\n"
      ]
     },
     "metadata": {},
     "output_type": "display_data"
    },
    {
     "data": {
      "text/html": [
       "<pre style=\"white-space:pre;overflow-x:auto;line-height:normal;font-family:Menlo,'DejaVu Sans Mono',consolas,'Courier New',monospace\"><span style=\"color: #7fbfbf; text-decoration-color: #7fbfbf\">                </span><span style=\"color: #800000; text-decoration-color: #800000\">WARNING: Client-side permittivity of a </span><span style=\"color: #008000; text-decoration-color: #008000\">'TriangleMesh'</span><span style=\"color: #800000; text-decoration-color: #800000\"> may be    </span>\n",
       "<span style=\"color: #7fbfbf; text-decoration-color: #7fbfbf\">                </span><span style=\"color: #800000; text-decoration-color: #800000\">inaccurate if the mesh is not unionized. We recommend unionizing</span>\n",
       "<span style=\"color: #7fbfbf; text-decoration-color: #7fbfbf\">                </span><span style=\"color: #800000; text-decoration-color: #800000\">all meshes before import. A </span><span style=\"color: #008000; text-decoration-color: #008000\">'PermittivityMonitor'</span><span style=\"color: #800000; text-decoration-color: #800000\"> can be used to</span>\n",
       "<span style=\"color: #7fbfbf; text-decoration-color: #7fbfbf\">                </span><span style=\"color: #800000; text-decoration-color: #800000\">obtain the true permittivity and check that the surface mesh is </span>\n",
       "<span style=\"color: #7fbfbf; text-decoration-color: #7fbfbf\">                </span><span style=\"color: #800000; text-decoration-color: #800000\">loaded correctly.                                               </span>\n",
       "</pre>\n"
      ],
      "text/plain": [
       "\u001b[2;36m               \u001b[0m\u001b[2;36m \u001b[0m\u001b[31mWARNING: Client-side permittivity of a \u001b[0m\u001b[32m'TriangleMesh'\u001b[0m\u001b[31m may be    \u001b[0m\n",
       "\u001b[2;36m                \u001b[0m\u001b[31minaccurate if the mesh is not unionized. We recommend unionizing\u001b[0m\n",
       "\u001b[2;36m                \u001b[0m\u001b[31mall meshes before import. A \u001b[0m\u001b[32m'PermittivityMonitor'\u001b[0m\u001b[31m can be used to\u001b[0m\n",
       "\u001b[2;36m                \u001b[0m\u001b[31mobtain the true permittivity and check that the surface mesh is \u001b[0m\n",
       "\u001b[2;36m                \u001b[0m\u001b[31mloaded correctly.                                               \u001b[0m\n"
      ]
     },
     "metadata": {},
     "output_type": "display_data"
    },
    {
     "data": {
      "text/html": [
       "<pre style=\"white-space:pre;overflow-x:auto;line-height:normal;font-family:Menlo,'DejaVu Sans Mono',consolas,'Courier New',monospace\"><span style=\"color: #7fbfbf; text-decoration-color: #7fbfbf\">                </span><span style=\"color: #800000; text-decoration-color: #800000\">WARNING: Client-side permittivity of a </span><span style=\"color: #008000; text-decoration-color: #008000\">'TriangleMesh'</span><span style=\"color: #800000; text-decoration-color: #800000\"> may be    </span>\n",
       "<span style=\"color: #7fbfbf; text-decoration-color: #7fbfbf\">                </span><span style=\"color: #800000; text-decoration-color: #800000\">inaccurate if the mesh is not unionized. We recommend unionizing</span>\n",
       "<span style=\"color: #7fbfbf; text-decoration-color: #7fbfbf\">                </span><span style=\"color: #800000; text-decoration-color: #800000\">all meshes before import. A </span><span style=\"color: #008000; text-decoration-color: #008000\">'PermittivityMonitor'</span><span style=\"color: #800000; text-decoration-color: #800000\"> can be used to</span>\n",
       "<span style=\"color: #7fbfbf; text-decoration-color: #7fbfbf\">                </span><span style=\"color: #800000; text-decoration-color: #800000\">obtain the true permittivity and check that the surface mesh is </span>\n",
       "<span style=\"color: #7fbfbf; text-decoration-color: #7fbfbf\">                </span><span style=\"color: #800000; text-decoration-color: #800000\">loaded correctly.                                               </span>\n",
       "</pre>\n"
      ],
      "text/plain": [
       "\u001b[2;36m               \u001b[0m\u001b[2;36m \u001b[0m\u001b[31mWARNING: Client-side permittivity of a \u001b[0m\u001b[32m'TriangleMesh'\u001b[0m\u001b[31m may be    \u001b[0m\n",
       "\u001b[2;36m                \u001b[0m\u001b[31minaccurate if the mesh is not unionized. We recommend unionizing\u001b[0m\n",
       "\u001b[2;36m                \u001b[0m\u001b[31mall meshes before import. A \u001b[0m\u001b[32m'PermittivityMonitor'\u001b[0m\u001b[31m can be used to\u001b[0m\n",
       "\u001b[2;36m                \u001b[0m\u001b[31mobtain the true permittivity and check that the surface mesh is \u001b[0m\n",
       "\u001b[2;36m                \u001b[0m\u001b[31mloaded correctly.                                               \u001b[0m\n"
      ]
     },
     "metadata": {},
     "output_type": "display_data"
    },
    {
     "data": {
      "text/html": [
       "<pre style=\"white-space:pre;overflow-x:auto;line-height:normal;font-family:Menlo,'DejaVu Sans Mono',consolas,'Courier New',monospace\"><span style=\"color: #7fbfbf; text-decoration-color: #7fbfbf\">17:02:35 中国标准时间 </span><span style=\"color: #800000; text-decoration-color: #800000\">WARNING: Client-side permittivity of a </span><span style=\"color: #008000; text-decoration-color: #008000\">'TriangleMesh'</span><span style=\"color: #800000; text-decoration-color: #800000\"> may </span>\n",
       "<span style=\"color: #7fbfbf; text-decoration-color: #7fbfbf\">                      </span><span style=\"color: #800000; text-decoration-color: #800000\">be inaccurate if the mesh is not unionized. We recommend  </span>\n",
       "<span style=\"color: #7fbfbf; text-decoration-color: #7fbfbf\">                      </span><span style=\"color: #800000; text-decoration-color: #800000\">unionizing all meshes before import. A                    </span>\n",
       "<span style=\"color: #7fbfbf; text-decoration-color: #7fbfbf\">                      </span><span style=\"color: #008000; text-decoration-color: #008000\">'PermittivityMonitor'</span><span style=\"color: #800000; text-decoration-color: #800000\"> can be used to obtain the true      </span>\n",
       "<span style=\"color: #7fbfbf; text-decoration-color: #7fbfbf\">                      </span><span style=\"color: #800000; text-decoration-color: #800000\">permittivity and check that the surface mesh is loaded    </span>\n",
       "<span style=\"color: #7fbfbf; text-decoration-color: #7fbfbf\">                      </span><span style=\"color: #800000; text-decoration-color: #800000\">correctly.                                                </span>\n",
       "</pre>\n"
      ],
      "text/plain": [
       "\u001b[2;36m17:02:35 中国标准时间\u001b[0m\u001b[2;36m \u001b[0m\u001b[31mWARNING: Client-side permittivity of a \u001b[0m\u001b[32m'TriangleMesh'\u001b[0m\u001b[31m may \u001b[0m\n",
       "\u001b[2;36m                      \u001b[0m\u001b[31mbe inaccurate if the mesh is not unionized. We recommend  \u001b[0m\n",
       "\u001b[2;36m                      \u001b[0m\u001b[31munionizing all meshes before import. A                    \u001b[0m\n",
       "\u001b[2;36m                      \u001b[0m\u001b[32m'PermittivityMonitor'\u001b[0m\u001b[31m can be used to obtain the true      \u001b[0m\n",
       "\u001b[2;36m                      \u001b[0m\u001b[31mpermittivity and check that the surface mesh is loaded    \u001b[0m\n",
       "\u001b[2;36m                      \u001b[0m\u001b[31mcorrectly.                                                \u001b[0m\n"
      ]
     },
     "metadata": {},
     "output_type": "display_data"
    },
    {
     "data": {
      "text/html": [
       "<pre style=\"white-space:pre;overflow-x:auto;line-height:normal;font-family:Menlo,'DejaVu Sans Mono',consolas,'Courier New',monospace\"><span style=\"color: #7fbfbf; text-decoration-color: #7fbfbf\">                </span><span style=\"color: #800000; text-decoration-color: #800000\">WARNING: Client-side permittivity of a </span><span style=\"color: #008000; text-decoration-color: #008000\">'TriangleMesh'</span><span style=\"color: #800000; text-decoration-color: #800000\"> may be    </span>\n",
       "<span style=\"color: #7fbfbf; text-decoration-color: #7fbfbf\">                </span><span style=\"color: #800000; text-decoration-color: #800000\">inaccurate if the mesh is not unionized. We recommend unionizing</span>\n",
       "<span style=\"color: #7fbfbf; text-decoration-color: #7fbfbf\">                </span><span style=\"color: #800000; text-decoration-color: #800000\">all meshes before import. A </span><span style=\"color: #008000; text-decoration-color: #008000\">'PermittivityMonitor'</span><span style=\"color: #800000; text-decoration-color: #800000\"> can be used to</span>\n",
       "<span style=\"color: #7fbfbf; text-decoration-color: #7fbfbf\">                </span><span style=\"color: #800000; text-decoration-color: #800000\">obtain the true permittivity and check that the surface mesh is </span>\n",
       "<span style=\"color: #7fbfbf; text-decoration-color: #7fbfbf\">                </span><span style=\"color: #800000; text-decoration-color: #800000\">loaded correctly.                                               </span>\n",
       "</pre>\n"
      ],
      "text/plain": [
       "\u001b[2;36m               \u001b[0m\u001b[2;36m \u001b[0m\u001b[31mWARNING: Client-side permittivity of a \u001b[0m\u001b[32m'TriangleMesh'\u001b[0m\u001b[31m may be    \u001b[0m\n",
       "\u001b[2;36m                \u001b[0m\u001b[31minaccurate if the mesh is not unionized. We recommend unionizing\u001b[0m\n",
       "\u001b[2;36m                \u001b[0m\u001b[31mall meshes before import. A \u001b[0m\u001b[32m'PermittivityMonitor'\u001b[0m\u001b[31m can be used to\u001b[0m\n",
       "\u001b[2;36m                \u001b[0m\u001b[31mobtain the true permittivity and check that the surface mesh is \u001b[0m\n",
       "\u001b[2;36m                \u001b[0m\u001b[31mloaded correctly.                                               \u001b[0m\n"
      ]
     },
     "metadata": {},
     "output_type": "display_data"
    },
    {
     "data": {
      "text/html": [
       "<pre style=\"white-space:pre;overflow-x:auto;line-height:normal;font-family:Menlo,'DejaVu Sans Mono',consolas,'Courier New',monospace\"><span style=\"color: #7fbfbf; text-decoration-color: #7fbfbf\">                </span><span style=\"color: #800000; text-decoration-color: #800000\">WARNING: Client-side permittivity of a </span><span style=\"color: #008000; text-decoration-color: #008000\">'TriangleMesh'</span><span style=\"color: #800000; text-decoration-color: #800000\"> may be    </span>\n",
       "<span style=\"color: #7fbfbf; text-decoration-color: #7fbfbf\">                </span><span style=\"color: #800000; text-decoration-color: #800000\">inaccurate if the mesh is not unionized. We recommend unionizing</span>\n",
       "<span style=\"color: #7fbfbf; text-decoration-color: #7fbfbf\">                </span><span style=\"color: #800000; text-decoration-color: #800000\">all meshes before import. A </span><span style=\"color: #008000; text-decoration-color: #008000\">'PermittivityMonitor'</span><span style=\"color: #800000; text-decoration-color: #800000\"> can be used to</span>\n",
       "<span style=\"color: #7fbfbf; text-decoration-color: #7fbfbf\">                </span><span style=\"color: #800000; text-decoration-color: #800000\">obtain the true permittivity and check that the surface mesh is </span>\n",
       "<span style=\"color: #7fbfbf; text-decoration-color: #7fbfbf\">                </span><span style=\"color: #800000; text-decoration-color: #800000\">loaded correctly.                                               </span>\n",
       "</pre>\n"
      ],
      "text/plain": [
       "\u001b[2;36m               \u001b[0m\u001b[2;36m \u001b[0m\u001b[31mWARNING: Client-side permittivity of a \u001b[0m\u001b[32m'TriangleMesh'\u001b[0m\u001b[31m may be    \u001b[0m\n",
       "\u001b[2;36m                \u001b[0m\u001b[31minaccurate if the mesh is not unionized. We recommend unionizing\u001b[0m\n",
       "\u001b[2;36m                \u001b[0m\u001b[31mall meshes before import. A \u001b[0m\u001b[32m'PermittivityMonitor'\u001b[0m\u001b[31m can be used to\u001b[0m\n",
       "\u001b[2;36m                \u001b[0m\u001b[31mobtain the true permittivity and check that the surface mesh is \u001b[0m\n",
       "\u001b[2;36m                \u001b[0m\u001b[31mloaded correctly.                                               \u001b[0m\n"
      ]
     },
     "metadata": {},
     "output_type": "display_data"
    },
    {
     "data": {
      "text/html": [
       "<pre style=\"white-space:pre;overflow-x:auto;line-height:normal;font-family:Menlo,'DejaVu Sans Mono',consolas,'Courier New',monospace\"><span style=\"color: #7fbfbf; text-decoration-color: #7fbfbf\">                </span><span style=\"color: #800000; text-decoration-color: #800000\">WARNING: Client-side permittivity of a </span><span style=\"color: #008000; text-decoration-color: #008000\">'TriangleMesh'</span><span style=\"color: #800000; text-decoration-color: #800000\"> may be    </span>\n",
       "<span style=\"color: #7fbfbf; text-decoration-color: #7fbfbf\">                </span><span style=\"color: #800000; text-decoration-color: #800000\">inaccurate if the mesh is not unionized. We recommend unionizing</span>\n",
       "<span style=\"color: #7fbfbf; text-decoration-color: #7fbfbf\">                </span><span style=\"color: #800000; text-decoration-color: #800000\">all meshes before import. A </span><span style=\"color: #008000; text-decoration-color: #008000\">'PermittivityMonitor'</span><span style=\"color: #800000; text-decoration-color: #800000\"> can be used to</span>\n",
       "<span style=\"color: #7fbfbf; text-decoration-color: #7fbfbf\">                </span><span style=\"color: #800000; text-decoration-color: #800000\">obtain the true permittivity and check that the surface mesh is </span>\n",
       "<span style=\"color: #7fbfbf; text-decoration-color: #7fbfbf\">                </span><span style=\"color: #800000; text-decoration-color: #800000\">loaded correctly.                                               </span>\n",
       "</pre>\n"
      ],
      "text/plain": [
       "\u001b[2;36m               \u001b[0m\u001b[2;36m \u001b[0m\u001b[31mWARNING: Client-side permittivity of a \u001b[0m\u001b[32m'TriangleMesh'\u001b[0m\u001b[31m may be    \u001b[0m\n",
       "\u001b[2;36m                \u001b[0m\u001b[31minaccurate if the mesh is not unionized. We recommend unionizing\u001b[0m\n",
       "\u001b[2;36m                \u001b[0m\u001b[31mall meshes before import. A \u001b[0m\u001b[32m'PermittivityMonitor'\u001b[0m\u001b[31m can be used to\u001b[0m\n",
       "\u001b[2;36m                \u001b[0m\u001b[31mobtain the true permittivity and check that the surface mesh is \u001b[0m\n",
       "\u001b[2;36m                \u001b[0m\u001b[31mloaded correctly.                                               \u001b[0m\n"
      ]
     },
     "metadata": {},
     "output_type": "display_data"
    },
    {
     "data": {
      "text/html": [
       "<pre style=\"white-space:pre;overflow-x:auto;line-height:normal;font-family:Menlo,'DejaVu Sans Mono',consolas,'Courier New',monospace\"><span style=\"color: #7fbfbf; text-decoration-color: #7fbfbf\">                </span><span style=\"color: #800000; text-decoration-color: #800000\">WARNING: Client-side permittivity of a </span><span style=\"color: #008000; text-decoration-color: #008000\">'TriangleMesh'</span><span style=\"color: #800000; text-decoration-color: #800000\"> may be    </span>\n",
       "<span style=\"color: #7fbfbf; text-decoration-color: #7fbfbf\">                </span><span style=\"color: #800000; text-decoration-color: #800000\">inaccurate if the mesh is not unionized. We recommend unionizing</span>\n",
       "<span style=\"color: #7fbfbf; text-decoration-color: #7fbfbf\">                </span><span style=\"color: #800000; text-decoration-color: #800000\">all meshes before import. A </span><span style=\"color: #008000; text-decoration-color: #008000\">'PermittivityMonitor'</span><span style=\"color: #800000; text-decoration-color: #800000\"> can be used to</span>\n",
       "<span style=\"color: #7fbfbf; text-decoration-color: #7fbfbf\">                </span><span style=\"color: #800000; text-decoration-color: #800000\">obtain the true permittivity and check that the surface mesh is </span>\n",
       "<span style=\"color: #7fbfbf; text-decoration-color: #7fbfbf\">                </span><span style=\"color: #800000; text-decoration-color: #800000\">loaded correctly.                                               </span>\n",
       "</pre>\n"
      ],
      "text/plain": [
       "\u001b[2;36m               \u001b[0m\u001b[2;36m \u001b[0m\u001b[31mWARNING: Client-side permittivity of a \u001b[0m\u001b[32m'TriangleMesh'\u001b[0m\u001b[31m may be    \u001b[0m\n",
       "\u001b[2;36m                \u001b[0m\u001b[31minaccurate if the mesh is not unionized. We recommend unionizing\u001b[0m\n",
       "\u001b[2;36m                \u001b[0m\u001b[31mall meshes before import. A \u001b[0m\u001b[32m'PermittivityMonitor'\u001b[0m\u001b[31m can be used to\u001b[0m\n",
       "\u001b[2;36m                \u001b[0m\u001b[31mobtain the true permittivity and check that the surface mesh is \u001b[0m\n",
       "\u001b[2;36m                \u001b[0m\u001b[31mloaded correctly.                                               \u001b[0m\n"
      ]
     },
     "metadata": {},
     "output_type": "display_data"
    },
    {
     "data": {
      "text/html": [
       "<pre style=\"white-space:pre;overflow-x:auto;line-height:normal;font-family:Menlo,'DejaVu Sans Mono',consolas,'Courier New',monospace\"><span style=\"color: #7fbfbf; text-decoration-color: #7fbfbf\">                </span><span style=\"color: #800000; text-decoration-color: #800000\">WARNING: Client-side permittivity of a </span><span style=\"color: #008000; text-decoration-color: #008000\">'TriangleMesh'</span><span style=\"color: #800000; text-decoration-color: #800000\"> may be    </span>\n",
       "<span style=\"color: #7fbfbf; text-decoration-color: #7fbfbf\">                </span><span style=\"color: #800000; text-decoration-color: #800000\">inaccurate if the mesh is not unionized. We recommend unionizing</span>\n",
       "<span style=\"color: #7fbfbf; text-decoration-color: #7fbfbf\">                </span><span style=\"color: #800000; text-decoration-color: #800000\">all meshes before import. A </span><span style=\"color: #008000; text-decoration-color: #008000\">'PermittivityMonitor'</span><span style=\"color: #800000; text-decoration-color: #800000\"> can be used to</span>\n",
       "<span style=\"color: #7fbfbf; text-decoration-color: #7fbfbf\">                </span><span style=\"color: #800000; text-decoration-color: #800000\">obtain the true permittivity and check that the surface mesh is </span>\n",
       "<span style=\"color: #7fbfbf; text-decoration-color: #7fbfbf\">                </span><span style=\"color: #800000; text-decoration-color: #800000\">loaded correctly.                                               </span>\n",
       "</pre>\n"
      ],
      "text/plain": [
       "\u001b[2;36m               \u001b[0m\u001b[2;36m \u001b[0m\u001b[31mWARNING: Client-side permittivity of a \u001b[0m\u001b[32m'TriangleMesh'\u001b[0m\u001b[31m may be    \u001b[0m\n",
       "\u001b[2;36m                \u001b[0m\u001b[31minaccurate if the mesh is not unionized. We recommend unionizing\u001b[0m\n",
       "\u001b[2;36m                \u001b[0m\u001b[31mall meshes before import. A \u001b[0m\u001b[32m'PermittivityMonitor'\u001b[0m\u001b[31m can be used to\u001b[0m\n",
       "\u001b[2;36m                \u001b[0m\u001b[31mobtain the true permittivity and check that the surface mesh is \u001b[0m\n",
       "\u001b[2;36m                \u001b[0m\u001b[31mloaded correctly.                                               \u001b[0m\n"
      ]
     },
     "metadata": {},
     "output_type": "display_data"
    },
    {
     "data": {
      "text/html": [
       "<pre style=\"white-space:pre;overflow-x:auto;line-height:normal;font-family:Menlo,'DejaVu Sans Mono',consolas,'Courier New',monospace\"><span style=\"color: #7fbfbf; text-decoration-color: #7fbfbf\">                </span><span style=\"color: #800000; text-decoration-color: #800000\">WARNING: Client-side permittivity of a </span><span style=\"color: #008000; text-decoration-color: #008000\">'TriangleMesh'</span><span style=\"color: #800000; text-decoration-color: #800000\"> may be    </span>\n",
       "<span style=\"color: #7fbfbf; text-decoration-color: #7fbfbf\">                </span><span style=\"color: #800000; text-decoration-color: #800000\">inaccurate if the mesh is not unionized. We recommend unionizing</span>\n",
       "<span style=\"color: #7fbfbf; text-decoration-color: #7fbfbf\">                </span><span style=\"color: #800000; text-decoration-color: #800000\">all meshes before import. A </span><span style=\"color: #008000; text-decoration-color: #008000\">'PermittivityMonitor'</span><span style=\"color: #800000; text-decoration-color: #800000\"> can be used to</span>\n",
       "<span style=\"color: #7fbfbf; text-decoration-color: #7fbfbf\">                </span><span style=\"color: #800000; text-decoration-color: #800000\">obtain the true permittivity and check that the surface mesh is </span>\n",
       "<span style=\"color: #7fbfbf; text-decoration-color: #7fbfbf\">                </span><span style=\"color: #800000; text-decoration-color: #800000\">loaded correctly.                                               </span>\n",
       "</pre>\n"
      ],
      "text/plain": [
       "\u001b[2;36m               \u001b[0m\u001b[2;36m \u001b[0m\u001b[31mWARNING: Client-side permittivity of a \u001b[0m\u001b[32m'TriangleMesh'\u001b[0m\u001b[31m may be    \u001b[0m\n",
       "\u001b[2;36m                \u001b[0m\u001b[31minaccurate if the mesh is not unionized. We recommend unionizing\u001b[0m\n",
       "\u001b[2;36m                \u001b[0m\u001b[31mall meshes before import. A \u001b[0m\u001b[32m'PermittivityMonitor'\u001b[0m\u001b[31m can be used to\u001b[0m\n",
       "\u001b[2;36m                \u001b[0m\u001b[31mobtain the true permittivity and check that the surface mesh is \u001b[0m\n",
       "\u001b[2;36m                \u001b[0m\u001b[31mloaded correctly.                                               \u001b[0m\n"
      ]
     },
     "metadata": {},
     "output_type": "display_data"
    },
    {
     "data": {
      "text/html": [
       "<pre style=\"white-space:pre;overflow-x:auto;line-height:normal;font-family:Menlo,'DejaVu Sans Mono',consolas,'Courier New',monospace\"><span style=\"color: #7fbfbf; text-decoration-color: #7fbfbf\">                </span><span style=\"color: #800000; text-decoration-color: #800000\">WARNING: Client-side permittivity of a </span><span style=\"color: #008000; text-decoration-color: #008000\">'TriangleMesh'</span><span style=\"color: #800000; text-decoration-color: #800000\"> may be    </span>\n",
       "<span style=\"color: #7fbfbf; text-decoration-color: #7fbfbf\">                </span><span style=\"color: #800000; text-decoration-color: #800000\">inaccurate if the mesh is not unionized. We recommend unionizing</span>\n",
       "<span style=\"color: #7fbfbf; text-decoration-color: #7fbfbf\">                </span><span style=\"color: #800000; text-decoration-color: #800000\">all meshes before import. A </span><span style=\"color: #008000; text-decoration-color: #008000\">'PermittivityMonitor'</span><span style=\"color: #800000; text-decoration-color: #800000\"> can be used to</span>\n",
       "<span style=\"color: #7fbfbf; text-decoration-color: #7fbfbf\">                </span><span style=\"color: #800000; text-decoration-color: #800000\">obtain the true permittivity and check that the surface mesh is </span>\n",
       "<span style=\"color: #7fbfbf; text-decoration-color: #7fbfbf\">                </span><span style=\"color: #800000; text-decoration-color: #800000\">loaded correctly.                                               </span>\n",
       "</pre>\n"
      ],
      "text/plain": [
       "\u001b[2;36m               \u001b[0m\u001b[2;36m \u001b[0m\u001b[31mWARNING: Client-side permittivity of a \u001b[0m\u001b[32m'TriangleMesh'\u001b[0m\u001b[31m may be    \u001b[0m\n",
       "\u001b[2;36m                \u001b[0m\u001b[31minaccurate if the mesh is not unionized. We recommend unionizing\u001b[0m\n",
       "\u001b[2;36m                \u001b[0m\u001b[31mall meshes before import. A \u001b[0m\u001b[32m'PermittivityMonitor'\u001b[0m\u001b[31m can be used to\u001b[0m\n",
       "\u001b[2;36m                \u001b[0m\u001b[31mobtain the true permittivity and check that the surface mesh is \u001b[0m\n",
       "\u001b[2;36m                \u001b[0m\u001b[31mloaded correctly.                                               \u001b[0m\n"
      ]
     },
     "metadata": {},
     "output_type": "display_data"
    },
    {
     "data": {
      "text/html": [
       "<pre style=\"white-space:pre;overflow-x:auto;line-height:normal;font-family:Menlo,'DejaVu Sans Mono',consolas,'Courier New',monospace\"><span style=\"color: #7fbfbf; text-decoration-color: #7fbfbf\">                </span><span style=\"color: #800000; text-decoration-color: #800000\">WARNING: Client-side permittivity of a </span><span style=\"color: #008000; text-decoration-color: #008000\">'TriangleMesh'</span><span style=\"color: #800000; text-decoration-color: #800000\"> may be    </span>\n",
       "<span style=\"color: #7fbfbf; text-decoration-color: #7fbfbf\">                </span><span style=\"color: #800000; text-decoration-color: #800000\">inaccurate if the mesh is not unionized. We recommend unionizing</span>\n",
       "<span style=\"color: #7fbfbf; text-decoration-color: #7fbfbf\">                </span><span style=\"color: #800000; text-decoration-color: #800000\">all meshes before import. A </span><span style=\"color: #008000; text-decoration-color: #008000\">'PermittivityMonitor'</span><span style=\"color: #800000; text-decoration-color: #800000\"> can be used to</span>\n",
       "<span style=\"color: #7fbfbf; text-decoration-color: #7fbfbf\">                </span><span style=\"color: #800000; text-decoration-color: #800000\">obtain the true permittivity and check that the surface mesh is </span>\n",
       "<span style=\"color: #7fbfbf; text-decoration-color: #7fbfbf\">                </span><span style=\"color: #800000; text-decoration-color: #800000\">loaded correctly.                                               </span>\n",
       "</pre>\n"
      ],
      "text/plain": [
       "\u001b[2;36m               \u001b[0m\u001b[2;36m \u001b[0m\u001b[31mWARNING: Client-side permittivity of a \u001b[0m\u001b[32m'TriangleMesh'\u001b[0m\u001b[31m may be    \u001b[0m\n",
       "\u001b[2;36m                \u001b[0m\u001b[31minaccurate if the mesh is not unionized. We recommend unionizing\u001b[0m\n",
       "\u001b[2;36m                \u001b[0m\u001b[31mall meshes before import. A \u001b[0m\u001b[32m'PermittivityMonitor'\u001b[0m\u001b[31m can be used to\u001b[0m\n",
       "\u001b[2;36m                \u001b[0m\u001b[31mobtain the true permittivity and check that the surface mesh is \u001b[0m\n",
       "\u001b[2;36m                \u001b[0m\u001b[31mloaded correctly.                                               \u001b[0m\n"
      ]
     },
     "metadata": {},
     "output_type": "display_data"
    },
    {
     "data": {
      "text/html": [
       "<pre style=\"white-space:pre;overflow-x:auto;line-height:normal;font-family:Menlo,'DejaVu Sans Mono',consolas,'Courier New',monospace\"><span style=\"color: #7fbfbf; text-decoration-color: #7fbfbf\">                </span><span style=\"color: #800000; text-decoration-color: #800000\">WARNING: Client-side permittivity of a </span><span style=\"color: #008000; text-decoration-color: #008000\">'TriangleMesh'</span><span style=\"color: #800000; text-decoration-color: #800000\"> may be    </span>\n",
       "<span style=\"color: #7fbfbf; text-decoration-color: #7fbfbf\">                </span><span style=\"color: #800000; text-decoration-color: #800000\">inaccurate if the mesh is not unionized. We recommend unionizing</span>\n",
       "<span style=\"color: #7fbfbf; text-decoration-color: #7fbfbf\">                </span><span style=\"color: #800000; text-decoration-color: #800000\">all meshes before import. A </span><span style=\"color: #008000; text-decoration-color: #008000\">'PermittivityMonitor'</span><span style=\"color: #800000; text-decoration-color: #800000\"> can be used to</span>\n",
       "<span style=\"color: #7fbfbf; text-decoration-color: #7fbfbf\">                </span><span style=\"color: #800000; text-decoration-color: #800000\">obtain the true permittivity and check that the surface mesh is </span>\n",
       "<span style=\"color: #7fbfbf; text-decoration-color: #7fbfbf\">                </span><span style=\"color: #800000; text-decoration-color: #800000\">loaded correctly.                                               </span>\n",
       "</pre>\n"
      ],
      "text/plain": [
       "\u001b[2;36m               \u001b[0m\u001b[2;36m \u001b[0m\u001b[31mWARNING: Client-side permittivity of a \u001b[0m\u001b[32m'TriangleMesh'\u001b[0m\u001b[31m may be    \u001b[0m\n",
       "\u001b[2;36m                \u001b[0m\u001b[31minaccurate if the mesh is not unionized. We recommend unionizing\u001b[0m\n",
       "\u001b[2;36m                \u001b[0m\u001b[31mall meshes before import. A \u001b[0m\u001b[32m'PermittivityMonitor'\u001b[0m\u001b[31m can be used to\u001b[0m\n",
       "\u001b[2;36m                \u001b[0m\u001b[31mobtain the true permittivity and check that the surface mesh is \u001b[0m\n",
       "\u001b[2;36m                \u001b[0m\u001b[31mloaded correctly.                                               \u001b[0m\n"
      ]
     },
     "metadata": {},
     "output_type": "display_data"
    },
    {
     "data": {
      "text/html": [
       "<pre style=\"white-space:pre;overflow-x:auto;line-height:normal;font-family:Menlo,'DejaVu Sans Mono',consolas,'Courier New',monospace\"><span style=\"color: #7fbfbf; text-decoration-color: #7fbfbf\">                </span><span style=\"color: #800000; text-decoration-color: #800000\">WARNING: Client-side permittivity of a </span><span style=\"color: #008000; text-decoration-color: #008000\">'TriangleMesh'</span><span style=\"color: #800000; text-decoration-color: #800000\"> may be    </span>\n",
       "<span style=\"color: #7fbfbf; text-decoration-color: #7fbfbf\">                </span><span style=\"color: #800000; text-decoration-color: #800000\">inaccurate if the mesh is not unionized. We recommend unionizing</span>\n",
       "<span style=\"color: #7fbfbf; text-decoration-color: #7fbfbf\">                </span><span style=\"color: #800000; text-decoration-color: #800000\">all meshes before import. A </span><span style=\"color: #008000; text-decoration-color: #008000\">'PermittivityMonitor'</span><span style=\"color: #800000; text-decoration-color: #800000\"> can be used to</span>\n",
       "<span style=\"color: #7fbfbf; text-decoration-color: #7fbfbf\">                </span><span style=\"color: #800000; text-decoration-color: #800000\">obtain the true permittivity and check that the surface mesh is </span>\n",
       "<span style=\"color: #7fbfbf; text-decoration-color: #7fbfbf\">                </span><span style=\"color: #800000; text-decoration-color: #800000\">loaded correctly.                                               </span>\n",
       "</pre>\n"
      ],
      "text/plain": [
       "\u001b[2;36m               \u001b[0m\u001b[2;36m \u001b[0m\u001b[31mWARNING: Client-side permittivity of a \u001b[0m\u001b[32m'TriangleMesh'\u001b[0m\u001b[31m may be    \u001b[0m\n",
       "\u001b[2;36m                \u001b[0m\u001b[31minaccurate if the mesh is not unionized. We recommend unionizing\u001b[0m\n",
       "\u001b[2;36m                \u001b[0m\u001b[31mall meshes before import. A \u001b[0m\u001b[32m'PermittivityMonitor'\u001b[0m\u001b[31m can be used to\u001b[0m\n",
       "\u001b[2;36m                \u001b[0m\u001b[31mobtain the true permittivity and check that the surface mesh is \u001b[0m\n",
       "\u001b[2;36m                \u001b[0m\u001b[31mloaded correctly.                                               \u001b[0m\n"
      ]
     },
     "metadata": {},
     "output_type": "display_data"
    },
    {
     "data": {
      "text/html": [
       "<pre style=\"white-space:pre;overflow-x:auto;line-height:normal;font-family:Menlo,'DejaVu Sans Mono',consolas,'Courier New',monospace\"><span style=\"color: #7fbfbf; text-decoration-color: #7fbfbf\">                </span><span style=\"color: #800000; text-decoration-color: #800000\">WARNING: Client-side permittivity of a </span><span style=\"color: #008000; text-decoration-color: #008000\">'TriangleMesh'</span><span style=\"color: #800000; text-decoration-color: #800000\"> may be    </span>\n",
       "<span style=\"color: #7fbfbf; text-decoration-color: #7fbfbf\">                </span><span style=\"color: #800000; text-decoration-color: #800000\">inaccurate if the mesh is not unionized. We recommend unionizing</span>\n",
       "<span style=\"color: #7fbfbf; text-decoration-color: #7fbfbf\">                </span><span style=\"color: #800000; text-decoration-color: #800000\">all meshes before import. A </span><span style=\"color: #008000; text-decoration-color: #008000\">'PermittivityMonitor'</span><span style=\"color: #800000; text-decoration-color: #800000\"> can be used to</span>\n",
       "<span style=\"color: #7fbfbf; text-decoration-color: #7fbfbf\">                </span><span style=\"color: #800000; text-decoration-color: #800000\">obtain the true permittivity and check that the surface mesh is </span>\n",
       "<span style=\"color: #7fbfbf; text-decoration-color: #7fbfbf\">                </span><span style=\"color: #800000; text-decoration-color: #800000\">loaded correctly.                                               </span>\n",
       "</pre>\n"
      ],
      "text/plain": [
       "\u001b[2;36m               \u001b[0m\u001b[2;36m \u001b[0m\u001b[31mWARNING: Client-side permittivity of a \u001b[0m\u001b[32m'TriangleMesh'\u001b[0m\u001b[31m may be    \u001b[0m\n",
       "\u001b[2;36m                \u001b[0m\u001b[31minaccurate if the mesh is not unionized. We recommend unionizing\u001b[0m\n",
       "\u001b[2;36m                \u001b[0m\u001b[31mall meshes before import. A \u001b[0m\u001b[32m'PermittivityMonitor'\u001b[0m\u001b[31m can be used to\u001b[0m\n",
       "\u001b[2;36m                \u001b[0m\u001b[31mobtain the true permittivity and check that the surface mesh is \u001b[0m\n",
       "\u001b[2;36m                \u001b[0m\u001b[31mloaded correctly.                                               \u001b[0m\n"
      ]
     },
     "metadata": {},
     "output_type": "display_data"
    },
    {
     "data": {
      "text/html": [
       "<pre style=\"white-space:pre;overflow-x:auto;line-height:normal;font-family:Menlo,'DejaVu Sans Mono',consolas,'Courier New',monospace\"><span style=\"color: #7fbfbf; text-decoration-color: #7fbfbf\">                </span><span style=\"color: #800000; text-decoration-color: #800000\">WARNING: Client-side permittivity of a </span><span style=\"color: #008000; text-decoration-color: #008000\">'TriangleMesh'</span><span style=\"color: #800000; text-decoration-color: #800000\"> may be    </span>\n",
       "<span style=\"color: #7fbfbf; text-decoration-color: #7fbfbf\">                </span><span style=\"color: #800000; text-decoration-color: #800000\">inaccurate if the mesh is not unionized. We recommend unionizing</span>\n",
       "<span style=\"color: #7fbfbf; text-decoration-color: #7fbfbf\">                </span><span style=\"color: #800000; text-decoration-color: #800000\">all meshes before import. A </span><span style=\"color: #008000; text-decoration-color: #008000\">'PermittivityMonitor'</span><span style=\"color: #800000; text-decoration-color: #800000\"> can be used to</span>\n",
       "<span style=\"color: #7fbfbf; text-decoration-color: #7fbfbf\">                </span><span style=\"color: #800000; text-decoration-color: #800000\">obtain the true permittivity and check that the surface mesh is </span>\n",
       "<span style=\"color: #7fbfbf; text-decoration-color: #7fbfbf\">                </span><span style=\"color: #800000; text-decoration-color: #800000\">loaded correctly.                                               </span>\n",
       "</pre>\n"
      ],
      "text/plain": [
       "\u001b[2;36m               \u001b[0m\u001b[2;36m \u001b[0m\u001b[31mWARNING: Client-side permittivity of a \u001b[0m\u001b[32m'TriangleMesh'\u001b[0m\u001b[31m may be    \u001b[0m\n",
       "\u001b[2;36m                \u001b[0m\u001b[31minaccurate if the mesh is not unionized. We recommend unionizing\u001b[0m\n",
       "\u001b[2;36m                \u001b[0m\u001b[31mall meshes before import. A \u001b[0m\u001b[32m'PermittivityMonitor'\u001b[0m\u001b[31m can be used to\u001b[0m\n",
       "\u001b[2;36m                \u001b[0m\u001b[31mobtain the true permittivity and check that the surface mesh is \u001b[0m\n",
       "\u001b[2;36m                \u001b[0m\u001b[31mloaded correctly.                                               \u001b[0m\n"
      ]
     },
     "metadata": {},
     "output_type": "display_data"
    },
    {
     "data": {
      "text/html": [
       "<pre style=\"white-space:pre;overflow-x:auto;line-height:normal;font-family:Menlo,'DejaVu Sans Mono',consolas,'Courier New',monospace\"><span style=\"color: #7fbfbf; text-decoration-color: #7fbfbf\">                </span><span style=\"color: #800000; text-decoration-color: #800000\">WARNING: Client-side permittivity of a </span><span style=\"color: #008000; text-decoration-color: #008000\">'TriangleMesh'</span><span style=\"color: #800000; text-decoration-color: #800000\"> may be    </span>\n",
       "<span style=\"color: #7fbfbf; text-decoration-color: #7fbfbf\">                </span><span style=\"color: #800000; text-decoration-color: #800000\">inaccurate if the mesh is not unionized. We recommend unionizing</span>\n",
       "<span style=\"color: #7fbfbf; text-decoration-color: #7fbfbf\">                </span><span style=\"color: #800000; text-decoration-color: #800000\">all meshes before import. A </span><span style=\"color: #008000; text-decoration-color: #008000\">'PermittivityMonitor'</span><span style=\"color: #800000; text-decoration-color: #800000\"> can be used to</span>\n",
       "<span style=\"color: #7fbfbf; text-decoration-color: #7fbfbf\">                </span><span style=\"color: #800000; text-decoration-color: #800000\">obtain the true permittivity and check that the surface mesh is </span>\n",
       "<span style=\"color: #7fbfbf; text-decoration-color: #7fbfbf\">                </span><span style=\"color: #800000; text-decoration-color: #800000\">loaded correctly.                                               </span>\n",
       "</pre>\n"
      ],
      "text/plain": [
       "\u001b[2;36m               \u001b[0m\u001b[2;36m \u001b[0m\u001b[31mWARNING: Client-side permittivity of a \u001b[0m\u001b[32m'TriangleMesh'\u001b[0m\u001b[31m may be    \u001b[0m\n",
       "\u001b[2;36m                \u001b[0m\u001b[31minaccurate if the mesh is not unionized. We recommend unionizing\u001b[0m\n",
       "\u001b[2;36m                \u001b[0m\u001b[31mall meshes before import. A \u001b[0m\u001b[32m'PermittivityMonitor'\u001b[0m\u001b[31m can be used to\u001b[0m\n",
       "\u001b[2;36m                \u001b[0m\u001b[31mobtain the true permittivity and check that the surface mesh is \u001b[0m\n",
       "\u001b[2;36m                \u001b[0m\u001b[31mloaded correctly.                                               \u001b[0m\n"
      ]
     },
     "metadata": {},
     "output_type": "display_data"
    },
    {
     "data": {
      "text/html": [
       "<pre style=\"white-space:pre;overflow-x:auto;line-height:normal;font-family:Menlo,'DejaVu Sans Mono',consolas,'Courier New',monospace\"><span style=\"color: #7fbfbf; text-decoration-color: #7fbfbf\">                </span><span style=\"color: #800000; text-decoration-color: #800000\">WARNING: Client-side permittivity of a </span><span style=\"color: #008000; text-decoration-color: #008000\">'TriangleMesh'</span><span style=\"color: #800000; text-decoration-color: #800000\"> may be    </span>\n",
       "<span style=\"color: #7fbfbf; text-decoration-color: #7fbfbf\">                </span><span style=\"color: #800000; text-decoration-color: #800000\">inaccurate if the mesh is not unionized. We recommend unionizing</span>\n",
       "<span style=\"color: #7fbfbf; text-decoration-color: #7fbfbf\">                </span><span style=\"color: #800000; text-decoration-color: #800000\">all meshes before import. A </span><span style=\"color: #008000; text-decoration-color: #008000\">'PermittivityMonitor'</span><span style=\"color: #800000; text-decoration-color: #800000\"> can be used to</span>\n",
       "<span style=\"color: #7fbfbf; text-decoration-color: #7fbfbf\">                </span><span style=\"color: #800000; text-decoration-color: #800000\">obtain the true permittivity and check that the surface mesh is </span>\n",
       "<span style=\"color: #7fbfbf; text-decoration-color: #7fbfbf\">                </span><span style=\"color: #800000; text-decoration-color: #800000\">loaded correctly.                                               </span>\n",
       "</pre>\n"
      ],
      "text/plain": [
       "\u001b[2;36m               \u001b[0m\u001b[2;36m \u001b[0m\u001b[31mWARNING: Client-side permittivity of a \u001b[0m\u001b[32m'TriangleMesh'\u001b[0m\u001b[31m may be    \u001b[0m\n",
       "\u001b[2;36m                \u001b[0m\u001b[31minaccurate if the mesh is not unionized. We recommend unionizing\u001b[0m\n",
       "\u001b[2;36m                \u001b[0m\u001b[31mall meshes before import. A \u001b[0m\u001b[32m'PermittivityMonitor'\u001b[0m\u001b[31m can be used to\u001b[0m\n",
       "\u001b[2;36m                \u001b[0m\u001b[31mobtain the true permittivity and check that the surface mesh is \u001b[0m\n",
       "\u001b[2;36m                \u001b[0m\u001b[31mloaded correctly.                                               \u001b[0m\n"
      ]
     },
     "metadata": {},
     "output_type": "display_data"
    },
    {
     "data": {
      "text/html": [
       "<pre style=\"white-space:pre;overflow-x:auto;line-height:normal;font-family:Menlo,'DejaVu Sans Mono',consolas,'Courier New',monospace\"><span style=\"color: #7fbfbf; text-decoration-color: #7fbfbf\">                </span><span style=\"color: #800000; text-decoration-color: #800000\">WARNING: Client-side permittivity of a </span><span style=\"color: #008000; text-decoration-color: #008000\">'TriangleMesh'</span><span style=\"color: #800000; text-decoration-color: #800000\"> may be    </span>\n",
       "<span style=\"color: #7fbfbf; text-decoration-color: #7fbfbf\">                </span><span style=\"color: #800000; text-decoration-color: #800000\">inaccurate if the mesh is not unionized. We recommend unionizing</span>\n",
       "<span style=\"color: #7fbfbf; text-decoration-color: #7fbfbf\">                </span><span style=\"color: #800000; text-decoration-color: #800000\">all meshes before import. A </span><span style=\"color: #008000; text-decoration-color: #008000\">'PermittivityMonitor'</span><span style=\"color: #800000; text-decoration-color: #800000\"> can be used to</span>\n",
       "<span style=\"color: #7fbfbf; text-decoration-color: #7fbfbf\">                </span><span style=\"color: #800000; text-decoration-color: #800000\">obtain the true permittivity and check that the surface mesh is </span>\n",
       "<span style=\"color: #7fbfbf; text-decoration-color: #7fbfbf\">                </span><span style=\"color: #800000; text-decoration-color: #800000\">loaded correctly.                                               </span>\n",
       "</pre>\n"
      ],
      "text/plain": [
       "\u001b[2;36m               \u001b[0m\u001b[2;36m \u001b[0m\u001b[31mWARNING: Client-side permittivity of a \u001b[0m\u001b[32m'TriangleMesh'\u001b[0m\u001b[31m may be    \u001b[0m\n",
       "\u001b[2;36m                \u001b[0m\u001b[31minaccurate if the mesh is not unionized. We recommend unionizing\u001b[0m\n",
       "\u001b[2;36m                \u001b[0m\u001b[31mall meshes before import. A \u001b[0m\u001b[32m'PermittivityMonitor'\u001b[0m\u001b[31m can be used to\u001b[0m\n",
       "\u001b[2;36m                \u001b[0m\u001b[31mobtain the true permittivity and check that the surface mesh is \u001b[0m\n",
       "\u001b[2;36m                \u001b[0m\u001b[31mloaded correctly.                                               \u001b[0m\n"
      ]
     },
     "metadata": {},
     "output_type": "display_data"
    },
    {
     "data": {
      "text/html": [
       "<pre style=\"white-space:pre;overflow-x:auto;line-height:normal;font-family:Menlo,'DejaVu Sans Mono',consolas,'Courier New',monospace\"><span style=\"color: #7fbfbf; text-decoration-color: #7fbfbf\">                </span><span style=\"color: #800000; text-decoration-color: #800000\">WARNING: Client-side permittivity of a </span><span style=\"color: #008000; text-decoration-color: #008000\">'TriangleMesh'</span><span style=\"color: #800000; text-decoration-color: #800000\"> may be    </span>\n",
       "<span style=\"color: #7fbfbf; text-decoration-color: #7fbfbf\">                </span><span style=\"color: #800000; text-decoration-color: #800000\">inaccurate if the mesh is not unionized. We recommend unionizing</span>\n",
       "<span style=\"color: #7fbfbf; text-decoration-color: #7fbfbf\">                </span><span style=\"color: #800000; text-decoration-color: #800000\">all meshes before import. A </span><span style=\"color: #008000; text-decoration-color: #008000\">'PermittivityMonitor'</span><span style=\"color: #800000; text-decoration-color: #800000\"> can be used to</span>\n",
       "<span style=\"color: #7fbfbf; text-decoration-color: #7fbfbf\">                </span><span style=\"color: #800000; text-decoration-color: #800000\">obtain the true permittivity and check that the surface mesh is </span>\n",
       "<span style=\"color: #7fbfbf; text-decoration-color: #7fbfbf\">                </span><span style=\"color: #800000; text-decoration-color: #800000\">loaded correctly.                                               </span>\n",
       "</pre>\n"
      ],
      "text/plain": [
       "\u001b[2;36m               \u001b[0m\u001b[2;36m \u001b[0m\u001b[31mWARNING: Client-side permittivity of a \u001b[0m\u001b[32m'TriangleMesh'\u001b[0m\u001b[31m may be    \u001b[0m\n",
       "\u001b[2;36m                \u001b[0m\u001b[31minaccurate if the mesh is not unionized. We recommend unionizing\u001b[0m\n",
       "\u001b[2;36m                \u001b[0m\u001b[31mall meshes before import. A \u001b[0m\u001b[32m'PermittivityMonitor'\u001b[0m\u001b[31m can be used to\u001b[0m\n",
       "\u001b[2;36m                \u001b[0m\u001b[31mobtain the true permittivity and check that the surface mesh is \u001b[0m\n",
       "\u001b[2;36m                \u001b[0m\u001b[31mloaded correctly.                                               \u001b[0m\n"
      ]
     },
     "metadata": {},
     "output_type": "display_data"
    },
    {
     "data": {
      "text/html": [
       "<pre style=\"white-space:pre;overflow-x:auto;line-height:normal;font-family:Menlo,'DejaVu Sans Mono',consolas,'Courier New',monospace\"><span style=\"color: #7fbfbf; text-decoration-color: #7fbfbf\">                </span><span style=\"color: #800000; text-decoration-color: #800000\">WARNING: Client-side permittivity of a </span><span style=\"color: #008000; text-decoration-color: #008000\">'TriangleMesh'</span><span style=\"color: #800000; text-decoration-color: #800000\"> may be    </span>\n",
       "<span style=\"color: #7fbfbf; text-decoration-color: #7fbfbf\">                </span><span style=\"color: #800000; text-decoration-color: #800000\">inaccurate if the mesh is not unionized. We recommend unionizing</span>\n",
       "<span style=\"color: #7fbfbf; text-decoration-color: #7fbfbf\">                </span><span style=\"color: #800000; text-decoration-color: #800000\">all meshes before import. A </span><span style=\"color: #008000; text-decoration-color: #008000\">'PermittivityMonitor'</span><span style=\"color: #800000; text-decoration-color: #800000\"> can be used to</span>\n",
       "<span style=\"color: #7fbfbf; text-decoration-color: #7fbfbf\">                </span><span style=\"color: #800000; text-decoration-color: #800000\">obtain the true permittivity and check that the surface mesh is </span>\n",
       "<span style=\"color: #7fbfbf; text-decoration-color: #7fbfbf\">                </span><span style=\"color: #800000; text-decoration-color: #800000\">loaded correctly.                                               </span>\n",
       "</pre>\n"
      ],
      "text/plain": [
       "\u001b[2;36m               \u001b[0m\u001b[2;36m \u001b[0m\u001b[31mWARNING: Client-side permittivity of a \u001b[0m\u001b[32m'TriangleMesh'\u001b[0m\u001b[31m may be    \u001b[0m\n",
       "\u001b[2;36m                \u001b[0m\u001b[31minaccurate if the mesh is not unionized. We recommend unionizing\u001b[0m\n",
       "\u001b[2;36m                \u001b[0m\u001b[31mall meshes before import. A \u001b[0m\u001b[32m'PermittivityMonitor'\u001b[0m\u001b[31m can be used to\u001b[0m\n",
       "\u001b[2;36m                \u001b[0m\u001b[31mobtain the true permittivity and check that the surface mesh is \u001b[0m\n",
       "\u001b[2;36m                \u001b[0m\u001b[31mloaded correctly.                                               \u001b[0m\n"
      ]
     },
     "metadata": {},
     "output_type": "display_data"
    },
    {
     "data": {
      "text/html": [
       "<pre style=\"white-space:pre;overflow-x:auto;line-height:normal;font-family:Menlo,'DejaVu Sans Mono',consolas,'Courier New',monospace\"><span style=\"color: #7fbfbf; text-decoration-color: #7fbfbf\">                </span><span style=\"color: #800000; text-decoration-color: #800000\">WARNING: Client-side permittivity of a </span><span style=\"color: #008000; text-decoration-color: #008000\">'TriangleMesh'</span><span style=\"color: #800000; text-decoration-color: #800000\"> may be    </span>\n",
       "<span style=\"color: #7fbfbf; text-decoration-color: #7fbfbf\">                </span><span style=\"color: #800000; text-decoration-color: #800000\">inaccurate if the mesh is not unionized. We recommend unionizing</span>\n",
       "<span style=\"color: #7fbfbf; text-decoration-color: #7fbfbf\">                </span><span style=\"color: #800000; text-decoration-color: #800000\">all meshes before import. A </span><span style=\"color: #008000; text-decoration-color: #008000\">'PermittivityMonitor'</span><span style=\"color: #800000; text-decoration-color: #800000\"> can be used to</span>\n",
       "<span style=\"color: #7fbfbf; text-decoration-color: #7fbfbf\">                </span><span style=\"color: #800000; text-decoration-color: #800000\">obtain the true permittivity and check that the surface mesh is </span>\n",
       "<span style=\"color: #7fbfbf; text-decoration-color: #7fbfbf\">                </span><span style=\"color: #800000; text-decoration-color: #800000\">loaded correctly.                                               </span>\n",
       "</pre>\n"
      ],
      "text/plain": [
       "\u001b[2;36m               \u001b[0m\u001b[2;36m \u001b[0m\u001b[31mWARNING: Client-side permittivity of a \u001b[0m\u001b[32m'TriangleMesh'\u001b[0m\u001b[31m may be    \u001b[0m\n",
       "\u001b[2;36m                \u001b[0m\u001b[31minaccurate if the mesh is not unionized. We recommend unionizing\u001b[0m\n",
       "\u001b[2;36m                \u001b[0m\u001b[31mall meshes before import. A \u001b[0m\u001b[32m'PermittivityMonitor'\u001b[0m\u001b[31m can be used to\u001b[0m\n",
       "\u001b[2;36m                \u001b[0m\u001b[31mobtain the true permittivity and check that the surface mesh is \u001b[0m\n",
       "\u001b[2;36m                \u001b[0m\u001b[31mloaded correctly.                                               \u001b[0m\n"
      ]
     },
     "metadata": {},
     "output_type": "display_data"
    },
    {
     "data": {
      "text/html": [
       "<pre style=\"white-space:pre;overflow-x:auto;line-height:normal;font-family:Menlo,'DejaVu Sans Mono',consolas,'Courier New',monospace\"><span style=\"color: #7fbfbf; text-decoration-color: #7fbfbf\">                </span><span style=\"color: #800000; text-decoration-color: #800000\">WARNING: Client-side permittivity of a </span><span style=\"color: #008000; text-decoration-color: #008000\">'TriangleMesh'</span><span style=\"color: #800000; text-decoration-color: #800000\"> may be    </span>\n",
       "<span style=\"color: #7fbfbf; text-decoration-color: #7fbfbf\">                </span><span style=\"color: #800000; text-decoration-color: #800000\">inaccurate if the mesh is not unionized. We recommend unionizing</span>\n",
       "<span style=\"color: #7fbfbf; text-decoration-color: #7fbfbf\">                </span><span style=\"color: #800000; text-decoration-color: #800000\">all meshes before import. A </span><span style=\"color: #008000; text-decoration-color: #008000\">'PermittivityMonitor'</span><span style=\"color: #800000; text-decoration-color: #800000\"> can be used to</span>\n",
       "<span style=\"color: #7fbfbf; text-decoration-color: #7fbfbf\">                </span><span style=\"color: #800000; text-decoration-color: #800000\">obtain the true permittivity and check that the surface mesh is </span>\n",
       "<span style=\"color: #7fbfbf; text-decoration-color: #7fbfbf\">                </span><span style=\"color: #800000; text-decoration-color: #800000\">loaded correctly.                                               </span>\n",
       "</pre>\n"
      ],
      "text/plain": [
       "\u001b[2;36m               \u001b[0m\u001b[2;36m \u001b[0m\u001b[31mWARNING: Client-side permittivity of a \u001b[0m\u001b[32m'TriangleMesh'\u001b[0m\u001b[31m may be    \u001b[0m\n",
       "\u001b[2;36m                \u001b[0m\u001b[31minaccurate if the mesh is not unionized. We recommend unionizing\u001b[0m\n",
       "\u001b[2;36m                \u001b[0m\u001b[31mall meshes before import. A \u001b[0m\u001b[32m'PermittivityMonitor'\u001b[0m\u001b[31m can be used to\u001b[0m\n",
       "\u001b[2;36m                \u001b[0m\u001b[31mobtain the true permittivity and check that the surface mesh is \u001b[0m\n",
       "\u001b[2;36m                \u001b[0m\u001b[31mloaded correctly.                                               \u001b[0m\n"
      ]
     },
     "metadata": {},
     "output_type": "display_data"
    },
    {
     "data": {
      "text/html": [
       "<pre style=\"white-space:pre;overflow-x:auto;line-height:normal;font-family:Menlo,'DejaVu Sans Mono',consolas,'Courier New',monospace\"><span style=\"color: #7fbfbf; text-decoration-color: #7fbfbf\">                </span><span style=\"color: #800000; text-decoration-color: #800000\">WARNING: Client-side permittivity of a </span><span style=\"color: #008000; text-decoration-color: #008000\">'TriangleMesh'</span><span style=\"color: #800000; text-decoration-color: #800000\"> may be    </span>\n",
       "<span style=\"color: #7fbfbf; text-decoration-color: #7fbfbf\">                </span><span style=\"color: #800000; text-decoration-color: #800000\">inaccurate if the mesh is not unionized. We recommend unionizing</span>\n",
       "<span style=\"color: #7fbfbf; text-decoration-color: #7fbfbf\">                </span><span style=\"color: #800000; text-decoration-color: #800000\">all meshes before import. A </span><span style=\"color: #008000; text-decoration-color: #008000\">'PermittivityMonitor'</span><span style=\"color: #800000; text-decoration-color: #800000\"> can be used to</span>\n",
       "<span style=\"color: #7fbfbf; text-decoration-color: #7fbfbf\">                </span><span style=\"color: #800000; text-decoration-color: #800000\">obtain the true permittivity and check that the surface mesh is </span>\n",
       "<span style=\"color: #7fbfbf; text-decoration-color: #7fbfbf\">                </span><span style=\"color: #800000; text-decoration-color: #800000\">loaded correctly.                                               </span>\n",
       "</pre>\n"
      ],
      "text/plain": [
       "\u001b[2;36m               \u001b[0m\u001b[2;36m \u001b[0m\u001b[31mWARNING: Client-side permittivity of a \u001b[0m\u001b[32m'TriangleMesh'\u001b[0m\u001b[31m may be    \u001b[0m\n",
       "\u001b[2;36m                \u001b[0m\u001b[31minaccurate if the mesh is not unionized. We recommend unionizing\u001b[0m\n",
       "\u001b[2;36m                \u001b[0m\u001b[31mall meshes before import. A \u001b[0m\u001b[32m'PermittivityMonitor'\u001b[0m\u001b[31m can be used to\u001b[0m\n",
       "\u001b[2;36m                \u001b[0m\u001b[31mobtain the true permittivity and check that the surface mesh is \u001b[0m\n",
       "\u001b[2;36m                \u001b[0m\u001b[31mloaded correctly.                                               \u001b[0m\n"
      ]
     },
     "metadata": {},
     "output_type": "display_data"
    },
    {
     "data": {
      "text/html": [
       "<pre style=\"white-space:pre;overflow-x:auto;line-height:normal;font-family:Menlo,'DejaVu Sans Mono',consolas,'Courier New',monospace\"><span style=\"color: #7fbfbf; text-decoration-color: #7fbfbf\">                </span><span style=\"color: #800000; text-decoration-color: #800000\">WARNING: Client-side permittivity of a </span><span style=\"color: #008000; text-decoration-color: #008000\">'TriangleMesh'</span><span style=\"color: #800000; text-decoration-color: #800000\"> may be    </span>\n",
       "<span style=\"color: #7fbfbf; text-decoration-color: #7fbfbf\">                </span><span style=\"color: #800000; text-decoration-color: #800000\">inaccurate if the mesh is not unionized. We recommend unionizing</span>\n",
       "<span style=\"color: #7fbfbf; text-decoration-color: #7fbfbf\">                </span><span style=\"color: #800000; text-decoration-color: #800000\">all meshes before import. A </span><span style=\"color: #008000; text-decoration-color: #008000\">'PermittivityMonitor'</span><span style=\"color: #800000; text-decoration-color: #800000\"> can be used to</span>\n",
       "<span style=\"color: #7fbfbf; text-decoration-color: #7fbfbf\">                </span><span style=\"color: #800000; text-decoration-color: #800000\">obtain the true permittivity and check that the surface mesh is </span>\n",
       "<span style=\"color: #7fbfbf; text-decoration-color: #7fbfbf\">                </span><span style=\"color: #800000; text-decoration-color: #800000\">loaded correctly.                                               </span>\n",
       "</pre>\n"
      ],
      "text/plain": [
       "\u001b[2;36m               \u001b[0m\u001b[2;36m \u001b[0m\u001b[31mWARNING: Client-side permittivity of a \u001b[0m\u001b[32m'TriangleMesh'\u001b[0m\u001b[31m may be    \u001b[0m\n",
       "\u001b[2;36m                \u001b[0m\u001b[31minaccurate if the mesh is not unionized. We recommend unionizing\u001b[0m\n",
       "\u001b[2;36m                \u001b[0m\u001b[31mall meshes before import. A \u001b[0m\u001b[32m'PermittivityMonitor'\u001b[0m\u001b[31m can be used to\u001b[0m\n",
       "\u001b[2;36m                \u001b[0m\u001b[31mobtain the true permittivity and check that the surface mesh is \u001b[0m\n",
       "\u001b[2;36m                \u001b[0m\u001b[31mloaded correctly.                                               \u001b[0m\n"
      ]
     },
     "metadata": {},
     "output_type": "display_data"
    },
    {
     "data": {
      "text/html": [
       "<pre style=\"white-space:pre;overflow-x:auto;line-height:normal;font-family:Menlo,'DejaVu Sans Mono',consolas,'Courier New',monospace\"><span style=\"color: #7fbfbf; text-decoration-color: #7fbfbf\">                </span><span style=\"color: #800000; text-decoration-color: #800000\">WARNING: Client-side permittivity of a </span><span style=\"color: #008000; text-decoration-color: #008000\">'TriangleMesh'</span><span style=\"color: #800000; text-decoration-color: #800000\"> may be    </span>\n",
       "<span style=\"color: #7fbfbf; text-decoration-color: #7fbfbf\">                </span><span style=\"color: #800000; text-decoration-color: #800000\">inaccurate if the mesh is not unionized. We recommend unionizing</span>\n",
       "<span style=\"color: #7fbfbf; text-decoration-color: #7fbfbf\">                </span><span style=\"color: #800000; text-decoration-color: #800000\">all meshes before import. A </span><span style=\"color: #008000; text-decoration-color: #008000\">'PermittivityMonitor'</span><span style=\"color: #800000; text-decoration-color: #800000\"> can be used to</span>\n",
       "<span style=\"color: #7fbfbf; text-decoration-color: #7fbfbf\">                </span><span style=\"color: #800000; text-decoration-color: #800000\">obtain the true permittivity and check that the surface mesh is </span>\n",
       "<span style=\"color: #7fbfbf; text-decoration-color: #7fbfbf\">                </span><span style=\"color: #800000; text-decoration-color: #800000\">loaded correctly.                                               </span>\n",
       "</pre>\n"
      ],
      "text/plain": [
       "\u001b[2;36m               \u001b[0m\u001b[2;36m \u001b[0m\u001b[31mWARNING: Client-side permittivity of a \u001b[0m\u001b[32m'TriangleMesh'\u001b[0m\u001b[31m may be    \u001b[0m\n",
       "\u001b[2;36m                \u001b[0m\u001b[31minaccurate if the mesh is not unionized. We recommend unionizing\u001b[0m\n",
       "\u001b[2;36m                \u001b[0m\u001b[31mall meshes before import. A \u001b[0m\u001b[32m'PermittivityMonitor'\u001b[0m\u001b[31m can be used to\u001b[0m\n",
       "\u001b[2;36m                \u001b[0m\u001b[31mobtain the true permittivity and check that the surface mesh is \u001b[0m\n",
       "\u001b[2;36m                \u001b[0m\u001b[31mloaded correctly.                                               \u001b[0m\n"
      ]
     },
     "metadata": {},
     "output_type": "display_data"
    },
    {
     "data": {
      "text/html": [
       "<pre style=\"white-space:pre;overflow-x:auto;line-height:normal;font-family:Menlo,'DejaVu Sans Mono',consolas,'Courier New',monospace\"><span style=\"color: #7fbfbf; text-decoration-color: #7fbfbf\">                </span><span style=\"color: #800000; text-decoration-color: #800000\">WARNING: Client-side permittivity of a </span><span style=\"color: #008000; text-decoration-color: #008000\">'TriangleMesh'</span><span style=\"color: #800000; text-decoration-color: #800000\"> may be    </span>\n",
       "<span style=\"color: #7fbfbf; text-decoration-color: #7fbfbf\">                </span><span style=\"color: #800000; text-decoration-color: #800000\">inaccurate if the mesh is not unionized. We recommend unionizing</span>\n",
       "<span style=\"color: #7fbfbf; text-decoration-color: #7fbfbf\">                </span><span style=\"color: #800000; text-decoration-color: #800000\">all meshes before import. A </span><span style=\"color: #008000; text-decoration-color: #008000\">'PermittivityMonitor'</span><span style=\"color: #800000; text-decoration-color: #800000\"> can be used to</span>\n",
       "<span style=\"color: #7fbfbf; text-decoration-color: #7fbfbf\">                </span><span style=\"color: #800000; text-decoration-color: #800000\">obtain the true permittivity and check that the surface mesh is </span>\n",
       "<span style=\"color: #7fbfbf; text-decoration-color: #7fbfbf\">                </span><span style=\"color: #800000; text-decoration-color: #800000\">loaded correctly.                                               </span>\n",
       "</pre>\n"
      ],
      "text/plain": [
       "\u001b[2;36m               \u001b[0m\u001b[2;36m \u001b[0m\u001b[31mWARNING: Client-side permittivity of a \u001b[0m\u001b[32m'TriangleMesh'\u001b[0m\u001b[31m may be    \u001b[0m\n",
       "\u001b[2;36m                \u001b[0m\u001b[31minaccurate if the mesh is not unionized. We recommend unionizing\u001b[0m\n",
       "\u001b[2;36m                \u001b[0m\u001b[31mall meshes before import. A \u001b[0m\u001b[32m'PermittivityMonitor'\u001b[0m\u001b[31m can be used to\u001b[0m\n",
       "\u001b[2;36m                \u001b[0m\u001b[31mobtain the true permittivity and check that the surface mesh is \u001b[0m\n",
       "\u001b[2;36m                \u001b[0m\u001b[31mloaded correctly.                                               \u001b[0m\n"
      ]
     },
     "metadata": {},
     "output_type": "display_data"
    },
    {
     "data": {
      "text/html": [
       "<pre style=\"white-space:pre;overflow-x:auto;line-height:normal;font-family:Menlo,'DejaVu Sans Mono',consolas,'Courier New',monospace\"><span style=\"color: #7fbfbf; text-decoration-color: #7fbfbf\">                </span><span style=\"color: #800000; text-decoration-color: #800000\">WARNING: Client-side permittivity of a </span><span style=\"color: #008000; text-decoration-color: #008000\">'TriangleMesh'</span><span style=\"color: #800000; text-decoration-color: #800000\"> may be    </span>\n",
       "<span style=\"color: #7fbfbf; text-decoration-color: #7fbfbf\">                </span><span style=\"color: #800000; text-decoration-color: #800000\">inaccurate if the mesh is not unionized. We recommend unionizing</span>\n",
       "<span style=\"color: #7fbfbf; text-decoration-color: #7fbfbf\">                </span><span style=\"color: #800000; text-decoration-color: #800000\">all meshes before import. A </span><span style=\"color: #008000; text-decoration-color: #008000\">'PermittivityMonitor'</span><span style=\"color: #800000; text-decoration-color: #800000\"> can be used to</span>\n",
       "<span style=\"color: #7fbfbf; text-decoration-color: #7fbfbf\">                </span><span style=\"color: #800000; text-decoration-color: #800000\">obtain the true permittivity and check that the surface mesh is </span>\n",
       "<span style=\"color: #7fbfbf; text-decoration-color: #7fbfbf\">                </span><span style=\"color: #800000; text-decoration-color: #800000\">loaded correctly.                                               </span>\n",
       "</pre>\n"
      ],
      "text/plain": [
       "\u001b[2;36m               \u001b[0m\u001b[2;36m \u001b[0m\u001b[31mWARNING: Client-side permittivity of a \u001b[0m\u001b[32m'TriangleMesh'\u001b[0m\u001b[31m may be    \u001b[0m\n",
       "\u001b[2;36m                \u001b[0m\u001b[31minaccurate if the mesh is not unionized. We recommend unionizing\u001b[0m\n",
       "\u001b[2;36m                \u001b[0m\u001b[31mall meshes before import. A \u001b[0m\u001b[32m'PermittivityMonitor'\u001b[0m\u001b[31m can be used to\u001b[0m\n",
       "\u001b[2;36m                \u001b[0m\u001b[31mobtain the true permittivity and check that the surface mesh is \u001b[0m\n",
       "\u001b[2;36m                \u001b[0m\u001b[31mloaded correctly.                                               \u001b[0m\n"
      ]
     },
     "metadata": {},
     "output_type": "display_data"
    },
    {
     "data": {
      "text/html": [
       "<pre style=\"white-space:pre;overflow-x:auto;line-height:normal;font-family:Menlo,'DejaVu Sans Mono',consolas,'Courier New',monospace\"><span style=\"color: #7fbfbf; text-decoration-color: #7fbfbf\">                </span><span style=\"color: #800000; text-decoration-color: #800000\">WARNING: Client-side permittivity of a </span><span style=\"color: #008000; text-decoration-color: #008000\">'TriangleMesh'</span><span style=\"color: #800000; text-decoration-color: #800000\"> may be    </span>\n",
       "<span style=\"color: #7fbfbf; text-decoration-color: #7fbfbf\">                </span><span style=\"color: #800000; text-decoration-color: #800000\">inaccurate if the mesh is not unionized. We recommend unionizing</span>\n",
       "<span style=\"color: #7fbfbf; text-decoration-color: #7fbfbf\">                </span><span style=\"color: #800000; text-decoration-color: #800000\">all meshes before import. A </span><span style=\"color: #008000; text-decoration-color: #008000\">'PermittivityMonitor'</span><span style=\"color: #800000; text-decoration-color: #800000\"> can be used to</span>\n",
       "<span style=\"color: #7fbfbf; text-decoration-color: #7fbfbf\">                </span><span style=\"color: #800000; text-decoration-color: #800000\">obtain the true permittivity and check that the surface mesh is </span>\n",
       "<span style=\"color: #7fbfbf; text-decoration-color: #7fbfbf\">                </span><span style=\"color: #800000; text-decoration-color: #800000\">loaded correctly.                                               </span>\n",
       "</pre>\n"
      ],
      "text/plain": [
       "\u001b[2;36m               \u001b[0m\u001b[2;36m \u001b[0m\u001b[31mWARNING: Client-side permittivity of a \u001b[0m\u001b[32m'TriangleMesh'\u001b[0m\u001b[31m may be    \u001b[0m\n",
       "\u001b[2;36m                \u001b[0m\u001b[31minaccurate if the mesh is not unionized. We recommend unionizing\u001b[0m\n",
       "\u001b[2;36m                \u001b[0m\u001b[31mall meshes before import. A \u001b[0m\u001b[32m'PermittivityMonitor'\u001b[0m\u001b[31m can be used to\u001b[0m\n",
       "\u001b[2;36m                \u001b[0m\u001b[31mobtain the true permittivity and check that the surface mesh is \u001b[0m\n",
       "\u001b[2;36m                \u001b[0m\u001b[31mloaded correctly.                                               \u001b[0m\n"
      ]
     },
     "metadata": {},
     "output_type": "display_data"
    },
    {
     "data": {
      "text/html": [
       "<pre style=\"white-space:pre;overflow-x:auto;line-height:normal;font-family:Menlo,'DejaVu Sans Mono',consolas,'Courier New',monospace\"><span style=\"color: #7fbfbf; text-decoration-color: #7fbfbf\">                </span><span style=\"color: #800000; text-decoration-color: #800000\">WARNING: Client-side permittivity of a </span><span style=\"color: #008000; text-decoration-color: #008000\">'TriangleMesh'</span><span style=\"color: #800000; text-decoration-color: #800000\"> may be    </span>\n",
       "<span style=\"color: #7fbfbf; text-decoration-color: #7fbfbf\">                </span><span style=\"color: #800000; text-decoration-color: #800000\">inaccurate if the mesh is not unionized. We recommend unionizing</span>\n",
       "<span style=\"color: #7fbfbf; text-decoration-color: #7fbfbf\">                </span><span style=\"color: #800000; text-decoration-color: #800000\">all meshes before import. A </span><span style=\"color: #008000; text-decoration-color: #008000\">'PermittivityMonitor'</span><span style=\"color: #800000; text-decoration-color: #800000\"> can be used to</span>\n",
       "<span style=\"color: #7fbfbf; text-decoration-color: #7fbfbf\">                </span><span style=\"color: #800000; text-decoration-color: #800000\">obtain the true permittivity and check that the surface mesh is </span>\n",
       "<span style=\"color: #7fbfbf; text-decoration-color: #7fbfbf\">                </span><span style=\"color: #800000; text-decoration-color: #800000\">loaded correctly.                                               </span>\n",
       "</pre>\n"
      ],
      "text/plain": [
       "\u001b[2;36m               \u001b[0m\u001b[2;36m \u001b[0m\u001b[31mWARNING: Client-side permittivity of a \u001b[0m\u001b[32m'TriangleMesh'\u001b[0m\u001b[31m may be    \u001b[0m\n",
       "\u001b[2;36m                \u001b[0m\u001b[31minaccurate if the mesh is not unionized. We recommend unionizing\u001b[0m\n",
       "\u001b[2;36m                \u001b[0m\u001b[31mall meshes before import. A \u001b[0m\u001b[32m'PermittivityMonitor'\u001b[0m\u001b[31m can be used to\u001b[0m\n",
       "\u001b[2;36m                \u001b[0m\u001b[31mobtain the true permittivity and check that the surface mesh is \u001b[0m\n",
       "\u001b[2;36m                \u001b[0m\u001b[31mloaded correctly.                                               \u001b[0m\n"
      ]
     },
     "metadata": {},
     "output_type": "display_data"
    },
    {
     "data": {
      "text/html": [
       "<pre style=\"white-space:pre;overflow-x:auto;line-height:normal;font-family:Menlo,'DejaVu Sans Mono',consolas,'Courier New',monospace\"><span style=\"color: #7fbfbf; text-decoration-color: #7fbfbf\">                </span><span style=\"color: #800000; text-decoration-color: #800000\">WARNING: Client-side permittivity of a </span><span style=\"color: #008000; text-decoration-color: #008000\">'TriangleMesh'</span><span style=\"color: #800000; text-decoration-color: #800000\"> may be    </span>\n",
       "<span style=\"color: #7fbfbf; text-decoration-color: #7fbfbf\">                </span><span style=\"color: #800000; text-decoration-color: #800000\">inaccurate if the mesh is not unionized. We recommend unionizing</span>\n",
       "<span style=\"color: #7fbfbf; text-decoration-color: #7fbfbf\">                </span><span style=\"color: #800000; text-decoration-color: #800000\">all meshes before import. A </span><span style=\"color: #008000; text-decoration-color: #008000\">'PermittivityMonitor'</span><span style=\"color: #800000; text-decoration-color: #800000\"> can be used to</span>\n",
       "<span style=\"color: #7fbfbf; text-decoration-color: #7fbfbf\">                </span><span style=\"color: #800000; text-decoration-color: #800000\">obtain the true permittivity and check that the surface mesh is </span>\n",
       "<span style=\"color: #7fbfbf; text-decoration-color: #7fbfbf\">                </span><span style=\"color: #800000; text-decoration-color: #800000\">loaded correctly.                                               </span>\n",
       "</pre>\n"
      ],
      "text/plain": [
       "\u001b[2;36m               \u001b[0m\u001b[2;36m \u001b[0m\u001b[31mWARNING: Client-side permittivity of a \u001b[0m\u001b[32m'TriangleMesh'\u001b[0m\u001b[31m may be    \u001b[0m\n",
       "\u001b[2;36m                \u001b[0m\u001b[31minaccurate if the mesh is not unionized. We recommend unionizing\u001b[0m\n",
       "\u001b[2;36m                \u001b[0m\u001b[31mall meshes before import. A \u001b[0m\u001b[32m'PermittivityMonitor'\u001b[0m\u001b[31m can be used to\u001b[0m\n",
       "\u001b[2;36m                \u001b[0m\u001b[31mobtain the true permittivity and check that the surface mesh is \u001b[0m\n",
       "\u001b[2;36m                \u001b[0m\u001b[31mloaded correctly.                                               \u001b[0m\n"
      ]
     },
     "metadata": {},
     "output_type": "display_data"
    },
    {
     "data": {
      "text/html": [
       "<pre style=\"white-space:pre;overflow-x:auto;line-height:normal;font-family:Menlo,'DejaVu Sans Mono',consolas,'Courier New',monospace\"><span style=\"color: #7fbfbf; text-decoration-color: #7fbfbf\">                </span><span style=\"color: #800000; text-decoration-color: #800000\">WARNING: Client-side permittivity of a </span><span style=\"color: #008000; text-decoration-color: #008000\">'TriangleMesh'</span><span style=\"color: #800000; text-decoration-color: #800000\"> may be    </span>\n",
       "<span style=\"color: #7fbfbf; text-decoration-color: #7fbfbf\">                </span><span style=\"color: #800000; text-decoration-color: #800000\">inaccurate if the mesh is not unionized. We recommend unionizing</span>\n",
       "<span style=\"color: #7fbfbf; text-decoration-color: #7fbfbf\">                </span><span style=\"color: #800000; text-decoration-color: #800000\">all meshes before import. A </span><span style=\"color: #008000; text-decoration-color: #008000\">'PermittivityMonitor'</span><span style=\"color: #800000; text-decoration-color: #800000\"> can be used to</span>\n",
       "<span style=\"color: #7fbfbf; text-decoration-color: #7fbfbf\">                </span><span style=\"color: #800000; text-decoration-color: #800000\">obtain the true permittivity and check that the surface mesh is </span>\n",
       "<span style=\"color: #7fbfbf; text-decoration-color: #7fbfbf\">                </span><span style=\"color: #800000; text-decoration-color: #800000\">loaded correctly.                                               </span>\n",
       "</pre>\n"
      ],
      "text/plain": [
       "\u001b[2;36m               \u001b[0m\u001b[2;36m \u001b[0m\u001b[31mWARNING: Client-side permittivity of a \u001b[0m\u001b[32m'TriangleMesh'\u001b[0m\u001b[31m may be    \u001b[0m\n",
       "\u001b[2;36m                \u001b[0m\u001b[31minaccurate if the mesh is not unionized. We recommend unionizing\u001b[0m\n",
       "\u001b[2;36m                \u001b[0m\u001b[31mall meshes before import. A \u001b[0m\u001b[32m'PermittivityMonitor'\u001b[0m\u001b[31m can be used to\u001b[0m\n",
       "\u001b[2;36m                \u001b[0m\u001b[31mobtain the true permittivity and check that the surface mesh is \u001b[0m\n",
       "\u001b[2;36m                \u001b[0m\u001b[31mloaded correctly.                                               \u001b[0m\n"
      ]
     },
     "metadata": {},
     "output_type": "display_data"
    },
    {
     "data": {
      "text/html": [
       "<pre style=\"white-space:pre;overflow-x:auto;line-height:normal;font-family:Menlo,'DejaVu Sans Mono',consolas,'Courier New',monospace\"><span style=\"color: #7fbfbf; text-decoration-color: #7fbfbf\">                </span><span style=\"color: #800000; text-decoration-color: #800000\">WARNING: Client-side permittivity of a </span><span style=\"color: #008000; text-decoration-color: #008000\">'TriangleMesh'</span><span style=\"color: #800000; text-decoration-color: #800000\"> may be    </span>\n",
       "<span style=\"color: #7fbfbf; text-decoration-color: #7fbfbf\">                </span><span style=\"color: #800000; text-decoration-color: #800000\">inaccurate if the mesh is not unionized. We recommend unionizing</span>\n",
       "<span style=\"color: #7fbfbf; text-decoration-color: #7fbfbf\">                </span><span style=\"color: #800000; text-decoration-color: #800000\">all meshes before import. A </span><span style=\"color: #008000; text-decoration-color: #008000\">'PermittivityMonitor'</span><span style=\"color: #800000; text-decoration-color: #800000\"> can be used to</span>\n",
       "<span style=\"color: #7fbfbf; text-decoration-color: #7fbfbf\">                </span><span style=\"color: #800000; text-decoration-color: #800000\">obtain the true permittivity and check that the surface mesh is </span>\n",
       "<span style=\"color: #7fbfbf; text-decoration-color: #7fbfbf\">                </span><span style=\"color: #800000; text-decoration-color: #800000\">loaded correctly.                                               </span>\n",
       "</pre>\n"
      ],
      "text/plain": [
       "\u001b[2;36m               \u001b[0m\u001b[2;36m \u001b[0m\u001b[31mWARNING: Client-side permittivity of a \u001b[0m\u001b[32m'TriangleMesh'\u001b[0m\u001b[31m may be    \u001b[0m\n",
       "\u001b[2;36m                \u001b[0m\u001b[31minaccurate if the mesh is not unionized. We recommend unionizing\u001b[0m\n",
       "\u001b[2;36m                \u001b[0m\u001b[31mall meshes before import. A \u001b[0m\u001b[32m'PermittivityMonitor'\u001b[0m\u001b[31m can be used to\u001b[0m\n",
       "\u001b[2;36m                \u001b[0m\u001b[31mobtain the true permittivity and check that the surface mesh is \u001b[0m\n",
       "\u001b[2;36m                \u001b[0m\u001b[31mloaded correctly.                                               \u001b[0m\n"
      ]
     },
     "metadata": {},
     "output_type": "display_data"
    },
    {
     "data": {
      "text/html": [
       "<pre style=\"white-space:pre;overflow-x:auto;line-height:normal;font-family:Menlo,'DejaVu Sans Mono',consolas,'Courier New',monospace\"><span style=\"color: #7fbfbf; text-decoration-color: #7fbfbf\">                </span><span style=\"color: #800000; text-decoration-color: #800000\">WARNING: Client-side permittivity of a </span><span style=\"color: #008000; text-decoration-color: #008000\">'TriangleMesh'</span><span style=\"color: #800000; text-decoration-color: #800000\"> may be    </span>\n",
       "<span style=\"color: #7fbfbf; text-decoration-color: #7fbfbf\">                </span><span style=\"color: #800000; text-decoration-color: #800000\">inaccurate if the mesh is not unionized. We recommend unionizing</span>\n",
       "<span style=\"color: #7fbfbf; text-decoration-color: #7fbfbf\">                </span><span style=\"color: #800000; text-decoration-color: #800000\">all meshes before import. A </span><span style=\"color: #008000; text-decoration-color: #008000\">'PermittivityMonitor'</span><span style=\"color: #800000; text-decoration-color: #800000\"> can be used to</span>\n",
       "<span style=\"color: #7fbfbf; text-decoration-color: #7fbfbf\">                </span><span style=\"color: #800000; text-decoration-color: #800000\">obtain the true permittivity and check that the surface mesh is </span>\n",
       "<span style=\"color: #7fbfbf; text-decoration-color: #7fbfbf\">                </span><span style=\"color: #800000; text-decoration-color: #800000\">loaded correctly.                                               </span>\n",
       "</pre>\n"
      ],
      "text/plain": [
       "\u001b[2;36m               \u001b[0m\u001b[2;36m \u001b[0m\u001b[31mWARNING: Client-side permittivity of a \u001b[0m\u001b[32m'TriangleMesh'\u001b[0m\u001b[31m may be    \u001b[0m\n",
       "\u001b[2;36m                \u001b[0m\u001b[31minaccurate if the mesh is not unionized. We recommend unionizing\u001b[0m\n",
       "\u001b[2;36m                \u001b[0m\u001b[31mall meshes before import. A \u001b[0m\u001b[32m'PermittivityMonitor'\u001b[0m\u001b[31m can be used to\u001b[0m\n",
       "\u001b[2;36m                \u001b[0m\u001b[31mobtain the true permittivity and check that the surface mesh is \u001b[0m\n",
       "\u001b[2;36m                \u001b[0m\u001b[31mloaded correctly.                                               \u001b[0m\n"
      ]
     },
     "metadata": {},
     "output_type": "display_data"
    },
    {
     "data": {
      "text/html": [
       "<pre style=\"white-space:pre;overflow-x:auto;line-height:normal;font-family:Menlo,'DejaVu Sans Mono',consolas,'Courier New',monospace\"><span style=\"color: #7fbfbf; text-decoration-color: #7fbfbf\">                </span><span style=\"color: #800000; text-decoration-color: #800000\">WARNING: Client-side permittivity of a </span><span style=\"color: #008000; text-decoration-color: #008000\">'TriangleMesh'</span><span style=\"color: #800000; text-decoration-color: #800000\"> may be    </span>\n",
       "<span style=\"color: #7fbfbf; text-decoration-color: #7fbfbf\">                </span><span style=\"color: #800000; text-decoration-color: #800000\">inaccurate if the mesh is not unionized. We recommend unionizing</span>\n",
       "<span style=\"color: #7fbfbf; text-decoration-color: #7fbfbf\">                </span><span style=\"color: #800000; text-decoration-color: #800000\">all meshes before import. A </span><span style=\"color: #008000; text-decoration-color: #008000\">'PermittivityMonitor'</span><span style=\"color: #800000; text-decoration-color: #800000\"> can be used to</span>\n",
       "<span style=\"color: #7fbfbf; text-decoration-color: #7fbfbf\">                </span><span style=\"color: #800000; text-decoration-color: #800000\">obtain the true permittivity and check that the surface mesh is </span>\n",
       "<span style=\"color: #7fbfbf; text-decoration-color: #7fbfbf\">                </span><span style=\"color: #800000; text-decoration-color: #800000\">loaded correctly.                                               </span>\n",
       "</pre>\n"
      ],
      "text/plain": [
       "\u001b[2;36m               \u001b[0m\u001b[2;36m \u001b[0m\u001b[31mWARNING: Client-side permittivity of a \u001b[0m\u001b[32m'TriangleMesh'\u001b[0m\u001b[31m may be    \u001b[0m\n",
       "\u001b[2;36m                \u001b[0m\u001b[31minaccurate if the mesh is not unionized. We recommend unionizing\u001b[0m\n",
       "\u001b[2;36m                \u001b[0m\u001b[31mall meshes before import. A \u001b[0m\u001b[32m'PermittivityMonitor'\u001b[0m\u001b[31m can be used to\u001b[0m\n",
       "\u001b[2;36m                \u001b[0m\u001b[31mobtain the true permittivity and check that the surface mesh is \u001b[0m\n",
       "\u001b[2;36m                \u001b[0m\u001b[31mloaded correctly.                                               \u001b[0m\n"
      ]
     },
     "metadata": {},
     "output_type": "display_data"
    },
    {
     "data": {
      "text/html": [
       "<pre style=\"white-space:pre;overflow-x:auto;line-height:normal;font-family:Menlo,'DejaVu Sans Mono',consolas,'Courier New',monospace\"><span style=\"color: #7fbfbf; text-decoration-color: #7fbfbf\">                </span><span style=\"color: #800000; text-decoration-color: #800000\">WARNING: Client-side permittivity of a </span><span style=\"color: #008000; text-decoration-color: #008000\">'TriangleMesh'</span><span style=\"color: #800000; text-decoration-color: #800000\"> may be    </span>\n",
       "<span style=\"color: #7fbfbf; text-decoration-color: #7fbfbf\">                </span><span style=\"color: #800000; text-decoration-color: #800000\">inaccurate if the mesh is not unionized. We recommend unionizing</span>\n",
       "<span style=\"color: #7fbfbf; text-decoration-color: #7fbfbf\">                </span><span style=\"color: #800000; text-decoration-color: #800000\">all meshes before import. A </span><span style=\"color: #008000; text-decoration-color: #008000\">'PermittivityMonitor'</span><span style=\"color: #800000; text-decoration-color: #800000\"> can be used to</span>\n",
       "<span style=\"color: #7fbfbf; text-decoration-color: #7fbfbf\">                </span><span style=\"color: #800000; text-decoration-color: #800000\">obtain the true permittivity and check that the surface mesh is </span>\n",
       "<span style=\"color: #7fbfbf; text-decoration-color: #7fbfbf\">                </span><span style=\"color: #800000; text-decoration-color: #800000\">loaded correctly.                                               </span>\n",
       "</pre>\n"
      ],
      "text/plain": [
       "\u001b[2;36m               \u001b[0m\u001b[2;36m \u001b[0m\u001b[31mWARNING: Client-side permittivity of a \u001b[0m\u001b[32m'TriangleMesh'\u001b[0m\u001b[31m may be    \u001b[0m\n",
       "\u001b[2;36m                \u001b[0m\u001b[31minaccurate if the mesh is not unionized. We recommend unionizing\u001b[0m\n",
       "\u001b[2;36m                \u001b[0m\u001b[31mall meshes before import. A \u001b[0m\u001b[32m'PermittivityMonitor'\u001b[0m\u001b[31m can be used to\u001b[0m\n",
       "\u001b[2;36m                \u001b[0m\u001b[31mobtain the true permittivity and check that the surface mesh is \u001b[0m\n",
       "\u001b[2;36m                \u001b[0m\u001b[31mloaded correctly.                                               \u001b[0m\n"
      ]
     },
     "metadata": {},
     "output_type": "display_data"
    },
    {
     "data": {
      "text/html": [
       "<pre style=\"white-space:pre;overflow-x:auto;line-height:normal;font-family:Menlo,'DejaVu Sans Mono',consolas,'Courier New',monospace\"><span style=\"color: #7fbfbf; text-decoration-color: #7fbfbf\">                </span><span style=\"color: #800000; text-decoration-color: #800000\">WARNING: Client-side permittivity of a </span><span style=\"color: #008000; text-decoration-color: #008000\">'TriangleMesh'</span><span style=\"color: #800000; text-decoration-color: #800000\"> may be    </span>\n",
       "<span style=\"color: #7fbfbf; text-decoration-color: #7fbfbf\">                </span><span style=\"color: #800000; text-decoration-color: #800000\">inaccurate if the mesh is not unionized. We recommend unionizing</span>\n",
       "<span style=\"color: #7fbfbf; text-decoration-color: #7fbfbf\">                </span><span style=\"color: #800000; text-decoration-color: #800000\">all meshes before import. A </span><span style=\"color: #008000; text-decoration-color: #008000\">'PermittivityMonitor'</span><span style=\"color: #800000; text-decoration-color: #800000\"> can be used to</span>\n",
       "<span style=\"color: #7fbfbf; text-decoration-color: #7fbfbf\">                </span><span style=\"color: #800000; text-decoration-color: #800000\">obtain the true permittivity and check that the surface mesh is </span>\n",
       "<span style=\"color: #7fbfbf; text-decoration-color: #7fbfbf\">                </span><span style=\"color: #800000; text-decoration-color: #800000\">loaded correctly.                                               </span>\n",
       "</pre>\n"
      ],
      "text/plain": [
       "\u001b[2;36m               \u001b[0m\u001b[2;36m \u001b[0m\u001b[31mWARNING: Client-side permittivity of a \u001b[0m\u001b[32m'TriangleMesh'\u001b[0m\u001b[31m may be    \u001b[0m\n",
       "\u001b[2;36m                \u001b[0m\u001b[31minaccurate if the mesh is not unionized. We recommend unionizing\u001b[0m\n",
       "\u001b[2;36m                \u001b[0m\u001b[31mall meshes before import. A \u001b[0m\u001b[32m'PermittivityMonitor'\u001b[0m\u001b[31m can be used to\u001b[0m\n",
       "\u001b[2;36m                \u001b[0m\u001b[31mobtain the true permittivity and check that the surface mesh is \u001b[0m\n",
       "\u001b[2;36m                \u001b[0m\u001b[31mloaded correctly.                                               \u001b[0m\n"
      ]
     },
     "metadata": {},
     "output_type": "display_data"
    },
    {
     "data": {
      "text/html": [
       "<pre style=\"white-space:pre;overflow-x:auto;line-height:normal;font-family:Menlo,'DejaVu Sans Mono',consolas,'Courier New',monospace\"><span style=\"color: #7fbfbf; text-decoration-color: #7fbfbf\">                </span><span style=\"color: #800000; text-decoration-color: #800000\">WARNING: Client-side permittivity of a </span><span style=\"color: #008000; text-decoration-color: #008000\">'TriangleMesh'</span><span style=\"color: #800000; text-decoration-color: #800000\"> may be    </span>\n",
       "<span style=\"color: #7fbfbf; text-decoration-color: #7fbfbf\">                </span><span style=\"color: #800000; text-decoration-color: #800000\">inaccurate if the mesh is not unionized. We recommend unionizing</span>\n",
       "<span style=\"color: #7fbfbf; text-decoration-color: #7fbfbf\">                </span><span style=\"color: #800000; text-decoration-color: #800000\">all meshes before import. A </span><span style=\"color: #008000; text-decoration-color: #008000\">'PermittivityMonitor'</span><span style=\"color: #800000; text-decoration-color: #800000\"> can be used to</span>\n",
       "<span style=\"color: #7fbfbf; text-decoration-color: #7fbfbf\">                </span><span style=\"color: #800000; text-decoration-color: #800000\">obtain the true permittivity and check that the surface mesh is </span>\n",
       "<span style=\"color: #7fbfbf; text-decoration-color: #7fbfbf\">                </span><span style=\"color: #800000; text-decoration-color: #800000\">loaded correctly.                                               </span>\n",
       "</pre>\n"
      ],
      "text/plain": [
       "\u001b[2;36m               \u001b[0m\u001b[2;36m \u001b[0m\u001b[31mWARNING: Client-side permittivity of a \u001b[0m\u001b[32m'TriangleMesh'\u001b[0m\u001b[31m may be    \u001b[0m\n",
       "\u001b[2;36m                \u001b[0m\u001b[31minaccurate if the mesh is not unionized. We recommend unionizing\u001b[0m\n",
       "\u001b[2;36m                \u001b[0m\u001b[31mall meshes before import. A \u001b[0m\u001b[32m'PermittivityMonitor'\u001b[0m\u001b[31m can be used to\u001b[0m\n",
       "\u001b[2;36m                \u001b[0m\u001b[31mobtain the true permittivity and check that the surface mesh is \u001b[0m\n",
       "\u001b[2;36m                \u001b[0m\u001b[31mloaded correctly.                                               \u001b[0m\n"
      ]
     },
     "metadata": {},
     "output_type": "display_data"
    },
    {
     "data": {
      "text/html": [
       "<pre style=\"white-space:pre;overflow-x:auto;line-height:normal;font-family:Menlo,'DejaVu Sans Mono',consolas,'Courier New',monospace\"><span style=\"color: #7fbfbf; text-decoration-color: #7fbfbf\">                </span><span style=\"color: #800000; text-decoration-color: #800000\">WARNING: Client-side permittivity of a </span><span style=\"color: #008000; text-decoration-color: #008000\">'TriangleMesh'</span><span style=\"color: #800000; text-decoration-color: #800000\"> may be    </span>\n",
       "<span style=\"color: #7fbfbf; text-decoration-color: #7fbfbf\">                </span><span style=\"color: #800000; text-decoration-color: #800000\">inaccurate if the mesh is not unionized. We recommend unionizing</span>\n",
       "<span style=\"color: #7fbfbf; text-decoration-color: #7fbfbf\">                </span><span style=\"color: #800000; text-decoration-color: #800000\">all meshes before import. A </span><span style=\"color: #008000; text-decoration-color: #008000\">'PermittivityMonitor'</span><span style=\"color: #800000; text-decoration-color: #800000\"> can be used to</span>\n",
       "<span style=\"color: #7fbfbf; text-decoration-color: #7fbfbf\">                </span><span style=\"color: #800000; text-decoration-color: #800000\">obtain the true permittivity and check that the surface mesh is </span>\n",
       "<span style=\"color: #7fbfbf; text-decoration-color: #7fbfbf\">                </span><span style=\"color: #800000; text-decoration-color: #800000\">loaded correctly.                                               </span>\n",
       "</pre>\n"
      ],
      "text/plain": [
       "\u001b[2;36m               \u001b[0m\u001b[2;36m \u001b[0m\u001b[31mWARNING: Client-side permittivity of a \u001b[0m\u001b[32m'TriangleMesh'\u001b[0m\u001b[31m may be    \u001b[0m\n",
       "\u001b[2;36m                \u001b[0m\u001b[31minaccurate if the mesh is not unionized. We recommend unionizing\u001b[0m\n",
       "\u001b[2;36m                \u001b[0m\u001b[31mall meshes before import. A \u001b[0m\u001b[32m'PermittivityMonitor'\u001b[0m\u001b[31m can be used to\u001b[0m\n",
       "\u001b[2;36m                \u001b[0m\u001b[31mobtain the true permittivity and check that the surface mesh is \u001b[0m\n",
       "\u001b[2;36m                \u001b[0m\u001b[31mloaded correctly.                                               \u001b[0m\n"
      ]
     },
     "metadata": {},
     "output_type": "display_data"
    },
    {
     "data": {
      "text/html": [
       "<pre style=\"white-space:pre;overflow-x:auto;line-height:normal;font-family:Menlo,'DejaVu Sans Mono',consolas,'Courier New',monospace\"><span style=\"color: #7fbfbf; text-decoration-color: #7fbfbf\">                </span><span style=\"color: #800000; text-decoration-color: #800000\">WARNING: Client-side permittivity of a </span><span style=\"color: #008000; text-decoration-color: #008000\">'TriangleMesh'</span><span style=\"color: #800000; text-decoration-color: #800000\"> may be    </span>\n",
       "<span style=\"color: #7fbfbf; text-decoration-color: #7fbfbf\">                </span><span style=\"color: #800000; text-decoration-color: #800000\">inaccurate if the mesh is not unionized. We recommend unionizing</span>\n",
       "<span style=\"color: #7fbfbf; text-decoration-color: #7fbfbf\">                </span><span style=\"color: #800000; text-decoration-color: #800000\">all meshes before import. A </span><span style=\"color: #008000; text-decoration-color: #008000\">'PermittivityMonitor'</span><span style=\"color: #800000; text-decoration-color: #800000\"> can be used to</span>\n",
       "<span style=\"color: #7fbfbf; text-decoration-color: #7fbfbf\">                </span><span style=\"color: #800000; text-decoration-color: #800000\">obtain the true permittivity and check that the surface mesh is </span>\n",
       "<span style=\"color: #7fbfbf; text-decoration-color: #7fbfbf\">                </span><span style=\"color: #800000; text-decoration-color: #800000\">loaded correctly.                                               </span>\n",
       "</pre>\n"
      ],
      "text/plain": [
       "\u001b[2;36m               \u001b[0m\u001b[2;36m \u001b[0m\u001b[31mWARNING: Client-side permittivity of a \u001b[0m\u001b[32m'TriangleMesh'\u001b[0m\u001b[31m may be    \u001b[0m\n",
       "\u001b[2;36m                \u001b[0m\u001b[31minaccurate if the mesh is not unionized. We recommend unionizing\u001b[0m\n",
       "\u001b[2;36m                \u001b[0m\u001b[31mall meshes before import. A \u001b[0m\u001b[32m'PermittivityMonitor'\u001b[0m\u001b[31m can be used to\u001b[0m\n",
       "\u001b[2;36m                \u001b[0m\u001b[31mobtain the true permittivity and check that the surface mesh is \u001b[0m\n",
       "\u001b[2;36m                \u001b[0m\u001b[31mloaded correctly.                                               \u001b[0m\n"
      ]
     },
     "metadata": {},
     "output_type": "display_data"
    },
    {
     "data": {
      "text/html": [
       "<pre style=\"white-space:pre;overflow-x:auto;line-height:normal;font-family:Menlo,'DejaVu Sans Mono',consolas,'Courier New',monospace\"><span style=\"color: #7fbfbf; text-decoration-color: #7fbfbf\">                </span><span style=\"color: #800000; text-decoration-color: #800000\">WARNING: Client-side permittivity of a </span><span style=\"color: #008000; text-decoration-color: #008000\">'TriangleMesh'</span><span style=\"color: #800000; text-decoration-color: #800000\"> may be    </span>\n",
       "<span style=\"color: #7fbfbf; text-decoration-color: #7fbfbf\">                </span><span style=\"color: #800000; text-decoration-color: #800000\">inaccurate if the mesh is not unionized. We recommend unionizing</span>\n",
       "<span style=\"color: #7fbfbf; text-decoration-color: #7fbfbf\">                </span><span style=\"color: #800000; text-decoration-color: #800000\">all meshes before import. A </span><span style=\"color: #008000; text-decoration-color: #008000\">'PermittivityMonitor'</span><span style=\"color: #800000; text-decoration-color: #800000\"> can be used to</span>\n",
       "<span style=\"color: #7fbfbf; text-decoration-color: #7fbfbf\">                </span><span style=\"color: #800000; text-decoration-color: #800000\">obtain the true permittivity and check that the surface mesh is </span>\n",
       "<span style=\"color: #7fbfbf; text-decoration-color: #7fbfbf\">                </span><span style=\"color: #800000; text-decoration-color: #800000\">loaded correctly.                                               </span>\n",
       "</pre>\n"
      ],
      "text/plain": [
       "\u001b[2;36m               \u001b[0m\u001b[2;36m \u001b[0m\u001b[31mWARNING: Client-side permittivity of a \u001b[0m\u001b[32m'TriangleMesh'\u001b[0m\u001b[31m may be    \u001b[0m\n",
       "\u001b[2;36m                \u001b[0m\u001b[31minaccurate if the mesh is not unionized. We recommend unionizing\u001b[0m\n",
       "\u001b[2;36m                \u001b[0m\u001b[31mall meshes before import. A \u001b[0m\u001b[32m'PermittivityMonitor'\u001b[0m\u001b[31m can be used to\u001b[0m\n",
       "\u001b[2;36m                \u001b[0m\u001b[31mobtain the true permittivity and check that the surface mesh is \u001b[0m\n",
       "\u001b[2;36m                \u001b[0m\u001b[31mloaded correctly.                                               \u001b[0m\n"
      ]
     },
     "metadata": {},
     "output_type": "display_data"
    },
    {
     "data": {
      "text/html": [
       "<pre style=\"white-space:pre;overflow-x:auto;line-height:normal;font-family:Menlo,'DejaVu Sans Mono',consolas,'Courier New',monospace\"><span style=\"color: #7fbfbf; text-decoration-color: #7fbfbf\">                </span><span style=\"color: #800000; text-decoration-color: #800000\">WARNING: Client-side permittivity of a </span><span style=\"color: #008000; text-decoration-color: #008000\">'TriangleMesh'</span><span style=\"color: #800000; text-decoration-color: #800000\"> may be    </span>\n",
       "<span style=\"color: #7fbfbf; text-decoration-color: #7fbfbf\">                </span><span style=\"color: #800000; text-decoration-color: #800000\">inaccurate if the mesh is not unionized. We recommend unionizing</span>\n",
       "<span style=\"color: #7fbfbf; text-decoration-color: #7fbfbf\">                </span><span style=\"color: #800000; text-decoration-color: #800000\">all meshes before import. A </span><span style=\"color: #008000; text-decoration-color: #008000\">'PermittivityMonitor'</span><span style=\"color: #800000; text-decoration-color: #800000\"> can be used to</span>\n",
       "<span style=\"color: #7fbfbf; text-decoration-color: #7fbfbf\">                </span><span style=\"color: #800000; text-decoration-color: #800000\">obtain the true permittivity and check that the surface mesh is </span>\n",
       "<span style=\"color: #7fbfbf; text-decoration-color: #7fbfbf\">                </span><span style=\"color: #800000; text-decoration-color: #800000\">loaded correctly.                                               </span>\n",
       "</pre>\n"
      ],
      "text/plain": [
       "\u001b[2;36m               \u001b[0m\u001b[2;36m \u001b[0m\u001b[31mWARNING: Client-side permittivity of a \u001b[0m\u001b[32m'TriangleMesh'\u001b[0m\u001b[31m may be    \u001b[0m\n",
       "\u001b[2;36m                \u001b[0m\u001b[31minaccurate if the mesh is not unionized. We recommend unionizing\u001b[0m\n",
       "\u001b[2;36m                \u001b[0m\u001b[31mall meshes before import. A \u001b[0m\u001b[32m'PermittivityMonitor'\u001b[0m\u001b[31m can be used to\u001b[0m\n",
       "\u001b[2;36m                \u001b[0m\u001b[31mobtain the true permittivity and check that the surface mesh is \u001b[0m\n",
       "\u001b[2;36m                \u001b[0m\u001b[31mloaded correctly.                                               \u001b[0m\n"
      ]
     },
     "metadata": {},
     "output_type": "display_data"
    },
    {
     "data": {
      "text/html": [
       "<pre style=\"white-space:pre;overflow-x:auto;line-height:normal;font-family:Menlo,'DejaVu Sans Mono',consolas,'Courier New',monospace\"><span style=\"color: #7fbfbf; text-decoration-color: #7fbfbf\">                </span><span style=\"color: #800000; text-decoration-color: #800000\">WARNING: Client-side permittivity of a </span><span style=\"color: #008000; text-decoration-color: #008000\">'TriangleMesh'</span><span style=\"color: #800000; text-decoration-color: #800000\"> may be    </span>\n",
       "<span style=\"color: #7fbfbf; text-decoration-color: #7fbfbf\">                </span><span style=\"color: #800000; text-decoration-color: #800000\">inaccurate if the mesh is not unionized. We recommend unionizing</span>\n",
       "<span style=\"color: #7fbfbf; text-decoration-color: #7fbfbf\">                </span><span style=\"color: #800000; text-decoration-color: #800000\">all meshes before import. A </span><span style=\"color: #008000; text-decoration-color: #008000\">'PermittivityMonitor'</span><span style=\"color: #800000; text-decoration-color: #800000\"> can be used to</span>\n",
       "<span style=\"color: #7fbfbf; text-decoration-color: #7fbfbf\">                </span><span style=\"color: #800000; text-decoration-color: #800000\">obtain the true permittivity and check that the surface mesh is </span>\n",
       "<span style=\"color: #7fbfbf; text-decoration-color: #7fbfbf\">                </span><span style=\"color: #800000; text-decoration-color: #800000\">loaded correctly.                                               </span>\n",
       "</pre>\n"
      ],
      "text/plain": [
       "\u001b[2;36m               \u001b[0m\u001b[2;36m \u001b[0m\u001b[31mWARNING: Client-side permittivity of a \u001b[0m\u001b[32m'TriangleMesh'\u001b[0m\u001b[31m may be    \u001b[0m\n",
       "\u001b[2;36m                \u001b[0m\u001b[31minaccurate if the mesh is not unionized. We recommend unionizing\u001b[0m\n",
       "\u001b[2;36m                \u001b[0m\u001b[31mall meshes before import. A \u001b[0m\u001b[32m'PermittivityMonitor'\u001b[0m\u001b[31m can be used to\u001b[0m\n",
       "\u001b[2;36m                \u001b[0m\u001b[31mobtain the true permittivity and check that the surface mesh is \u001b[0m\n",
       "\u001b[2;36m                \u001b[0m\u001b[31mloaded correctly.                                               \u001b[0m\n"
      ]
     },
     "metadata": {},
     "output_type": "display_data"
    },
    {
     "data": {
      "text/html": [
       "<pre style=\"white-space:pre;overflow-x:auto;line-height:normal;font-family:Menlo,'DejaVu Sans Mono',consolas,'Courier New',monospace\"><span style=\"color: #7fbfbf; text-decoration-color: #7fbfbf\">                </span><span style=\"color: #800000; text-decoration-color: #800000\">WARNING: Client-side permittivity of a </span><span style=\"color: #008000; text-decoration-color: #008000\">'TriangleMesh'</span><span style=\"color: #800000; text-decoration-color: #800000\"> may be    </span>\n",
       "<span style=\"color: #7fbfbf; text-decoration-color: #7fbfbf\">                </span><span style=\"color: #800000; text-decoration-color: #800000\">inaccurate if the mesh is not unionized. We recommend unionizing</span>\n",
       "<span style=\"color: #7fbfbf; text-decoration-color: #7fbfbf\">                </span><span style=\"color: #800000; text-decoration-color: #800000\">all meshes before import. A </span><span style=\"color: #008000; text-decoration-color: #008000\">'PermittivityMonitor'</span><span style=\"color: #800000; text-decoration-color: #800000\"> can be used to</span>\n",
       "<span style=\"color: #7fbfbf; text-decoration-color: #7fbfbf\">                </span><span style=\"color: #800000; text-decoration-color: #800000\">obtain the true permittivity and check that the surface mesh is </span>\n",
       "<span style=\"color: #7fbfbf; text-decoration-color: #7fbfbf\">                </span><span style=\"color: #800000; text-decoration-color: #800000\">loaded correctly.                                               </span>\n",
       "</pre>\n"
      ],
      "text/plain": [
       "\u001b[2;36m               \u001b[0m\u001b[2;36m \u001b[0m\u001b[31mWARNING: Client-side permittivity of a \u001b[0m\u001b[32m'TriangleMesh'\u001b[0m\u001b[31m may be    \u001b[0m\n",
       "\u001b[2;36m                \u001b[0m\u001b[31minaccurate if the mesh is not unionized. We recommend unionizing\u001b[0m\n",
       "\u001b[2;36m                \u001b[0m\u001b[31mall meshes before import. A \u001b[0m\u001b[32m'PermittivityMonitor'\u001b[0m\u001b[31m can be used to\u001b[0m\n",
       "\u001b[2;36m                \u001b[0m\u001b[31mobtain the true permittivity and check that the surface mesh is \u001b[0m\n",
       "\u001b[2;36m                \u001b[0m\u001b[31mloaded correctly.                                               \u001b[0m\n"
      ]
     },
     "metadata": {},
     "output_type": "display_data"
    },
    {
     "data": {
      "text/html": [
       "<pre style=\"white-space:pre;overflow-x:auto;line-height:normal;font-family:Menlo,'DejaVu Sans Mono',consolas,'Courier New',monospace\"><span style=\"color: #7fbfbf; text-decoration-color: #7fbfbf\">                </span><span style=\"color: #800000; text-decoration-color: #800000\">WARNING: Client-side permittivity of a </span><span style=\"color: #008000; text-decoration-color: #008000\">'TriangleMesh'</span><span style=\"color: #800000; text-decoration-color: #800000\"> may be    </span>\n",
       "<span style=\"color: #7fbfbf; text-decoration-color: #7fbfbf\">                </span><span style=\"color: #800000; text-decoration-color: #800000\">inaccurate if the mesh is not unionized. We recommend unionizing</span>\n",
       "<span style=\"color: #7fbfbf; text-decoration-color: #7fbfbf\">                </span><span style=\"color: #800000; text-decoration-color: #800000\">all meshes before import. A </span><span style=\"color: #008000; text-decoration-color: #008000\">'PermittivityMonitor'</span><span style=\"color: #800000; text-decoration-color: #800000\"> can be used to</span>\n",
       "<span style=\"color: #7fbfbf; text-decoration-color: #7fbfbf\">                </span><span style=\"color: #800000; text-decoration-color: #800000\">obtain the true permittivity and check that the surface mesh is </span>\n",
       "<span style=\"color: #7fbfbf; text-decoration-color: #7fbfbf\">                </span><span style=\"color: #800000; text-decoration-color: #800000\">loaded correctly.                                               </span>\n",
       "</pre>\n"
      ],
      "text/plain": [
       "\u001b[2;36m               \u001b[0m\u001b[2;36m \u001b[0m\u001b[31mWARNING: Client-side permittivity of a \u001b[0m\u001b[32m'TriangleMesh'\u001b[0m\u001b[31m may be    \u001b[0m\n",
       "\u001b[2;36m                \u001b[0m\u001b[31minaccurate if the mesh is not unionized. We recommend unionizing\u001b[0m\n",
       "\u001b[2;36m                \u001b[0m\u001b[31mall meshes before import. A \u001b[0m\u001b[32m'PermittivityMonitor'\u001b[0m\u001b[31m can be used to\u001b[0m\n",
       "\u001b[2;36m                \u001b[0m\u001b[31mobtain the true permittivity and check that the surface mesh is \u001b[0m\n",
       "\u001b[2;36m                \u001b[0m\u001b[31mloaded correctly.                                               \u001b[0m\n"
      ]
     },
     "metadata": {},
     "output_type": "display_data"
    },
    {
     "data": {
      "text/html": [
       "<pre style=\"white-space:pre;overflow-x:auto;line-height:normal;font-family:Menlo,'DejaVu Sans Mono',consolas,'Courier New',monospace\"><span style=\"color: #7fbfbf; text-decoration-color: #7fbfbf\">                </span><span style=\"color: #800000; text-decoration-color: #800000\">WARNING: Client-side permittivity of a </span><span style=\"color: #008000; text-decoration-color: #008000\">'TriangleMesh'</span><span style=\"color: #800000; text-decoration-color: #800000\"> may be    </span>\n",
       "<span style=\"color: #7fbfbf; text-decoration-color: #7fbfbf\">                </span><span style=\"color: #800000; text-decoration-color: #800000\">inaccurate if the mesh is not unionized. We recommend unionizing</span>\n",
       "<span style=\"color: #7fbfbf; text-decoration-color: #7fbfbf\">                </span><span style=\"color: #800000; text-decoration-color: #800000\">all meshes before import. A </span><span style=\"color: #008000; text-decoration-color: #008000\">'PermittivityMonitor'</span><span style=\"color: #800000; text-decoration-color: #800000\"> can be used to</span>\n",
       "<span style=\"color: #7fbfbf; text-decoration-color: #7fbfbf\">                </span><span style=\"color: #800000; text-decoration-color: #800000\">obtain the true permittivity and check that the surface mesh is </span>\n",
       "<span style=\"color: #7fbfbf; text-decoration-color: #7fbfbf\">                </span><span style=\"color: #800000; text-decoration-color: #800000\">loaded correctly.                                               </span>\n",
       "</pre>\n"
      ],
      "text/plain": [
       "\u001b[2;36m               \u001b[0m\u001b[2;36m \u001b[0m\u001b[31mWARNING: Client-side permittivity of a \u001b[0m\u001b[32m'TriangleMesh'\u001b[0m\u001b[31m may be    \u001b[0m\n",
       "\u001b[2;36m                \u001b[0m\u001b[31minaccurate if the mesh is not unionized. We recommend unionizing\u001b[0m\n",
       "\u001b[2;36m                \u001b[0m\u001b[31mall meshes before import. A \u001b[0m\u001b[32m'PermittivityMonitor'\u001b[0m\u001b[31m can be used to\u001b[0m\n",
       "\u001b[2;36m                \u001b[0m\u001b[31mobtain the true permittivity and check that the surface mesh is \u001b[0m\n",
       "\u001b[2;36m                \u001b[0m\u001b[31mloaded correctly.                                               \u001b[0m\n"
      ]
     },
     "metadata": {},
     "output_type": "display_data"
    },
    {
     "data": {
      "text/html": [
       "<pre style=\"white-space:pre;overflow-x:auto;line-height:normal;font-family:Menlo,'DejaVu Sans Mono',consolas,'Courier New',monospace\"><span style=\"color: #7fbfbf; text-decoration-color: #7fbfbf\">                </span><span style=\"color: #800000; text-decoration-color: #800000\">WARNING: Client-side permittivity of a </span><span style=\"color: #008000; text-decoration-color: #008000\">'TriangleMesh'</span><span style=\"color: #800000; text-decoration-color: #800000\"> may be    </span>\n",
       "<span style=\"color: #7fbfbf; text-decoration-color: #7fbfbf\">                </span><span style=\"color: #800000; text-decoration-color: #800000\">inaccurate if the mesh is not unionized. We recommend unionizing</span>\n",
       "<span style=\"color: #7fbfbf; text-decoration-color: #7fbfbf\">                </span><span style=\"color: #800000; text-decoration-color: #800000\">all meshes before import. A </span><span style=\"color: #008000; text-decoration-color: #008000\">'PermittivityMonitor'</span><span style=\"color: #800000; text-decoration-color: #800000\"> can be used to</span>\n",
       "<span style=\"color: #7fbfbf; text-decoration-color: #7fbfbf\">                </span><span style=\"color: #800000; text-decoration-color: #800000\">obtain the true permittivity and check that the surface mesh is </span>\n",
       "<span style=\"color: #7fbfbf; text-decoration-color: #7fbfbf\">                </span><span style=\"color: #800000; text-decoration-color: #800000\">loaded correctly.                                               </span>\n",
       "</pre>\n"
      ],
      "text/plain": [
       "\u001b[2;36m               \u001b[0m\u001b[2;36m \u001b[0m\u001b[31mWARNING: Client-side permittivity of a \u001b[0m\u001b[32m'TriangleMesh'\u001b[0m\u001b[31m may be    \u001b[0m\n",
       "\u001b[2;36m                \u001b[0m\u001b[31minaccurate if the mesh is not unionized. We recommend unionizing\u001b[0m\n",
       "\u001b[2;36m                \u001b[0m\u001b[31mall meshes before import. A \u001b[0m\u001b[32m'PermittivityMonitor'\u001b[0m\u001b[31m can be used to\u001b[0m\n",
       "\u001b[2;36m                \u001b[0m\u001b[31mobtain the true permittivity and check that the surface mesh is \u001b[0m\n",
       "\u001b[2;36m                \u001b[0m\u001b[31mloaded correctly.                                               \u001b[0m\n"
      ]
     },
     "metadata": {},
     "output_type": "display_data"
    },
    {
     "data": {
      "text/html": [
       "<pre style=\"white-space:pre;overflow-x:auto;line-height:normal;font-family:Menlo,'DejaVu Sans Mono',consolas,'Courier New',monospace\"><span style=\"color: #7fbfbf; text-decoration-color: #7fbfbf\">17:02:36 中国标准时间 </span><span style=\"color: #800000; text-decoration-color: #800000\">WARNING: Client-side permittivity of a </span><span style=\"color: #008000; text-decoration-color: #008000\">'TriangleMesh'</span><span style=\"color: #800000; text-decoration-color: #800000\"> may </span>\n",
       "<span style=\"color: #7fbfbf; text-decoration-color: #7fbfbf\">                      </span><span style=\"color: #800000; text-decoration-color: #800000\">be inaccurate if the mesh is not unionized. We recommend  </span>\n",
       "<span style=\"color: #7fbfbf; text-decoration-color: #7fbfbf\">                      </span><span style=\"color: #800000; text-decoration-color: #800000\">unionizing all meshes before import. A                    </span>\n",
       "<span style=\"color: #7fbfbf; text-decoration-color: #7fbfbf\">                      </span><span style=\"color: #008000; text-decoration-color: #008000\">'PermittivityMonitor'</span><span style=\"color: #800000; text-decoration-color: #800000\"> can be used to obtain the true      </span>\n",
       "<span style=\"color: #7fbfbf; text-decoration-color: #7fbfbf\">                      </span><span style=\"color: #800000; text-decoration-color: #800000\">permittivity and check that the surface mesh is loaded    </span>\n",
       "<span style=\"color: #7fbfbf; text-decoration-color: #7fbfbf\">                      </span><span style=\"color: #800000; text-decoration-color: #800000\">correctly.                                                </span>\n",
       "</pre>\n"
      ],
      "text/plain": [
       "\u001b[2;36m17:02:36 中国标准时间\u001b[0m\u001b[2;36m \u001b[0m\u001b[31mWARNING: Client-side permittivity of a \u001b[0m\u001b[32m'TriangleMesh'\u001b[0m\u001b[31m may \u001b[0m\n",
       "\u001b[2;36m                      \u001b[0m\u001b[31mbe inaccurate if the mesh is not unionized. We recommend  \u001b[0m\n",
       "\u001b[2;36m                      \u001b[0m\u001b[31munionizing all meshes before import. A                    \u001b[0m\n",
       "\u001b[2;36m                      \u001b[0m\u001b[32m'PermittivityMonitor'\u001b[0m\u001b[31m can be used to obtain the true      \u001b[0m\n",
       "\u001b[2;36m                      \u001b[0m\u001b[31mpermittivity and check that the surface mesh is loaded    \u001b[0m\n",
       "\u001b[2;36m                      \u001b[0m\u001b[31mcorrectly.                                                \u001b[0m\n"
      ]
     },
     "metadata": {},
     "output_type": "display_data"
    },
    {
     "data": {
      "text/html": [
       "<pre style=\"white-space:pre;overflow-x:auto;line-height:normal;font-family:Menlo,'DejaVu Sans Mono',consolas,'Courier New',monospace\"><span style=\"color: #7fbfbf; text-decoration-color: #7fbfbf\">                </span><span style=\"color: #800000; text-decoration-color: #800000\">WARNING: Client-side permittivity of a </span><span style=\"color: #008000; text-decoration-color: #008000\">'TriangleMesh'</span><span style=\"color: #800000; text-decoration-color: #800000\"> may be    </span>\n",
       "<span style=\"color: #7fbfbf; text-decoration-color: #7fbfbf\">                </span><span style=\"color: #800000; text-decoration-color: #800000\">inaccurate if the mesh is not unionized. We recommend unionizing</span>\n",
       "<span style=\"color: #7fbfbf; text-decoration-color: #7fbfbf\">                </span><span style=\"color: #800000; text-decoration-color: #800000\">all meshes before import. A </span><span style=\"color: #008000; text-decoration-color: #008000\">'PermittivityMonitor'</span><span style=\"color: #800000; text-decoration-color: #800000\"> can be used to</span>\n",
       "<span style=\"color: #7fbfbf; text-decoration-color: #7fbfbf\">                </span><span style=\"color: #800000; text-decoration-color: #800000\">obtain the true permittivity and check that the surface mesh is </span>\n",
       "<span style=\"color: #7fbfbf; text-decoration-color: #7fbfbf\">                </span><span style=\"color: #800000; text-decoration-color: #800000\">loaded correctly.                                               </span>\n",
       "</pre>\n"
      ],
      "text/plain": [
       "\u001b[2;36m               \u001b[0m\u001b[2;36m \u001b[0m\u001b[31mWARNING: Client-side permittivity of a \u001b[0m\u001b[32m'TriangleMesh'\u001b[0m\u001b[31m may be    \u001b[0m\n",
       "\u001b[2;36m                \u001b[0m\u001b[31minaccurate if the mesh is not unionized. We recommend unionizing\u001b[0m\n",
       "\u001b[2;36m                \u001b[0m\u001b[31mall meshes before import. A \u001b[0m\u001b[32m'PermittivityMonitor'\u001b[0m\u001b[31m can be used to\u001b[0m\n",
       "\u001b[2;36m                \u001b[0m\u001b[31mobtain the true permittivity and check that the surface mesh is \u001b[0m\n",
       "\u001b[2;36m                \u001b[0m\u001b[31mloaded correctly.                                               \u001b[0m\n"
      ]
     },
     "metadata": {},
     "output_type": "display_data"
    },
    {
     "data": {
      "text/html": [
       "<pre style=\"white-space:pre;overflow-x:auto;line-height:normal;font-family:Menlo,'DejaVu Sans Mono',consolas,'Courier New',monospace\"><span style=\"color: #7fbfbf; text-decoration-color: #7fbfbf\">                </span><span style=\"color: #800000; text-decoration-color: #800000\">WARNING: Client-side permittivity of a </span><span style=\"color: #008000; text-decoration-color: #008000\">'TriangleMesh'</span><span style=\"color: #800000; text-decoration-color: #800000\"> may be    </span>\n",
       "<span style=\"color: #7fbfbf; text-decoration-color: #7fbfbf\">                </span><span style=\"color: #800000; text-decoration-color: #800000\">inaccurate if the mesh is not unionized. We recommend unionizing</span>\n",
       "<span style=\"color: #7fbfbf; text-decoration-color: #7fbfbf\">                </span><span style=\"color: #800000; text-decoration-color: #800000\">all meshes before import. A </span><span style=\"color: #008000; text-decoration-color: #008000\">'PermittivityMonitor'</span><span style=\"color: #800000; text-decoration-color: #800000\"> can be used to</span>\n",
       "<span style=\"color: #7fbfbf; text-decoration-color: #7fbfbf\">                </span><span style=\"color: #800000; text-decoration-color: #800000\">obtain the true permittivity and check that the surface mesh is </span>\n",
       "<span style=\"color: #7fbfbf; text-decoration-color: #7fbfbf\">                </span><span style=\"color: #800000; text-decoration-color: #800000\">loaded correctly.                                               </span>\n",
       "</pre>\n"
      ],
      "text/plain": [
       "\u001b[2;36m               \u001b[0m\u001b[2;36m \u001b[0m\u001b[31mWARNING: Client-side permittivity of a \u001b[0m\u001b[32m'TriangleMesh'\u001b[0m\u001b[31m may be    \u001b[0m\n",
       "\u001b[2;36m                \u001b[0m\u001b[31minaccurate if the mesh is not unionized. We recommend unionizing\u001b[0m\n",
       "\u001b[2;36m                \u001b[0m\u001b[31mall meshes before import. A \u001b[0m\u001b[32m'PermittivityMonitor'\u001b[0m\u001b[31m can be used to\u001b[0m\n",
       "\u001b[2;36m                \u001b[0m\u001b[31mobtain the true permittivity and check that the surface mesh is \u001b[0m\n",
       "\u001b[2;36m                \u001b[0m\u001b[31mloaded correctly.                                               \u001b[0m\n"
      ]
     },
     "metadata": {},
     "output_type": "display_data"
    },
    {
     "data": {
      "text/html": [
       "<pre style=\"white-space:pre;overflow-x:auto;line-height:normal;font-family:Menlo,'DejaVu Sans Mono',consolas,'Courier New',monospace\"><span style=\"color: #7fbfbf; text-decoration-color: #7fbfbf\">                </span><span style=\"color: #800000; text-decoration-color: #800000\">WARNING: Client-side permittivity of a </span><span style=\"color: #008000; text-decoration-color: #008000\">'TriangleMesh'</span><span style=\"color: #800000; text-decoration-color: #800000\"> may be    </span>\n",
       "<span style=\"color: #7fbfbf; text-decoration-color: #7fbfbf\">                </span><span style=\"color: #800000; text-decoration-color: #800000\">inaccurate if the mesh is not unionized. We recommend unionizing</span>\n",
       "<span style=\"color: #7fbfbf; text-decoration-color: #7fbfbf\">                </span><span style=\"color: #800000; text-decoration-color: #800000\">all meshes before import. A </span><span style=\"color: #008000; text-decoration-color: #008000\">'PermittivityMonitor'</span><span style=\"color: #800000; text-decoration-color: #800000\"> can be used to</span>\n",
       "<span style=\"color: #7fbfbf; text-decoration-color: #7fbfbf\">                </span><span style=\"color: #800000; text-decoration-color: #800000\">obtain the true permittivity and check that the surface mesh is </span>\n",
       "<span style=\"color: #7fbfbf; text-decoration-color: #7fbfbf\">                </span><span style=\"color: #800000; text-decoration-color: #800000\">loaded correctly.                                               </span>\n",
       "</pre>\n"
      ],
      "text/plain": [
       "\u001b[2;36m               \u001b[0m\u001b[2;36m \u001b[0m\u001b[31mWARNING: Client-side permittivity of a \u001b[0m\u001b[32m'TriangleMesh'\u001b[0m\u001b[31m may be    \u001b[0m\n",
       "\u001b[2;36m                \u001b[0m\u001b[31minaccurate if the mesh is not unionized. We recommend unionizing\u001b[0m\n",
       "\u001b[2;36m                \u001b[0m\u001b[31mall meshes before import. A \u001b[0m\u001b[32m'PermittivityMonitor'\u001b[0m\u001b[31m can be used to\u001b[0m\n",
       "\u001b[2;36m                \u001b[0m\u001b[31mobtain the true permittivity and check that the surface mesh is \u001b[0m\n",
       "\u001b[2;36m                \u001b[0m\u001b[31mloaded correctly.                                               \u001b[0m\n"
      ]
     },
     "metadata": {},
     "output_type": "display_data"
    },
    {
     "data": {
      "text/html": [
       "<pre style=\"white-space:pre;overflow-x:auto;line-height:normal;font-family:Menlo,'DejaVu Sans Mono',consolas,'Courier New',monospace\"><span style=\"color: #7fbfbf; text-decoration-color: #7fbfbf\">                </span><span style=\"color: #800000; text-decoration-color: #800000\">WARNING: Client-side permittivity of a </span><span style=\"color: #008000; text-decoration-color: #008000\">'TriangleMesh'</span><span style=\"color: #800000; text-decoration-color: #800000\"> may be    </span>\n",
       "<span style=\"color: #7fbfbf; text-decoration-color: #7fbfbf\">                </span><span style=\"color: #800000; text-decoration-color: #800000\">inaccurate if the mesh is not unionized. We recommend unionizing</span>\n",
       "<span style=\"color: #7fbfbf; text-decoration-color: #7fbfbf\">                </span><span style=\"color: #800000; text-decoration-color: #800000\">all meshes before import. A </span><span style=\"color: #008000; text-decoration-color: #008000\">'PermittivityMonitor'</span><span style=\"color: #800000; text-decoration-color: #800000\"> can be used to</span>\n",
       "<span style=\"color: #7fbfbf; text-decoration-color: #7fbfbf\">                </span><span style=\"color: #800000; text-decoration-color: #800000\">obtain the true permittivity and check that the surface mesh is </span>\n",
       "<span style=\"color: #7fbfbf; text-decoration-color: #7fbfbf\">                </span><span style=\"color: #800000; text-decoration-color: #800000\">loaded correctly.                                               </span>\n",
       "</pre>\n"
      ],
      "text/plain": [
       "\u001b[2;36m               \u001b[0m\u001b[2;36m \u001b[0m\u001b[31mWARNING: Client-side permittivity of a \u001b[0m\u001b[32m'TriangleMesh'\u001b[0m\u001b[31m may be    \u001b[0m\n",
       "\u001b[2;36m                \u001b[0m\u001b[31minaccurate if the mesh is not unionized. We recommend unionizing\u001b[0m\n",
       "\u001b[2;36m                \u001b[0m\u001b[31mall meshes before import. A \u001b[0m\u001b[32m'PermittivityMonitor'\u001b[0m\u001b[31m can be used to\u001b[0m\n",
       "\u001b[2;36m                \u001b[0m\u001b[31mobtain the true permittivity and check that the surface mesh is \u001b[0m\n",
       "\u001b[2;36m                \u001b[0m\u001b[31mloaded correctly.                                               \u001b[0m\n"
      ]
     },
     "metadata": {},
     "output_type": "display_data"
    },
    {
     "data": {
      "text/html": [
       "<pre style=\"white-space:pre;overflow-x:auto;line-height:normal;font-family:Menlo,'DejaVu Sans Mono',consolas,'Courier New',monospace\"><span style=\"color: #7fbfbf; text-decoration-color: #7fbfbf\">                </span><span style=\"color: #800000; text-decoration-color: #800000\">WARNING: Client-side permittivity of a </span><span style=\"color: #008000; text-decoration-color: #008000\">'TriangleMesh'</span><span style=\"color: #800000; text-decoration-color: #800000\"> may be    </span>\n",
       "<span style=\"color: #7fbfbf; text-decoration-color: #7fbfbf\">                </span><span style=\"color: #800000; text-decoration-color: #800000\">inaccurate if the mesh is not unionized. We recommend unionizing</span>\n",
       "<span style=\"color: #7fbfbf; text-decoration-color: #7fbfbf\">                </span><span style=\"color: #800000; text-decoration-color: #800000\">all meshes before import. A </span><span style=\"color: #008000; text-decoration-color: #008000\">'PermittivityMonitor'</span><span style=\"color: #800000; text-decoration-color: #800000\"> can be used to</span>\n",
       "<span style=\"color: #7fbfbf; text-decoration-color: #7fbfbf\">                </span><span style=\"color: #800000; text-decoration-color: #800000\">obtain the true permittivity and check that the surface mesh is </span>\n",
       "<span style=\"color: #7fbfbf; text-decoration-color: #7fbfbf\">                </span><span style=\"color: #800000; text-decoration-color: #800000\">loaded correctly.                                               </span>\n",
       "</pre>\n"
      ],
      "text/plain": [
       "\u001b[2;36m               \u001b[0m\u001b[2;36m \u001b[0m\u001b[31mWARNING: Client-side permittivity of a \u001b[0m\u001b[32m'TriangleMesh'\u001b[0m\u001b[31m may be    \u001b[0m\n",
       "\u001b[2;36m                \u001b[0m\u001b[31minaccurate if the mesh is not unionized. We recommend unionizing\u001b[0m\n",
       "\u001b[2;36m                \u001b[0m\u001b[31mall meshes before import. A \u001b[0m\u001b[32m'PermittivityMonitor'\u001b[0m\u001b[31m can be used to\u001b[0m\n",
       "\u001b[2;36m                \u001b[0m\u001b[31mobtain the true permittivity and check that the surface mesh is \u001b[0m\n",
       "\u001b[2;36m                \u001b[0m\u001b[31mloaded correctly.                                               \u001b[0m\n"
      ]
     },
     "metadata": {},
     "output_type": "display_data"
    },
    {
     "data": {
      "text/html": [
       "<pre style=\"white-space:pre;overflow-x:auto;line-height:normal;font-family:Menlo,'DejaVu Sans Mono',consolas,'Courier New',monospace\"><span style=\"color: #7fbfbf; text-decoration-color: #7fbfbf\">                </span><span style=\"color: #800000; text-decoration-color: #800000\">WARNING: Client-side permittivity of a </span><span style=\"color: #008000; text-decoration-color: #008000\">'TriangleMesh'</span><span style=\"color: #800000; text-decoration-color: #800000\"> may be    </span>\n",
       "<span style=\"color: #7fbfbf; text-decoration-color: #7fbfbf\">                </span><span style=\"color: #800000; text-decoration-color: #800000\">inaccurate if the mesh is not unionized. We recommend unionizing</span>\n",
       "<span style=\"color: #7fbfbf; text-decoration-color: #7fbfbf\">                </span><span style=\"color: #800000; text-decoration-color: #800000\">all meshes before import. A </span><span style=\"color: #008000; text-decoration-color: #008000\">'PermittivityMonitor'</span><span style=\"color: #800000; text-decoration-color: #800000\"> can be used to</span>\n",
       "<span style=\"color: #7fbfbf; text-decoration-color: #7fbfbf\">                </span><span style=\"color: #800000; text-decoration-color: #800000\">obtain the true permittivity and check that the surface mesh is </span>\n",
       "<span style=\"color: #7fbfbf; text-decoration-color: #7fbfbf\">                </span><span style=\"color: #800000; text-decoration-color: #800000\">loaded correctly.                                               </span>\n",
       "</pre>\n"
      ],
      "text/plain": [
       "\u001b[2;36m               \u001b[0m\u001b[2;36m \u001b[0m\u001b[31mWARNING: Client-side permittivity of a \u001b[0m\u001b[32m'TriangleMesh'\u001b[0m\u001b[31m may be    \u001b[0m\n",
       "\u001b[2;36m                \u001b[0m\u001b[31minaccurate if the mesh is not unionized. We recommend unionizing\u001b[0m\n",
       "\u001b[2;36m                \u001b[0m\u001b[31mall meshes before import. A \u001b[0m\u001b[32m'PermittivityMonitor'\u001b[0m\u001b[31m can be used to\u001b[0m\n",
       "\u001b[2;36m                \u001b[0m\u001b[31mobtain the true permittivity and check that the surface mesh is \u001b[0m\n",
       "\u001b[2;36m                \u001b[0m\u001b[31mloaded correctly.                                               \u001b[0m\n"
      ]
     },
     "metadata": {},
     "output_type": "display_data"
    },
    {
     "data": {
      "text/html": [
       "<pre style=\"white-space:pre;overflow-x:auto;line-height:normal;font-family:Menlo,'DejaVu Sans Mono',consolas,'Courier New',monospace\"><span style=\"color: #7fbfbf; text-decoration-color: #7fbfbf\">                </span><span style=\"color: #800000; text-decoration-color: #800000\">WARNING: Client-side permittivity of a </span><span style=\"color: #008000; text-decoration-color: #008000\">'TriangleMesh'</span><span style=\"color: #800000; text-decoration-color: #800000\"> may be    </span>\n",
       "<span style=\"color: #7fbfbf; text-decoration-color: #7fbfbf\">                </span><span style=\"color: #800000; text-decoration-color: #800000\">inaccurate if the mesh is not unionized. We recommend unionizing</span>\n",
       "<span style=\"color: #7fbfbf; text-decoration-color: #7fbfbf\">                </span><span style=\"color: #800000; text-decoration-color: #800000\">all meshes before import. A </span><span style=\"color: #008000; text-decoration-color: #008000\">'PermittivityMonitor'</span><span style=\"color: #800000; text-decoration-color: #800000\"> can be used to</span>\n",
       "<span style=\"color: #7fbfbf; text-decoration-color: #7fbfbf\">                </span><span style=\"color: #800000; text-decoration-color: #800000\">obtain the true permittivity and check that the surface mesh is </span>\n",
       "<span style=\"color: #7fbfbf; text-decoration-color: #7fbfbf\">                </span><span style=\"color: #800000; text-decoration-color: #800000\">loaded correctly.                                               </span>\n",
       "</pre>\n"
      ],
      "text/plain": [
       "\u001b[2;36m               \u001b[0m\u001b[2;36m \u001b[0m\u001b[31mWARNING: Client-side permittivity of a \u001b[0m\u001b[32m'TriangleMesh'\u001b[0m\u001b[31m may be    \u001b[0m\n",
       "\u001b[2;36m                \u001b[0m\u001b[31minaccurate if the mesh is not unionized. We recommend unionizing\u001b[0m\n",
       "\u001b[2;36m                \u001b[0m\u001b[31mall meshes before import. A \u001b[0m\u001b[32m'PermittivityMonitor'\u001b[0m\u001b[31m can be used to\u001b[0m\n",
       "\u001b[2;36m                \u001b[0m\u001b[31mobtain the true permittivity and check that the surface mesh is \u001b[0m\n",
       "\u001b[2;36m                \u001b[0m\u001b[31mloaded correctly.                                               \u001b[0m\n"
      ]
     },
     "metadata": {},
     "output_type": "display_data"
    },
    {
     "data": {
      "text/html": [
       "<pre style=\"white-space:pre;overflow-x:auto;line-height:normal;font-family:Menlo,'DejaVu Sans Mono',consolas,'Courier New',monospace\"><span style=\"color: #7fbfbf; text-decoration-color: #7fbfbf\">                </span><span style=\"color: #800000; text-decoration-color: #800000\">WARNING: Client-side permittivity of a </span><span style=\"color: #008000; text-decoration-color: #008000\">'TriangleMesh'</span><span style=\"color: #800000; text-decoration-color: #800000\"> may be    </span>\n",
       "<span style=\"color: #7fbfbf; text-decoration-color: #7fbfbf\">                </span><span style=\"color: #800000; text-decoration-color: #800000\">inaccurate if the mesh is not unionized. We recommend unionizing</span>\n",
       "<span style=\"color: #7fbfbf; text-decoration-color: #7fbfbf\">                </span><span style=\"color: #800000; text-decoration-color: #800000\">all meshes before import. A </span><span style=\"color: #008000; text-decoration-color: #008000\">'PermittivityMonitor'</span><span style=\"color: #800000; text-decoration-color: #800000\"> can be used to</span>\n",
       "<span style=\"color: #7fbfbf; text-decoration-color: #7fbfbf\">                </span><span style=\"color: #800000; text-decoration-color: #800000\">obtain the true permittivity and check that the surface mesh is </span>\n",
       "<span style=\"color: #7fbfbf; text-decoration-color: #7fbfbf\">                </span><span style=\"color: #800000; text-decoration-color: #800000\">loaded correctly.                                               </span>\n",
       "</pre>\n"
      ],
      "text/plain": [
       "\u001b[2;36m               \u001b[0m\u001b[2;36m \u001b[0m\u001b[31mWARNING: Client-side permittivity of a \u001b[0m\u001b[32m'TriangleMesh'\u001b[0m\u001b[31m may be    \u001b[0m\n",
       "\u001b[2;36m                \u001b[0m\u001b[31minaccurate if the mesh is not unionized. We recommend unionizing\u001b[0m\n",
       "\u001b[2;36m                \u001b[0m\u001b[31mall meshes before import. A \u001b[0m\u001b[32m'PermittivityMonitor'\u001b[0m\u001b[31m can be used to\u001b[0m\n",
       "\u001b[2;36m                \u001b[0m\u001b[31mobtain the true permittivity and check that the surface mesh is \u001b[0m\n",
       "\u001b[2;36m                \u001b[0m\u001b[31mloaded correctly.                                               \u001b[0m\n"
      ]
     },
     "metadata": {},
     "output_type": "display_data"
    },
    {
     "data": {
      "text/html": [
       "<pre style=\"white-space:pre;overflow-x:auto;line-height:normal;font-family:Menlo,'DejaVu Sans Mono',consolas,'Courier New',monospace\"><span style=\"color: #7fbfbf; text-decoration-color: #7fbfbf\">                </span><span style=\"color: #800000; text-decoration-color: #800000\">WARNING: Mode field at frequency index </span><span style=\"color: #008080; text-decoration-color: #008080; font-weight: bold\">0</span><span style=\"color: #800000; text-decoration-color: #800000\">, mode index </span><span style=\"color: #008080; text-decoration-color: #008080; font-weight: bold\">1</span><span style=\"color: #800000; text-decoration-color: #800000\"> does not </span>\n",
       "<span style=\"color: #7fbfbf; text-decoration-color: #7fbfbf\">                </span><span style=\"color: #800000; text-decoration-color: #800000\">decay at the plane boundaries.                                  </span>\n",
       "</pre>\n"
      ],
      "text/plain": [
       "\u001b[2;36m               \u001b[0m\u001b[2;36m \u001b[0m\u001b[31mWARNING: Mode field at frequency index \u001b[0m\u001b[1;36m0\u001b[0m\u001b[31m, mode index \u001b[0m\u001b[1;36m1\u001b[0m\u001b[31m does not \u001b[0m\n",
       "\u001b[2;36m                \u001b[0m\u001b[31mdecay at the plane boundaries.                                  \u001b[0m\n"
      ]
     },
     "metadata": {},
     "output_type": "display_data"
    },
    {
     "data": {
      "text/html": [
       "<pre style=\"white-space:pre;overflow-x:auto;line-height:normal;font-family:Menlo,'DejaVu Sans Mono',consolas,'Courier New',monospace\"><span style=\"color: #7fbfbf; text-decoration-color: #7fbfbf\">                </span><span style=\"color: #800000; text-decoration-color: #800000\">WARNING: Mode field at frequency index </span><span style=\"color: #008080; text-decoration-color: #008080; font-weight: bold\">0</span><span style=\"color: #800000; text-decoration-color: #800000\">, mode index </span><span style=\"color: #008080; text-decoration-color: #008080; font-weight: bold\">2</span><span style=\"color: #800000; text-decoration-color: #800000\"> does not </span>\n",
       "<span style=\"color: #7fbfbf; text-decoration-color: #7fbfbf\">                </span><span style=\"color: #800000; text-decoration-color: #800000\">decay at the plane boundaries.                                  </span>\n",
       "</pre>\n"
      ],
      "text/plain": [
       "\u001b[2;36m               \u001b[0m\u001b[2;36m \u001b[0m\u001b[31mWARNING: Mode field at frequency index \u001b[0m\u001b[1;36m0\u001b[0m\u001b[31m, mode index \u001b[0m\u001b[1;36m2\u001b[0m\u001b[31m does not \u001b[0m\n",
       "\u001b[2;36m                \u001b[0m\u001b[31mdecay at the plane boundaries.                                  \u001b[0m\n"
      ]
     },
     "metadata": {},
     "output_type": "display_data"
    },
    {
     "data": {
      "text/html": [
       "<pre style=\"white-space:pre;overflow-x:auto;line-height:normal;font-family:Menlo,'DejaVu Sans Mono',consolas,'Courier New',monospace\"><span style=\"color: #7fbfbf; text-decoration-color: #7fbfbf\">                </span><span style=\"color: #800000; text-decoration-color: #800000\">WARNING: Mode field at frequency index </span><span style=\"color: #008080; text-decoration-color: #008080; font-weight: bold\">1</span><span style=\"color: #800000; text-decoration-color: #800000\">, mode index </span><span style=\"color: #008080; text-decoration-color: #008080; font-weight: bold\">1</span><span style=\"color: #800000; text-decoration-color: #800000\"> does not </span>\n",
       "<span style=\"color: #7fbfbf; text-decoration-color: #7fbfbf\">                </span><span style=\"color: #800000; text-decoration-color: #800000\">decay at the plane boundaries.                                  </span>\n",
       "</pre>\n"
      ],
      "text/plain": [
       "\u001b[2;36m               \u001b[0m\u001b[2;36m \u001b[0m\u001b[31mWARNING: Mode field at frequency index \u001b[0m\u001b[1;36m1\u001b[0m\u001b[31m, mode index \u001b[0m\u001b[1;36m1\u001b[0m\u001b[31m does not \u001b[0m\n",
       "\u001b[2;36m                \u001b[0m\u001b[31mdecay at the plane boundaries.                                  \u001b[0m\n"
      ]
     },
     "metadata": {},
     "output_type": "display_data"
    },
    {
     "data": {
      "text/html": [
       "<pre style=\"white-space:pre;overflow-x:auto;line-height:normal;font-family:Menlo,'DejaVu Sans Mono',consolas,'Courier New',monospace\"><span style=\"color: #7fbfbf; text-decoration-color: #7fbfbf\">                </span><span style=\"color: #800000; text-decoration-color: #800000\">WARNING: Mode field at frequency index </span><span style=\"color: #008080; text-decoration-color: #008080; font-weight: bold\">1</span><span style=\"color: #800000; text-decoration-color: #800000\">, mode index </span><span style=\"color: #008080; text-decoration-color: #008080; font-weight: bold\">2</span><span style=\"color: #800000; text-decoration-color: #800000\"> does not </span>\n",
       "<span style=\"color: #7fbfbf; text-decoration-color: #7fbfbf\">                </span><span style=\"color: #800000; text-decoration-color: #800000\">decay at the plane boundaries.                                  </span>\n",
       "</pre>\n"
      ],
      "text/plain": [
       "\u001b[2;36m               \u001b[0m\u001b[2;36m \u001b[0m\u001b[31mWARNING: Mode field at frequency index \u001b[0m\u001b[1;36m1\u001b[0m\u001b[31m, mode index \u001b[0m\u001b[1;36m2\u001b[0m\u001b[31m does not \u001b[0m\n",
       "\u001b[2;36m                \u001b[0m\u001b[31mdecay at the plane boundaries.                                  \u001b[0m\n"
      ]
     },
     "metadata": {},
     "output_type": "display_data"
    },
    {
     "data": {
      "text/html": [
       "<pre style=\"white-space:pre;overflow-x:auto;line-height:normal;font-family:Menlo,'DejaVu Sans Mono',consolas,'Courier New',monospace\"><span style=\"color: #7fbfbf; text-decoration-color: #7fbfbf\">                </span><span style=\"color: #800000; text-decoration-color: #800000\">WARNING: Mode field at frequency index </span><span style=\"color: #008080; text-decoration-color: #008080; font-weight: bold\">2</span><span style=\"color: #800000; text-decoration-color: #800000\">, mode index </span><span style=\"color: #008080; text-decoration-color: #008080; font-weight: bold\">2</span><span style=\"color: #800000; text-decoration-color: #800000\"> does not </span>\n",
       "<span style=\"color: #7fbfbf; text-decoration-color: #7fbfbf\">                </span><span style=\"color: #800000; text-decoration-color: #800000\">decay at the plane boundaries.                                  </span>\n",
       "</pre>\n"
      ],
      "text/plain": [
       "\u001b[2;36m               \u001b[0m\u001b[2;36m \u001b[0m\u001b[31mWARNING: Mode field at frequency index \u001b[0m\u001b[1;36m2\u001b[0m\u001b[31m, mode index \u001b[0m\u001b[1;36m2\u001b[0m\u001b[31m does not \u001b[0m\n",
       "\u001b[2;36m                \u001b[0m\u001b[31mdecay at the plane boundaries.                                  \u001b[0m\n"
      ]
     },
     "metadata": {},
     "output_type": "display_data"
    },
    {
     "data": {
      "text/html": [
       "<pre style=\"white-space:pre;overflow-x:auto;line-height:normal;font-family:Menlo,'DejaVu Sans Mono',consolas,'Courier New',monospace\"><span style=\"color: #7fbfbf; text-decoration-color: #7fbfbf\">                </span><span style=\"color: #800000; text-decoration-color: #800000\">WARNING: Mode field at frequency index </span><span style=\"color: #008080; text-decoration-color: #008080; font-weight: bold\">3</span><span style=\"color: #800000; text-decoration-color: #800000\">, mode index </span><span style=\"color: #008080; text-decoration-color: #008080; font-weight: bold\">2</span><span style=\"color: #800000; text-decoration-color: #800000\"> does not </span>\n",
       "<span style=\"color: #7fbfbf; text-decoration-color: #7fbfbf\">                </span><span style=\"color: #800000; text-decoration-color: #800000\">decay at the plane boundaries.                                  </span>\n",
       "</pre>\n"
      ],
      "text/plain": [
       "\u001b[2;36m               \u001b[0m\u001b[2;36m \u001b[0m\u001b[31mWARNING: Mode field at frequency index \u001b[0m\u001b[1;36m3\u001b[0m\u001b[31m, mode index \u001b[0m\u001b[1;36m2\u001b[0m\u001b[31m does not \u001b[0m\n",
       "\u001b[2;36m                \u001b[0m\u001b[31mdecay at the plane boundaries.                                  \u001b[0m\n"
      ]
     },
     "metadata": {},
     "output_type": "display_data"
    },
    {
     "data": {
      "text/html": [
       "<pre style=\"white-space:pre;overflow-x:auto;line-height:normal;font-family:Menlo,'DejaVu Sans Mono',consolas,'Courier New',monospace\"><span style=\"color: #7fbfbf; text-decoration-color: #7fbfbf\">                </span><span style=\"color: #800000; text-decoration-color: #800000\">WARNING: Mode field at frequency index </span><span style=\"color: #008080; text-decoration-color: #008080; font-weight: bold\">4</span><span style=\"color: #800000; text-decoration-color: #800000\">, mode index </span><span style=\"color: #008080; text-decoration-color: #008080; font-weight: bold\">2</span><span style=\"color: #800000; text-decoration-color: #800000\"> does not </span>\n",
       "<span style=\"color: #7fbfbf; text-decoration-color: #7fbfbf\">                </span><span style=\"color: #800000; text-decoration-color: #800000\">decay at the plane boundaries.                                  </span>\n",
       "</pre>\n"
      ],
      "text/plain": [
       "\u001b[2;36m               \u001b[0m\u001b[2;36m \u001b[0m\u001b[31mWARNING: Mode field at frequency index \u001b[0m\u001b[1;36m4\u001b[0m\u001b[31m, mode index \u001b[0m\u001b[1;36m2\u001b[0m\u001b[31m does not \u001b[0m\n",
       "\u001b[2;36m                \u001b[0m\u001b[31mdecay at the plane boundaries.                                  \u001b[0m\n"
      ]
     },
     "metadata": {},
     "output_type": "display_data"
    },
    {
     "data": {
      "text/html": [
       "<pre style=\"white-space:pre;overflow-x:auto;line-height:normal;font-family:Menlo,'DejaVu Sans Mono',consolas,'Courier New',monospace\"><span style=\"color: #7fbfbf; text-decoration-color: #7fbfbf\">                </span><span style=\"color: #800000; text-decoration-color: #800000\">WARNING: Mode field at frequency index </span><span style=\"color: #008080; text-decoration-color: #008080; font-weight: bold\">5</span><span style=\"color: #800000; text-decoration-color: #800000\">, mode index </span><span style=\"color: #008080; text-decoration-color: #008080; font-weight: bold\">2</span><span style=\"color: #800000; text-decoration-color: #800000\"> does not </span>\n",
       "<span style=\"color: #7fbfbf; text-decoration-color: #7fbfbf\">                </span><span style=\"color: #800000; text-decoration-color: #800000\">decay at the plane boundaries.                                  </span>\n",
       "</pre>\n"
      ],
      "text/plain": [
       "\u001b[2;36m               \u001b[0m\u001b[2;36m \u001b[0m\u001b[31mWARNING: Mode field at frequency index \u001b[0m\u001b[1;36m5\u001b[0m\u001b[31m, mode index \u001b[0m\u001b[1;36m2\u001b[0m\u001b[31m does not \u001b[0m\n",
       "\u001b[2;36m                \u001b[0m\u001b[31mdecay at the plane boundaries.                                  \u001b[0m\n"
      ]
     },
     "metadata": {},
     "output_type": "display_data"
    },
    {
     "data": {
      "text/html": [
       "<pre style=\"white-space:pre;overflow-x:auto;line-height:normal;font-family:Menlo,'DejaVu Sans Mono',consolas,'Courier New',monospace\"><span style=\"color: #7fbfbf; text-decoration-color: #7fbfbf\">                </span><span style=\"color: #800000; text-decoration-color: #800000\">WARNING: Mode field at frequency index </span><span style=\"color: #008080; text-decoration-color: #008080; font-weight: bold\">6</span><span style=\"color: #800000; text-decoration-color: #800000\">, mode index </span><span style=\"color: #008080; text-decoration-color: #008080; font-weight: bold\">2</span><span style=\"color: #800000; text-decoration-color: #800000\"> does not </span>\n",
       "<span style=\"color: #7fbfbf; text-decoration-color: #7fbfbf\">                </span><span style=\"color: #800000; text-decoration-color: #800000\">decay at the plane boundaries.                                  </span>\n",
       "</pre>\n"
      ],
      "text/plain": [
       "\u001b[2;36m               \u001b[0m\u001b[2;36m \u001b[0m\u001b[31mWARNING: Mode field at frequency index \u001b[0m\u001b[1;36m6\u001b[0m\u001b[31m, mode index \u001b[0m\u001b[1;36m2\u001b[0m\u001b[31m does not \u001b[0m\n",
       "\u001b[2;36m                \u001b[0m\u001b[31mdecay at the plane boundaries.                                  \u001b[0m\n"
      ]
     },
     "metadata": {},
     "output_type": "display_data"
    },
    {
     "data": {
      "text/html": [
       "<pre style=\"white-space:pre;overflow-x:auto;line-height:normal;font-family:Menlo,'DejaVu Sans Mono',consolas,'Courier New',monospace\"><span style=\"color: #7fbfbf; text-decoration-color: #7fbfbf\">                </span><span style=\"color: #800000; text-decoration-color: #800000\">WARNING: Mode field at frequency index </span><span style=\"color: #008080; text-decoration-color: #008080; font-weight: bold\">7</span><span style=\"color: #800000; text-decoration-color: #800000\">, mode index </span><span style=\"color: #008080; text-decoration-color: #008080; font-weight: bold\">2</span><span style=\"color: #800000; text-decoration-color: #800000\"> does not </span>\n",
       "<span style=\"color: #7fbfbf; text-decoration-color: #7fbfbf\">                </span><span style=\"color: #800000; text-decoration-color: #800000\">decay at the plane boundaries.                                  </span>\n",
       "</pre>\n"
      ],
      "text/plain": [
       "\u001b[2;36m               \u001b[0m\u001b[2;36m \u001b[0m\u001b[31mWARNING: Mode field at frequency index \u001b[0m\u001b[1;36m7\u001b[0m\u001b[31m, mode index \u001b[0m\u001b[1;36m2\u001b[0m\u001b[31m does not \u001b[0m\n",
       "\u001b[2;36m                \u001b[0m\u001b[31mdecay at the plane boundaries.                                  \u001b[0m\n"
      ]
     },
     "metadata": {},
     "output_type": "display_data"
    },
    {
     "data": {
      "text/html": [
       "<pre style=\"white-space:pre;overflow-x:auto;line-height:normal;font-family:Menlo,'DejaVu Sans Mono',consolas,'Courier New',monospace\"><span style=\"color: #7fbfbf; text-decoration-color: #7fbfbf\">                </span><span style=\"color: #800000; text-decoration-color: #800000\">WARNING: Mode field at frequency index </span><span style=\"color: #008080; text-decoration-color: #008080; font-weight: bold\">8</span><span style=\"color: #800000; text-decoration-color: #800000\">, mode index </span><span style=\"color: #008080; text-decoration-color: #008080; font-weight: bold\">2</span><span style=\"color: #800000; text-decoration-color: #800000\"> does not </span>\n",
       "<span style=\"color: #7fbfbf; text-decoration-color: #7fbfbf\">                </span><span style=\"color: #800000; text-decoration-color: #800000\">decay at the plane boundaries.                                  </span>\n",
       "</pre>\n"
      ],
      "text/plain": [
       "\u001b[2;36m               \u001b[0m\u001b[2;36m \u001b[0m\u001b[31mWARNING: Mode field at frequency index \u001b[0m\u001b[1;36m8\u001b[0m\u001b[31m, mode index \u001b[0m\u001b[1;36m2\u001b[0m\u001b[31m does not \u001b[0m\n",
       "\u001b[2;36m                \u001b[0m\u001b[31mdecay at the plane boundaries.                                  \u001b[0m\n"
      ]
     },
     "metadata": {},
     "output_type": "display_data"
    }
   ],
   "source": [
    "plane = td.Box(center=(0, 0, 0), size=(4, 0, 3.5))\n",
    "mode_spec = td.ModeSpec(\n",
    "    num_modes=3,\n",
    "    target_neff=2.0,\n",
    ")\n",
    "from tidy3d.constants import C_0\n",
    "from tidy3d.plugins.mode.mode_solver import ModeSolver\n",
    "# central frequency\n",
    "wvl_um = 1.55\n",
    "freq0 = C_0 / wvl_um\n",
    "fwidth = freq0 / 3\n",
    "num_freqs = 11\n",
    "f0_ind = num_freqs // 2\n",
    "freqs = np.linspace(freq0 - fwidth / 2, freq0 + fwidth / 2, num_freqs)\n",
    "\n",
    "waveguide = td.Structure(\n",
    "    geometry=geometry,\n",
    "    medium=medium,\n",
    ")\n",
    "\n",
    "sim = td.Simulation(\n",
    "    size=(Lx, Ly, Lz),\n",
    "    grid_spec=grid_spec,\n",
    "    structures=[waveguide],\n",
    "    run_time=1e-12,\n",
    "    boundary_spec=td.BoundarySpec.all_sides(boundary=td.Periodic()),\n",
    "    medium=td.Medium(permittivity=1.444**2),\n",
    ")\n",
    "\n",
    "mode_solver = ModeSolver(\n",
    "    simulation=sim,\n",
    "    plane=plane,\n",
    "    mode_spec=mode_spec,\n",
    "    freqs=freqs,\n",
    ")\n",
    "mode_data = mode_solver.solve()\n"
   ]
  },
  {
   "cell_type": "code",
   "execution_count": 6,
   "id": "195dc4a1",
   "metadata": {},
   "outputs": [
    {
     "name": "stdout",
     "output_type": "stream",
     "text": [
      "<xarray.ModeIndexDataArray (f: 11, mode_index: 3)> Size: 132B\n",
      "array([[1.7809888, 1.48894  , 1.3810811],\n",
      "       [1.8497475, 1.5085359, 1.3921566],\n",
      "       [1.918651 , 1.5306381, 1.4030439],\n",
      "       [1.9861104, 1.5557764, 1.4140902],\n",
      "       [2.0510836, 1.5843756, 1.4256957],\n",
      "       [2.1129723, 1.6167053, 1.4383464],\n",
      "       [2.1714966, 1.65284  , 1.4526231],\n",
      "       [2.2265885, 1.6926587, 1.469217 ],\n",
      "       [2.2783115, 1.735846 , 1.4888933],\n",
      "       [2.326805 , 1.7819192, 1.5124137],\n",
      "       [2.37225  , 1.8302656, 1.5404406]], dtype=float32)\n",
      "Coordinates:\n",
      "  * f           (f) float64 88B 1.612e+14 1.676e+14 ... 2.192e+14 2.257e+14\n",
      "  * mode_index  (mode_index) int32 12B 0 1 2\n",
      "Attributes:\n",
      "    long_name:  Propagation index\n"
     ]
    },
    {
     "data": {
      "image/png": "[encoded data removed]",
      "text/plain": [
       "<Figure size 640x480 with 1 Axes>"
      ]
     },
     "metadata": {},
     "output_type": "display_data"
    }
   ],
   "source": [
    "fig, ax = plt.subplots(1)\n",
    "n_eff = mode_data.n_eff  # real part of the effective mode index\n",
    "n_eff.plot.line(x=\"f\")\n",
    "plt.show()\n"
   ]
  },
  {
   "cell_type": "code",
   "execution_count": 9,
   "id": "3618ac08",
   "metadata": {},
   "outputs": [
    {
     "data": {
      "image/png": "[encoded data removed]",
      "text/plain": [
       "<Figure size 1000x300 with 4 Axes>"
      ]
     },
     "metadata": {},
     "output_type": "display_data"
    }
   ],
   "source": [
    "f, (ax1, ax2) = plt.subplots(1, 2, tight_layout=True, figsize=(10, 3))\n",
    "abs(mode_data.Ex.isel(mode_index=0, f=f0_ind)).plot(x=\"x\", y=\"z\", ax=ax1, cmap=\"magma\")\n",
    "abs(mode_data.Ez.isel(mode_index=0, f=f0_ind)).plot(x=\"x\", y=\"z\", ax=ax2, cmap=\"magma\")\n",
    "\n",
    "ax1.set_title(\"|Ex(x, y)|\")\n",
    "ax1.set_aspect(\"equal\")\n",
    "ax2.set_title(\"|Ez(x, y)|\")\n",
    "ax2.set_aspect(\"equal\")\n",
    "plt.show()\n"
   ]
  },
  {
   "cell_type": "code",
   "execution_count": 8,
   "id": "6f0fc5dc",
   "metadata": {},
   "outputs": [
    {
     "data": {
      "image/png": "[encoded data removed]",
      "text/plain": [
       "<Figure size 1000x300 with 4 Axes>"
      ]
     },
     "metadata": {},
     "output_type": "display_data"
    }
   ],
   "source": [
    "mode_index = 1\n",
    "f, (ax1, ax2) = plt.subplots(1, 2, tight_layout=True, figsize=(10, 3))\n",
    "mode_solver.plot_field(\"Ex\", \"abs\", mode_index=mode_index, f=freq0, ax=ax1)\n",
    "mode_solver.plot_field(\"Ez\", \"abs\", mode_index=mode_index, f=freq0, ax=ax2)\n",
    "plt.show()\n"
   ]
  },
  {
   "cell_type": "code",
   "execution_count": 9,
   "id": "1b7b4742",
   "metadata": {},
   "outputs": [
    {
     "data": {
      "image/png": "[encoded data removed]",
      "text/plain": [
       "<Figure size 1000x300 with 4 Axes>"
      ]
     },
     "metadata": {},
     "output_type": "display_data"
    }
   ],
   "source": [
    "mode_index = 2\n",
    "f, (ax1, ax2) = plt.subplots(1, 2, tight_layout=True, figsize=(10, 3))\n",
    "mode_solver.plot_field(\"Ex\", \"abs\", mode_index=mode_index, f=freq0, ax=ax1)\n",
    "mode_solver.plot_field(\"Ez\", \"abs\", mode_index=mode_index, f=freq0, ax=ax2)\n",
    "plt.show()\n"
   ]
  }
 ],
 "metadata": {
  "kernelspec": {
   "display_name": ".venv",
   "language": "python",
   "name": "python3"
  },
  "language_info": {
   "codemirror_mode": {
    "name": "ipython",
    "version": 3
   },
   "file_extension": ".py",
   "mimetype": "text/x-python",
   "name": "python",
   "nbconvert_exporter": "python",
   "pygments_lexer": "ipython3",
   "version": "3.11.4"
  }
 },
 "nbformat": 4,
 "nbformat_minor": 5
}
