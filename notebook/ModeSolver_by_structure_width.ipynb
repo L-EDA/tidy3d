version https://git-lfs.github.com/spec/v1
oid sha256:81883c40e1006be0121de4c081d5286543679d1d55a146d58c3e599b9174a2e8
size 96891
