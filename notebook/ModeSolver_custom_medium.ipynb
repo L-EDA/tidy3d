version https://git-lfs.github.com/spec/v1
oid sha256:7441751836d5c347ee8e5d479258e2aff1055e66f300e64a6b3469fa1762441c
size 2332383
