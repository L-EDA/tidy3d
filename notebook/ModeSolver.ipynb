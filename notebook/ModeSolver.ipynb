version https://git-lfs.github.com/spec/v1
oid sha256:4cd69402a864ee1539d8ef65dbfcb9e479d5cadfa2548551bbc8a6672c2531fa
size 2304243
