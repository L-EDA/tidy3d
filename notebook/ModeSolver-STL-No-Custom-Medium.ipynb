{
 "cells": [
  {
   "cell_type": "code",
   "execution_count": 17,
   "id": "ca8f4eb5",
   "metadata": {},
   "outputs": [
    {
     "name": "stdout",
     "output_type": "stream",
     "text": [
      "center: (6.44183734133108e-10, 4.72617393276753e-08, 0.0033979434432251376)\n",
      "size: (0.499999940396, 0.40000000596, 0.22000046074399998)\n"
     ]
    }
   ],
   "source": [
    "import tidy3d as td\n",
    "\n",
    "\n",
    "\n",
    "# size of simulation domain\n",
    "Lx, Ly, Lz = 2, 2, 2\n",
    "# Lx, Ly, Lz = 2,3,2\n",
    "dl = 0.066667\n",
    "\n",
    "# waveguide information\n",
    "wg_permittivity = 3.47**2\n",
    "plane_size = (4, 0, 3.5)\n",
    "\n",
    "# central frequency\n",
    "wvl_um = 1.55\n",
    "\n",
    "# automatic grid specification\n",
    "# grid_spec = td.GridSpec.auto(min_steps_per_wvl=20, wavelength=wvl_um)\n",
    "grid_spec = td.GridSpec.uniform(dl=dl)\n",
    "# mesh = td.TriangleMesh.from_stl(\"./models/busted.stl\")\n",
    "mesh = td.TriangleMesh.from_stl(\"./wg.stl\", scale=1)\n",
    "\n",
    "tmesh = mesh.trimesh\n",
    "tmesh.rezero()\n",
    "tmesh.apply_translation(-tmesh.centroid)\n",
    "\n",
    "bmesh = tmesh.bounding_box\n",
    "bmesh.visual.face_colors = [115, 112, 255, 100]\n",
    "print(\"center:\", mesh.bounding_box.center)\n",
    "print(\"size:\", mesh.bounding_box.size)\n",
    "\n",
    "# (tmesh).show(viewer='gl')\n",
    "\n",
    "geometry = mesh\n",
    "\n",
    "geometry2 = td.Box(center=(0.2, 0, 0), size=(0.5,1,1))"
   ]
  },
  {
   "cell_type": "code",
   "execution_count": 18,
   "id": "0b96b1cd",
   "metadata": {},
   "outputs": [
    {
     "data": {
      "text/plain": [
       "<Axes: title={'center': 'cross section at z=0.00'}, xlabel='x', ylabel='y'>"
      ]
     },
     "execution_count": 18,
     "metadata": {},
     "output_type": "execute_result"
    },
    {
     "data": {
      "image/png": "[encoded data removed]",
      "text/plain": [
       "<Figure size 640x480 with 1 Axes>"
      ]
     },
     "metadata": {},
     "output_type": "display_data"
    }
   ],
   "source": [
    "\n",
    "waveguide = td.Structure(\n",
    "    geometry=geometry,\n",
    "    medium=td.Medium(permittivity=wg_permittivity),\n",
    ")\n",
    "\n",
    "waveguide2 = td.Structure(\n",
    "    geometry=geometry2,\n",
    "    medium=td.Medium(permittivity=wg_permittivity),\n",
    ")\n",
    "\n",
    "sim = td.Simulation(\n",
    "    medium=td.Medium(permittivity=1.444**2),\n",
    "    size=(Lx, Ly, Lz),\n",
    "    grid_spec=grid_spec,\n",
    "    structures=[waveguide, waveguide2],\n",
    "    run_time=1e-12,\n",
    "    boundary_spec=td.BoundarySpec.all_sides(boundary=td.Periodic()),\n",
    ")\n",
    "\n",
    "sim.plot(z=0.0)"
   ]
  },
  {
   "cell_type": "markdown",
   "id": "c8b3c16a",
   "metadata": {},
   "source": [
    "use sim to generate spatial medium"
   ]
  },
  {
   "cell_type": "code",
   "execution_count": 19,
   "id": "95d0dcb6",
   "metadata": {},
   "outputs": [
    {
     "data": {
      "text/html": [
       "<pre style=\"white-space:pre;overflow-x:auto;line-height:normal;font-family:Menlo,'DejaVu Sans Mono',consolas,'Courier New',monospace\"><span style=\"color: #7fbfbf; text-decoration-color: #7fbfbf\">11:00:28 中国标准时间 </span><span style=\"color: #800000; text-decoration-color: #800000\">WARNING: Client-side permittivity of a </span><span style=\"color: #008000; text-decoration-color: #008000\">'TriangleMesh'</span><span style=\"color: #800000; text-decoration-color: #800000\"> may </span>\n",
       "<span style=\"color: #7fbfbf; text-decoration-color: #7fbfbf\">                      </span><span style=\"color: #800000; text-decoration-color: #800000\">be inaccurate if the mesh is not unionized. We recommend  </span>\n",
       "<span style=\"color: #7fbfbf; text-decoration-color: #7fbfbf\">                      </span><span style=\"color: #800000; text-decoration-color: #800000\">unionizing all meshes before import. A                    </span>\n",
       "<span style=\"color: #7fbfbf; text-decoration-color: #7fbfbf\">                      </span><span style=\"color: #008000; text-decoration-color: #008000\">'PermittivityMonitor'</span><span style=\"color: #800000; text-decoration-color: #800000\"> can be used to obtain the true      </span>\n",
       "<span style=\"color: #7fbfbf; text-decoration-color: #7fbfbf\">                      </span><span style=\"color: #800000; text-decoration-color: #800000\">permittivity and check that the surface mesh is loaded    </span>\n",
       "<span style=\"color: #7fbfbf; text-decoration-color: #7fbfbf\">                      </span><span style=\"color: #800000; text-decoration-color: #800000\">correctly.                                                </span>\n",
       "</pre>\n"
      ],
      "text/plain": [
       "\u001b[2;36m11:00:28 中国标准时间\u001b[0m\u001b[2;36m \u001b[0m\u001b[31mWARNING: Client-side permittivity of a \u001b[0m\u001b[32m'TriangleMesh'\u001b[0m\u001b[31m may \u001b[0m\n",
       "\u001b[2;36m                      \u001b[0m\u001b[31mbe inaccurate if the mesh is not unionized. We recommend  \u001b[0m\n",
       "\u001b[2;36m                      \u001b[0m\u001b[31munionizing all meshes before import. A                    \u001b[0m\n",
       "\u001b[2;36m                      \u001b[0m\u001b[32m'PermittivityMonitor'\u001b[0m\u001b[31m can be used to obtain the true      \u001b[0m\n",
       "\u001b[2;36m                      \u001b[0m\u001b[31mpermittivity and check that the surface mesh is loaded    \u001b[0m\n",
       "\u001b[2;36m                      \u001b[0m\u001b[31mcorrectly.                                                \u001b[0m\n"
      ]
     },
     "metadata": {},
     "output_type": "display_data"
    },
    {
     "data": {
      "text/html": [
       "<pre style=\"white-space:pre;overflow-x:auto;line-height:normal;font-family:Menlo,'DejaVu Sans Mono',consolas,'Courier New',monospace\"><span style=\"color: #7fbfbf; text-decoration-color: #7fbfbf\">                </span><span style=\"color: #800000; text-decoration-color: #800000\">WARNING: Client-side permittivity of a </span><span style=\"color: #008000; text-decoration-color: #008000\">'TriangleMesh'</span><span style=\"color: #800000; text-decoration-color: #800000\"> may be    </span>\n",
       "<span style=\"color: #7fbfbf; text-decoration-color: #7fbfbf\">                </span><span style=\"color: #800000; text-decoration-color: #800000\">inaccurate if the mesh is not unionized. We recommend unionizing</span>\n",
       "<span style=\"color: #7fbfbf; text-decoration-color: #7fbfbf\">                </span><span style=\"color: #800000; text-decoration-color: #800000\">all meshes before import. A </span><span style=\"color: #008000; text-decoration-color: #008000\">'PermittivityMonitor'</span><span style=\"color: #800000; text-decoration-color: #800000\"> can be used to</span>\n",
       "<span style=\"color: #7fbfbf; text-decoration-color: #7fbfbf\">                </span><span style=\"color: #800000; text-decoration-color: #800000\">obtain the true permittivity and check that the surface mesh is </span>\n",
       "<span style=\"color: #7fbfbf; text-decoration-color: #7fbfbf\">                </span><span style=\"color: #800000; text-decoration-color: #800000\">loaded correctly.                                               </span>\n",
       "</pre>\n"
      ],
      "text/plain": [
       "\u001b[2;36m               \u001b[0m\u001b[2;36m \u001b[0m\u001b[31mWARNING: Client-side permittivity of a \u001b[0m\u001b[32m'TriangleMesh'\u001b[0m\u001b[31m may be    \u001b[0m\n",
       "\u001b[2;36m                \u001b[0m\u001b[31minaccurate if the mesh is not unionized. We recommend unionizing\u001b[0m\n",
       "\u001b[2;36m                \u001b[0m\u001b[31mall meshes before import. A \u001b[0m\u001b[32m'PermittivityMonitor'\u001b[0m\u001b[31m can be used to\u001b[0m\n",
       "\u001b[2;36m                \u001b[0m\u001b[31mobtain the true permittivity and check that the surface mesh is \u001b[0m\n",
       "\u001b[2;36m                \u001b[0m\u001b[31mloaded correctly.                                               \u001b[0m\n"
      ]
     },
     "metadata": {},
     "output_type": "display_data"
    },
    {
     "data": {
      "text/html": [
       "<pre style=\"white-space:pre;overflow-x:auto;line-height:normal;font-family:Menlo,'DejaVu Sans Mono',consolas,'Courier New',monospace\"><span style=\"color: #7fbfbf; text-decoration-color: #7fbfbf\">                </span><span style=\"color: #800000; text-decoration-color: #800000\">WARNING: Client-side permittivity of a </span><span style=\"color: #008000; text-decoration-color: #008000\">'TriangleMesh'</span><span style=\"color: #800000; text-decoration-color: #800000\"> may be    </span>\n",
       "<span style=\"color: #7fbfbf; text-decoration-color: #7fbfbf\">                </span><span style=\"color: #800000; text-decoration-color: #800000\">inaccurate if the mesh is not unionized. We recommend unionizing</span>\n",
       "<span style=\"color: #7fbfbf; text-decoration-color: #7fbfbf\">                </span><span style=\"color: #800000; text-decoration-color: #800000\">all meshes before import. A </span><span style=\"color: #008000; text-decoration-color: #008000\">'PermittivityMonitor'</span><span style=\"color: #800000; text-decoration-color: #800000\"> can be used to</span>\n",
       "<span style=\"color: #7fbfbf; text-decoration-color: #7fbfbf\">                </span><span style=\"color: #800000; text-decoration-color: #800000\">obtain the true permittivity and check that the surface mesh is </span>\n",
       "<span style=\"color: #7fbfbf; text-decoration-color: #7fbfbf\">                </span><span style=\"color: #800000; text-decoration-color: #800000\">loaded correctly.                                               </span>\n",
       "</pre>\n"
      ],
      "text/plain": [
       "\u001b[2;36m               \u001b[0m\u001b[2;36m \u001b[0m\u001b[31mWARNING: Client-side permittivity of a \u001b[0m\u001b[32m'TriangleMesh'\u001b[0m\u001b[31m may be    \u001b[0m\n",
       "\u001b[2;36m                \u001b[0m\u001b[31minaccurate if the mesh is not unionized. We recommend unionizing\u001b[0m\n",
       "\u001b[2;36m                \u001b[0m\u001b[31mall meshes before import. A \u001b[0m\u001b[32m'PermittivityMonitor'\u001b[0m\u001b[31m can be used to\u001b[0m\n",
       "\u001b[2;36m                \u001b[0m\u001b[31mobtain the true permittivity and check that the surface mesh is \u001b[0m\n",
       "\u001b[2;36m                \u001b[0m\u001b[31mloaded correctly.                                               \u001b[0m\n"
      ]
     },
     "metadata": {},
     "output_type": "display_data"
    },
    {
     "data": {
      "text/html": [
       "<pre style=\"white-space:pre;overflow-x:auto;line-height:normal;font-family:Menlo,'DejaVu Sans Mono',consolas,'Courier New',monospace\"><span style=\"color: #7fbfbf; text-decoration-color: #7fbfbf\">                </span><span style=\"color: #800000; text-decoration-color: #800000\">WARNING: Client-side permittivity of a </span><span style=\"color: #008000; text-decoration-color: #008000\">'TriangleMesh'</span><span style=\"color: #800000; text-decoration-color: #800000\"> may be    </span>\n",
       "<span style=\"color: #7fbfbf; text-decoration-color: #7fbfbf\">                </span><span style=\"color: #800000; text-decoration-color: #800000\">inaccurate if the mesh is not unionized. We recommend unionizing</span>\n",
       "<span style=\"color: #7fbfbf; text-decoration-color: #7fbfbf\">                </span><span style=\"color: #800000; text-decoration-color: #800000\">all meshes before import. A </span><span style=\"color: #008000; text-decoration-color: #008000\">'PermittivityMonitor'</span><span style=\"color: #800000; text-decoration-color: #800000\"> can be used to</span>\n",
       "<span style=\"color: #7fbfbf; text-decoration-color: #7fbfbf\">                </span><span style=\"color: #800000; text-decoration-color: #800000\">obtain the true permittivity and check that the surface mesh is </span>\n",
       "<span style=\"color: #7fbfbf; text-decoration-color: #7fbfbf\">                </span><span style=\"color: #800000; text-decoration-color: #800000\">loaded correctly.                                               </span>\n",
       "</pre>\n"
      ],
      "text/plain": [
       "\u001b[2;36m               \u001b[0m\u001b[2;36m \u001b[0m\u001b[31mWARNING: Client-side permittivity of a \u001b[0m\u001b[32m'TriangleMesh'\u001b[0m\u001b[31m may be    \u001b[0m\n",
       "\u001b[2;36m                \u001b[0m\u001b[31minaccurate if the mesh is not unionized. We recommend unionizing\u001b[0m\n",
       "\u001b[2;36m                \u001b[0m\u001b[31mall meshes before import. A \u001b[0m\u001b[32m'PermittivityMonitor'\u001b[0m\u001b[31m can be used to\u001b[0m\n",
       "\u001b[2;36m                \u001b[0m\u001b[31mobtain the true permittivity and check that the surface mesh is \u001b[0m\n",
       "\u001b[2;36m                \u001b[0m\u001b[31mloaded correctly.                                               \u001b[0m\n"
      ]
     },
     "metadata": {},
     "output_type": "display_data"
    },
    {
     "data": {
      "text/html": [
       "<pre style=\"white-space:pre;overflow-x:auto;line-height:normal;font-family:Menlo,'DejaVu Sans Mono',consolas,'Courier New',monospace\"><span style=\"color: #7fbfbf; text-decoration-color: #7fbfbf\">                </span><span style=\"color: #800000; text-decoration-color: #800000\">WARNING: Client-side permittivity of a </span><span style=\"color: #008000; text-decoration-color: #008000\">'TriangleMesh'</span><span style=\"color: #800000; text-decoration-color: #800000\"> may be    </span>\n",
       "<span style=\"color: #7fbfbf; text-decoration-color: #7fbfbf\">                </span><span style=\"color: #800000; text-decoration-color: #800000\">inaccurate if the mesh is not unionized. We recommend unionizing</span>\n",
       "<span style=\"color: #7fbfbf; text-decoration-color: #7fbfbf\">                </span><span style=\"color: #800000; text-decoration-color: #800000\">all meshes before import. A </span><span style=\"color: #008000; text-decoration-color: #008000\">'PermittivityMonitor'</span><span style=\"color: #800000; text-decoration-color: #800000\"> can be used to</span>\n",
       "<span style=\"color: #7fbfbf; text-decoration-color: #7fbfbf\">                </span><span style=\"color: #800000; text-decoration-color: #800000\">obtain the true permittivity and check that the surface mesh is </span>\n",
       "<span style=\"color: #7fbfbf; text-decoration-color: #7fbfbf\">                </span><span style=\"color: #800000; text-decoration-color: #800000\">loaded correctly.                                               </span>\n",
       "</pre>\n"
      ],
      "text/plain": [
       "\u001b[2;36m               \u001b[0m\u001b[2;36m \u001b[0m\u001b[31mWARNING: Client-side permittivity of a \u001b[0m\u001b[32m'TriangleMesh'\u001b[0m\u001b[31m may be    \u001b[0m\n",
       "\u001b[2;36m                \u001b[0m\u001b[31minaccurate if the mesh is not unionized. We recommend unionizing\u001b[0m\n",
       "\u001b[2;36m                \u001b[0m\u001b[31mall meshes before import. A \u001b[0m\u001b[32m'PermittivityMonitor'\u001b[0m\u001b[31m can be used to\u001b[0m\n",
       "\u001b[2;36m                \u001b[0m\u001b[31mobtain the true permittivity and check that the surface mesh is \u001b[0m\n",
       "\u001b[2;36m                \u001b[0m\u001b[31mloaded correctly.                                               \u001b[0m\n"
      ]
     },
     "metadata": {},
     "output_type": "display_data"
    },
    {
     "data": {
      "text/html": [
       "<pre style=\"white-space:pre;overflow-x:auto;line-height:normal;font-family:Menlo,'DejaVu Sans Mono',consolas,'Courier New',monospace\"><span style=\"color: #7fbfbf; text-decoration-color: #7fbfbf\">                </span><span style=\"color: #800000; text-decoration-color: #800000\">WARNING: Client-side permittivity of a </span><span style=\"color: #008000; text-decoration-color: #008000\">'TriangleMesh'</span><span style=\"color: #800000; text-decoration-color: #800000\"> may be    </span>\n",
       "<span style=\"color: #7fbfbf; text-decoration-color: #7fbfbf\">                </span><span style=\"color: #800000; text-decoration-color: #800000\">inaccurate if the mesh is not unionized. We recommend unionizing</span>\n",
       "<span style=\"color: #7fbfbf; text-decoration-color: #7fbfbf\">                </span><span style=\"color: #800000; text-decoration-color: #800000\">all meshes before import. A </span><span style=\"color: #008000; text-decoration-color: #008000\">'PermittivityMonitor'</span><span style=\"color: #800000; text-decoration-color: #800000\"> can be used to</span>\n",
       "<span style=\"color: #7fbfbf; text-decoration-color: #7fbfbf\">                </span><span style=\"color: #800000; text-decoration-color: #800000\">obtain the true permittivity and check that the surface mesh is </span>\n",
       "<span style=\"color: #7fbfbf; text-decoration-color: #7fbfbf\">                </span><span style=\"color: #800000; text-decoration-color: #800000\">loaded correctly.                                               </span>\n",
       "</pre>\n"
      ],
      "text/plain": [
       "\u001b[2;36m               \u001b[0m\u001b[2;36m \u001b[0m\u001b[31mWARNING: Client-side permittivity of a \u001b[0m\u001b[32m'TriangleMesh'\u001b[0m\u001b[31m may be    \u001b[0m\n",
       "\u001b[2;36m                \u001b[0m\u001b[31minaccurate if the mesh is not unionized. We recommend unionizing\u001b[0m\n",
       "\u001b[2;36m                \u001b[0m\u001b[31mall meshes before import. A \u001b[0m\u001b[32m'PermittivityMonitor'\u001b[0m\u001b[31m can be used to\u001b[0m\n",
       "\u001b[2;36m                \u001b[0m\u001b[31mobtain the true permittivity and check that the surface mesh is \u001b[0m\n",
       "\u001b[2;36m                \u001b[0m\u001b[31mloaded correctly.                                               \u001b[0m\n"
      ]
     },
     "metadata": {},
     "output_type": "display_data"
    },
    {
     "data": {
      "text/html": [
       "<pre style=\"white-space:pre;overflow-x:auto;line-height:normal;font-family:Menlo,'DejaVu Sans Mono',consolas,'Courier New',monospace\"><span style=\"color: #7fbfbf; text-decoration-color: #7fbfbf\">                </span><span style=\"color: #800000; text-decoration-color: #800000\">WARNING: Client-side permittivity of a </span><span style=\"color: #008000; text-decoration-color: #008000\">'TriangleMesh'</span><span style=\"color: #800000; text-decoration-color: #800000\"> may be    </span>\n",
       "<span style=\"color: #7fbfbf; text-decoration-color: #7fbfbf\">                </span><span style=\"color: #800000; text-decoration-color: #800000\">inaccurate if the mesh is not unionized. We recommend unionizing</span>\n",
       "<span style=\"color: #7fbfbf; text-decoration-color: #7fbfbf\">                </span><span style=\"color: #800000; text-decoration-color: #800000\">all meshes before import. A </span><span style=\"color: #008000; text-decoration-color: #008000\">'PermittivityMonitor'</span><span style=\"color: #800000; text-decoration-color: #800000\"> can be used to</span>\n",
       "<span style=\"color: #7fbfbf; text-decoration-color: #7fbfbf\">                </span><span style=\"color: #800000; text-decoration-color: #800000\">obtain the true permittivity and check that the surface mesh is </span>\n",
       "<span style=\"color: #7fbfbf; text-decoration-color: #7fbfbf\">                </span><span style=\"color: #800000; text-decoration-color: #800000\">loaded correctly.                                               </span>\n",
       "</pre>\n"
      ],
      "text/plain": [
       "\u001b[2;36m               \u001b[0m\u001b[2;36m \u001b[0m\u001b[31mWARNING: Client-side permittivity of a \u001b[0m\u001b[32m'TriangleMesh'\u001b[0m\u001b[31m may be    \u001b[0m\n",
       "\u001b[2;36m                \u001b[0m\u001b[31minaccurate if the mesh is not unionized. We recommend unionizing\u001b[0m\n",
       "\u001b[2;36m                \u001b[0m\u001b[31mall meshes before import. A \u001b[0m\u001b[32m'PermittivityMonitor'\u001b[0m\u001b[31m can be used to\u001b[0m\n",
       "\u001b[2;36m                \u001b[0m\u001b[31mobtain the true permittivity and check that the surface mesh is \u001b[0m\n",
       "\u001b[2;36m                \u001b[0m\u001b[31mloaded correctly.                                               \u001b[0m\n"
      ]
     },
     "metadata": {},
     "output_type": "display_data"
    },
    {
     "data": {
      "text/html": [
       "<pre style=\"white-space:pre;overflow-x:auto;line-height:normal;font-family:Menlo,'DejaVu Sans Mono',consolas,'Courier New',monospace\"><span style=\"color: #7fbfbf; text-decoration-color: #7fbfbf\">                </span><span style=\"color: #800000; text-decoration-color: #800000\">WARNING: Client-side permittivity of a </span><span style=\"color: #008000; text-decoration-color: #008000\">'TriangleMesh'</span><span style=\"color: #800000; text-decoration-color: #800000\"> may be    </span>\n",
       "<span style=\"color: #7fbfbf; text-decoration-color: #7fbfbf\">                </span><span style=\"color: #800000; text-decoration-color: #800000\">inaccurate if the mesh is not unionized. We recommend unionizing</span>\n",
       "<span style=\"color: #7fbfbf; text-decoration-color: #7fbfbf\">                </span><span style=\"color: #800000; text-decoration-color: #800000\">all meshes before import. A </span><span style=\"color: #008000; text-decoration-color: #008000\">'PermittivityMonitor'</span><span style=\"color: #800000; text-decoration-color: #800000\"> can be used to</span>\n",
       "<span style=\"color: #7fbfbf; text-decoration-color: #7fbfbf\">                </span><span style=\"color: #800000; text-decoration-color: #800000\">obtain the true permittivity and check that the surface mesh is </span>\n",
       "<span style=\"color: #7fbfbf; text-decoration-color: #7fbfbf\">                </span><span style=\"color: #800000; text-decoration-color: #800000\">loaded correctly.                                               </span>\n",
       "</pre>\n"
      ],
      "text/plain": [
       "\u001b[2;36m               \u001b[0m\u001b[2;36m \u001b[0m\u001b[31mWARNING: Client-side permittivity of a \u001b[0m\u001b[32m'TriangleMesh'\u001b[0m\u001b[31m may be    \u001b[0m\n",
       "\u001b[2;36m                \u001b[0m\u001b[31minaccurate if the mesh is not unionized. We recommend unionizing\u001b[0m\n",
       "\u001b[2;36m                \u001b[0m\u001b[31mall meshes before import. A \u001b[0m\u001b[32m'PermittivityMonitor'\u001b[0m\u001b[31m can be used to\u001b[0m\n",
       "\u001b[2;36m                \u001b[0m\u001b[31mobtain the true permittivity and check that the surface mesh is \u001b[0m\n",
       "\u001b[2;36m                \u001b[0m\u001b[31mloaded correctly.                                               \u001b[0m\n"
      ]
     },
     "metadata": {},
     "output_type": "display_data"
    },
    {
     "data": {
      "text/html": [
       "<pre style=\"white-space:pre;overflow-x:auto;line-height:normal;font-family:Menlo,'DejaVu Sans Mono',consolas,'Courier New',monospace\"><span style=\"color: #7fbfbf; text-decoration-color: #7fbfbf\">                </span><span style=\"color: #800000; text-decoration-color: #800000\">WARNING: Client-side permittivity of a </span><span style=\"color: #008000; text-decoration-color: #008000\">'TriangleMesh'</span><span style=\"color: #800000; text-decoration-color: #800000\"> may be    </span>\n",
       "<span style=\"color: #7fbfbf; text-decoration-color: #7fbfbf\">                </span><span style=\"color: #800000; text-decoration-color: #800000\">inaccurate if the mesh is not unionized. We recommend unionizing</span>\n",
       "<span style=\"color: #7fbfbf; text-decoration-color: #7fbfbf\">                </span><span style=\"color: #800000; text-decoration-color: #800000\">all meshes before import. A </span><span style=\"color: #008000; text-decoration-color: #008000\">'PermittivityMonitor'</span><span style=\"color: #800000; text-decoration-color: #800000\"> can be used to</span>\n",
       "<span style=\"color: #7fbfbf; text-decoration-color: #7fbfbf\">                </span><span style=\"color: #800000; text-decoration-color: #800000\">obtain the true permittivity and check that the surface mesh is </span>\n",
       "<span style=\"color: #7fbfbf; text-decoration-color: #7fbfbf\">                </span><span style=\"color: #800000; text-decoration-color: #800000\">loaded correctly.                                               </span>\n",
       "</pre>\n"
      ],
      "text/plain": [
       "\u001b[2;36m               \u001b[0m\u001b[2;36m \u001b[0m\u001b[31mWARNING: Client-side permittivity of a \u001b[0m\u001b[32m'TriangleMesh'\u001b[0m\u001b[31m may be    \u001b[0m\n",
       "\u001b[2;36m                \u001b[0m\u001b[31minaccurate if the mesh is not unionized. We recommend unionizing\u001b[0m\n",
       "\u001b[2;36m                \u001b[0m\u001b[31mall meshes before import. A \u001b[0m\u001b[32m'PermittivityMonitor'\u001b[0m\u001b[31m can be used to\u001b[0m\n",
       "\u001b[2;36m                \u001b[0m\u001b[31mobtain the true permittivity and check that the surface mesh is \u001b[0m\n",
       "\u001b[2;36m                \u001b[0m\u001b[31mloaded correctly.                                               \u001b[0m\n"
      ]
     },
     "metadata": {},
     "output_type": "display_data"
    },
    {
     "data": {
      "text/html": [
       "<pre style=\"white-space:pre;overflow-x:auto;line-height:normal;font-family:Menlo,'DejaVu Sans Mono',consolas,'Courier New',monospace\"><span style=\"color: #7fbfbf; text-decoration-color: #7fbfbf\">                </span><span style=\"color: #800000; text-decoration-color: #800000\">WARNING: Client-side permittivity of a </span><span style=\"color: #008000; text-decoration-color: #008000\">'TriangleMesh'</span><span style=\"color: #800000; text-decoration-color: #800000\"> may be    </span>\n",
       "<span style=\"color: #7fbfbf; text-decoration-color: #7fbfbf\">                </span><span style=\"color: #800000; text-decoration-color: #800000\">inaccurate if the mesh is not unionized. We recommend unionizing</span>\n",
       "<span style=\"color: #7fbfbf; text-decoration-color: #7fbfbf\">                </span><span style=\"color: #800000; text-decoration-color: #800000\">all meshes before import. A </span><span style=\"color: #008000; text-decoration-color: #008000\">'PermittivityMonitor'</span><span style=\"color: #800000; text-decoration-color: #800000\"> can be used to</span>\n",
       "<span style=\"color: #7fbfbf; text-decoration-color: #7fbfbf\">                </span><span style=\"color: #800000; text-decoration-color: #800000\">obtain the true permittivity and check that the surface mesh is </span>\n",
       "<span style=\"color: #7fbfbf; text-decoration-color: #7fbfbf\">                </span><span style=\"color: #800000; text-decoration-color: #800000\">loaded correctly.                                               </span>\n",
       "</pre>\n"
      ],
      "text/plain": [
       "\u001b[2;36m               \u001b[0m\u001b[2;36m \u001b[0m\u001b[31mWARNING: Client-side permittivity of a \u001b[0m\u001b[32m'TriangleMesh'\u001b[0m\u001b[31m may be    \u001b[0m\n",
       "\u001b[2;36m                \u001b[0m\u001b[31minaccurate if the mesh is not unionized. We recommend unionizing\u001b[0m\n",
       "\u001b[2;36m                \u001b[0m\u001b[31mall meshes before import. A \u001b[0m\u001b[32m'PermittivityMonitor'\u001b[0m\u001b[31m can be used to\u001b[0m\n",
       "\u001b[2;36m                \u001b[0m\u001b[31mobtain the true permittivity and check that the surface mesh is \u001b[0m\n",
       "\u001b[2;36m                \u001b[0m\u001b[31mloaded correctly.                                               \u001b[0m\n"
      ]
     },
     "metadata": {},
     "output_type": "display_data"
    },
    {
     "data": {
      "text/html": [
       "<pre style=\"white-space:pre;overflow-x:auto;line-height:normal;font-family:Menlo,'DejaVu Sans Mono',consolas,'Courier New',monospace\"><span style=\"color: #7fbfbf; text-decoration-color: #7fbfbf\">                </span><span style=\"color: #800000; text-decoration-color: #800000\">WARNING: Client-side permittivity of a </span><span style=\"color: #008000; text-decoration-color: #008000\">'TriangleMesh'</span><span style=\"color: #800000; text-decoration-color: #800000\"> may be    </span>\n",
       "<span style=\"color: #7fbfbf; text-decoration-color: #7fbfbf\">                </span><span style=\"color: #800000; text-decoration-color: #800000\">inaccurate if the mesh is not unionized. We recommend unionizing</span>\n",
       "<span style=\"color: #7fbfbf; text-decoration-color: #7fbfbf\">                </span><span style=\"color: #800000; text-decoration-color: #800000\">all meshes before import. A </span><span style=\"color: #008000; text-decoration-color: #008000\">'PermittivityMonitor'</span><span style=\"color: #800000; text-decoration-color: #800000\"> can be used to</span>\n",
       "<span style=\"color: #7fbfbf; text-decoration-color: #7fbfbf\">                </span><span style=\"color: #800000; text-decoration-color: #800000\">obtain the true permittivity and check that the surface mesh is </span>\n",
       "<span style=\"color: #7fbfbf; text-decoration-color: #7fbfbf\">                </span><span style=\"color: #800000; text-decoration-color: #800000\">loaded correctly.                                               </span>\n",
       "</pre>\n"
      ],
      "text/plain": [
       "\u001b[2;36m               \u001b[0m\u001b[2;36m \u001b[0m\u001b[31mWARNING: Client-side permittivity of a \u001b[0m\u001b[32m'TriangleMesh'\u001b[0m\u001b[31m may be    \u001b[0m\n",
       "\u001b[2;36m                \u001b[0m\u001b[31minaccurate if the mesh is not unionized. We recommend unionizing\u001b[0m\n",
       "\u001b[2;36m                \u001b[0m\u001b[31mall meshes before import. A \u001b[0m\u001b[32m'PermittivityMonitor'\u001b[0m\u001b[31m can be used to\u001b[0m\n",
       "\u001b[2;36m                \u001b[0m\u001b[31mobtain the true permittivity and check that the surface mesh is \u001b[0m\n",
       "\u001b[2;36m                \u001b[0m\u001b[31mloaded correctly.                                               \u001b[0m\n"
      ]
     },
     "metadata": {},
     "output_type": "display_data"
    },
    {
     "data": {
      "text/html": [
       "<pre style=\"white-space:pre;overflow-x:auto;line-height:normal;font-family:Menlo,'DejaVu Sans Mono',consolas,'Courier New',monospace\"><span style=\"color: #7fbfbf; text-decoration-color: #7fbfbf\">                </span><span style=\"color: #800000; text-decoration-color: #800000\">WARNING: Client-side permittivity of a </span><span style=\"color: #008000; text-decoration-color: #008000\">'TriangleMesh'</span><span style=\"color: #800000; text-decoration-color: #800000\"> may be    </span>\n",
       "<span style=\"color: #7fbfbf; text-decoration-color: #7fbfbf\">                </span><span style=\"color: #800000; text-decoration-color: #800000\">inaccurate if the mesh is not unionized. We recommend unionizing</span>\n",
       "<span style=\"color: #7fbfbf; text-decoration-color: #7fbfbf\">                </span><span style=\"color: #800000; text-decoration-color: #800000\">all meshes before import. A </span><span style=\"color: #008000; text-decoration-color: #008000\">'PermittivityMonitor'</span><span style=\"color: #800000; text-decoration-color: #800000\"> can be used to</span>\n",
       "<span style=\"color: #7fbfbf; text-decoration-color: #7fbfbf\">                </span><span style=\"color: #800000; text-decoration-color: #800000\">obtain the true permittivity and check that the surface mesh is </span>\n",
       "<span style=\"color: #7fbfbf; text-decoration-color: #7fbfbf\">                </span><span style=\"color: #800000; text-decoration-color: #800000\">loaded correctly.                                               </span>\n",
       "</pre>\n"
      ],
      "text/plain": [
       "\u001b[2;36m               \u001b[0m\u001b[2;36m \u001b[0m\u001b[31mWARNING: Client-side permittivity of a \u001b[0m\u001b[32m'TriangleMesh'\u001b[0m\u001b[31m may be    \u001b[0m\n",
       "\u001b[2;36m                \u001b[0m\u001b[31minaccurate if the mesh is not unionized. We recommend unionizing\u001b[0m\n",
       "\u001b[2;36m                \u001b[0m\u001b[31mall meshes before import. A \u001b[0m\u001b[32m'PermittivityMonitor'\u001b[0m\u001b[31m can be used to\u001b[0m\n",
       "\u001b[2;36m                \u001b[0m\u001b[31mobtain the true permittivity and check that the surface mesh is \u001b[0m\n",
       "\u001b[2;36m                \u001b[0m\u001b[31mloaded correctly.                                               \u001b[0m\n"
      ]
     },
     "metadata": {},
     "output_type": "display_data"
    },
    {
     "data": {
      "text/html": [
       "<pre style=\"white-space:pre;overflow-x:auto;line-height:normal;font-family:Menlo,'DejaVu Sans Mono',consolas,'Courier New',monospace\"><span style=\"color: #7fbfbf; text-decoration-color: #7fbfbf\">                </span><span style=\"color: #800000; text-decoration-color: #800000\">WARNING: Client-side permittivity of a </span><span style=\"color: #008000; text-decoration-color: #008000\">'TriangleMesh'</span><span style=\"color: #800000; text-decoration-color: #800000\"> may be    </span>\n",
       "<span style=\"color: #7fbfbf; text-decoration-color: #7fbfbf\">                </span><span style=\"color: #800000; text-decoration-color: #800000\">inaccurate if the mesh is not unionized. We recommend unionizing</span>\n",
       "<span style=\"color: #7fbfbf; text-decoration-color: #7fbfbf\">                </span><span style=\"color: #800000; text-decoration-color: #800000\">all meshes before import. A </span><span style=\"color: #008000; text-decoration-color: #008000\">'PermittivityMonitor'</span><span style=\"color: #800000; text-decoration-color: #800000\"> can be used to</span>\n",
       "<span style=\"color: #7fbfbf; text-decoration-color: #7fbfbf\">                </span><span style=\"color: #800000; text-decoration-color: #800000\">obtain the true permittivity and check that the surface mesh is </span>\n",
       "<span style=\"color: #7fbfbf; text-decoration-color: #7fbfbf\">                </span><span style=\"color: #800000; text-decoration-color: #800000\">loaded correctly.                                               </span>\n",
       "</pre>\n"
      ],
      "text/plain": [
       "\u001b[2;36m               \u001b[0m\u001b[2;36m \u001b[0m\u001b[31mWARNING: Client-side permittivity of a \u001b[0m\u001b[32m'TriangleMesh'\u001b[0m\u001b[31m may be    \u001b[0m\n",
       "\u001b[2;36m                \u001b[0m\u001b[31minaccurate if the mesh is not unionized. We recommend unionizing\u001b[0m\n",
       "\u001b[2;36m                \u001b[0m\u001b[31mall meshes before import. A \u001b[0m\u001b[32m'PermittivityMonitor'\u001b[0m\u001b[31m can be used to\u001b[0m\n",
       "\u001b[2;36m                \u001b[0m\u001b[31mobtain the true permittivity and check that the surface mesh is \u001b[0m\n",
       "\u001b[2;36m                \u001b[0m\u001b[31mloaded correctly.                                               \u001b[0m\n"
      ]
     },
     "metadata": {},
     "output_type": "display_data"
    },
    {
     "data": {
      "text/html": [
       "<pre style=\"white-space:pre;overflow-x:auto;line-height:normal;font-family:Menlo,'DejaVu Sans Mono',consolas,'Courier New',monospace\"><span style=\"color: #7fbfbf; text-decoration-color: #7fbfbf\">                </span><span style=\"color: #800000; text-decoration-color: #800000\">WARNING: Client-side permittivity of a </span><span style=\"color: #008000; text-decoration-color: #008000\">'TriangleMesh'</span><span style=\"color: #800000; text-decoration-color: #800000\"> may be    </span>\n",
       "<span style=\"color: #7fbfbf; text-decoration-color: #7fbfbf\">                </span><span style=\"color: #800000; text-decoration-color: #800000\">inaccurate if the mesh is not unionized. We recommend unionizing</span>\n",
       "<span style=\"color: #7fbfbf; text-decoration-color: #7fbfbf\">                </span><span style=\"color: #800000; text-decoration-color: #800000\">all meshes before import. A </span><span style=\"color: #008000; text-decoration-color: #008000\">'PermittivityMonitor'</span><span style=\"color: #800000; text-decoration-color: #800000\"> can be used to</span>\n",
       "<span style=\"color: #7fbfbf; text-decoration-color: #7fbfbf\">                </span><span style=\"color: #800000; text-decoration-color: #800000\">obtain the true permittivity and check that the surface mesh is </span>\n",
       "<span style=\"color: #7fbfbf; text-decoration-color: #7fbfbf\">                </span><span style=\"color: #800000; text-decoration-color: #800000\">loaded correctly.                                               </span>\n",
       "</pre>\n"
      ],
      "text/plain": [
       "\u001b[2;36m               \u001b[0m\u001b[2;36m \u001b[0m\u001b[31mWARNING: Client-side permittivity of a \u001b[0m\u001b[32m'TriangleMesh'\u001b[0m\u001b[31m may be    \u001b[0m\n",
       "\u001b[2;36m                \u001b[0m\u001b[31minaccurate if the mesh is not unionized. We recommend unionizing\u001b[0m\n",
       "\u001b[2;36m                \u001b[0m\u001b[31mall meshes before import. A \u001b[0m\u001b[32m'PermittivityMonitor'\u001b[0m\u001b[31m can be used to\u001b[0m\n",
       "\u001b[2;36m                \u001b[0m\u001b[31mobtain the true permittivity and check that the surface mesh is \u001b[0m\n",
       "\u001b[2;36m                \u001b[0m\u001b[31mloaded correctly.                                               \u001b[0m\n"
      ]
     },
     "metadata": {},
     "output_type": "display_data"
    },
    {
     "data": {
      "text/html": [
       "<pre style=\"white-space:pre;overflow-x:auto;line-height:normal;font-family:Menlo,'DejaVu Sans Mono',consolas,'Courier New',monospace\"><span style=\"color: #7fbfbf; text-decoration-color: #7fbfbf\">                </span><span style=\"color: #800000; text-decoration-color: #800000\">WARNING: Client-side permittivity of a </span><span style=\"color: #008000; text-decoration-color: #008000\">'TriangleMesh'</span><span style=\"color: #800000; text-decoration-color: #800000\"> may be    </span>\n",
       "<span style=\"color: #7fbfbf; text-decoration-color: #7fbfbf\">                </span><span style=\"color: #800000; text-decoration-color: #800000\">inaccurate if the mesh is not unionized. We recommend unionizing</span>\n",
       "<span style=\"color: #7fbfbf; text-decoration-color: #7fbfbf\">                </span><span style=\"color: #800000; text-decoration-color: #800000\">all meshes before import. A </span><span style=\"color: #008000; text-decoration-color: #008000\">'PermittivityMonitor'</span><span style=\"color: #800000; text-decoration-color: #800000\"> can be used to</span>\n",
       "<span style=\"color: #7fbfbf; text-decoration-color: #7fbfbf\">                </span><span style=\"color: #800000; text-decoration-color: #800000\">obtain the true permittivity and check that the surface mesh is </span>\n",
       "<span style=\"color: #7fbfbf; text-decoration-color: #7fbfbf\">                </span><span style=\"color: #800000; text-decoration-color: #800000\">loaded correctly.                                               </span>\n",
       "</pre>\n"
      ],
      "text/plain": [
       "\u001b[2;36m               \u001b[0m\u001b[2;36m \u001b[0m\u001b[31mWARNING: Client-side permittivity of a \u001b[0m\u001b[32m'TriangleMesh'\u001b[0m\u001b[31m may be    \u001b[0m\n",
       "\u001b[2;36m                \u001b[0m\u001b[31minaccurate if the mesh is not unionized. We recommend unionizing\u001b[0m\n",
       "\u001b[2;36m                \u001b[0m\u001b[31mall meshes before import. A \u001b[0m\u001b[32m'PermittivityMonitor'\u001b[0m\u001b[31m can be used to\u001b[0m\n",
       "\u001b[2;36m                \u001b[0m\u001b[31mobtain the true permittivity and check that the surface mesh is \u001b[0m\n",
       "\u001b[2;36m                \u001b[0m\u001b[31mloaded correctly.                                               \u001b[0m\n"
      ]
     },
     "metadata": {},
     "output_type": "display_data"
    },
    {
     "data": {
      "text/html": [
       "<pre style=\"white-space:pre;overflow-x:auto;line-height:normal;font-family:Menlo,'DejaVu Sans Mono',consolas,'Courier New',monospace\"><span style=\"color: #7fbfbf; text-decoration-color: #7fbfbf\">                </span><span style=\"color: #800000; text-decoration-color: #800000\">WARNING: Client-side permittivity of a </span><span style=\"color: #008000; text-decoration-color: #008000\">'TriangleMesh'</span><span style=\"color: #800000; text-decoration-color: #800000\"> may be    </span>\n",
       "<span style=\"color: #7fbfbf; text-decoration-color: #7fbfbf\">                </span><span style=\"color: #800000; text-decoration-color: #800000\">inaccurate if the mesh is not unionized. We recommend unionizing</span>\n",
       "<span style=\"color: #7fbfbf; text-decoration-color: #7fbfbf\">                </span><span style=\"color: #800000; text-decoration-color: #800000\">all meshes before import. A </span><span style=\"color: #008000; text-decoration-color: #008000\">'PermittivityMonitor'</span><span style=\"color: #800000; text-decoration-color: #800000\"> can be used to</span>\n",
       "<span style=\"color: #7fbfbf; text-decoration-color: #7fbfbf\">                </span><span style=\"color: #800000; text-decoration-color: #800000\">obtain the true permittivity and check that the surface mesh is </span>\n",
       "<span style=\"color: #7fbfbf; text-decoration-color: #7fbfbf\">                </span><span style=\"color: #800000; text-decoration-color: #800000\">loaded correctly.                                               </span>\n",
       "</pre>\n"
      ],
      "text/plain": [
       "\u001b[2;36m               \u001b[0m\u001b[2;36m \u001b[0m\u001b[31mWARNING: Client-side permittivity of a \u001b[0m\u001b[32m'TriangleMesh'\u001b[0m\u001b[31m may be    \u001b[0m\n",
       "\u001b[2;36m                \u001b[0m\u001b[31minaccurate if the mesh is not unionized. We recommend unionizing\u001b[0m\n",
       "\u001b[2;36m                \u001b[0m\u001b[31mall meshes before import. A \u001b[0m\u001b[32m'PermittivityMonitor'\u001b[0m\u001b[31m can be used to\u001b[0m\n",
       "\u001b[2;36m                \u001b[0m\u001b[31mobtain the true permittivity and check that the surface mesh is \u001b[0m\n",
       "\u001b[2;36m                \u001b[0m\u001b[31mloaded correctly.                                               \u001b[0m\n"
      ]
     },
     "metadata": {},
     "output_type": "display_data"
    },
    {
     "data": {
      "text/html": [
       "<pre style=\"white-space:pre;overflow-x:auto;line-height:normal;font-family:Menlo,'DejaVu Sans Mono',consolas,'Courier New',monospace\"><span style=\"color: #7fbfbf; text-decoration-color: #7fbfbf\">                </span><span style=\"color: #800000; text-decoration-color: #800000\">WARNING: Client-side permittivity of a </span><span style=\"color: #008000; text-decoration-color: #008000\">'TriangleMesh'</span><span style=\"color: #800000; text-decoration-color: #800000\"> may be    </span>\n",
       "<span style=\"color: #7fbfbf; text-decoration-color: #7fbfbf\">                </span><span style=\"color: #800000; text-decoration-color: #800000\">inaccurate if the mesh is not unionized. We recommend unionizing</span>\n",
       "<span style=\"color: #7fbfbf; text-decoration-color: #7fbfbf\">                </span><span style=\"color: #800000; text-decoration-color: #800000\">all meshes before import. A </span><span style=\"color: #008000; text-decoration-color: #008000\">'PermittivityMonitor'</span><span style=\"color: #800000; text-decoration-color: #800000\"> can be used to</span>\n",
       "<span style=\"color: #7fbfbf; text-decoration-color: #7fbfbf\">                </span><span style=\"color: #800000; text-decoration-color: #800000\">obtain the true permittivity and check that the surface mesh is </span>\n",
       "<span style=\"color: #7fbfbf; text-decoration-color: #7fbfbf\">                </span><span style=\"color: #800000; text-decoration-color: #800000\">loaded correctly.                                               </span>\n",
       "</pre>\n"
      ],
      "text/plain": [
       "\u001b[2;36m               \u001b[0m\u001b[2;36m \u001b[0m\u001b[31mWARNING: Client-side permittivity of a \u001b[0m\u001b[32m'TriangleMesh'\u001b[0m\u001b[31m may be    \u001b[0m\n",
       "\u001b[2;36m                \u001b[0m\u001b[31minaccurate if the mesh is not unionized. We recommend unionizing\u001b[0m\n",
       "\u001b[2;36m                \u001b[0m\u001b[31mall meshes before import. A \u001b[0m\u001b[32m'PermittivityMonitor'\u001b[0m\u001b[31m can be used to\u001b[0m\n",
       "\u001b[2;36m                \u001b[0m\u001b[31mobtain the true permittivity and check that the surface mesh is \u001b[0m\n",
       "\u001b[2;36m                \u001b[0m\u001b[31mloaded correctly.                                               \u001b[0m\n"
      ]
     },
     "metadata": {},
     "output_type": "display_data"
    },
    {
     "data": {
      "text/html": [
       "<pre style=\"white-space:pre;overflow-x:auto;line-height:normal;font-family:Menlo,'DejaVu Sans Mono',consolas,'Courier New',monospace\"><span style=\"color: #7fbfbf; text-decoration-color: #7fbfbf\">                </span><span style=\"color: #800000; text-decoration-color: #800000\">WARNING: Client-side permittivity of a </span><span style=\"color: #008000; text-decoration-color: #008000\">'TriangleMesh'</span><span style=\"color: #800000; text-decoration-color: #800000\"> may be    </span>\n",
       "<span style=\"color: #7fbfbf; text-decoration-color: #7fbfbf\">                </span><span style=\"color: #800000; text-decoration-color: #800000\">inaccurate if the mesh is not unionized. We recommend unionizing</span>\n",
       "<span style=\"color: #7fbfbf; text-decoration-color: #7fbfbf\">                </span><span style=\"color: #800000; text-decoration-color: #800000\">all meshes before import. A </span><span style=\"color: #008000; text-decoration-color: #008000\">'PermittivityMonitor'</span><span style=\"color: #800000; text-decoration-color: #800000\"> can be used to</span>\n",
       "<span style=\"color: #7fbfbf; text-decoration-color: #7fbfbf\">                </span><span style=\"color: #800000; text-decoration-color: #800000\">obtain the true permittivity and check that the surface mesh is </span>\n",
       "<span style=\"color: #7fbfbf; text-decoration-color: #7fbfbf\">                </span><span style=\"color: #800000; text-decoration-color: #800000\">loaded correctly.                                               </span>\n",
       "</pre>\n"
      ],
      "text/plain": [
       "\u001b[2;36m               \u001b[0m\u001b[2;36m \u001b[0m\u001b[31mWARNING: Client-side permittivity of a \u001b[0m\u001b[32m'TriangleMesh'\u001b[0m\u001b[31m may be    \u001b[0m\n",
       "\u001b[2;36m                \u001b[0m\u001b[31minaccurate if the mesh is not unionized. We recommend unionizing\u001b[0m\n",
       "\u001b[2;36m                \u001b[0m\u001b[31mall meshes before import. A \u001b[0m\u001b[32m'PermittivityMonitor'\u001b[0m\u001b[31m can be used to\u001b[0m\n",
       "\u001b[2;36m                \u001b[0m\u001b[31mobtain the true permittivity and check that the surface mesh is \u001b[0m\n",
       "\u001b[2;36m                \u001b[0m\u001b[31mloaded correctly.                                               \u001b[0m\n"
      ]
     },
     "metadata": {},
     "output_type": "display_data"
    },
    {
     "data": {
      "text/html": [
       "<pre style=\"white-space:pre;overflow-x:auto;line-height:normal;font-family:Menlo,'DejaVu Sans Mono',consolas,'Courier New',monospace\"><span style=\"color: #7fbfbf; text-decoration-color: #7fbfbf\">                </span><span style=\"color: #800000; text-decoration-color: #800000\">WARNING: Client-side permittivity of a </span><span style=\"color: #008000; text-decoration-color: #008000\">'TriangleMesh'</span><span style=\"color: #800000; text-decoration-color: #800000\"> may be    </span>\n",
       "<span style=\"color: #7fbfbf; text-decoration-color: #7fbfbf\">                </span><span style=\"color: #800000; text-decoration-color: #800000\">inaccurate if the mesh is not unionized. We recommend unionizing</span>\n",
       "<span style=\"color: #7fbfbf; text-decoration-color: #7fbfbf\">                </span><span style=\"color: #800000; text-decoration-color: #800000\">all meshes before import. A </span><span style=\"color: #008000; text-decoration-color: #008000\">'PermittivityMonitor'</span><span style=\"color: #800000; text-decoration-color: #800000\"> can be used to</span>\n",
       "<span style=\"color: #7fbfbf; text-decoration-color: #7fbfbf\">                </span><span style=\"color: #800000; text-decoration-color: #800000\">obtain the true permittivity and check that the surface mesh is </span>\n",
       "<span style=\"color: #7fbfbf; text-decoration-color: #7fbfbf\">                </span><span style=\"color: #800000; text-decoration-color: #800000\">loaded correctly.                                               </span>\n",
       "</pre>\n"
      ],
      "text/plain": [
       "\u001b[2;36m               \u001b[0m\u001b[2;36m \u001b[0m\u001b[31mWARNING: Client-side permittivity of a \u001b[0m\u001b[32m'TriangleMesh'\u001b[0m\u001b[31m may be    \u001b[0m\n",
       "\u001b[2;36m                \u001b[0m\u001b[31minaccurate if the mesh is not unionized. We recommend unionizing\u001b[0m\n",
       "\u001b[2;36m                \u001b[0m\u001b[31mall meshes before import. A \u001b[0m\u001b[32m'PermittivityMonitor'\u001b[0m\u001b[31m can be used to\u001b[0m\n",
       "\u001b[2;36m                \u001b[0m\u001b[31mobtain the true permittivity and check that the surface mesh is \u001b[0m\n",
       "\u001b[2;36m                \u001b[0m\u001b[31mloaded correctly.                                               \u001b[0m\n"
      ]
     },
     "metadata": {},
     "output_type": "display_data"
    },
    {
     "data": {
      "text/html": [
       "<pre style=\"white-space:pre;overflow-x:auto;line-height:normal;font-family:Menlo,'DejaVu Sans Mono',consolas,'Courier New',monospace\"><span style=\"color: #7fbfbf; text-decoration-color: #7fbfbf\">                </span><span style=\"color: #800000; text-decoration-color: #800000\">WARNING: Client-side permittivity of a </span><span style=\"color: #008000; text-decoration-color: #008000\">'TriangleMesh'</span><span style=\"color: #800000; text-decoration-color: #800000\"> may be    </span>\n",
       "<span style=\"color: #7fbfbf; text-decoration-color: #7fbfbf\">                </span><span style=\"color: #800000; text-decoration-color: #800000\">inaccurate if the mesh is not unionized. We recommend unionizing</span>\n",
       "<span style=\"color: #7fbfbf; text-decoration-color: #7fbfbf\">                </span><span style=\"color: #800000; text-decoration-color: #800000\">all meshes before import. A </span><span style=\"color: #008000; text-decoration-color: #008000\">'PermittivityMonitor'</span><span style=\"color: #800000; text-decoration-color: #800000\"> can be used to</span>\n",
       "<span style=\"color: #7fbfbf; text-decoration-color: #7fbfbf\">                </span><span style=\"color: #800000; text-decoration-color: #800000\">obtain the true permittivity and check that the surface mesh is </span>\n",
       "<span style=\"color: #7fbfbf; text-decoration-color: #7fbfbf\">                </span><span style=\"color: #800000; text-decoration-color: #800000\">loaded correctly.                                               </span>\n",
       "</pre>\n"
      ],
      "text/plain": [
       "\u001b[2;36m               \u001b[0m\u001b[2;36m \u001b[0m\u001b[31mWARNING: Client-side permittivity of a \u001b[0m\u001b[32m'TriangleMesh'\u001b[0m\u001b[31m may be    \u001b[0m\n",
       "\u001b[2;36m                \u001b[0m\u001b[31minaccurate if the mesh is not unionized. We recommend unionizing\u001b[0m\n",
       "\u001b[2;36m                \u001b[0m\u001b[31mall meshes before import. A \u001b[0m\u001b[32m'PermittivityMonitor'\u001b[0m\u001b[31m can be used to\u001b[0m\n",
       "\u001b[2;36m                \u001b[0m\u001b[31mobtain the true permittivity and check that the surface mesh is \u001b[0m\n",
       "\u001b[2;36m                \u001b[0m\u001b[31mloaded correctly.                                               \u001b[0m\n"
      ]
     },
     "metadata": {},
     "output_type": "display_data"
    },
    {
     "data": {
      "text/html": [
       "<pre style=\"white-space:pre;overflow-x:auto;line-height:normal;font-family:Menlo,'DejaVu Sans Mono',consolas,'Courier New',monospace\"><span style=\"color: #7fbfbf; text-decoration-color: #7fbfbf\">11:00:29 中国标准时间 </span><span style=\"color: #800000; text-decoration-color: #800000\">WARNING: Client-side permittivity of a </span><span style=\"color: #008000; text-decoration-color: #008000\">'TriangleMesh'</span><span style=\"color: #800000; text-decoration-color: #800000\"> may </span>\n",
       "<span style=\"color: #7fbfbf; text-decoration-color: #7fbfbf\">                      </span><span style=\"color: #800000; text-decoration-color: #800000\">be inaccurate if the mesh is not unionized. We recommend  </span>\n",
       "<span style=\"color: #7fbfbf; text-decoration-color: #7fbfbf\">                      </span><span style=\"color: #800000; text-decoration-color: #800000\">unionizing all meshes before import. A                    </span>\n",
       "<span style=\"color: #7fbfbf; text-decoration-color: #7fbfbf\">                      </span><span style=\"color: #008000; text-decoration-color: #008000\">'PermittivityMonitor'</span><span style=\"color: #800000; text-decoration-color: #800000\"> can be used to obtain the true      </span>\n",
       "<span style=\"color: #7fbfbf; text-decoration-color: #7fbfbf\">                      </span><span style=\"color: #800000; text-decoration-color: #800000\">permittivity and check that the surface mesh is loaded    </span>\n",
       "<span style=\"color: #7fbfbf; text-decoration-color: #7fbfbf\">                      </span><span style=\"color: #800000; text-decoration-color: #800000\">correctly.                                                </span>\n",
       "</pre>\n"
      ],
      "text/plain": [
       "\u001b[2;36m11:00:29 中国标准时间\u001b[0m\u001b[2;36m \u001b[0m\u001b[31mWARNING: Client-side permittivity of a \u001b[0m\u001b[32m'TriangleMesh'\u001b[0m\u001b[31m may \u001b[0m\n",
       "\u001b[2;36m                      \u001b[0m\u001b[31mbe inaccurate if the mesh is not unionized. We recommend  \u001b[0m\n",
       "\u001b[2;36m                      \u001b[0m\u001b[31munionizing all meshes before import. A                    \u001b[0m\n",
       "\u001b[2;36m                      \u001b[0m\u001b[32m'PermittivityMonitor'\u001b[0m\u001b[31m can be used to obtain the true      \u001b[0m\n",
       "\u001b[2;36m                      \u001b[0m\u001b[31mpermittivity and check that the surface mesh is loaded    \u001b[0m\n",
       "\u001b[2;36m                      \u001b[0m\u001b[31mcorrectly.                                                \u001b[0m\n"
      ]
     },
     "metadata": {},
     "output_type": "display_data"
    },
    {
     "data": {
      "text/html": [
       "<pre style=\"white-space:pre;overflow-x:auto;line-height:normal;font-family:Menlo,'DejaVu Sans Mono',consolas,'Courier New',monospace\"><span style=\"color: #7fbfbf; text-decoration-color: #7fbfbf\">                </span><span style=\"color: #800000; text-decoration-color: #800000\">WARNING: Client-side permittivity of a </span><span style=\"color: #008000; text-decoration-color: #008000\">'TriangleMesh'</span><span style=\"color: #800000; text-decoration-color: #800000\"> may be    </span>\n",
       "<span style=\"color: #7fbfbf; text-decoration-color: #7fbfbf\">                </span><span style=\"color: #800000; text-decoration-color: #800000\">inaccurate if the mesh is not unionized. We recommend unionizing</span>\n",
       "<span style=\"color: #7fbfbf; text-decoration-color: #7fbfbf\">                </span><span style=\"color: #800000; text-decoration-color: #800000\">all meshes before import. A </span><span style=\"color: #008000; text-decoration-color: #008000\">'PermittivityMonitor'</span><span style=\"color: #800000; text-decoration-color: #800000\"> can be used to</span>\n",
       "<span style=\"color: #7fbfbf; text-decoration-color: #7fbfbf\">                </span><span style=\"color: #800000; text-decoration-color: #800000\">obtain the true permittivity and check that the surface mesh is </span>\n",
       "<span style=\"color: #7fbfbf; text-decoration-color: #7fbfbf\">                </span><span style=\"color: #800000; text-decoration-color: #800000\">loaded correctly.                                               </span>\n",
       "</pre>\n"
      ],
      "text/plain": [
       "\u001b[2;36m               \u001b[0m\u001b[2;36m \u001b[0m\u001b[31mWARNING: Client-side permittivity of a \u001b[0m\u001b[32m'TriangleMesh'\u001b[0m\u001b[31m may be    \u001b[0m\n",
       "\u001b[2;36m                \u001b[0m\u001b[31minaccurate if the mesh is not unionized. We recommend unionizing\u001b[0m\n",
       "\u001b[2;36m                \u001b[0m\u001b[31mall meshes before import. A \u001b[0m\u001b[32m'PermittivityMonitor'\u001b[0m\u001b[31m can be used to\u001b[0m\n",
       "\u001b[2;36m                \u001b[0m\u001b[31mobtain the true permittivity and check that the surface mesh is \u001b[0m\n",
       "\u001b[2;36m                \u001b[0m\u001b[31mloaded correctly.                                               \u001b[0m\n"
      ]
     },
     "metadata": {},
     "output_type": "display_data"
    },
    {
     "data": {
      "text/html": [
       "<pre style=\"white-space:pre;overflow-x:auto;line-height:normal;font-family:Menlo,'DejaVu Sans Mono',consolas,'Courier New',monospace\"><span style=\"color: #7fbfbf; text-decoration-color: #7fbfbf\">                </span><span style=\"color: #800000; text-decoration-color: #800000\">WARNING: Client-side permittivity of a </span><span style=\"color: #008000; text-decoration-color: #008000\">'TriangleMesh'</span><span style=\"color: #800000; text-decoration-color: #800000\"> may be    </span>\n",
       "<span style=\"color: #7fbfbf; text-decoration-color: #7fbfbf\">                </span><span style=\"color: #800000; text-decoration-color: #800000\">inaccurate if the mesh is not unionized. We recommend unionizing</span>\n",
       "<span style=\"color: #7fbfbf; text-decoration-color: #7fbfbf\">                </span><span style=\"color: #800000; text-decoration-color: #800000\">all meshes before import. A </span><span style=\"color: #008000; text-decoration-color: #008000\">'PermittivityMonitor'</span><span style=\"color: #800000; text-decoration-color: #800000\"> can be used to</span>\n",
       "<span style=\"color: #7fbfbf; text-decoration-color: #7fbfbf\">                </span><span style=\"color: #800000; text-decoration-color: #800000\">obtain the true permittivity and check that the surface mesh is </span>\n",
       "<span style=\"color: #7fbfbf; text-decoration-color: #7fbfbf\">                </span><span style=\"color: #800000; text-decoration-color: #800000\">loaded correctly.                                               </span>\n",
       "</pre>\n"
      ],
      "text/plain": [
       "\u001b[2;36m               \u001b[0m\u001b[2;36m \u001b[0m\u001b[31mWARNING: Client-side permittivity of a \u001b[0m\u001b[32m'TriangleMesh'\u001b[0m\u001b[31m may be    \u001b[0m\n",
       "\u001b[2;36m                \u001b[0m\u001b[31minaccurate if the mesh is not unionized. We recommend unionizing\u001b[0m\n",
       "\u001b[2;36m                \u001b[0m\u001b[31mall meshes before import. A \u001b[0m\u001b[32m'PermittivityMonitor'\u001b[0m\u001b[31m can be used to\u001b[0m\n",
       "\u001b[2;36m                \u001b[0m\u001b[31mobtain the true permittivity and check that the surface mesh is \u001b[0m\n",
       "\u001b[2;36m                \u001b[0m\u001b[31mloaded correctly.                                               \u001b[0m\n"
      ]
     },
     "metadata": {},
     "output_type": "display_data"
    },
    {
     "data": {
      "text/html": [
       "<pre style=\"white-space:pre;overflow-x:auto;line-height:normal;font-family:Menlo,'DejaVu Sans Mono',consolas,'Courier New',monospace\"><span style=\"color: #7fbfbf; text-decoration-color: #7fbfbf\">                </span><span style=\"color: #800000; text-decoration-color: #800000\">WARNING: Client-side permittivity of a </span><span style=\"color: #008000; text-decoration-color: #008000\">'TriangleMesh'</span><span style=\"color: #800000; text-decoration-color: #800000\"> may be    </span>\n",
       "<span style=\"color: #7fbfbf; text-decoration-color: #7fbfbf\">                </span><span style=\"color: #800000; text-decoration-color: #800000\">inaccurate if the mesh is not unionized. We recommend unionizing</span>\n",
       "<span style=\"color: #7fbfbf; text-decoration-color: #7fbfbf\">                </span><span style=\"color: #800000; text-decoration-color: #800000\">all meshes before import. A </span><span style=\"color: #008000; text-decoration-color: #008000\">'PermittivityMonitor'</span><span style=\"color: #800000; text-decoration-color: #800000\"> can be used to</span>\n",
       "<span style=\"color: #7fbfbf; text-decoration-color: #7fbfbf\">                </span><span style=\"color: #800000; text-decoration-color: #800000\">obtain the true permittivity and check that the surface mesh is </span>\n",
       "<span style=\"color: #7fbfbf; text-decoration-color: #7fbfbf\">                </span><span style=\"color: #800000; text-decoration-color: #800000\">loaded correctly.                                               </span>\n",
       "</pre>\n"
      ],
      "text/plain": [
       "\u001b[2;36m               \u001b[0m\u001b[2;36m \u001b[0m\u001b[31mWARNING: Client-side permittivity of a \u001b[0m\u001b[32m'TriangleMesh'\u001b[0m\u001b[31m may be    \u001b[0m\n",
       "\u001b[2;36m                \u001b[0m\u001b[31minaccurate if the mesh is not unionized. We recommend unionizing\u001b[0m\n",
       "\u001b[2;36m                \u001b[0m\u001b[31mall meshes before import. A \u001b[0m\u001b[32m'PermittivityMonitor'\u001b[0m\u001b[31m can be used to\u001b[0m\n",
       "\u001b[2;36m                \u001b[0m\u001b[31mobtain the true permittivity and check that the surface mesh is \u001b[0m\n",
       "\u001b[2;36m                \u001b[0m\u001b[31mloaded correctly.                                               \u001b[0m\n"
      ]
     },
     "metadata": {},
     "output_type": "display_data"
    },
    {
     "data": {
      "text/html": [
       "<pre style=\"white-space:pre;overflow-x:auto;line-height:normal;font-family:Menlo,'DejaVu Sans Mono',consolas,'Courier New',monospace\"><span style=\"color: #7fbfbf; text-decoration-color: #7fbfbf\">                </span><span style=\"color: #800000; text-decoration-color: #800000\">WARNING: Client-side permittivity of a </span><span style=\"color: #008000; text-decoration-color: #008000\">'TriangleMesh'</span><span style=\"color: #800000; text-decoration-color: #800000\"> may be    </span>\n",
       "<span style=\"color: #7fbfbf; text-decoration-color: #7fbfbf\">                </span><span style=\"color: #800000; text-decoration-color: #800000\">inaccurate if the mesh is not unionized. We recommend unionizing</span>\n",
       "<span style=\"color: #7fbfbf; text-decoration-color: #7fbfbf\">                </span><span style=\"color: #800000; text-decoration-color: #800000\">all meshes before import. A </span><span style=\"color: #008000; text-decoration-color: #008000\">'PermittivityMonitor'</span><span style=\"color: #800000; text-decoration-color: #800000\"> can be used to</span>\n",
       "<span style=\"color: #7fbfbf; text-decoration-color: #7fbfbf\">                </span><span style=\"color: #800000; text-decoration-color: #800000\">obtain the true permittivity and check that the surface mesh is </span>\n",
       "<span style=\"color: #7fbfbf; text-decoration-color: #7fbfbf\">                </span><span style=\"color: #800000; text-decoration-color: #800000\">loaded correctly.                                               </span>\n",
       "</pre>\n"
      ],
      "text/plain": [
       "\u001b[2;36m               \u001b[0m\u001b[2;36m \u001b[0m\u001b[31mWARNING: Client-side permittivity of a \u001b[0m\u001b[32m'TriangleMesh'\u001b[0m\u001b[31m may be    \u001b[0m\n",
       "\u001b[2;36m                \u001b[0m\u001b[31minaccurate if the mesh is not unionized. We recommend unionizing\u001b[0m\n",
       "\u001b[2;36m                \u001b[0m\u001b[31mall meshes before import. A \u001b[0m\u001b[32m'PermittivityMonitor'\u001b[0m\u001b[31m can be used to\u001b[0m\n",
       "\u001b[2;36m                \u001b[0m\u001b[31mobtain the true permittivity and check that the surface mesh is \u001b[0m\n",
       "\u001b[2;36m                \u001b[0m\u001b[31mloaded correctly.                                               \u001b[0m\n"
      ]
     },
     "metadata": {},
     "output_type": "display_data"
    },
    {
     "data": {
      "text/html": [
       "<pre style=\"white-space:pre;overflow-x:auto;line-height:normal;font-family:Menlo,'DejaVu Sans Mono',consolas,'Courier New',monospace\"><span style=\"color: #7fbfbf; text-decoration-color: #7fbfbf\">                </span><span style=\"color: #800000; text-decoration-color: #800000\">WARNING: Client-side permittivity of a </span><span style=\"color: #008000; text-decoration-color: #008000\">'TriangleMesh'</span><span style=\"color: #800000; text-decoration-color: #800000\"> may be    </span>\n",
       "<span style=\"color: #7fbfbf; text-decoration-color: #7fbfbf\">                </span><span style=\"color: #800000; text-decoration-color: #800000\">inaccurate if the mesh is not unionized. We recommend unionizing</span>\n",
       "<span style=\"color: #7fbfbf; text-decoration-color: #7fbfbf\">                </span><span style=\"color: #800000; text-decoration-color: #800000\">all meshes before import. A </span><span style=\"color: #008000; text-decoration-color: #008000\">'PermittivityMonitor'</span><span style=\"color: #800000; text-decoration-color: #800000\"> can be used to</span>\n",
       "<span style=\"color: #7fbfbf; text-decoration-color: #7fbfbf\">                </span><span style=\"color: #800000; text-decoration-color: #800000\">obtain the true permittivity and check that the surface mesh is </span>\n",
       "<span style=\"color: #7fbfbf; text-decoration-color: #7fbfbf\">                </span><span style=\"color: #800000; text-decoration-color: #800000\">loaded correctly.                                               </span>\n",
       "</pre>\n"
      ],
      "text/plain": [
       "\u001b[2;36m               \u001b[0m\u001b[2;36m \u001b[0m\u001b[31mWARNING: Client-side permittivity of a \u001b[0m\u001b[32m'TriangleMesh'\u001b[0m\u001b[31m may be    \u001b[0m\n",
       "\u001b[2;36m                \u001b[0m\u001b[31minaccurate if the mesh is not unionized. We recommend unionizing\u001b[0m\n",
       "\u001b[2;36m                \u001b[0m\u001b[31mall meshes before import. A \u001b[0m\u001b[32m'PermittivityMonitor'\u001b[0m\u001b[31m can be used to\u001b[0m\n",
       "\u001b[2;36m                \u001b[0m\u001b[31mobtain the true permittivity and check that the surface mesh is \u001b[0m\n",
       "\u001b[2;36m                \u001b[0m\u001b[31mloaded correctly.                                               \u001b[0m\n"
      ]
     },
     "metadata": {},
     "output_type": "display_data"
    },
    {
     "data": {
      "text/html": [
       "<pre style=\"white-space:pre;overflow-x:auto;line-height:normal;font-family:Menlo,'DejaVu Sans Mono',consolas,'Courier New',monospace\"><span style=\"color: #7fbfbf; text-decoration-color: #7fbfbf\">                </span><span style=\"color: #800000; text-decoration-color: #800000\">WARNING: Client-side permittivity of a </span><span style=\"color: #008000; text-decoration-color: #008000\">'TriangleMesh'</span><span style=\"color: #800000; text-decoration-color: #800000\"> may be    </span>\n",
       "<span style=\"color: #7fbfbf; text-decoration-color: #7fbfbf\">                </span><span style=\"color: #800000; text-decoration-color: #800000\">inaccurate if the mesh is not unionized. We recommend unionizing</span>\n",
       "<span style=\"color: #7fbfbf; text-decoration-color: #7fbfbf\">                </span><span style=\"color: #800000; text-decoration-color: #800000\">all meshes before import. A </span><span style=\"color: #008000; text-decoration-color: #008000\">'PermittivityMonitor'</span><span style=\"color: #800000; text-decoration-color: #800000\"> can be used to</span>\n",
       "<span style=\"color: #7fbfbf; text-decoration-color: #7fbfbf\">                </span><span style=\"color: #800000; text-decoration-color: #800000\">obtain the true permittivity and check that the surface mesh is </span>\n",
       "<span style=\"color: #7fbfbf; text-decoration-color: #7fbfbf\">                </span><span style=\"color: #800000; text-decoration-color: #800000\">loaded correctly.                                               </span>\n",
       "</pre>\n"
      ],
      "text/plain": [
       "\u001b[2;36m               \u001b[0m\u001b[2;36m \u001b[0m\u001b[31mWARNING: Client-side permittivity of a \u001b[0m\u001b[32m'TriangleMesh'\u001b[0m\u001b[31m may be    \u001b[0m\n",
       "\u001b[2;36m                \u001b[0m\u001b[31minaccurate if the mesh is not unionized. We recommend unionizing\u001b[0m\n",
       "\u001b[2;36m                \u001b[0m\u001b[31mall meshes before import. A \u001b[0m\u001b[32m'PermittivityMonitor'\u001b[0m\u001b[31m can be used to\u001b[0m\n",
       "\u001b[2;36m                \u001b[0m\u001b[31mobtain the true permittivity and check that the surface mesh is \u001b[0m\n",
       "\u001b[2;36m                \u001b[0m\u001b[31mloaded correctly.                                               \u001b[0m\n"
      ]
     },
     "metadata": {},
     "output_type": "display_data"
    },
    {
     "data": {
      "text/html": [
       "<pre style=\"white-space:pre;overflow-x:auto;line-height:normal;font-family:Menlo,'DejaVu Sans Mono',consolas,'Courier New',monospace\"><span style=\"color: #7fbfbf; text-decoration-color: #7fbfbf\">                </span><span style=\"color: #800000; text-decoration-color: #800000\">WARNING: Client-side permittivity of a </span><span style=\"color: #008000; text-decoration-color: #008000\">'TriangleMesh'</span><span style=\"color: #800000; text-decoration-color: #800000\"> may be    </span>\n",
       "<span style=\"color: #7fbfbf; text-decoration-color: #7fbfbf\">                </span><span style=\"color: #800000; text-decoration-color: #800000\">inaccurate if the mesh is not unionized. We recommend unionizing</span>\n",
       "<span style=\"color: #7fbfbf; text-decoration-color: #7fbfbf\">                </span><span style=\"color: #800000; text-decoration-color: #800000\">all meshes before import. A </span><span style=\"color: #008000; text-decoration-color: #008000\">'PermittivityMonitor'</span><span style=\"color: #800000; text-decoration-color: #800000\"> can be used to</span>\n",
       "<span style=\"color: #7fbfbf; text-decoration-color: #7fbfbf\">                </span><span style=\"color: #800000; text-decoration-color: #800000\">obtain the true permittivity and check that the surface mesh is </span>\n",
       "<span style=\"color: #7fbfbf; text-decoration-color: #7fbfbf\">                </span><span style=\"color: #800000; text-decoration-color: #800000\">loaded correctly.                                               </span>\n",
       "</pre>\n"
      ],
      "text/plain": [
       "\u001b[2;36m               \u001b[0m\u001b[2;36m \u001b[0m\u001b[31mWARNING: Client-side permittivity of a \u001b[0m\u001b[32m'TriangleMesh'\u001b[0m\u001b[31m may be    \u001b[0m\n",
       "\u001b[2;36m                \u001b[0m\u001b[31minaccurate if the mesh is not unionized. We recommend unionizing\u001b[0m\n",
       "\u001b[2;36m                \u001b[0m\u001b[31mall meshes before import. A \u001b[0m\u001b[32m'PermittivityMonitor'\u001b[0m\u001b[31m can be used to\u001b[0m\n",
       "\u001b[2;36m                \u001b[0m\u001b[31mobtain the true permittivity and check that the surface mesh is \u001b[0m\n",
       "\u001b[2;36m                \u001b[0m\u001b[31mloaded correctly.                                               \u001b[0m\n"
      ]
     },
     "metadata": {},
     "output_type": "display_data"
    },
    {
     "data": {
      "text/html": [
       "<pre style=\"white-space:pre;overflow-x:auto;line-height:normal;font-family:Menlo,'DejaVu Sans Mono',consolas,'Courier New',monospace\"><span style=\"color: #7fbfbf; text-decoration-color: #7fbfbf\">                </span><span style=\"color: #800000; text-decoration-color: #800000\">WARNING: Client-side permittivity of a </span><span style=\"color: #008000; text-decoration-color: #008000\">'TriangleMesh'</span><span style=\"color: #800000; text-decoration-color: #800000\"> may be    </span>\n",
       "<span style=\"color: #7fbfbf; text-decoration-color: #7fbfbf\">                </span><span style=\"color: #800000; text-decoration-color: #800000\">inaccurate if the mesh is not unionized. We recommend unionizing</span>\n",
       "<span style=\"color: #7fbfbf; text-decoration-color: #7fbfbf\">                </span><span style=\"color: #800000; text-decoration-color: #800000\">all meshes before import. A </span><span style=\"color: #008000; text-decoration-color: #008000\">'PermittivityMonitor'</span><span style=\"color: #800000; text-decoration-color: #800000\"> can be used to</span>\n",
       "<span style=\"color: #7fbfbf; text-decoration-color: #7fbfbf\">                </span><span style=\"color: #800000; text-decoration-color: #800000\">obtain the true permittivity and check that the surface mesh is </span>\n",
       "<span style=\"color: #7fbfbf; text-decoration-color: #7fbfbf\">                </span><span style=\"color: #800000; text-decoration-color: #800000\">loaded correctly.                                               </span>\n",
       "</pre>\n"
      ],
      "text/plain": [
       "\u001b[2;36m               \u001b[0m\u001b[2;36m \u001b[0m\u001b[31mWARNING: Client-side permittivity of a \u001b[0m\u001b[32m'TriangleMesh'\u001b[0m\u001b[31m may be    \u001b[0m\n",
       "\u001b[2;36m                \u001b[0m\u001b[31minaccurate if the mesh is not unionized. We recommend unionizing\u001b[0m\n",
       "\u001b[2;36m                \u001b[0m\u001b[31mall meshes before import. A \u001b[0m\u001b[32m'PermittivityMonitor'\u001b[0m\u001b[31m can be used to\u001b[0m\n",
       "\u001b[2;36m                \u001b[0m\u001b[31mobtain the true permittivity and check that the surface mesh is \u001b[0m\n",
       "\u001b[2;36m                \u001b[0m\u001b[31mloaded correctly.                                               \u001b[0m\n"
      ]
     },
     "metadata": {},
     "output_type": "display_data"
    },
    {
     "data": {
      "text/html": [
       "<pre style=\"white-space:pre;overflow-x:auto;line-height:normal;font-family:Menlo,'DejaVu Sans Mono',consolas,'Courier New',monospace\"><span style=\"color: #7fbfbf; text-decoration-color: #7fbfbf\">                </span><span style=\"color: #800000; text-decoration-color: #800000\">WARNING: Client-side permittivity of a </span><span style=\"color: #008000; text-decoration-color: #008000\">'TriangleMesh'</span><span style=\"color: #800000; text-decoration-color: #800000\"> may be    </span>\n",
       "<span style=\"color: #7fbfbf; text-decoration-color: #7fbfbf\">                </span><span style=\"color: #800000; text-decoration-color: #800000\">inaccurate if the mesh is not unionized. We recommend unionizing</span>\n",
       "<span style=\"color: #7fbfbf; text-decoration-color: #7fbfbf\">                </span><span style=\"color: #800000; text-decoration-color: #800000\">all meshes before import. A </span><span style=\"color: #008000; text-decoration-color: #008000\">'PermittivityMonitor'</span><span style=\"color: #800000; text-decoration-color: #800000\"> can be used to</span>\n",
       "<span style=\"color: #7fbfbf; text-decoration-color: #7fbfbf\">                </span><span style=\"color: #800000; text-decoration-color: #800000\">obtain the true permittivity and check that the surface mesh is </span>\n",
       "<span style=\"color: #7fbfbf; text-decoration-color: #7fbfbf\">                </span><span style=\"color: #800000; text-decoration-color: #800000\">loaded correctly.                                               </span>\n",
       "</pre>\n"
      ],
      "text/plain": [
       "\u001b[2;36m               \u001b[0m\u001b[2;36m \u001b[0m\u001b[31mWARNING: Client-side permittivity of a \u001b[0m\u001b[32m'TriangleMesh'\u001b[0m\u001b[31m may be    \u001b[0m\n",
       "\u001b[2;36m                \u001b[0m\u001b[31minaccurate if the mesh is not unionized. We recommend unionizing\u001b[0m\n",
       "\u001b[2;36m                \u001b[0m\u001b[31mall meshes before import. A \u001b[0m\u001b[32m'PermittivityMonitor'\u001b[0m\u001b[31m can be used to\u001b[0m\n",
       "\u001b[2;36m                \u001b[0m\u001b[31mobtain the true permittivity and check that the surface mesh is \u001b[0m\n",
       "\u001b[2;36m                \u001b[0m\u001b[31mloaded correctly.                                               \u001b[0m\n"
      ]
     },
     "metadata": {},
     "output_type": "display_data"
    },
    {
     "data": {
      "text/html": [
       "<pre style=\"white-space:pre;overflow-x:auto;line-height:normal;font-family:Menlo,'DejaVu Sans Mono',consolas,'Courier New',monospace\"><span style=\"color: #7fbfbf; text-decoration-color: #7fbfbf\">                </span><span style=\"color: #800000; text-decoration-color: #800000\">WARNING: Client-side permittivity of a </span><span style=\"color: #008000; text-decoration-color: #008000\">'TriangleMesh'</span><span style=\"color: #800000; text-decoration-color: #800000\"> may be    </span>\n",
       "<span style=\"color: #7fbfbf; text-decoration-color: #7fbfbf\">                </span><span style=\"color: #800000; text-decoration-color: #800000\">inaccurate if the mesh is not unionized. We recommend unionizing</span>\n",
       "<span style=\"color: #7fbfbf; text-decoration-color: #7fbfbf\">                </span><span style=\"color: #800000; text-decoration-color: #800000\">all meshes before import. A </span><span style=\"color: #008000; text-decoration-color: #008000\">'PermittivityMonitor'</span><span style=\"color: #800000; text-decoration-color: #800000\"> can be used to</span>\n",
       "<span style=\"color: #7fbfbf; text-decoration-color: #7fbfbf\">                </span><span style=\"color: #800000; text-decoration-color: #800000\">obtain the true permittivity and check that the surface mesh is </span>\n",
       "<span style=\"color: #7fbfbf; text-decoration-color: #7fbfbf\">                </span><span style=\"color: #800000; text-decoration-color: #800000\">loaded correctly.                                               </span>\n",
       "</pre>\n"
      ],
      "text/plain": [
       "\u001b[2;36m               \u001b[0m\u001b[2;36m \u001b[0m\u001b[31mWARNING: Client-side permittivity of a \u001b[0m\u001b[32m'TriangleMesh'\u001b[0m\u001b[31m may be    \u001b[0m\n",
       "\u001b[2;36m                \u001b[0m\u001b[31minaccurate if the mesh is not unionized. We recommend unionizing\u001b[0m\n",
       "\u001b[2;36m                \u001b[0m\u001b[31mall meshes before import. A \u001b[0m\u001b[32m'PermittivityMonitor'\u001b[0m\u001b[31m can be used to\u001b[0m\n",
       "\u001b[2;36m                \u001b[0m\u001b[31mobtain the true permittivity and check that the surface mesh is \u001b[0m\n",
       "\u001b[2;36m                \u001b[0m\u001b[31mloaded correctly.                                               \u001b[0m\n"
      ]
     },
     "metadata": {},
     "output_type": "display_data"
    },
    {
     "data": {
      "text/html": [
       "<pre style=\"white-space:pre;overflow-x:auto;line-height:normal;font-family:Menlo,'DejaVu Sans Mono',consolas,'Courier New',monospace\"><span style=\"color: #7fbfbf; text-decoration-color: #7fbfbf\">                </span><span style=\"color: #800000; text-decoration-color: #800000\">WARNING: Client-side permittivity of a </span><span style=\"color: #008000; text-decoration-color: #008000\">'TriangleMesh'</span><span style=\"color: #800000; text-decoration-color: #800000\"> may be    </span>\n",
       "<span style=\"color: #7fbfbf; text-decoration-color: #7fbfbf\">                </span><span style=\"color: #800000; text-decoration-color: #800000\">inaccurate if the mesh is not unionized. We recommend unionizing</span>\n",
       "<span style=\"color: #7fbfbf; text-decoration-color: #7fbfbf\">                </span><span style=\"color: #800000; text-decoration-color: #800000\">all meshes before import. A </span><span style=\"color: #008000; text-decoration-color: #008000\">'PermittivityMonitor'</span><span style=\"color: #800000; text-decoration-color: #800000\"> can be used to</span>\n",
       "<span style=\"color: #7fbfbf; text-decoration-color: #7fbfbf\">                </span><span style=\"color: #800000; text-decoration-color: #800000\">obtain the true permittivity and check that the surface mesh is </span>\n",
       "<span style=\"color: #7fbfbf; text-decoration-color: #7fbfbf\">                </span><span style=\"color: #800000; text-decoration-color: #800000\">loaded correctly.                                               </span>\n",
       "</pre>\n"
      ],
      "text/plain": [
       "\u001b[2;36m               \u001b[0m\u001b[2;36m \u001b[0m\u001b[31mWARNING: Client-side permittivity of a \u001b[0m\u001b[32m'TriangleMesh'\u001b[0m\u001b[31m may be    \u001b[0m\n",
       "\u001b[2;36m                \u001b[0m\u001b[31minaccurate if the mesh is not unionized. We recommend unionizing\u001b[0m\n",
       "\u001b[2;36m                \u001b[0m\u001b[31mall meshes before import. A \u001b[0m\u001b[32m'PermittivityMonitor'\u001b[0m\u001b[31m can be used to\u001b[0m\n",
       "\u001b[2;36m                \u001b[0m\u001b[31mobtain the true permittivity and check that the surface mesh is \u001b[0m\n",
       "\u001b[2;36m                \u001b[0m\u001b[31mloaded correctly.                                               \u001b[0m\n"
      ]
     },
     "metadata": {},
     "output_type": "display_data"
    },
    {
     "data": {
      "text/html": [
       "<pre style=\"white-space:pre;overflow-x:auto;line-height:normal;font-family:Menlo,'DejaVu Sans Mono',consolas,'Courier New',monospace\"><span style=\"color: #7fbfbf; text-decoration-color: #7fbfbf\">                </span><span style=\"color: #800000; text-decoration-color: #800000\">WARNING: Client-side permittivity of a </span><span style=\"color: #008000; text-decoration-color: #008000\">'TriangleMesh'</span><span style=\"color: #800000; text-decoration-color: #800000\"> may be    </span>\n",
       "<span style=\"color: #7fbfbf; text-decoration-color: #7fbfbf\">                </span><span style=\"color: #800000; text-decoration-color: #800000\">inaccurate if the mesh is not unionized. We recommend unionizing</span>\n",
       "<span style=\"color: #7fbfbf; text-decoration-color: #7fbfbf\">                </span><span style=\"color: #800000; text-decoration-color: #800000\">all meshes before import. A </span><span style=\"color: #008000; text-decoration-color: #008000\">'PermittivityMonitor'</span><span style=\"color: #800000; text-decoration-color: #800000\"> can be used to</span>\n",
       "<span style=\"color: #7fbfbf; text-decoration-color: #7fbfbf\">                </span><span style=\"color: #800000; text-decoration-color: #800000\">obtain the true permittivity and check that the surface mesh is </span>\n",
       "<span style=\"color: #7fbfbf; text-decoration-color: #7fbfbf\">                </span><span style=\"color: #800000; text-decoration-color: #800000\">loaded correctly.                                               </span>\n",
       "</pre>\n"
      ],
      "text/plain": [
       "\u001b[2;36m               \u001b[0m\u001b[2;36m \u001b[0m\u001b[31mWARNING: Client-side permittivity of a \u001b[0m\u001b[32m'TriangleMesh'\u001b[0m\u001b[31m may be    \u001b[0m\n",
       "\u001b[2;36m                \u001b[0m\u001b[31minaccurate if the mesh is not unionized. We recommend unionizing\u001b[0m\n",
       "\u001b[2;36m                \u001b[0m\u001b[31mall meshes before import. A \u001b[0m\u001b[32m'PermittivityMonitor'\u001b[0m\u001b[31m can be used to\u001b[0m\n",
       "\u001b[2;36m                \u001b[0m\u001b[31mobtain the true permittivity and check that the surface mesh is \u001b[0m\n",
       "\u001b[2;36m                \u001b[0m\u001b[31mloaded correctly.                                               \u001b[0m\n"
      ]
     },
     "metadata": {},
     "output_type": "display_data"
    },
    {
     "data": {
      "text/html": [
       "<pre style=\"white-space:pre;overflow-x:auto;line-height:normal;font-family:Menlo,'DejaVu Sans Mono',consolas,'Courier New',monospace\"><span style=\"color: #7fbfbf; text-decoration-color: #7fbfbf\">                </span><span style=\"color: #800000; text-decoration-color: #800000\">WARNING: Client-side permittivity of a </span><span style=\"color: #008000; text-decoration-color: #008000\">'TriangleMesh'</span><span style=\"color: #800000; text-decoration-color: #800000\"> may be    </span>\n",
       "<span style=\"color: #7fbfbf; text-decoration-color: #7fbfbf\">                </span><span style=\"color: #800000; text-decoration-color: #800000\">inaccurate if the mesh is not unionized. We recommend unionizing</span>\n",
       "<span style=\"color: #7fbfbf; text-decoration-color: #7fbfbf\">                </span><span style=\"color: #800000; text-decoration-color: #800000\">all meshes before import. A </span><span style=\"color: #008000; text-decoration-color: #008000\">'PermittivityMonitor'</span><span style=\"color: #800000; text-decoration-color: #800000\"> can be used to</span>\n",
       "<span style=\"color: #7fbfbf; text-decoration-color: #7fbfbf\">                </span><span style=\"color: #800000; text-decoration-color: #800000\">obtain the true permittivity and check that the surface mesh is </span>\n",
       "<span style=\"color: #7fbfbf; text-decoration-color: #7fbfbf\">                </span><span style=\"color: #800000; text-decoration-color: #800000\">loaded correctly.                                               </span>\n",
       "</pre>\n"
      ],
      "text/plain": [
       "\u001b[2;36m               \u001b[0m\u001b[2;36m \u001b[0m\u001b[31mWARNING: Client-side permittivity of a \u001b[0m\u001b[32m'TriangleMesh'\u001b[0m\u001b[31m may be    \u001b[0m\n",
       "\u001b[2;36m                \u001b[0m\u001b[31minaccurate if the mesh is not unionized. We recommend unionizing\u001b[0m\n",
       "\u001b[2;36m                \u001b[0m\u001b[31mall meshes before import. A \u001b[0m\u001b[32m'PermittivityMonitor'\u001b[0m\u001b[31m can be used to\u001b[0m\n",
       "\u001b[2;36m                \u001b[0m\u001b[31mobtain the true permittivity and check that the surface mesh is \u001b[0m\n",
       "\u001b[2;36m                \u001b[0m\u001b[31mloaded correctly.                                               \u001b[0m\n"
      ]
     },
     "metadata": {},
     "output_type": "display_data"
    },
    {
     "data": {
      "text/html": [
       "<pre style=\"white-space:pre;overflow-x:auto;line-height:normal;font-family:Menlo,'DejaVu Sans Mono',consolas,'Courier New',monospace\"><span style=\"color: #7fbfbf; text-decoration-color: #7fbfbf\">                </span><span style=\"color: #800000; text-decoration-color: #800000\">WARNING: Client-side permittivity of a </span><span style=\"color: #008000; text-decoration-color: #008000\">'TriangleMesh'</span><span style=\"color: #800000; text-decoration-color: #800000\"> may be    </span>\n",
       "<span style=\"color: #7fbfbf; text-decoration-color: #7fbfbf\">                </span><span style=\"color: #800000; text-decoration-color: #800000\">inaccurate if the mesh is not unionized. We recommend unionizing</span>\n",
       "<span style=\"color: #7fbfbf; text-decoration-color: #7fbfbf\">                </span><span style=\"color: #800000; text-decoration-color: #800000\">all meshes before import. A </span><span style=\"color: #008000; text-decoration-color: #008000\">'PermittivityMonitor'</span><span style=\"color: #800000; text-decoration-color: #800000\"> can be used to</span>\n",
       "<span style=\"color: #7fbfbf; text-decoration-color: #7fbfbf\">                </span><span style=\"color: #800000; text-decoration-color: #800000\">obtain the true permittivity and check that the surface mesh is </span>\n",
       "<span style=\"color: #7fbfbf; text-decoration-color: #7fbfbf\">                </span><span style=\"color: #800000; text-decoration-color: #800000\">loaded correctly.                                               </span>\n",
       "</pre>\n"
      ],
      "text/plain": [
       "\u001b[2;36m               \u001b[0m\u001b[2;36m \u001b[0m\u001b[31mWARNING: Client-side permittivity of a \u001b[0m\u001b[32m'TriangleMesh'\u001b[0m\u001b[31m may be    \u001b[0m\n",
       "\u001b[2;36m                \u001b[0m\u001b[31minaccurate if the mesh is not unionized. We recommend unionizing\u001b[0m\n",
       "\u001b[2;36m                \u001b[0m\u001b[31mall meshes before import. A \u001b[0m\u001b[32m'PermittivityMonitor'\u001b[0m\u001b[31m can be used to\u001b[0m\n",
       "\u001b[2;36m                \u001b[0m\u001b[31mobtain the true permittivity and check that the surface mesh is \u001b[0m\n",
       "\u001b[2;36m                \u001b[0m\u001b[31mloaded correctly.                                               \u001b[0m\n"
      ]
     },
     "metadata": {},
     "output_type": "display_data"
    },
    {
     "data": {
      "text/html": [
       "<pre style=\"white-space:pre;overflow-x:auto;line-height:normal;font-family:Menlo,'DejaVu Sans Mono',consolas,'Courier New',monospace\"><span style=\"color: #7fbfbf; text-decoration-color: #7fbfbf\">                </span><span style=\"color: #800000; text-decoration-color: #800000\">WARNING: Client-side permittivity of a </span><span style=\"color: #008000; text-decoration-color: #008000\">'TriangleMesh'</span><span style=\"color: #800000; text-decoration-color: #800000\"> may be    </span>\n",
       "<span style=\"color: #7fbfbf; text-decoration-color: #7fbfbf\">                </span><span style=\"color: #800000; text-decoration-color: #800000\">inaccurate if the mesh is not unionized. We recommend unionizing</span>\n",
       "<span style=\"color: #7fbfbf; text-decoration-color: #7fbfbf\">                </span><span style=\"color: #800000; text-decoration-color: #800000\">all meshes before import. A </span><span style=\"color: #008000; text-decoration-color: #008000\">'PermittivityMonitor'</span><span style=\"color: #800000; text-decoration-color: #800000\"> can be used to</span>\n",
       "<span style=\"color: #7fbfbf; text-decoration-color: #7fbfbf\">                </span><span style=\"color: #800000; text-decoration-color: #800000\">obtain the true permittivity and check that the surface mesh is </span>\n",
       "<span style=\"color: #7fbfbf; text-decoration-color: #7fbfbf\">                </span><span style=\"color: #800000; text-decoration-color: #800000\">loaded correctly.                                               </span>\n",
       "</pre>\n"
      ],
      "text/plain": [
       "\u001b[2;36m               \u001b[0m\u001b[2;36m \u001b[0m\u001b[31mWARNING: Client-side permittivity of a \u001b[0m\u001b[32m'TriangleMesh'\u001b[0m\u001b[31m may be    \u001b[0m\n",
       "\u001b[2;36m                \u001b[0m\u001b[31minaccurate if the mesh is not unionized. We recommend unionizing\u001b[0m\n",
       "\u001b[2;36m                \u001b[0m\u001b[31mall meshes before import. A \u001b[0m\u001b[32m'PermittivityMonitor'\u001b[0m\u001b[31m can be used to\u001b[0m\n",
       "\u001b[2;36m                \u001b[0m\u001b[31mobtain the true permittivity and check that the surface mesh is \u001b[0m\n",
       "\u001b[2;36m                \u001b[0m\u001b[31mloaded correctly.                                               \u001b[0m\n"
      ]
     },
     "metadata": {},
     "output_type": "display_data"
    },
    {
     "data": {
      "text/html": [
       "<pre style=\"white-space:pre;overflow-x:auto;line-height:normal;font-family:Menlo,'DejaVu Sans Mono',consolas,'Courier New',monospace\"><span style=\"color: #7fbfbf; text-decoration-color: #7fbfbf\">                </span><span style=\"color: #800000; text-decoration-color: #800000\">WARNING: Client-side permittivity of a </span><span style=\"color: #008000; text-decoration-color: #008000\">'TriangleMesh'</span><span style=\"color: #800000; text-decoration-color: #800000\"> may be    </span>\n",
       "<span style=\"color: #7fbfbf; text-decoration-color: #7fbfbf\">                </span><span style=\"color: #800000; text-decoration-color: #800000\">inaccurate if the mesh is not unionized. We recommend unionizing</span>\n",
       "<span style=\"color: #7fbfbf; text-decoration-color: #7fbfbf\">                </span><span style=\"color: #800000; text-decoration-color: #800000\">all meshes before import. A </span><span style=\"color: #008000; text-decoration-color: #008000\">'PermittivityMonitor'</span><span style=\"color: #800000; text-decoration-color: #800000\"> can be used to</span>\n",
       "<span style=\"color: #7fbfbf; text-decoration-color: #7fbfbf\">                </span><span style=\"color: #800000; text-decoration-color: #800000\">obtain the true permittivity and check that the surface mesh is </span>\n",
       "<span style=\"color: #7fbfbf; text-decoration-color: #7fbfbf\">                </span><span style=\"color: #800000; text-decoration-color: #800000\">loaded correctly.                                               </span>\n",
       "</pre>\n"
      ],
      "text/plain": [
       "\u001b[2;36m               \u001b[0m\u001b[2;36m \u001b[0m\u001b[31mWARNING: Client-side permittivity of a \u001b[0m\u001b[32m'TriangleMesh'\u001b[0m\u001b[31m may be    \u001b[0m\n",
       "\u001b[2;36m                \u001b[0m\u001b[31minaccurate if the mesh is not unionized. We recommend unionizing\u001b[0m\n",
       "\u001b[2;36m                \u001b[0m\u001b[31mall meshes before import. A \u001b[0m\u001b[32m'PermittivityMonitor'\u001b[0m\u001b[31m can be used to\u001b[0m\n",
       "\u001b[2;36m                \u001b[0m\u001b[31mobtain the true permittivity and check that the surface mesh is \u001b[0m\n",
       "\u001b[2;36m                \u001b[0m\u001b[31mloaded correctly.                                               \u001b[0m\n"
      ]
     },
     "metadata": {},
     "output_type": "display_data"
    },
    {
     "data": {
      "text/html": [
       "<pre style=\"white-space:pre;overflow-x:auto;line-height:normal;font-family:Menlo,'DejaVu Sans Mono',consolas,'Courier New',monospace\"><span style=\"color: #7fbfbf; text-decoration-color: #7fbfbf\">                </span><span style=\"color: #800000; text-decoration-color: #800000\">WARNING: Client-side permittivity of a </span><span style=\"color: #008000; text-decoration-color: #008000\">'TriangleMesh'</span><span style=\"color: #800000; text-decoration-color: #800000\"> may be    </span>\n",
       "<span style=\"color: #7fbfbf; text-decoration-color: #7fbfbf\">                </span><span style=\"color: #800000; text-decoration-color: #800000\">inaccurate if the mesh is not unionized. We recommend unionizing</span>\n",
       "<span style=\"color: #7fbfbf; text-decoration-color: #7fbfbf\">                </span><span style=\"color: #800000; text-decoration-color: #800000\">all meshes before import. A </span><span style=\"color: #008000; text-decoration-color: #008000\">'PermittivityMonitor'</span><span style=\"color: #800000; text-decoration-color: #800000\"> can be used to</span>\n",
       "<span style=\"color: #7fbfbf; text-decoration-color: #7fbfbf\">                </span><span style=\"color: #800000; text-decoration-color: #800000\">obtain the true permittivity and check that the surface mesh is </span>\n",
       "<span style=\"color: #7fbfbf; text-decoration-color: #7fbfbf\">                </span><span style=\"color: #800000; text-decoration-color: #800000\">loaded correctly.                                               </span>\n",
       "</pre>\n"
      ],
      "text/plain": [
       "\u001b[2;36m               \u001b[0m\u001b[2;36m \u001b[0m\u001b[31mWARNING: Client-side permittivity of a \u001b[0m\u001b[32m'TriangleMesh'\u001b[0m\u001b[31m may be    \u001b[0m\n",
       "\u001b[2;36m                \u001b[0m\u001b[31minaccurate if the mesh is not unionized. We recommend unionizing\u001b[0m\n",
       "\u001b[2;36m                \u001b[0m\u001b[31mall meshes before import. A \u001b[0m\u001b[32m'PermittivityMonitor'\u001b[0m\u001b[31m can be used to\u001b[0m\n",
       "\u001b[2;36m                \u001b[0m\u001b[31mobtain the true permittivity and check that the surface mesh is \u001b[0m\n",
       "\u001b[2;36m                \u001b[0m\u001b[31mloaded correctly.                                               \u001b[0m\n"
      ]
     },
     "metadata": {},
     "output_type": "display_data"
    },
    {
     "data": {
      "text/html": [
       "<pre style=\"white-space:pre;overflow-x:auto;line-height:normal;font-family:Menlo,'DejaVu Sans Mono',consolas,'Courier New',monospace\"><span style=\"color: #7fbfbf; text-decoration-color: #7fbfbf\">                </span><span style=\"color: #800000; text-decoration-color: #800000\">WARNING: Client-side permittivity of a </span><span style=\"color: #008000; text-decoration-color: #008000\">'TriangleMesh'</span><span style=\"color: #800000; text-decoration-color: #800000\"> may be    </span>\n",
       "<span style=\"color: #7fbfbf; text-decoration-color: #7fbfbf\">                </span><span style=\"color: #800000; text-decoration-color: #800000\">inaccurate if the mesh is not unionized. We recommend unionizing</span>\n",
       "<span style=\"color: #7fbfbf; text-decoration-color: #7fbfbf\">                </span><span style=\"color: #800000; text-decoration-color: #800000\">all meshes before import. A </span><span style=\"color: #008000; text-decoration-color: #008000\">'PermittivityMonitor'</span><span style=\"color: #800000; text-decoration-color: #800000\"> can be used to</span>\n",
       "<span style=\"color: #7fbfbf; text-decoration-color: #7fbfbf\">                </span><span style=\"color: #800000; text-decoration-color: #800000\">obtain the true permittivity and check that the surface mesh is </span>\n",
       "<span style=\"color: #7fbfbf; text-decoration-color: #7fbfbf\">                </span><span style=\"color: #800000; text-decoration-color: #800000\">loaded correctly.                                               </span>\n",
       "</pre>\n"
      ],
      "text/plain": [
       "\u001b[2;36m               \u001b[0m\u001b[2;36m \u001b[0m\u001b[31mWARNING: Client-side permittivity of a \u001b[0m\u001b[32m'TriangleMesh'\u001b[0m\u001b[31m may be    \u001b[0m\n",
       "\u001b[2;36m                \u001b[0m\u001b[31minaccurate if the mesh is not unionized. We recommend unionizing\u001b[0m\n",
       "\u001b[2;36m                \u001b[0m\u001b[31mall meshes before import. A \u001b[0m\u001b[32m'PermittivityMonitor'\u001b[0m\u001b[31m can be used to\u001b[0m\n",
       "\u001b[2;36m                \u001b[0m\u001b[31mobtain the true permittivity and check that the surface mesh is \u001b[0m\n",
       "\u001b[2;36m                \u001b[0m\u001b[31mloaded correctly.                                               \u001b[0m\n"
      ]
     },
     "metadata": {},
     "output_type": "display_data"
    },
    {
     "data": {
      "text/html": [
       "<pre style=\"white-space:pre;overflow-x:auto;line-height:normal;font-family:Menlo,'DejaVu Sans Mono',consolas,'Courier New',monospace\"><span style=\"color: #7fbfbf; text-decoration-color: #7fbfbf\">                </span><span style=\"color: #800000; text-decoration-color: #800000\">WARNING: Client-side permittivity of a </span><span style=\"color: #008000; text-decoration-color: #008000\">'TriangleMesh'</span><span style=\"color: #800000; text-decoration-color: #800000\"> may be    </span>\n",
       "<span style=\"color: #7fbfbf; text-decoration-color: #7fbfbf\">                </span><span style=\"color: #800000; text-decoration-color: #800000\">inaccurate if the mesh is not unionized. We recommend unionizing</span>\n",
       "<span style=\"color: #7fbfbf; text-decoration-color: #7fbfbf\">                </span><span style=\"color: #800000; text-decoration-color: #800000\">all meshes before import. A </span><span style=\"color: #008000; text-decoration-color: #008000\">'PermittivityMonitor'</span><span style=\"color: #800000; text-decoration-color: #800000\"> can be used to</span>\n",
       "<span style=\"color: #7fbfbf; text-decoration-color: #7fbfbf\">                </span><span style=\"color: #800000; text-decoration-color: #800000\">obtain the true permittivity and check that the surface mesh is </span>\n",
       "<span style=\"color: #7fbfbf; text-decoration-color: #7fbfbf\">                </span><span style=\"color: #800000; text-decoration-color: #800000\">loaded correctly.                                               </span>\n",
       "</pre>\n"
      ],
      "text/plain": [
       "\u001b[2;36m               \u001b[0m\u001b[2;36m \u001b[0m\u001b[31mWARNING: Client-side permittivity of a \u001b[0m\u001b[32m'TriangleMesh'\u001b[0m\u001b[31m may be    \u001b[0m\n",
       "\u001b[2;36m                \u001b[0m\u001b[31minaccurate if the mesh is not unionized. We recommend unionizing\u001b[0m\n",
       "\u001b[2;36m                \u001b[0m\u001b[31mall meshes before import. A \u001b[0m\u001b[32m'PermittivityMonitor'\u001b[0m\u001b[31m can be used to\u001b[0m\n",
       "\u001b[2;36m                \u001b[0m\u001b[31mobtain the true permittivity and check that the surface mesh is \u001b[0m\n",
       "\u001b[2;36m                \u001b[0m\u001b[31mloaded correctly.                                               \u001b[0m\n"
      ]
     },
     "metadata": {},
     "output_type": "display_data"
    },
    {
     "data": {
      "text/html": [
       "<pre style=\"white-space:pre;overflow-x:auto;line-height:normal;font-family:Menlo,'DejaVu Sans Mono',consolas,'Courier New',monospace\"><span style=\"color: #7fbfbf; text-decoration-color: #7fbfbf\">                </span><span style=\"color: #800000; text-decoration-color: #800000\">WARNING: Client-side permittivity of a </span><span style=\"color: #008000; text-decoration-color: #008000\">'TriangleMesh'</span><span style=\"color: #800000; text-decoration-color: #800000\"> may be    </span>\n",
       "<span style=\"color: #7fbfbf; text-decoration-color: #7fbfbf\">                </span><span style=\"color: #800000; text-decoration-color: #800000\">inaccurate if the mesh is not unionized. We recommend unionizing</span>\n",
       "<span style=\"color: #7fbfbf; text-decoration-color: #7fbfbf\">                </span><span style=\"color: #800000; text-decoration-color: #800000\">all meshes before import. A </span><span style=\"color: #008000; text-decoration-color: #008000\">'PermittivityMonitor'</span><span style=\"color: #800000; text-decoration-color: #800000\"> can be used to</span>\n",
       "<span style=\"color: #7fbfbf; text-decoration-color: #7fbfbf\">                </span><span style=\"color: #800000; text-decoration-color: #800000\">obtain the true permittivity and check that the surface mesh is </span>\n",
       "<span style=\"color: #7fbfbf; text-decoration-color: #7fbfbf\">                </span><span style=\"color: #800000; text-decoration-color: #800000\">loaded correctly.                                               </span>\n",
       "</pre>\n"
      ],
      "text/plain": [
       "\u001b[2;36m               \u001b[0m\u001b[2;36m \u001b[0m\u001b[31mWARNING: Client-side permittivity of a \u001b[0m\u001b[32m'TriangleMesh'\u001b[0m\u001b[31m may be    \u001b[0m\n",
       "\u001b[2;36m                \u001b[0m\u001b[31minaccurate if the mesh is not unionized. We recommend unionizing\u001b[0m\n",
       "\u001b[2;36m                \u001b[0m\u001b[31mall meshes before import. A \u001b[0m\u001b[32m'PermittivityMonitor'\u001b[0m\u001b[31m can be used to\u001b[0m\n",
       "\u001b[2;36m                \u001b[0m\u001b[31mobtain the true permittivity and check that the surface mesh is \u001b[0m\n",
       "\u001b[2;36m                \u001b[0m\u001b[31mloaded correctly.                                               \u001b[0m\n"
      ]
     },
     "metadata": {},
     "output_type": "display_data"
    },
    {
     "data": {
      "text/html": [
       "<pre style=\"white-space:pre;overflow-x:auto;line-height:normal;font-family:Menlo,'DejaVu Sans Mono',consolas,'Courier New',monospace\"><span style=\"color: #7fbfbf; text-decoration-color: #7fbfbf\">                </span><span style=\"color: #800000; text-decoration-color: #800000\">WARNING: Client-side permittivity of a </span><span style=\"color: #008000; text-decoration-color: #008000\">'TriangleMesh'</span><span style=\"color: #800000; text-decoration-color: #800000\"> may be    </span>\n",
       "<span style=\"color: #7fbfbf; text-decoration-color: #7fbfbf\">                </span><span style=\"color: #800000; text-decoration-color: #800000\">inaccurate if the mesh is not unionized. We recommend unionizing</span>\n",
       "<span style=\"color: #7fbfbf; text-decoration-color: #7fbfbf\">                </span><span style=\"color: #800000; text-decoration-color: #800000\">all meshes before import. A </span><span style=\"color: #008000; text-decoration-color: #008000\">'PermittivityMonitor'</span><span style=\"color: #800000; text-decoration-color: #800000\"> can be used to</span>\n",
       "<span style=\"color: #7fbfbf; text-decoration-color: #7fbfbf\">                </span><span style=\"color: #800000; text-decoration-color: #800000\">obtain the true permittivity and check that the surface mesh is </span>\n",
       "<span style=\"color: #7fbfbf; text-decoration-color: #7fbfbf\">                </span><span style=\"color: #800000; text-decoration-color: #800000\">loaded correctly.                                               </span>\n",
       "</pre>\n"
      ],
      "text/plain": [
       "\u001b[2;36m               \u001b[0m\u001b[2;36m \u001b[0m\u001b[31mWARNING: Client-side permittivity of a \u001b[0m\u001b[32m'TriangleMesh'\u001b[0m\u001b[31m may be    \u001b[0m\n",
       "\u001b[2;36m                \u001b[0m\u001b[31minaccurate if the mesh is not unionized. We recommend unionizing\u001b[0m\n",
       "\u001b[2;36m                \u001b[0m\u001b[31mall meshes before import. A \u001b[0m\u001b[32m'PermittivityMonitor'\u001b[0m\u001b[31m can be used to\u001b[0m\n",
       "\u001b[2;36m                \u001b[0m\u001b[31mobtain the true permittivity and check that the surface mesh is \u001b[0m\n",
       "\u001b[2;36m                \u001b[0m\u001b[31mloaded correctly.                                               \u001b[0m\n"
      ]
     },
     "metadata": {},
     "output_type": "display_data"
    },
    {
     "data": {
      "text/html": [
       "<pre style=\"white-space:pre;overflow-x:auto;line-height:normal;font-family:Menlo,'DejaVu Sans Mono',consolas,'Courier New',monospace\"><span style=\"color: #7fbfbf; text-decoration-color: #7fbfbf\">                </span><span style=\"color: #800000; text-decoration-color: #800000\">WARNING: Client-side permittivity of a </span><span style=\"color: #008000; text-decoration-color: #008000\">'TriangleMesh'</span><span style=\"color: #800000; text-decoration-color: #800000\"> may be    </span>\n",
       "<span style=\"color: #7fbfbf; text-decoration-color: #7fbfbf\">                </span><span style=\"color: #800000; text-decoration-color: #800000\">inaccurate if the mesh is not unionized. We recommend unionizing</span>\n",
       "<span style=\"color: #7fbfbf; text-decoration-color: #7fbfbf\">                </span><span style=\"color: #800000; text-decoration-color: #800000\">all meshes before import. A </span><span style=\"color: #008000; text-decoration-color: #008000\">'PermittivityMonitor'</span><span style=\"color: #800000; text-decoration-color: #800000\"> can be used to</span>\n",
       "<span style=\"color: #7fbfbf; text-decoration-color: #7fbfbf\">                </span><span style=\"color: #800000; text-decoration-color: #800000\">obtain the true permittivity and check that the surface mesh is </span>\n",
       "<span style=\"color: #7fbfbf; text-decoration-color: #7fbfbf\">                </span><span style=\"color: #800000; text-decoration-color: #800000\">loaded correctly.                                               </span>\n",
       "</pre>\n"
      ],
      "text/plain": [
       "\u001b[2;36m               \u001b[0m\u001b[2;36m \u001b[0m\u001b[31mWARNING: Client-side permittivity of a \u001b[0m\u001b[32m'TriangleMesh'\u001b[0m\u001b[31m may be    \u001b[0m\n",
       "\u001b[2;36m                \u001b[0m\u001b[31minaccurate if the mesh is not unionized. We recommend unionizing\u001b[0m\n",
       "\u001b[2;36m                \u001b[0m\u001b[31mall meshes before import. A \u001b[0m\u001b[32m'PermittivityMonitor'\u001b[0m\u001b[31m can be used to\u001b[0m\n",
       "\u001b[2;36m                \u001b[0m\u001b[31mobtain the true permittivity and check that the surface mesh is \u001b[0m\n",
       "\u001b[2;36m                \u001b[0m\u001b[31mloaded correctly.                                               \u001b[0m\n"
      ]
     },
     "metadata": {},
     "output_type": "display_data"
    },
    {
     "data": {
      "text/html": [
       "<pre style=\"white-space:pre;overflow-x:auto;line-height:normal;font-family:Menlo,'DejaVu Sans Mono',consolas,'Courier New',monospace\"><span style=\"color: #7fbfbf; text-decoration-color: #7fbfbf\">                </span><span style=\"color: #800000; text-decoration-color: #800000\">WARNING: Client-side permittivity of a </span><span style=\"color: #008000; text-decoration-color: #008000\">'TriangleMesh'</span><span style=\"color: #800000; text-decoration-color: #800000\"> may be    </span>\n",
       "<span style=\"color: #7fbfbf; text-decoration-color: #7fbfbf\">                </span><span style=\"color: #800000; text-decoration-color: #800000\">inaccurate if the mesh is not unionized. We recommend unionizing</span>\n",
       "<span style=\"color: #7fbfbf; text-decoration-color: #7fbfbf\">                </span><span style=\"color: #800000; text-decoration-color: #800000\">all meshes before import. A </span><span style=\"color: #008000; text-decoration-color: #008000\">'PermittivityMonitor'</span><span style=\"color: #800000; text-decoration-color: #800000\"> can be used to</span>\n",
       "<span style=\"color: #7fbfbf; text-decoration-color: #7fbfbf\">                </span><span style=\"color: #800000; text-decoration-color: #800000\">obtain the true permittivity and check that the surface mesh is </span>\n",
       "<span style=\"color: #7fbfbf; text-decoration-color: #7fbfbf\">                </span><span style=\"color: #800000; text-decoration-color: #800000\">loaded correctly.                                               </span>\n",
       "</pre>\n"
      ],
      "text/plain": [
       "\u001b[2;36m               \u001b[0m\u001b[2;36m \u001b[0m\u001b[31mWARNING: Client-side permittivity of a \u001b[0m\u001b[32m'TriangleMesh'\u001b[0m\u001b[31m may be    \u001b[0m\n",
       "\u001b[2;36m                \u001b[0m\u001b[31minaccurate if the mesh is not unionized. We recommend unionizing\u001b[0m\n",
       "\u001b[2;36m                \u001b[0m\u001b[31mall meshes before import. A \u001b[0m\u001b[32m'PermittivityMonitor'\u001b[0m\u001b[31m can be used to\u001b[0m\n",
       "\u001b[2;36m                \u001b[0m\u001b[31mobtain the true permittivity and check that the surface mesh is \u001b[0m\n",
       "\u001b[2;36m                \u001b[0m\u001b[31mloaded correctly.                                               \u001b[0m\n"
      ]
     },
     "metadata": {},
     "output_type": "display_data"
    },
    {
     "data": {
      "text/html": [
       "<pre style=\"white-space:pre;overflow-x:auto;line-height:normal;font-family:Menlo,'DejaVu Sans Mono',consolas,'Courier New',monospace\"><span style=\"color: #7fbfbf; text-decoration-color: #7fbfbf\">                </span><span style=\"color: #800000; text-decoration-color: #800000\">WARNING: Client-side permittivity of a </span><span style=\"color: #008000; text-decoration-color: #008000\">'TriangleMesh'</span><span style=\"color: #800000; text-decoration-color: #800000\"> may be    </span>\n",
       "<span style=\"color: #7fbfbf; text-decoration-color: #7fbfbf\">                </span><span style=\"color: #800000; text-decoration-color: #800000\">inaccurate if the mesh is not unionized. We recommend unionizing</span>\n",
       "<span style=\"color: #7fbfbf; text-decoration-color: #7fbfbf\">                </span><span style=\"color: #800000; text-decoration-color: #800000\">all meshes before import. A </span><span style=\"color: #008000; text-decoration-color: #008000\">'PermittivityMonitor'</span><span style=\"color: #800000; text-decoration-color: #800000\"> can be used to</span>\n",
       "<span style=\"color: #7fbfbf; text-decoration-color: #7fbfbf\">                </span><span style=\"color: #800000; text-decoration-color: #800000\">obtain the true permittivity and check that the surface mesh is </span>\n",
       "<span style=\"color: #7fbfbf; text-decoration-color: #7fbfbf\">                </span><span style=\"color: #800000; text-decoration-color: #800000\">loaded correctly.                                               </span>\n",
       "</pre>\n"
      ],
      "text/plain": [
       "\u001b[2;36m               \u001b[0m\u001b[2;36m \u001b[0m\u001b[31mWARNING: Client-side permittivity of a \u001b[0m\u001b[32m'TriangleMesh'\u001b[0m\u001b[31m may be    \u001b[0m\n",
       "\u001b[2;36m                \u001b[0m\u001b[31minaccurate if the mesh is not unionized. We recommend unionizing\u001b[0m\n",
       "\u001b[2;36m                \u001b[0m\u001b[31mall meshes before import. A \u001b[0m\u001b[32m'PermittivityMonitor'\u001b[0m\u001b[31m can be used to\u001b[0m\n",
       "\u001b[2;36m                \u001b[0m\u001b[31mobtain the true permittivity and check that the surface mesh is \u001b[0m\n",
       "\u001b[2;36m                \u001b[0m\u001b[31mloaded correctly.                                               \u001b[0m\n"
      ]
     },
     "metadata": {},
     "output_type": "display_data"
    },
    {
     "data": {
      "text/html": [
       "<pre style=\"white-space:pre;overflow-x:auto;line-height:normal;font-family:Menlo,'DejaVu Sans Mono',consolas,'Courier New',monospace\"><span style=\"color: #7fbfbf; text-decoration-color: #7fbfbf\">                </span><span style=\"color: #800000; text-decoration-color: #800000\">WARNING: Client-side permittivity of a </span><span style=\"color: #008000; text-decoration-color: #008000\">'TriangleMesh'</span><span style=\"color: #800000; text-decoration-color: #800000\"> may be    </span>\n",
       "<span style=\"color: #7fbfbf; text-decoration-color: #7fbfbf\">                </span><span style=\"color: #800000; text-decoration-color: #800000\">inaccurate if the mesh is not unionized. We recommend unionizing</span>\n",
       "<span style=\"color: #7fbfbf; text-decoration-color: #7fbfbf\">                </span><span style=\"color: #800000; text-decoration-color: #800000\">all meshes before import. A </span><span style=\"color: #008000; text-decoration-color: #008000\">'PermittivityMonitor'</span><span style=\"color: #800000; text-decoration-color: #800000\"> can be used to</span>\n",
       "<span style=\"color: #7fbfbf; text-decoration-color: #7fbfbf\">                </span><span style=\"color: #800000; text-decoration-color: #800000\">obtain the true permittivity and check that the surface mesh is </span>\n",
       "<span style=\"color: #7fbfbf; text-decoration-color: #7fbfbf\">                </span><span style=\"color: #800000; text-decoration-color: #800000\">loaded correctly.                                               </span>\n",
       "</pre>\n"
      ],
      "text/plain": [
       "\u001b[2;36m               \u001b[0m\u001b[2;36m \u001b[0m\u001b[31mWARNING: Client-side permittivity of a \u001b[0m\u001b[32m'TriangleMesh'\u001b[0m\u001b[31m may be    \u001b[0m\n",
       "\u001b[2;36m                \u001b[0m\u001b[31minaccurate if the mesh is not unionized. We recommend unionizing\u001b[0m\n",
       "\u001b[2;36m                \u001b[0m\u001b[31mall meshes before import. A \u001b[0m\u001b[32m'PermittivityMonitor'\u001b[0m\u001b[31m can be used to\u001b[0m\n",
       "\u001b[2;36m                \u001b[0m\u001b[31mobtain the true permittivity and check that the surface mesh is \u001b[0m\n",
       "\u001b[2;36m                \u001b[0m\u001b[31mloaded correctly.                                               \u001b[0m\n"
      ]
     },
     "metadata": {},
     "output_type": "display_data"
    },
    {
     "data": {
      "text/html": [
       "<pre style=\"white-space:pre;overflow-x:auto;line-height:normal;font-family:Menlo,'DejaVu Sans Mono',consolas,'Courier New',monospace\"><span style=\"color: #7fbfbf; text-decoration-color: #7fbfbf\">                </span><span style=\"color: #800000; text-decoration-color: #800000\">WARNING: Client-side permittivity of a </span><span style=\"color: #008000; text-decoration-color: #008000\">'TriangleMesh'</span><span style=\"color: #800000; text-decoration-color: #800000\"> may be    </span>\n",
       "<span style=\"color: #7fbfbf; text-decoration-color: #7fbfbf\">                </span><span style=\"color: #800000; text-decoration-color: #800000\">inaccurate if the mesh is not unionized. We recommend unionizing</span>\n",
       "<span style=\"color: #7fbfbf; text-decoration-color: #7fbfbf\">                </span><span style=\"color: #800000; text-decoration-color: #800000\">all meshes before import. A </span><span style=\"color: #008000; text-decoration-color: #008000\">'PermittivityMonitor'</span><span style=\"color: #800000; text-decoration-color: #800000\"> can be used to</span>\n",
       "<span style=\"color: #7fbfbf; text-decoration-color: #7fbfbf\">                </span><span style=\"color: #800000; text-decoration-color: #800000\">obtain the true permittivity and check that the surface mesh is </span>\n",
       "<span style=\"color: #7fbfbf; text-decoration-color: #7fbfbf\">                </span><span style=\"color: #800000; text-decoration-color: #800000\">loaded correctly.                                               </span>\n",
       "</pre>\n"
      ],
      "text/plain": [
       "\u001b[2;36m               \u001b[0m\u001b[2;36m \u001b[0m\u001b[31mWARNING: Client-side permittivity of a \u001b[0m\u001b[32m'TriangleMesh'\u001b[0m\u001b[31m may be    \u001b[0m\n",
       "\u001b[2;36m                \u001b[0m\u001b[31minaccurate if the mesh is not unionized. We recommend unionizing\u001b[0m\n",
       "\u001b[2;36m                \u001b[0m\u001b[31mall meshes before import. A \u001b[0m\u001b[32m'PermittivityMonitor'\u001b[0m\u001b[31m can be used to\u001b[0m\n",
       "\u001b[2;36m                \u001b[0m\u001b[31mobtain the true permittivity and check that the surface mesh is \u001b[0m\n",
       "\u001b[2;36m                \u001b[0m\u001b[31mloaded correctly.                                               \u001b[0m\n"
      ]
     },
     "metadata": {},
     "output_type": "display_data"
    },
    {
     "data": {
      "text/html": [
       "<pre style=\"white-space:pre;overflow-x:auto;line-height:normal;font-family:Menlo,'DejaVu Sans Mono',consolas,'Courier New',monospace\"><span style=\"color: #7fbfbf; text-decoration-color: #7fbfbf\">                </span><span style=\"color: #800000; text-decoration-color: #800000\">WARNING: Client-side permittivity of a </span><span style=\"color: #008000; text-decoration-color: #008000\">'TriangleMesh'</span><span style=\"color: #800000; text-decoration-color: #800000\"> may be    </span>\n",
       "<span style=\"color: #7fbfbf; text-decoration-color: #7fbfbf\">                </span><span style=\"color: #800000; text-decoration-color: #800000\">inaccurate if the mesh is not unionized. We recommend unionizing</span>\n",
       "<span style=\"color: #7fbfbf; text-decoration-color: #7fbfbf\">                </span><span style=\"color: #800000; text-decoration-color: #800000\">all meshes before import. A </span><span style=\"color: #008000; text-decoration-color: #008000\">'PermittivityMonitor'</span><span style=\"color: #800000; text-decoration-color: #800000\"> can be used to</span>\n",
       "<span style=\"color: #7fbfbf; text-decoration-color: #7fbfbf\">                </span><span style=\"color: #800000; text-decoration-color: #800000\">obtain the true permittivity and check that the surface mesh is </span>\n",
       "<span style=\"color: #7fbfbf; text-decoration-color: #7fbfbf\">                </span><span style=\"color: #800000; text-decoration-color: #800000\">loaded correctly.                                               </span>\n",
       "</pre>\n"
      ],
      "text/plain": [
       "\u001b[2;36m               \u001b[0m\u001b[2;36m \u001b[0m\u001b[31mWARNING: Client-side permittivity of a \u001b[0m\u001b[32m'TriangleMesh'\u001b[0m\u001b[31m may be    \u001b[0m\n",
       "\u001b[2;36m                \u001b[0m\u001b[31minaccurate if the mesh is not unionized. We recommend unionizing\u001b[0m\n",
       "\u001b[2;36m                \u001b[0m\u001b[31mall meshes before import. A \u001b[0m\u001b[32m'PermittivityMonitor'\u001b[0m\u001b[31m can be used to\u001b[0m\n",
       "\u001b[2;36m                \u001b[0m\u001b[31mobtain the true permittivity and check that the surface mesh is \u001b[0m\n",
       "\u001b[2;36m                \u001b[0m\u001b[31mloaded correctly.                                               \u001b[0m\n"
      ]
     },
     "metadata": {},
     "output_type": "display_data"
    },
    {
     "data": {
      "text/html": [
       "<pre style=\"white-space:pre;overflow-x:auto;line-height:normal;font-family:Menlo,'DejaVu Sans Mono',consolas,'Courier New',monospace\"><span style=\"color: #7fbfbf; text-decoration-color: #7fbfbf\">                </span><span style=\"color: #800000; text-decoration-color: #800000\">WARNING: Client-side permittivity of a </span><span style=\"color: #008000; text-decoration-color: #008000\">'TriangleMesh'</span><span style=\"color: #800000; text-decoration-color: #800000\"> may be    </span>\n",
       "<span style=\"color: #7fbfbf; text-decoration-color: #7fbfbf\">                </span><span style=\"color: #800000; text-decoration-color: #800000\">inaccurate if the mesh is not unionized. We recommend unionizing</span>\n",
       "<span style=\"color: #7fbfbf; text-decoration-color: #7fbfbf\">                </span><span style=\"color: #800000; text-decoration-color: #800000\">all meshes before import. A </span><span style=\"color: #008000; text-decoration-color: #008000\">'PermittivityMonitor'</span><span style=\"color: #800000; text-decoration-color: #800000\"> can be used to</span>\n",
       "<span style=\"color: #7fbfbf; text-decoration-color: #7fbfbf\">                </span><span style=\"color: #800000; text-decoration-color: #800000\">obtain the true permittivity and check that the surface mesh is </span>\n",
       "<span style=\"color: #7fbfbf; text-decoration-color: #7fbfbf\">                </span><span style=\"color: #800000; text-decoration-color: #800000\">loaded correctly.                                               </span>\n",
       "</pre>\n"
      ],
      "text/plain": [
       "\u001b[2;36m               \u001b[0m\u001b[2;36m \u001b[0m\u001b[31mWARNING: Client-side permittivity of a \u001b[0m\u001b[32m'TriangleMesh'\u001b[0m\u001b[31m may be    \u001b[0m\n",
       "\u001b[2;36m                \u001b[0m\u001b[31minaccurate if the mesh is not unionized. We recommend unionizing\u001b[0m\n",
       "\u001b[2;36m                \u001b[0m\u001b[31mall meshes before import. A \u001b[0m\u001b[32m'PermittivityMonitor'\u001b[0m\u001b[31m can be used to\u001b[0m\n",
       "\u001b[2;36m                \u001b[0m\u001b[31mobtain the true permittivity and check that the surface mesh is \u001b[0m\n",
       "\u001b[2;36m                \u001b[0m\u001b[31mloaded correctly.                                               \u001b[0m\n"
      ]
     },
     "metadata": {},
     "output_type": "display_data"
    },
    {
     "data": {
      "text/html": [
       "<pre style=\"white-space:pre;overflow-x:auto;line-height:normal;font-family:Menlo,'DejaVu Sans Mono',consolas,'Courier New',monospace\"><span style=\"color: #7fbfbf; text-decoration-color: #7fbfbf\">                </span><span style=\"color: #800000; text-decoration-color: #800000\">WARNING: Client-side permittivity of a </span><span style=\"color: #008000; text-decoration-color: #008000\">'TriangleMesh'</span><span style=\"color: #800000; text-decoration-color: #800000\"> may be    </span>\n",
       "<span style=\"color: #7fbfbf; text-decoration-color: #7fbfbf\">                </span><span style=\"color: #800000; text-decoration-color: #800000\">inaccurate if the mesh is not unionized. We recommend unionizing</span>\n",
       "<span style=\"color: #7fbfbf; text-decoration-color: #7fbfbf\">                </span><span style=\"color: #800000; text-decoration-color: #800000\">all meshes before import. A </span><span style=\"color: #008000; text-decoration-color: #008000\">'PermittivityMonitor'</span><span style=\"color: #800000; text-decoration-color: #800000\"> can be used to</span>\n",
       "<span style=\"color: #7fbfbf; text-decoration-color: #7fbfbf\">                </span><span style=\"color: #800000; text-decoration-color: #800000\">obtain the true permittivity and check that the surface mesh is </span>\n",
       "<span style=\"color: #7fbfbf; text-decoration-color: #7fbfbf\">                </span><span style=\"color: #800000; text-decoration-color: #800000\">loaded correctly.                                               </span>\n",
       "</pre>\n"
      ],
      "text/plain": [
       "\u001b[2;36m               \u001b[0m\u001b[2;36m \u001b[0m\u001b[31mWARNING: Client-side permittivity of a \u001b[0m\u001b[32m'TriangleMesh'\u001b[0m\u001b[31m may be    \u001b[0m\n",
       "\u001b[2;36m                \u001b[0m\u001b[31minaccurate if the mesh is not unionized. We recommend unionizing\u001b[0m\n",
       "\u001b[2;36m                \u001b[0m\u001b[31mall meshes before import. A \u001b[0m\u001b[32m'PermittivityMonitor'\u001b[0m\u001b[31m can be used to\u001b[0m\n",
       "\u001b[2;36m                \u001b[0m\u001b[31mobtain the true permittivity and check that the surface mesh is \u001b[0m\n",
       "\u001b[2;36m                \u001b[0m\u001b[31mloaded correctly.                                               \u001b[0m\n"
      ]
     },
     "metadata": {},
     "output_type": "display_data"
    },
    {
     "data": {
      "text/html": [
       "<pre style=\"white-space:pre;overflow-x:auto;line-height:normal;font-family:Menlo,'DejaVu Sans Mono',consolas,'Courier New',monospace\"><span style=\"color: #7fbfbf; text-decoration-color: #7fbfbf\">                </span><span style=\"color: #800000; text-decoration-color: #800000\">WARNING: Client-side permittivity of a </span><span style=\"color: #008000; text-decoration-color: #008000\">'TriangleMesh'</span><span style=\"color: #800000; text-decoration-color: #800000\"> may be    </span>\n",
       "<span style=\"color: #7fbfbf; text-decoration-color: #7fbfbf\">                </span><span style=\"color: #800000; text-decoration-color: #800000\">inaccurate if the mesh is not unionized. We recommend unionizing</span>\n",
       "<span style=\"color: #7fbfbf; text-decoration-color: #7fbfbf\">                </span><span style=\"color: #800000; text-decoration-color: #800000\">all meshes before import. A </span><span style=\"color: #008000; text-decoration-color: #008000\">'PermittivityMonitor'</span><span style=\"color: #800000; text-decoration-color: #800000\"> can be used to</span>\n",
       "<span style=\"color: #7fbfbf; text-decoration-color: #7fbfbf\">                </span><span style=\"color: #800000; text-decoration-color: #800000\">obtain the true permittivity and check that the surface mesh is </span>\n",
       "<span style=\"color: #7fbfbf; text-decoration-color: #7fbfbf\">                </span><span style=\"color: #800000; text-decoration-color: #800000\">loaded correctly.                                               </span>\n",
       "</pre>\n"
      ],
      "text/plain": [
       "\u001b[2;36m               \u001b[0m\u001b[2;36m \u001b[0m\u001b[31mWARNING: Client-side permittivity of a \u001b[0m\u001b[32m'TriangleMesh'\u001b[0m\u001b[31m may be    \u001b[0m\n",
       "\u001b[2;36m                \u001b[0m\u001b[31minaccurate if the mesh is not unionized. We recommend unionizing\u001b[0m\n",
       "\u001b[2;36m                \u001b[0m\u001b[31mall meshes before import. A \u001b[0m\u001b[32m'PermittivityMonitor'\u001b[0m\u001b[31m can be used to\u001b[0m\n",
       "\u001b[2;36m                \u001b[0m\u001b[31mobtain the true permittivity and check that the surface mesh is \u001b[0m\n",
       "\u001b[2;36m                \u001b[0m\u001b[31mloaded correctly.                                               \u001b[0m\n"
      ]
     },
     "metadata": {},
     "output_type": "display_data"
    },
    {
     "data": {
      "text/html": [
       "<pre style=\"white-space:pre;overflow-x:auto;line-height:normal;font-family:Menlo,'DejaVu Sans Mono',consolas,'Courier New',monospace\"><span style=\"color: #7fbfbf; text-decoration-color: #7fbfbf\">                </span><span style=\"color: #800000; text-decoration-color: #800000\">WARNING: Client-side permittivity of a </span><span style=\"color: #008000; text-decoration-color: #008000\">'TriangleMesh'</span><span style=\"color: #800000; text-decoration-color: #800000\"> may be    </span>\n",
       "<span style=\"color: #7fbfbf; text-decoration-color: #7fbfbf\">                </span><span style=\"color: #800000; text-decoration-color: #800000\">inaccurate if the mesh is not unionized. We recommend unionizing</span>\n",
       "<span style=\"color: #7fbfbf; text-decoration-color: #7fbfbf\">                </span><span style=\"color: #800000; text-decoration-color: #800000\">all meshes before import. A </span><span style=\"color: #008000; text-decoration-color: #008000\">'PermittivityMonitor'</span><span style=\"color: #800000; text-decoration-color: #800000\"> can be used to</span>\n",
       "<span style=\"color: #7fbfbf; text-decoration-color: #7fbfbf\">                </span><span style=\"color: #800000; text-decoration-color: #800000\">obtain the true permittivity and check that the surface mesh is </span>\n",
       "<span style=\"color: #7fbfbf; text-decoration-color: #7fbfbf\">                </span><span style=\"color: #800000; text-decoration-color: #800000\">loaded correctly.                                               </span>\n",
       "</pre>\n"
      ],
      "text/plain": [
       "\u001b[2;36m               \u001b[0m\u001b[2;36m \u001b[0m\u001b[31mWARNING: Client-side permittivity of a \u001b[0m\u001b[32m'TriangleMesh'\u001b[0m\u001b[31m may be    \u001b[0m\n",
       "\u001b[2;36m                \u001b[0m\u001b[31minaccurate if the mesh is not unionized. We recommend unionizing\u001b[0m\n",
       "\u001b[2;36m                \u001b[0m\u001b[31mall meshes before import. A \u001b[0m\u001b[32m'PermittivityMonitor'\u001b[0m\u001b[31m can be used to\u001b[0m\n",
       "\u001b[2;36m                \u001b[0m\u001b[31mobtain the true permittivity and check that the surface mesh is \u001b[0m\n",
       "\u001b[2;36m                \u001b[0m\u001b[31mloaded correctly.                                               \u001b[0m\n"
      ]
     },
     "metadata": {},
     "output_type": "display_data"
    },
    {
     "data": {
      "text/html": [
       "<pre style=\"white-space:pre;overflow-x:auto;line-height:normal;font-family:Menlo,'DejaVu Sans Mono',consolas,'Courier New',monospace\"><span style=\"color: #7fbfbf; text-decoration-color: #7fbfbf\">                </span><span style=\"color: #800000; text-decoration-color: #800000\">WARNING: Client-side permittivity of a </span><span style=\"color: #008000; text-decoration-color: #008000\">'TriangleMesh'</span><span style=\"color: #800000; text-decoration-color: #800000\"> may be    </span>\n",
       "<span style=\"color: #7fbfbf; text-decoration-color: #7fbfbf\">                </span><span style=\"color: #800000; text-decoration-color: #800000\">inaccurate if the mesh is not unionized. We recommend unionizing</span>\n",
       "<span style=\"color: #7fbfbf; text-decoration-color: #7fbfbf\">                </span><span style=\"color: #800000; text-decoration-color: #800000\">all meshes before import. A </span><span style=\"color: #008000; text-decoration-color: #008000\">'PermittivityMonitor'</span><span style=\"color: #800000; text-decoration-color: #800000\"> can be used to</span>\n",
       "<span style=\"color: #7fbfbf; text-decoration-color: #7fbfbf\">                </span><span style=\"color: #800000; text-decoration-color: #800000\">obtain the true permittivity and check that the surface mesh is </span>\n",
       "<span style=\"color: #7fbfbf; text-decoration-color: #7fbfbf\">                </span><span style=\"color: #800000; text-decoration-color: #800000\">loaded correctly.                                               </span>\n",
       "</pre>\n"
      ],
      "text/plain": [
       "\u001b[2;36m               \u001b[0m\u001b[2;36m \u001b[0m\u001b[31mWARNING: Client-side permittivity of a \u001b[0m\u001b[32m'TriangleMesh'\u001b[0m\u001b[31m may be    \u001b[0m\n",
       "\u001b[2;36m                \u001b[0m\u001b[31minaccurate if the mesh is not unionized. We recommend unionizing\u001b[0m\n",
       "\u001b[2;36m                \u001b[0m\u001b[31mall meshes before import. A \u001b[0m\u001b[32m'PermittivityMonitor'\u001b[0m\u001b[31m can be used to\u001b[0m\n",
       "\u001b[2;36m                \u001b[0m\u001b[31mobtain the true permittivity and check that the surface mesh is \u001b[0m\n",
       "\u001b[2;36m                \u001b[0m\u001b[31mloaded correctly.                                               \u001b[0m\n"
      ]
     },
     "metadata": {},
     "output_type": "display_data"
    },
    {
     "data": {
      "text/html": [
       "<pre style=\"white-space:pre;overflow-x:auto;line-height:normal;font-family:Menlo,'DejaVu Sans Mono',consolas,'Courier New',monospace\"><span style=\"color: #7fbfbf; text-decoration-color: #7fbfbf\">                </span><span style=\"color: #800000; text-decoration-color: #800000\">WARNING: Client-side permittivity of a </span><span style=\"color: #008000; text-decoration-color: #008000\">'TriangleMesh'</span><span style=\"color: #800000; text-decoration-color: #800000\"> may be    </span>\n",
       "<span style=\"color: #7fbfbf; text-decoration-color: #7fbfbf\">                </span><span style=\"color: #800000; text-decoration-color: #800000\">inaccurate if the mesh is not unionized. We recommend unionizing</span>\n",
       "<span style=\"color: #7fbfbf; text-decoration-color: #7fbfbf\">                </span><span style=\"color: #800000; text-decoration-color: #800000\">all meshes before import. A </span><span style=\"color: #008000; text-decoration-color: #008000\">'PermittivityMonitor'</span><span style=\"color: #800000; text-decoration-color: #800000\"> can be used to</span>\n",
       "<span style=\"color: #7fbfbf; text-decoration-color: #7fbfbf\">                </span><span style=\"color: #800000; text-decoration-color: #800000\">obtain the true permittivity and check that the surface mesh is </span>\n",
       "<span style=\"color: #7fbfbf; text-decoration-color: #7fbfbf\">                </span><span style=\"color: #800000; text-decoration-color: #800000\">loaded correctly.                                               </span>\n",
       "</pre>\n"
      ],
      "text/plain": [
       "\u001b[2;36m               \u001b[0m\u001b[2;36m \u001b[0m\u001b[31mWARNING: Client-side permittivity of a \u001b[0m\u001b[32m'TriangleMesh'\u001b[0m\u001b[31m may be    \u001b[0m\n",
       "\u001b[2;36m                \u001b[0m\u001b[31minaccurate if the mesh is not unionized. We recommend unionizing\u001b[0m\n",
       "\u001b[2;36m                \u001b[0m\u001b[31mall meshes before import. A \u001b[0m\u001b[32m'PermittivityMonitor'\u001b[0m\u001b[31m can be used to\u001b[0m\n",
       "\u001b[2;36m                \u001b[0m\u001b[31mobtain the true permittivity and check that the surface mesh is \u001b[0m\n",
       "\u001b[2;36m                \u001b[0m\u001b[31mloaded correctly.                                               \u001b[0m\n"
      ]
     },
     "metadata": {},
     "output_type": "display_data"
    },
    {
     "data": {
      "text/html": [
       "<pre style=\"white-space:pre;overflow-x:auto;line-height:normal;font-family:Menlo,'DejaVu Sans Mono',consolas,'Courier New',monospace\"><span style=\"color: #7fbfbf; text-decoration-color: #7fbfbf\">                </span><span style=\"color: #800000; text-decoration-color: #800000\">WARNING: Client-side permittivity of a </span><span style=\"color: #008000; text-decoration-color: #008000\">'TriangleMesh'</span><span style=\"color: #800000; text-decoration-color: #800000\"> may be    </span>\n",
       "<span style=\"color: #7fbfbf; text-decoration-color: #7fbfbf\">                </span><span style=\"color: #800000; text-decoration-color: #800000\">inaccurate if the mesh is not unionized. We recommend unionizing</span>\n",
       "<span style=\"color: #7fbfbf; text-decoration-color: #7fbfbf\">                </span><span style=\"color: #800000; text-decoration-color: #800000\">all meshes before import. A </span><span style=\"color: #008000; text-decoration-color: #008000\">'PermittivityMonitor'</span><span style=\"color: #800000; text-decoration-color: #800000\"> can be used to</span>\n",
       "<span style=\"color: #7fbfbf; text-decoration-color: #7fbfbf\">                </span><span style=\"color: #800000; text-decoration-color: #800000\">obtain the true permittivity and check that the surface mesh is </span>\n",
       "<span style=\"color: #7fbfbf; text-decoration-color: #7fbfbf\">                </span><span style=\"color: #800000; text-decoration-color: #800000\">loaded correctly.                                               </span>\n",
       "</pre>\n"
      ],
      "text/plain": [
       "\u001b[2;36m               \u001b[0m\u001b[2;36m \u001b[0m\u001b[31mWARNING: Client-side permittivity of a \u001b[0m\u001b[32m'TriangleMesh'\u001b[0m\u001b[31m may be    \u001b[0m\n",
       "\u001b[2;36m                \u001b[0m\u001b[31minaccurate if the mesh is not unionized. We recommend unionizing\u001b[0m\n",
       "\u001b[2;36m                \u001b[0m\u001b[31mall meshes before import. A \u001b[0m\u001b[32m'PermittivityMonitor'\u001b[0m\u001b[31m can be used to\u001b[0m\n",
       "\u001b[2;36m                \u001b[0m\u001b[31mobtain the true permittivity and check that the surface mesh is \u001b[0m\n",
       "\u001b[2;36m                \u001b[0m\u001b[31mloaded correctly.                                               \u001b[0m\n"
      ]
     },
     "metadata": {},
     "output_type": "display_data"
    },
    {
     "data": {
      "text/html": [
       "<pre style=\"white-space:pre;overflow-x:auto;line-height:normal;font-family:Menlo,'DejaVu Sans Mono',consolas,'Courier New',monospace\"><span style=\"color: #7fbfbf; text-decoration-color: #7fbfbf\">                </span><span style=\"color: #800000; text-decoration-color: #800000\">WARNING: Client-side permittivity of a </span><span style=\"color: #008000; text-decoration-color: #008000\">'TriangleMesh'</span><span style=\"color: #800000; text-decoration-color: #800000\"> may be    </span>\n",
       "<span style=\"color: #7fbfbf; text-decoration-color: #7fbfbf\">                </span><span style=\"color: #800000; text-decoration-color: #800000\">inaccurate if the mesh is not unionized. We recommend unionizing</span>\n",
       "<span style=\"color: #7fbfbf; text-decoration-color: #7fbfbf\">                </span><span style=\"color: #800000; text-decoration-color: #800000\">all meshes before import. A </span><span style=\"color: #008000; text-decoration-color: #008000\">'PermittivityMonitor'</span><span style=\"color: #800000; text-decoration-color: #800000\"> can be used to</span>\n",
       "<span style=\"color: #7fbfbf; text-decoration-color: #7fbfbf\">                </span><span style=\"color: #800000; text-decoration-color: #800000\">obtain the true permittivity and check that the surface mesh is </span>\n",
       "<span style=\"color: #7fbfbf; text-decoration-color: #7fbfbf\">                </span><span style=\"color: #800000; text-decoration-color: #800000\">loaded correctly.                                               </span>\n",
       "</pre>\n"
      ],
      "text/plain": [
       "\u001b[2;36m               \u001b[0m\u001b[2;36m \u001b[0m\u001b[31mWARNING: Client-side permittivity of a \u001b[0m\u001b[32m'TriangleMesh'\u001b[0m\u001b[31m may be    \u001b[0m\n",
       "\u001b[2;36m                \u001b[0m\u001b[31minaccurate if the mesh is not unionized. We recommend unionizing\u001b[0m\n",
       "\u001b[2;36m                \u001b[0m\u001b[31mall meshes before import. A \u001b[0m\u001b[32m'PermittivityMonitor'\u001b[0m\u001b[31m can be used to\u001b[0m\n",
       "\u001b[2;36m                \u001b[0m\u001b[31mobtain the true permittivity and check that the surface mesh is \u001b[0m\n",
       "\u001b[2;36m                \u001b[0m\u001b[31mloaded correctly.                                               \u001b[0m\n"
      ]
     },
     "metadata": {},
     "output_type": "display_data"
    },
    {
     "data": {
      "text/html": [
       "<pre style=\"white-space:pre;overflow-x:auto;line-height:normal;font-family:Menlo,'DejaVu Sans Mono',consolas,'Courier New',monospace\"><span style=\"color: #7fbfbf; text-decoration-color: #7fbfbf\">                </span><span style=\"color: #800000; text-decoration-color: #800000\">WARNING: Client-side permittivity of a </span><span style=\"color: #008000; text-decoration-color: #008000\">'TriangleMesh'</span><span style=\"color: #800000; text-decoration-color: #800000\"> may be    </span>\n",
       "<span style=\"color: #7fbfbf; text-decoration-color: #7fbfbf\">                </span><span style=\"color: #800000; text-decoration-color: #800000\">inaccurate if the mesh is not unionized. We recommend unionizing</span>\n",
       "<span style=\"color: #7fbfbf; text-decoration-color: #7fbfbf\">                </span><span style=\"color: #800000; text-decoration-color: #800000\">all meshes before import. A </span><span style=\"color: #008000; text-decoration-color: #008000\">'PermittivityMonitor'</span><span style=\"color: #800000; text-decoration-color: #800000\"> can be used to</span>\n",
       "<span style=\"color: #7fbfbf; text-decoration-color: #7fbfbf\">                </span><span style=\"color: #800000; text-decoration-color: #800000\">obtain the true permittivity and check that the surface mesh is </span>\n",
       "<span style=\"color: #7fbfbf; text-decoration-color: #7fbfbf\">                </span><span style=\"color: #800000; text-decoration-color: #800000\">loaded correctly.                                               </span>\n",
       "</pre>\n"
      ],
      "text/plain": [
       "\u001b[2;36m               \u001b[0m\u001b[2;36m \u001b[0m\u001b[31mWARNING: Client-side permittivity of a \u001b[0m\u001b[32m'TriangleMesh'\u001b[0m\u001b[31m may be    \u001b[0m\n",
       "\u001b[2;36m                \u001b[0m\u001b[31minaccurate if the mesh is not unionized. We recommend unionizing\u001b[0m\n",
       "\u001b[2;36m                \u001b[0m\u001b[31mall meshes before import. A \u001b[0m\u001b[32m'PermittivityMonitor'\u001b[0m\u001b[31m can be used to\u001b[0m\n",
       "\u001b[2;36m                \u001b[0m\u001b[31mobtain the true permittivity and check that the surface mesh is \u001b[0m\n",
       "\u001b[2;36m                \u001b[0m\u001b[31mloaded correctly.                                               \u001b[0m\n"
      ]
     },
     "metadata": {},
     "output_type": "display_data"
    },
    {
     "data": {
      "text/html": [
       "<pre style=\"white-space:pre;overflow-x:auto;line-height:normal;font-family:Menlo,'DejaVu Sans Mono',consolas,'Courier New',monospace\"><span style=\"color: #7fbfbf; text-decoration-color: #7fbfbf\">                </span><span style=\"color: #800000; text-decoration-color: #800000\">WARNING: Client-side permittivity of a </span><span style=\"color: #008000; text-decoration-color: #008000\">'TriangleMesh'</span><span style=\"color: #800000; text-decoration-color: #800000\"> may be    </span>\n",
       "<span style=\"color: #7fbfbf; text-decoration-color: #7fbfbf\">                </span><span style=\"color: #800000; text-decoration-color: #800000\">inaccurate if the mesh is not unionized. We recommend unionizing</span>\n",
       "<span style=\"color: #7fbfbf; text-decoration-color: #7fbfbf\">                </span><span style=\"color: #800000; text-decoration-color: #800000\">all meshes before import. A </span><span style=\"color: #008000; text-decoration-color: #008000\">'PermittivityMonitor'</span><span style=\"color: #800000; text-decoration-color: #800000\"> can be used to</span>\n",
       "<span style=\"color: #7fbfbf; text-decoration-color: #7fbfbf\">                </span><span style=\"color: #800000; text-decoration-color: #800000\">obtain the true permittivity and check that the surface mesh is </span>\n",
       "<span style=\"color: #7fbfbf; text-decoration-color: #7fbfbf\">                </span><span style=\"color: #800000; text-decoration-color: #800000\">loaded correctly.                                               </span>\n",
       "</pre>\n"
      ],
      "text/plain": [
       "\u001b[2;36m               \u001b[0m\u001b[2;36m \u001b[0m\u001b[31mWARNING: Client-side permittivity of a \u001b[0m\u001b[32m'TriangleMesh'\u001b[0m\u001b[31m may be    \u001b[0m\n",
       "\u001b[2;36m                \u001b[0m\u001b[31minaccurate if the mesh is not unionized. We recommend unionizing\u001b[0m\n",
       "\u001b[2;36m                \u001b[0m\u001b[31mall meshes before import. A \u001b[0m\u001b[32m'PermittivityMonitor'\u001b[0m\u001b[31m can be used to\u001b[0m\n",
       "\u001b[2;36m                \u001b[0m\u001b[31mobtain the true permittivity and check that the surface mesh is \u001b[0m\n",
       "\u001b[2;36m                \u001b[0m\u001b[31mloaded correctly.                                               \u001b[0m\n"
      ]
     },
     "metadata": {},
     "output_type": "display_data"
    },
    {
     "data": {
      "text/html": [
       "<pre style=\"white-space:pre;overflow-x:auto;line-height:normal;font-family:Menlo,'DejaVu Sans Mono',consolas,'Courier New',monospace\"><span style=\"color: #7fbfbf; text-decoration-color: #7fbfbf\">                </span><span style=\"color: #800000; text-decoration-color: #800000\">WARNING: Client-side permittivity of a </span><span style=\"color: #008000; text-decoration-color: #008000\">'TriangleMesh'</span><span style=\"color: #800000; text-decoration-color: #800000\"> may be    </span>\n",
       "<span style=\"color: #7fbfbf; text-decoration-color: #7fbfbf\">                </span><span style=\"color: #800000; text-decoration-color: #800000\">inaccurate if the mesh is not unionized. We recommend unionizing</span>\n",
       "<span style=\"color: #7fbfbf; text-decoration-color: #7fbfbf\">                </span><span style=\"color: #800000; text-decoration-color: #800000\">all meshes before import. A </span><span style=\"color: #008000; text-decoration-color: #008000\">'PermittivityMonitor'</span><span style=\"color: #800000; text-decoration-color: #800000\"> can be used to</span>\n",
       "<span style=\"color: #7fbfbf; text-decoration-color: #7fbfbf\">                </span><span style=\"color: #800000; text-decoration-color: #800000\">obtain the true permittivity and check that the surface mesh is </span>\n",
       "<span style=\"color: #7fbfbf; text-decoration-color: #7fbfbf\">                </span><span style=\"color: #800000; text-decoration-color: #800000\">loaded correctly.                                               </span>\n",
       "</pre>\n"
      ],
      "text/plain": [
       "\u001b[2;36m               \u001b[0m\u001b[2;36m \u001b[0m\u001b[31mWARNING: Client-side permittivity of a \u001b[0m\u001b[32m'TriangleMesh'\u001b[0m\u001b[31m may be    \u001b[0m\n",
       "\u001b[2;36m                \u001b[0m\u001b[31minaccurate if the mesh is not unionized. We recommend unionizing\u001b[0m\n",
       "\u001b[2;36m                \u001b[0m\u001b[31mall meshes before import. A \u001b[0m\u001b[32m'PermittivityMonitor'\u001b[0m\u001b[31m can be used to\u001b[0m\n",
       "\u001b[2;36m                \u001b[0m\u001b[31mobtain the true permittivity and check that the surface mesh is \u001b[0m\n",
       "\u001b[2;36m                \u001b[0m\u001b[31mloaded correctly.                                               \u001b[0m\n"
      ]
     },
     "metadata": {},
     "output_type": "display_data"
    },
    {
     "data": {
      "text/html": [
       "<pre style=\"white-space:pre;overflow-x:auto;line-height:normal;font-family:Menlo,'DejaVu Sans Mono',consolas,'Courier New',monospace\"><span style=\"color: #7fbfbf; text-decoration-color: #7fbfbf\">11:00:30 中国标准时间 </span><span style=\"color: #800000; text-decoration-color: #800000\">WARNING: Client-side permittivity of a </span><span style=\"color: #008000; text-decoration-color: #008000\">'TriangleMesh'</span><span style=\"color: #800000; text-decoration-color: #800000\"> may </span>\n",
       "<span style=\"color: #7fbfbf; text-decoration-color: #7fbfbf\">                      </span><span style=\"color: #800000; text-decoration-color: #800000\">be inaccurate if the mesh is not unionized. We recommend  </span>\n",
       "<span style=\"color: #7fbfbf; text-decoration-color: #7fbfbf\">                      </span><span style=\"color: #800000; text-decoration-color: #800000\">unionizing all meshes before import. A                    </span>\n",
       "<span style=\"color: #7fbfbf; text-decoration-color: #7fbfbf\">                      </span><span style=\"color: #008000; text-decoration-color: #008000\">'PermittivityMonitor'</span><span style=\"color: #800000; text-decoration-color: #800000\"> can be used to obtain the true      </span>\n",
       "<span style=\"color: #7fbfbf; text-decoration-color: #7fbfbf\">                      </span><span style=\"color: #800000; text-decoration-color: #800000\">permittivity and check that the surface mesh is loaded    </span>\n",
       "<span style=\"color: #7fbfbf; text-decoration-color: #7fbfbf\">                      </span><span style=\"color: #800000; text-decoration-color: #800000\">correctly.                                                </span>\n",
       "</pre>\n"
      ],
      "text/plain": [
       "\u001b[2;36m11:00:30 中国标准时间\u001b[0m\u001b[2;36m \u001b[0m\u001b[31mWARNING: Client-side permittivity of a \u001b[0m\u001b[32m'TriangleMesh'\u001b[0m\u001b[31m may \u001b[0m\n",
       "\u001b[2;36m                      \u001b[0m\u001b[31mbe inaccurate if the mesh is not unionized. We recommend  \u001b[0m\n",
       "\u001b[2;36m                      \u001b[0m\u001b[31munionizing all meshes before import. A                    \u001b[0m\n",
       "\u001b[2;36m                      \u001b[0m\u001b[32m'PermittivityMonitor'\u001b[0m\u001b[31m can be used to obtain the true      \u001b[0m\n",
       "\u001b[2;36m                      \u001b[0m\u001b[31mpermittivity and check that the surface mesh is loaded    \u001b[0m\n",
       "\u001b[2;36m                      \u001b[0m\u001b[31mcorrectly.                                                \u001b[0m\n"
      ]
     },
     "metadata": {},
     "output_type": "display_data"
    },
    {
     "data": {
      "text/html": [
       "<pre style=\"white-space:pre;overflow-x:auto;line-height:normal;font-family:Menlo,'DejaVu Sans Mono',consolas,'Courier New',monospace\"><span style=\"color: #7fbfbf; text-decoration-color: #7fbfbf\">                </span><span style=\"color: #800000; text-decoration-color: #800000\">WARNING: Client-side permittivity of a </span><span style=\"color: #008000; text-decoration-color: #008000\">'TriangleMesh'</span><span style=\"color: #800000; text-decoration-color: #800000\"> may be    </span>\n",
       "<span style=\"color: #7fbfbf; text-decoration-color: #7fbfbf\">                </span><span style=\"color: #800000; text-decoration-color: #800000\">inaccurate if the mesh is not unionized. We recommend unionizing</span>\n",
       "<span style=\"color: #7fbfbf; text-decoration-color: #7fbfbf\">                </span><span style=\"color: #800000; text-decoration-color: #800000\">all meshes before import. A </span><span style=\"color: #008000; text-decoration-color: #008000\">'PermittivityMonitor'</span><span style=\"color: #800000; text-decoration-color: #800000\"> can be used to</span>\n",
       "<span style=\"color: #7fbfbf; text-decoration-color: #7fbfbf\">                </span><span style=\"color: #800000; text-decoration-color: #800000\">obtain the true permittivity and check that the surface mesh is </span>\n",
       "<span style=\"color: #7fbfbf; text-decoration-color: #7fbfbf\">                </span><span style=\"color: #800000; text-decoration-color: #800000\">loaded correctly.                                               </span>\n",
       "</pre>\n"
      ],
      "text/plain": [
       "\u001b[2;36m               \u001b[0m\u001b[2;36m \u001b[0m\u001b[31mWARNING: Client-side permittivity of a \u001b[0m\u001b[32m'TriangleMesh'\u001b[0m\u001b[31m may be    \u001b[0m\n",
       "\u001b[2;36m                \u001b[0m\u001b[31minaccurate if the mesh is not unionized. We recommend unionizing\u001b[0m\n",
       "\u001b[2;36m                \u001b[0m\u001b[31mall meshes before import. A \u001b[0m\u001b[32m'PermittivityMonitor'\u001b[0m\u001b[31m can be used to\u001b[0m\n",
       "\u001b[2;36m                \u001b[0m\u001b[31mobtain the true permittivity and check that the surface mesh is \u001b[0m\n",
       "\u001b[2;36m                \u001b[0m\u001b[31mloaded correctly.                                               \u001b[0m\n"
      ]
     },
     "metadata": {},
     "output_type": "display_data"
    },
    {
     "data": {
      "text/html": [
       "<pre style=\"white-space:pre;overflow-x:auto;line-height:normal;font-family:Menlo,'DejaVu Sans Mono',consolas,'Courier New',monospace\"><span style=\"color: #7fbfbf; text-decoration-color: #7fbfbf\">                </span><span style=\"color: #800000; text-decoration-color: #800000\">WARNING: Client-side permittivity of a </span><span style=\"color: #008000; text-decoration-color: #008000\">'TriangleMesh'</span><span style=\"color: #800000; text-decoration-color: #800000\"> may be    </span>\n",
       "<span style=\"color: #7fbfbf; text-decoration-color: #7fbfbf\">                </span><span style=\"color: #800000; text-decoration-color: #800000\">inaccurate if the mesh is not unionized. We recommend unionizing</span>\n",
       "<span style=\"color: #7fbfbf; text-decoration-color: #7fbfbf\">                </span><span style=\"color: #800000; text-decoration-color: #800000\">all meshes before import. A </span><span style=\"color: #008000; text-decoration-color: #008000\">'PermittivityMonitor'</span><span style=\"color: #800000; text-decoration-color: #800000\"> can be used to</span>\n",
       "<span style=\"color: #7fbfbf; text-decoration-color: #7fbfbf\">                </span><span style=\"color: #800000; text-decoration-color: #800000\">obtain the true permittivity and check that the surface mesh is </span>\n",
       "<span style=\"color: #7fbfbf; text-decoration-color: #7fbfbf\">                </span><span style=\"color: #800000; text-decoration-color: #800000\">loaded correctly.                                               </span>\n",
       "</pre>\n"
      ],
      "text/plain": [
       "\u001b[2;36m               \u001b[0m\u001b[2;36m \u001b[0m\u001b[31mWARNING: Client-side permittivity of a \u001b[0m\u001b[32m'TriangleMesh'\u001b[0m\u001b[31m may be    \u001b[0m\n",
       "\u001b[2;36m                \u001b[0m\u001b[31minaccurate if the mesh is not unionized. We recommend unionizing\u001b[0m\n",
       "\u001b[2;36m                \u001b[0m\u001b[31mall meshes before import. A \u001b[0m\u001b[32m'PermittivityMonitor'\u001b[0m\u001b[31m can be used to\u001b[0m\n",
       "\u001b[2;36m                \u001b[0m\u001b[31mobtain the true permittivity and check that the surface mesh is \u001b[0m\n",
       "\u001b[2;36m                \u001b[0m\u001b[31mloaded correctly.                                               \u001b[0m\n"
      ]
     },
     "metadata": {},
     "output_type": "display_data"
    },
    {
     "data": {
      "text/html": [
       "<pre style=\"white-space:pre;overflow-x:auto;line-height:normal;font-family:Menlo,'DejaVu Sans Mono',consolas,'Courier New',monospace\"><span style=\"color: #7fbfbf; text-decoration-color: #7fbfbf\">                </span><span style=\"color: #800000; text-decoration-color: #800000\">WARNING: Client-side permittivity of a </span><span style=\"color: #008000; text-decoration-color: #008000\">'TriangleMesh'</span><span style=\"color: #800000; text-decoration-color: #800000\"> may be    </span>\n",
       "<span style=\"color: #7fbfbf; text-decoration-color: #7fbfbf\">                </span><span style=\"color: #800000; text-decoration-color: #800000\">inaccurate if the mesh is not unionized. We recommend unionizing</span>\n",
       "<span style=\"color: #7fbfbf; text-decoration-color: #7fbfbf\">                </span><span style=\"color: #800000; text-decoration-color: #800000\">all meshes before import. A </span><span style=\"color: #008000; text-decoration-color: #008000\">'PermittivityMonitor'</span><span style=\"color: #800000; text-decoration-color: #800000\"> can be used to</span>\n",
       "<span style=\"color: #7fbfbf; text-decoration-color: #7fbfbf\">                </span><span style=\"color: #800000; text-decoration-color: #800000\">obtain the true permittivity and check that the surface mesh is </span>\n",
       "<span style=\"color: #7fbfbf; text-decoration-color: #7fbfbf\">                </span><span style=\"color: #800000; text-decoration-color: #800000\">loaded correctly.                                               </span>\n",
       "</pre>\n"
      ],
      "text/plain": [
       "\u001b[2;36m               \u001b[0m\u001b[2;36m \u001b[0m\u001b[31mWARNING: Client-side permittivity of a \u001b[0m\u001b[32m'TriangleMesh'\u001b[0m\u001b[31m may be    \u001b[0m\n",
       "\u001b[2;36m                \u001b[0m\u001b[31minaccurate if the mesh is not unionized. We recommend unionizing\u001b[0m\n",
       "\u001b[2;36m                \u001b[0m\u001b[31mall meshes before import. A \u001b[0m\u001b[32m'PermittivityMonitor'\u001b[0m\u001b[31m can be used to\u001b[0m\n",
       "\u001b[2;36m                \u001b[0m\u001b[31mobtain the true permittivity and check that the surface mesh is \u001b[0m\n",
       "\u001b[2;36m                \u001b[0m\u001b[31mloaded correctly.                                               \u001b[0m\n"
      ]
     },
     "metadata": {},
     "output_type": "display_data"
    },
    {
     "data": {
      "text/html": [
       "<pre style=\"white-space:pre;overflow-x:auto;line-height:normal;font-family:Menlo,'DejaVu Sans Mono',consolas,'Courier New',monospace\"><span style=\"color: #7fbfbf; text-decoration-color: #7fbfbf\">                </span><span style=\"color: #800000; text-decoration-color: #800000\">WARNING: Client-side permittivity of a </span><span style=\"color: #008000; text-decoration-color: #008000\">'TriangleMesh'</span><span style=\"color: #800000; text-decoration-color: #800000\"> may be    </span>\n",
       "<span style=\"color: #7fbfbf; text-decoration-color: #7fbfbf\">                </span><span style=\"color: #800000; text-decoration-color: #800000\">inaccurate if the mesh is not unionized. We recommend unionizing</span>\n",
       "<span style=\"color: #7fbfbf; text-decoration-color: #7fbfbf\">                </span><span style=\"color: #800000; text-decoration-color: #800000\">all meshes before import. A </span><span style=\"color: #008000; text-decoration-color: #008000\">'PermittivityMonitor'</span><span style=\"color: #800000; text-decoration-color: #800000\"> can be used to</span>\n",
       "<span style=\"color: #7fbfbf; text-decoration-color: #7fbfbf\">                </span><span style=\"color: #800000; text-decoration-color: #800000\">obtain the true permittivity and check that the surface mesh is </span>\n",
       "<span style=\"color: #7fbfbf; text-decoration-color: #7fbfbf\">                </span><span style=\"color: #800000; text-decoration-color: #800000\">loaded correctly.                                               </span>\n",
       "</pre>\n"
      ],
      "text/plain": [
       "\u001b[2;36m               \u001b[0m\u001b[2;36m \u001b[0m\u001b[31mWARNING: Client-side permittivity of a \u001b[0m\u001b[32m'TriangleMesh'\u001b[0m\u001b[31m may be    \u001b[0m\n",
       "\u001b[2;36m                \u001b[0m\u001b[31minaccurate if the mesh is not unionized. We recommend unionizing\u001b[0m\n",
       "\u001b[2;36m                \u001b[0m\u001b[31mall meshes before import. A \u001b[0m\u001b[32m'PermittivityMonitor'\u001b[0m\u001b[31m can be used to\u001b[0m\n",
       "\u001b[2;36m                \u001b[0m\u001b[31mobtain the true permittivity and check that the surface mesh is \u001b[0m\n",
       "\u001b[2;36m                \u001b[0m\u001b[31mloaded correctly.                                               \u001b[0m\n"
      ]
     },
     "metadata": {},
     "output_type": "display_data"
    },
    {
     "data": {
      "text/html": [
       "<pre style=\"white-space:pre;overflow-x:auto;line-height:normal;font-family:Menlo,'DejaVu Sans Mono',consolas,'Courier New',monospace\"><span style=\"color: #7fbfbf; text-decoration-color: #7fbfbf\">                </span><span style=\"color: #800000; text-decoration-color: #800000\">WARNING: Client-side permittivity of a </span><span style=\"color: #008000; text-decoration-color: #008000\">'TriangleMesh'</span><span style=\"color: #800000; text-decoration-color: #800000\"> may be    </span>\n",
       "<span style=\"color: #7fbfbf; text-decoration-color: #7fbfbf\">                </span><span style=\"color: #800000; text-decoration-color: #800000\">inaccurate if the mesh is not unionized. We recommend unionizing</span>\n",
       "<span style=\"color: #7fbfbf; text-decoration-color: #7fbfbf\">                </span><span style=\"color: #800000; text-decoration-color: #800000\">all meshes before import. A </span><span style=\"color: #008000; text-decoration-color: #008000\">'PermittivityMonitor'</span><span style=\"color: #800000; text-decoration-color: #800000\"> can be used to</span>\n",
       "<span style=\"color: #7fbfbf; text-decoration-color: #7fbfbf\">                </span><span style=\"color: #800000; text-decoration-color: #800000\">obtain the true permittivity and check that the surface mesh is </span>\n",
       "<span style=\"color: #7fbfbf; text-decoration-color: #7fbfbf\">                </span><span style=\"color: #800000; text-decoration-color: #800000\">loaded correctly.                                               </span>\n",
       "</pre>\n"
      ],
      "text/plain": [
       "\u001b[2;36m               \u001b[0m\u001b[2;36m \u001b[0m\u001b[31mWARNING: Client-side permittivity of a \u001b[0m\u001b[32m'TriangleMesh'\u001b[0m\u001b[31m may be    \u001b[0m\n",
       "\u001b[2;36m                \u001b[0m\u001b[31minaccurate if the mesh is not unionized. We recommend unionizing\u001b[0m\n",
       "\u001b[2;36m                \u001b[0m\u001b[31mall meshes before import. A \u001b[0m\u001b[32m'PermittivityMonitor'\u001b[0m\u001b[31m can be used to\u001b[0m\n",
       "\u001b[2;36m                \u001b[0m\u001b[31mobtain the true permittivity and check that the surface mesh is \u001b[0m\n",
       "\u001b[2;36m                \u001b[0m\u001b[31mloaded correctly.                                               \u001b[0m\n"
      ]
     },
     "metadata": {},
     "output_type": "display_data"
    },
    {
     "data": {
      "text/html": [
       "<pre style=\"white-space:pre;overflow-x:auto;line-height:normal;font-family:Menlo,'DejaVu Sans Mono',consolas,'Courier New',monospace\"><span style=\"color: #7fbfbf; text-decoration-color: #7fbfbf\">                </span><span style=\"color: #800000; text-decoration-color: #800000\">WARNING: Client-side permittivity of a </span><span style=\"color: #008000; text-decoration-color: #008000\">'TriangleMesh'</span><span style=\"color: #800000; text-decoration-color: #800000\"> may be    </span>\n",
       "<span style=\"color: #7fbfbf; text-decoration-color: #7fbfbf\">                </span><span style=\"color: #800000; text-decoration-color: #800000\">inaccurate if the mesh is not unionized. We recommend unionizing</span>\n",
       "<span style=\"color: #7fbfbf; text-decoration-color: #7fbfbf\">                </span><span style=\"color: #800000; text-decoration-color: #800000\">all meshes before import. A </span><span style=\"color: #008000; text-decoration-color: #008000\">'PermittivityMonitor'</span><span style=\"color: #800000; text-decoration-color: #800000\"> can be used to</span>\n",
       "<span style=\"color: #7fbfbf; text-decoration-color: #7fbfbf\">                </span><span style=\"color: #800000; text-decoration-color: #800000\">obtain the true permittivity and check that the surface mesh is </span>\n",
       "<span style=\"color: #7fbfbf; text-decoration-color: #7fbfbf\">                </span><span style=\"color: #800000; text-decoration-color: #800000\">loaded correctly.                                               </span>\n",
       "</pre>\n"
      ],
      "text/plain": [
       "\u001b[2;36m               \u001b[0m\u001b[2;36m \u001b[0m\u001b[31mWARNING: Client-side permittivity of a \u001b[0m\u001b[32m'TriangleMesh'\u001b[0m\u001b[31m may be    \u001b[0m\n",
       "\u001b[2;36m                \u001b[0m\u001b[31minaccurate if the mesh is not unionized. We recommend unionizing\u001b[0m\n",
       "\u001b[2;36m                \u001b[0m\u001b[31mall meshes before import. A \u001b[0m\u001b[32m'PermittivityMonitor'\u001b[0m\u001b[31m can be used to\u001b[0m\n",
       "\u001b[2;36m                \u001b[0m\u001b[31mobtain the true permittivity and check that the surface mesh is \u001b[0m\n",
       "\u001b[2;36m                \u001b[0m\u001b[31mloaded correctly.                                               \u001b[0m\n"
      ]
     },
     "metadata": {},
     "output_type": "display_data"
    },
    {
     "data": {
      "text/html": [
       "<pre style=\"white-space:pre;overflow-x:auto;line-height:normal;font-family:Menlo,'DejaVu Sans Mono',consolas,'Courier New',monospace\"><span style=\"color: #7fbfbf; text-decoration-color: #7fbfbf\">                </span><span style=\"color: #800000; text-decoration-color: #800000\">WARNING: Client-side permittivity of a </span><span style=\"color: #008000; text-decoration-color: #008000\">'TriangleMesh'</span><span style=\"color: #800000; text-decoration-color: #800000\"> may be    </span>\n",
       "<span style=\"color: #7fbfbf; text-decoration-color: #7fbfbf\">                </span><span style=\"color: #800000; text-decoration-color: #800000\">inaccurate if the mesh is not unionized. We recommend unionizing</span>\n",
       "<span style=\"color: #7fbfbf; text-decoration-color: #7fbfbf\">                </span><span style=\"color: #800000; text-decoration-color: #800000\">all meshes before import. A </span><span style=\"color: #008000; text-decoration-color: #008000\">'PermittivityMonitor'</span><span style=\"color: #800000; text-decoration-color: #800000\"> can be used to</span>\n",
       "<span style=\"color: #7fbfbf; text-decoration-color: #7fbfbf\">                </span><span style=\"color: #800000; text-decoration-color: #800000\">obtain the true permittivity and check that the surface mesh is </span>\n",
       "<span style=\"color: #7fbfbf; text-decoration-color: #7fbfbf\">                </span><span style=\"color: #800000; text-decoration-color: #800000\">loaded correctly.                                               </span>\n",
       "</pre>\n"
      ],
      "text/plain": [
       "\u001b[2;36m               \u001b[0m\u001b[2;36m \u001b[0m\u001b[31mWARNING: Client-side permittivity of a \u001b[0m\u001b[32m'TriangleMesh'\u001b[0m\u001b[31m may be    \u001b[0m\n",
       "\u001b[2;36m                \u001b[0m\u001b[31minaccurate if the mesh is not unionized. We recommend unionizing\u001b[0m\n",
       "\u001b[2;36m                \u001b[0m\u001b[31mall meshes before import. A \u001b[0m\u001b[32m'PermittivityMonitor'\u001b[0m\u001b[31m can be used to\u001b[0m\n",
       "\u001b[2;36m                \u001b[0m\u001b[31mobtain the true permittivity and check that the surface mesh is \u001b[0m\n",
       "\u001b[2;36m                \u001b[0m\u001b[31mloaded correctly.                                               \u001b[0m\n"
      ]
     },
     "metadata": {},
     "output_type": "display_data"
    },
    {
     "data": {
      "text/html": [
       "<pre style=\"white-space:pre;overflow-x:auto;line-height:normal;font-family:Menlo,'DejaVu Sans Mono',consolas,'Courier New',monospace\"><span style=\"color: #7fbfbf; text-decoration-color: #7fbfbf\">                </span><span style=\"color: #800000; text-decoration-color: #800000\">WARNING: Client-side permittivity of a </span><span style=\"color: #008000; text-decoration-color: #008000\">'TriangleMesh'</span><span style=\"color: #800000; text-decoration-color: #800000\"> may be    </span>\n",
       "<span style=\"color: #7fbfbf; text-decoration-color: #7fbfbf\">                </span><span style=\"color: #800000; text-decoration-color: #800000\">inaccurate if the mesh is not unionized. We recommend unionizing</span>\n",
       "<span style=\"color: #7fbfbf; text-decoration-color: #7fbfbf\">                </span><span style=\"color: #800000; text-decoration-color: #800000\">all meshes before import. A </span><span style=\"color: #008000; text-decoration-color: #008000\">'PermittivityMonitor'</span><span style=\"color: #800000; text-decoration-color: #800000\"> can be used to</span>\n",
       "<span style=\"color: #7fbfbf; text-decoration-color: #7fbfbf\">                </span><span style=\"color: #800000; text-decoration-color: #800000\">obtain the true permittivity and check that the surface mesh is </span>\n",
       "<span style=\"color: #7fbfbf; text-decoration-color: #7fbfbf\">                </span><span style=\"color: #800000; text-decoration-color: #800000\">loaded correctly.                                               </span>\n",
       "</pre>\n"
      ],
      "text/plain": [
       "\u001b[2;36m               \u001b[0m\u001b[2;36m \u001b[0m\u001b[31mWARNING: Client-side permittivity of a \u001b[0m\u001b[32m'TriangleMesh'\u001b[0m\u001b[31m may be    \u001b[0m\n",
       "\u001b[2;36m                \u001b[0m\u001b[31minaccurate if the mesh is not unionized. We recommend unionizing\u001b[0m\n",
       "\u001b[2;36m                \u001b[0m\u001b[31mall meshes before import. A \u001b[0m\u001b[32m'PermittivityMonitor'\u001b[0m\u001b[31m can be used to\u001b[0m\n",
       "\u001b[2;36m                \u001b[0m\u001b[31mobtain the true permittivity and check that the surface mesh is \u001b[0m\n",
       "\u001b[2;36m                \u001b[0m\u001b[31mloaded correctly.                                               \u001b[0m\n"
      ]
     },
     "metadata": {},
     "output_type": "display_data"
    },
    {
     "data": {
      "text/html": [
       "<pre style=\"white-space:pre;overflow-x:auto;line-height:normal;font-family:Menlo,'DejaVu Sans Mono',consolas,'Courier New',monospace\"><span style=\"color: #7fbfbf; text-decoration-color: #7fbfbf\">                </span><span style=\"color: #800000; text-decoration-color: #800000\">WARNING: Client-side permittivity of a </span><span style=\"color: #008000; text-decoration-color: #008000\">'TriangleMesh'</span><span style=\"color: #800000; text-decoration-color: #800000\"> may be    </span>\n",
       "<span style=\"color: #7fbfbf; text-decoration-color: #7fbfbf\">                </span><span style=\"color: #800000; text-decoration-color: #800000\">inaccurate if the mesh is not unionized. We recommend unionizing</span>\n",
       "<span style=\"color: #7fbfbf; text-decoration-color: #7fbfbf\">                </span><span style=\"color: #800000; text-decoration-color: #800000\">all meshes before import. A </span><span style=\"color: #008000; text-decoration-color: #008000\">'PermittivityMonitor'</span><span style=\"color: #800000; text-decoration-color: #800000\"> can be used to</span>\n",
       "<span style=\"color: #7fbfbf; text-decoration-color: #7fbfbf\">                </span><span style=\"color: #800000; text-decoration-color: #800000\">obtain the true permittivity and check that the surface mesh is </span>\n",
       "<span style=\"color: #7fbfbf; text-decoration-color: #7fbfbf\">                </span><span style=\"color: #800000; text-decoration-color: #800000\">loaded correctly.                                               </span>\n",
       "</pre>\n"
      ],
      "text/plain": [
       "\u001b[2;36m               \u001b[0m\u001b[2;36m \u001b[0m\u001b[31mWARNING: Client-side permittivity of a \u001b[0m\u001b[32m'TriangleMesh'\u001b[0m\u001b[31m may be    \u001b[0m\n",
       "\u001b[2;36m                \u001b[0m\u001b[31minaccurate if the mesh is not unionized. We recommend unionizing\u001b[0m\n",
       "\u001b[2;36m                \u001b[0m\u001b[31mall meshes before import. A \u001b[0m\u001b[32m'PermittivityMonitor'\u001b[0m\u001b[31m can be used to\u001b[0m\n",
       "\u001b[2;36m                \u001b[0m\u001b[31mobtain the true permittivity and check that the surface mesh is \u001b[0m\n",
       "\u001b[2;36m                \u001b[0m\u001b[31mloaded correctly.                                               \u001b[0m\n"
      ]
     },
     "metadata": {},
     "output_type": "display_data"
    },
    {
     "data": {
      "text/html": [
       "<pre style=\"white-space:pre;overflow-x:auto;line-height:normal;font-family:Menlo,'DejaVu Sans Mono',consolas,'Courier New',monospace\"><span style=\"color: #7fbfbf; text-decoration-color: #7fbfbf\">                </span><span style=\"color: #800000; text-decoration-color: #800000\">WARNING: Client-side permittivity of a </span><span style=\"color: #008000; text-decoration-color: #008000\">'TriangleMesh'</span><span style=\"color: #800000; text-decoration-color: #800000\"> may be    </span>\n",
       "<span style=\"color: #7fbfbf; text-decoration-color: #7fbfbf\">                </span><span style=\"color: #800000; text-decoration-color: #800000\">inaccurate if the mesh is not unionized. We recommend unionizing</span>\n",
       "<span style=\"color: #7fbfbf; text-decoration-color: #7fbfbf\">                </span><span style=\"color: #800000; text-decoration-color: #800000\">all meshes before import. A </span><span style=\"color: #008000; text-decoration-color: #008000\">'PermittivityMonitor'</span><span style=\"color: #800000; text-decoration-color: #800000\"> can be used to</span>\n",
       "<span style=\"color: #7fbfbf; text-decoration-color: #7fbfbf\">                </span><span style=\"color: #800000; text-decoration-color: #800000\">obtain the true permittivity and check that the surface mesh is </span>\n",
       "<span style=\"color: #7fbfbf; text-decoration-color: #7fbfbf\">                </span><span style=\"color: #800000; text-decoration-color: #800000\">loaded correctly.                                               </span>\n",
       "</pre>\n"
      ],
      "text/plain": [
       "\u001b[2;36m               \u001b[0m\u001b[2;36m \u001b[0m\u001b[31mWARNING: Client-side permittivity of a \u001b[0m\u001b[32m'TriangleMesh'\u001b[0m\u001b[31m may be    \u001b[0m\n",
       "\u001b[2;36m                \u001b[0m\u001b[31minaccurate if the mesh is not unionized. We recommend unionizing\u001b[0m\n",
       "\u001b[2;36m                \u001b[0m\u001b[31mall meshes before import. A \u001b[0m\u001b[32m'PermittivityMonitor'\u001b[0m\u001b[31m can be used to\u001b[0m\n",
       "\u001b[2;36m                \u001b[0m\u001b[31mobtain the true permittivity and check that the surface mesh is \u001b[0m\n",
       "\u001b[2;36m                \u001b[0m\u001b[31mloaded correctly.                                               \u001b[0m\n"
      ]
     },
     "metadata": {},
     "output_type": "display_data"
    },
    {
     "data": {
      "text/html": [
       "<pre style=\"white-space:pre;overflow-x:auto;line-height:normal;font-family:Menlo,'DejaVu Sans Mono',consolas,'Courier New',monospace\"><span style=\"color: #7fbfbf; text-decoration-color: #7fbfbf\">                </span><span style=\"color: #800000; text-decoration-color: #800000\">WARNING: Client-side permittivity of a </span><span style=\"color: #008000; text-decoration-color: #008000\">'TriangleMesh'</span><span style=\"color: #800000; text-decoration-color: #800000\"> may be    </span>\n",
       "<span style=\"color: #7fbfbf; text-decoration-color: #7fbfbf\">                </span><span style=\"color: #800000; text-decoration-color: #800000\">inaccurate if the mesh is not unionized. We recommend unionizing</span>\n",
       "<span style=\"color: #7fbfbf; text-decoration-color: #7fbfbf\">                </span><span style=\"color: #800000; text-decoration-color: #800000\">all meshes before import. A </span><span style=\"color: #008000; text-decoration-color: #008000\">'PermittivityMonitor'</span><span style=\"color: #800000; text-decoration-color: #800000\"> can be used to</span>\n",
       "<span style=\"color: #7fbfbf; text-decoration-color: #7fbfbf\">                </span><span style=\"color: #800000; text-decoration-color: #800000\">obtain the true permittivity and check that the surface mesh is </span>\n",
       "<span style=\"color: #7fbfbf; text-decoration-color: #7fbfbf\">                </span><span style=\"color: #800000; text-decoration-color: #800000\">loaded correctly.                                               </span>\n",
       "</pre>\n"
      ],
      "text/plain": [
       "\u001b[2;36m               \u001b[0m\u001b[2;36m \u001b[0m\u001b[31mWARNING: Client-side permittivity of a \u001b[0m\u001b[32m'TriangleMesh'\u001b[0m\u001b[31m may be    \u001b[0m\n",
       "\u001b[2;36m                \u001b[0m\u001b[31minaccurate if the mesh is not unionized. We recommend unionizing\u001b[0m\n",
       "\u001b[2;36m                \u001b[0m\u001b[31mall meshes before import. A \u001b[0m\u001b[32m'PermittivityMonitor'\u001b[0m\u001b[31m can be used to\u001b[0m\n",
       "\u001b[2;36m                \u001b[0m\u001b[31mobtain the true permittivity and check that the surface mesh is \u001b[0m\n",
       "\u001b[2;36m                \u001b[0m\u001b[31mloaded correctly.                                               \u001b[0m\n"
      ]
     },
     "metadata": {},
     "output_type": "display_data"
    },
    {
     "data": {
      "text/html": [
       "<pre style=\"white-space:pre;overflow-x:auto;line-height:normal;font-family:Menlo,'DejaVu Sans Mono',consolas,'Courier New',monospace\"><span style=\"color: #7fbfbf; text-decoration-color: #7fbfbf\">                </span><span style=\"color: #800000; text-decoration-color: #800000\">WARNING: Client-side permittivity of a </span><span style=\"color: #008000; text-decoration-color: #008000\">'TriangleMesh'</span><span style=\"color: #800000; text-decoration-color: #800000\"> may be    </span>\n",
       "<span style=\"color: #7fbfbf; text-decoration-color: #7fbfbf\">                </span><span style=\"color: #800000; text-decoration-color: #800000\">inaccurate if the mesh is not unionized. We recommend unionizing</span>\n",
       "<span style=\"color: #7fbfbf; text-decoration-color: #7fbfbf\">                </span><span style=\"color: #800000; text-decoration-color: #800000\">all meshes before import. A </span><span style=\"color: #008000; text-decoration-color: #008000\">'PermittivityMonitor'</span><span style=\"color: #800000; text-decoration-color: #800000\"> can be used to</span>\n",
       "<span style=\"color: #7fbfbf; text-decoration-color: #7fbfbf\">                </span><span style=\"color: #800000; text-decoration-color: #800000\">obtain the true permittivity and check that the surface mesh is </span>\n",
       "<span style=\"color: #7fbfbf; text-decoration-color: #7fbfbf\">                </span><span style=\"color: #800000; text-decoration-color: #800000\">loaded correctly.                                               </span>\n",
       "</pre>\n"
      ],
      "text/plain": [
       "\u001b[2;36m               \u001b[0m\u001b[2;36m \u001b[0m\u001b[31mWARNING: Client-side permittivity of a \u001b[0m\u001b[32m'TriangleMesh'\u001b[0m\u001b[31m may be    \u001b[0m\n",
       "\u001b[2;36m                \u001b[0m\u001b[31minaccurate if the mesh is not unionized. We recommend unionizing\u001b[0m\n",
       "\u001b[2;36m                \u001b[0m\u001b[31mall meshes before import. A \u001b[0m\u001b[32m'PermittivityMonitor'\u001b[0m\u001b[31m can be used to\u001b[0m\n",
       "\u001b[2;36m                \u001b[0m\u001b[31mobtain the true permittivity and check that the surface mesh is \u001b[0m\n",
       "\u001b[2;36m                \u001b[0m\u001b[31mloaded correctly.                                               \u001b[0m\n"
      ]
     },
     "metadata": {},
     "output_type": "display_data"
    },
    {
     "data": {
      "text/html": [
       "<pre style=\"white-space:pre;overflow-x:auto;line-height:normal;font-family:Menlo,'DejaVu Sans Mono',consolas,'Courier New',monospace\"><span style=\"color: #7fbfbf; text-decoration-color: #7fbfbf\">                </span><span style=\"color: #800000; text-decoration-color: #800000\">WARNING: Client-side permittivity of a </span><span style=\"color: #008000; text-decoration-color: #008000\">'TriangleMesh'</span><span style=\"color: #800000; text-decoration-color: #800000\"> may be    </span>\n",
       "<span style=\"color: #7fbfbf; text-decoration-color: #7fbfbf\">                </span><span style=\"color: #800000; text-decoration-color: #800000\">inaccurate if the mesh is not unionized. We recommend unionizing</span>\n",
       "<span style=\"color: #7fbfbf; text-decoration-color: #7fbfbf\">                </span><span style=\"color: #800000; text-decoration-color: #800000\">all meshes before import. A </span><span style=\"color: #008000; text-decoration-color: #008000\">'PermittivityMonitor'</span><span style=\"color: #800000; text-decoration-color: #800000\"> can be used to</span>\n",
       "<span style=\"color: #7fbfbf; text-decoration-color: #7fbfbf\">                </span><span style=\"color: #800000; text-decoration-color: #800000\">obtain the true permittivity and check that the surface mesh is </span>\n",
       "<span style=\"color: #7fbfbf; text-decoration-color: #7fbfbf\">                </span><span style=\"color: #800000; text-decoration-color: #800000\">loaded correctly.                                               </span>\n",
       "</pre>\n"
      ],
      "text/plain": [
       "\u001b[2;36m               \u001b[0m\u001b[2;36m \u001b[0m\u001b[31mWARNING: Client-side permittivity of a \u001b[0m\u001b[32m'TriangleMesh'\u001b[0m\u001b[31m may be    \u001b[0m\n",
       "\u001b[2;36m                \u001b[0m\u001b[31minaccurate if the mesh is not unionized. We recommend unionizing\u001b[0m\n",
       "\u001b[2;36m                \u001b[0m\u001b[31mall meshes before import. A \u001b[0m\u001b[32m'PermittivityMonitor'\u001b[0m\u001b[31m can be used to\u001b[0m\n",
       "\u001b[2;36m                \u001b[0m\u001b[31mobtain the true permittivity and check that the surface mesh is \u001b[0m\n",
       "\u001b[2;36m                \u001b[0m\u001b[31mloaded correctly.                                               \u001b[0m\n"
      ]
     },
     "metadata": {},
     "output_type": "display_data"
    },
    {
     "data": {
      "text/html": [
       "<pre style=\"white-space:pre;overflow-x:auto;line-height:normal;font-family:Menlo,'DejaVu Sans Mono',consolas,'Courier New',monospace\"><span style=\"color: #7fbfbf; text-decoration-color: #7fbfbf\">                </span><span style=\"color: #800000; text-decoration-color: #800000\">WARNING: Client-side permittivity of a </span><span style=\"color: #008000; text-decoration-color: #008000\">'TriangleMesh'</span><span style=\"color: #800000; text-decoration-color: #800000\"> may be    </span>\n",
       "<span style=\"color: #7fbfbf; text-decoration-color: #7fbfbf\">                </span><span style=\"color: #800000; text-decoration-color: #800000\">inaccurate if the mesh is not unionized. We recommend unionizing</span>\n",
       "<span style=\"color: #7fbfbf; text-decoration-color: #7fbfbf\">                </span><span style=\"color: #800000; text-decoration-color: #800000\">all meshes before import. A </span><span style=\"color: #008000; text-decoration-color: #008000\">'PermittivityMonitor'</span><span style=\"color: #800000; text-decoration-color: #800000\"> can be used to</span>\n",
       "<span style=\"color: #7fbfbf; text-decoration-color: #7fbfbf\">                </span><span style=\"color: #800000; text-decoration-color: #800000\">obtain the true permittivity and check that the surface mesh is </span>\n",
       "<span style=\"color: #7fbfbf; text-decoration-color: #7fbfbf\">                </span><span style=\"color: #800000; text-decoration-color: #800000\">loaded correctly.                                               </span>\n",
       "</pre>\n"
      ],
      "text/plain": [
       "\u001b[2;36m               \u001b[0m\u001b[2;36m \u001b[0m\u001b[31mWARNING: Client-side permittivity of a \u001b[0m\u001b[32m'TriangleMesh'\u001b[0m\u001b[31m may be    \u001b[0m\n",
       "\u001b[2;36m                \u001b[0m\u001b[31minaccurate if the mesh is not unionized. We recommend unionizing\u001b[0m\n",
       "\u001b[2;36m                \u001b[0m\u001b[31mall meshes before import. A \u001b[0m\u001b[32m'PermittivityMonitor'\u001b[0m\u001b[31m can be used to\u001b[0m\n",
       "\u001b[2;36m                \u001b[0m\u001b[31mobtain the true permittivity and check that the surface mesh is \u001b[0m\n",
       "\u001b[2;36m                \u001b[0m\u001b[31mloaded correctly.                                               \u001b[0m\n"
      ]
     },
     "metadata": {},
     "output_type": "display_data"
    },
    {
     "data": {
      "text/html": [
       "<pre style=\"white-space:pre;overflow-x:auto;line-height:normal;font-family:Menlo,'DejaVu Sans Mono',consolas,'Courier New',monospace\"><span style=\"color: #7fbfbf; text-decoration-color: #7fbfbf\">                </span><span style=\"color: #800000; text-decoration-color: #800000\">WARNING: Client-side permittivity of a </span><span style=\"color: #008000; text-decoration-color: #008000\">'TriangleMesh'</span><span style=\"color: #800000; text-decoration-color: #800000\"> may be    </span>\n",
       "<span style=\"color: #7fbfbf; text-decoration-color: #7fbfbf\">                </span><span style=\"color: #800000; text-decoration-color: #800000\">inaccurate if the mesh is not unionized. We recommend unionizing</span>\n",
       "<span style=\"color: #7fbfbf; text-decoration-color: #7fbfbf\">                </span><span style=\"color: #800000; text-decoration-color: #800000\">all meshes before import. A </span><span style=\"color: #008000; text-decoration-color: #008000\">'PermittivityMonitor'</span><span style=\"color: #800000; text-decoration-color: #800000\"> can be used to</span>\n",
       "<span style=\"color: #7fbfbf; text-decoration-color: #7fbfbf\">                </span><span style=\"color: #800000; text-decoration-color: #800000\">obtain the true permittivity and check that the surface mesh is </span>\n",
       "<span style=\"color: #7fbfbf; text-decoration-color: #7fbfbf\">                </span><span style=\"color: #800000; text-decoration-color: #800000\">loaded correctly.                                               </span>\n",
       "</pre>\n"
      ],
      "text/plain": [
       "\u001b[2;36m               \u001b[0m\u001b[2;36m \u001b[0m\u001b[31mWARNING: Client-side permittivity of a \u001b[0m\u001b[32m'TriangleMesh'\u001b[0m\u001b[31m may be    \u001b[0m\n",
       "\u001b[2;36m                \u001b[0m\u001b[31minaccurate if the mesh is not unionized. We recommend unionizing\u001b[0m\n",
       "\u001b[2;36m                \u001b[0m\u001b[31mall meshes before import. A \u001b[0m\u001b[32m'PermittivityMonitor'\u001b[0m\u001b[31m can be used to\u001b[0m\n",
       "\u001b[2;36m                \u001b[0m\u001b[31mobtain the true permittivity and check that the surface mesh is \u001b[0m\n",
       "\u001b[2;36m                \u001b[0m\u001b[31mloaded correctly.                                               \u001b[0m\n"
      ]
     },
     "metadata": {},
     "output_type": "display_data"
    },
    {
     "data": {
      "text/html": [
       "<pre style=\"white-space:pre;overflow-x:auto;line-height:normal;font-family:Menlo,'DejaVu Sans Mono',consolas,'Courier New',monospace\"><span style=\"color: #7fbfbf; text-decoration-color: #7fbfbf\">                </span><span style=\"color: #800000; text-decoration-color: #800000\">WARNING: Client-side permittivity of a </span><span style=\"color: #008000; text-decoration-color: #008000\">'TriangleMesh'</span><span style=\"color: #800000; text-decoration-color: #800000\"> may be    </span>\n",
       "<span style=\"color: #7fbfbf; text-decoration-color: #7fbfbf\">                </span><span style=\"color: #800000; text-decoration-color: #800000\">inaccurate if the mesh is not unionized. We recommend unionizing</span>\n",
       "<span style=\"color: #7fbfbf; text-decoration-color: #7fbfbf\">                </span><span style=\"color: #800000; text-decoration-color: #800000\">all meshes before import. A </span><span style=\"color: #008000; text-decoration-color: #008000\">'PermittivityMonitor'</span><span style=\"color: #800000; text-decoration-color: #800000\"> can be used to</span>\n",
       "<span style=\"color: #7fbfbf; text-decoration-color: #7fbfbf\">                </span><span style=\"color: #800000; text-decoration-color: #800000\">obtain the true permittivity and check that the surface mesh is </span>\n",
       "<span style=\"color: #7fbfbf; text-decoration-color: #7fbfbf\">                </span><span style=\"color: #800000; text-decoration-color: #800000\">loaded correctly.                                               </span>\n",
       "</pre>\n"
      ],
      "text/plain": [
       "\u001b[2;36m               \u001b[0m\u001b[2;36m \u001b[0m\u001b[31mWARNING: Client-side permittivity of a \u001b[0m\u001b[32m'TriangleMesh'\u001b[0m\u001b[31m may be    \u001b[0m\n",
       "\u001b[2;36m                \u001b[0m\u001b[31minaccurate if the mesh is not unionized. We recommend unionizing\u001b[0m\n",
       "\u001b[2;36m                \u001b[0m\u001b[31mall meshes before import. A \u001b[0m\u001b[32m'PermittivityMonitor'\u001b[0m\u001b[31m can be used to\u001b[0m\n",
       "\u001b[2;36m                \u001b[0m\u001b[31mobtain the true permittivity and check that the surface mesh is \u001b[0m\n",
       "\u001b[2;36m                \u001b[0m\u001b[31mloaded correctly.                                               \u001b[0m\n"
      ]
     },
     "metadata": {},
     "output_type": "display_data"
    },
    {
     "data": {
      "text/html": [
       "<pre style=\"white-space:pre;overflow-x:auto;line-height:normal;font-family:Menlo,'DejaVu Sans Mono',consolas,'Courier New',monospace\"><span style=\"color: #7fbfbf; text-decoration-color: #7fbfbf\">                </span><span style=\"color: #800000; text-decoration-color: #800000\">WARNING: Client-side permittivity of a </span><span style=\"color: #008000; text-decoration-color: #008000\">'TriangleMesh'</span><span style=\"color: #800000; text-decoration-color: #800000\"> may be    </span>\n",
       "<span style=\"color: #7fbfbf; text-decoration-color: #7fbfbf\">                </span><span style=\"color: #800000; text-decoration-color: #800000\">inaccurate if the mesh is not unionized. We recommend unionizing</span>\n",
       "<span style=\"color: #7fbfbf; text-decoration-color: #7fbfbf\">                </span><span style=\"color: #800000; text-decoration-color: #800000\">all meshes before import. A </span><span style=\"color: #008000; text-decoration-color: #008000\">'PermittivityMonitor'</span><span style=\"color: #800000; text-decoration-color: #800000\"> can be used to</span>\n",
       "<span style=\"color: #7fbfbf; text-decoration-color: #7fbfbf\">                </span><span style=\"color: #800000; text-decoration-color: #800000\">obtain the true permittivity and check that the surface mesh is </span>\n",
       "<span style=\"color: #7fbfbf; text-decoration-color: #7fbfbf\">                </span><span style=\"color: #800000; text-decoration-color: #800000\">loaded correctly.                                               </span>\n",
       "</pre>\n"
      ],
      "text/plain": [
       "\u001b[2;36m               \u001b[0m\u001b[2;36m \u001b[0m\u001b[31mWARNING: Client-side permittivity of a \u001b[0m\u001b[32m'TriangleMesh'\u001b[0m\u001b[31m may be    \u001b[0m\n",
       "\u001b[2;36m                \u001b[0m\u001b[31minaccurate if the mesh is not unionized. We recommend unionizing\u001b[0m\n",
       "\u001b[2;36m                \u001b[0m\u001b[31mall meshes before import. A \u001b[0m\u001b[32m'PermittivityMonitor'\u001b[0m\u001b[31m can be used to\u001b[0m\n",
       "\u001b[2;36m                \u001b[0m\u001b[31mobtain the true permittivity and check that the surface mesh is \u001b[0m\n",
       "\u001b[2;36m                \u001b[0m\u001b[31mloaded correctly.                                               \u001b[0m\n"
      ]
     },
     "metadata": {},
     "output_type": "display_data"
    },
    {
     "data": {
      "text/html": [
       "<pre style=\"white-space:pre;overflow-x:auto;line-height:normal;font-family:Menlo,'DejaVu Sans Mono',consolas,'Courier New',monospace\"><span style=\"color: #7fbfbf; text-decoration-color: #7fbfbf\">                </span><span style=\"color: #800000; text-decoration-color: #800000\">WARNING: Client-side permittivity of a </span><span style=\"color: #008000; text-decoration-color: #008000\">'TriangleMesh'</span><span style=\"color: #800000; text-decoration-color: #800000\"> may be    </span>\n",
       "<span style=\"color: #7fbfbf; text-decoration-color: #7fbfbf\">                </span><span style=\"color: #800000; text-decoration-color: #800000\">inaccurate if the mesh is not unionized. We recommend unionizing</span>\n",
       "<span style=\"color: #7fbfbf; text-decoration-color: #7fbfbf\">                </span><span style=\"color: #800000; text-decoration-color: #800000\">all meshes before import. A </span><span style=\"color: #008000; text-decoration-color: #008000\">'PermittivityMonitor'</span><span style=\"color: #800000; text-decoration-color: #800000\"> can be used to</span>\n",
       "<span style=\"color: #7fbfbf; text-decoration-color: #7fbfbf\">                </span><span style=\"color: #800000; text-decoration-color: #800000\">obtain the true permittivity and check that the surface mesh is </span>\n",
       "<span style=\"color: #7fbfbf; text-decoration-color: #7fbfbf\">                </span><span style=\"color: #800000; text-decoration-color: #800000\">loaded correctly.                                               </span>\n",
       "</pre>\n"
      ],
      "text/plain": [
       "\u001b[2;36m               \u001b[0m\u001b[2;36m \u001b[0m\u001b[31mWARNING: Client-side permittivity of a \u001b[0m\u001b[32m'TriangleMesh'\u001b[0m\u001b[31m may be    \u001b[0m\n",
       "\u001b[2;36m                \u001b[0m\u001b[31minaccurate if the mesh is not unionized. We recommend unionizing\u001b[0m\n",
       "\u001b[2;36m                \u001b[0m\u001b[31mall meshes before import. A \u001b[0m\u001b[32m'PermittivityMonitor'\u001b[0m\u001b[31m can be used to\u001b[0m\n",
       "\u001b[2;36m                \u001b[0m\u001b[31mobtain the true permittivity and check that the surface mesh is \u001b[0m\n",
       "\u001b[2;36m                \u001b[0m\u001b[31mloaded correctly.                                               \u001b[0m\n"
      ]
     },
     "metadata": {},
     "output_type": "display_data"
    },
    {
     "data": {
      "text/html": [
       "<pre style=\"white-space:pre;overflow-x:auto;line-height:normal;font-family:Menlo,'DejaVu Sans Mono',consolas,'Courier New',monospace\"><span style=\"color: #7fbfbf; text-decoration-color: #7fbfbf\">                </span><span style=\"color: #800000; text-decoration-color: #800000\">WARNING: Client-side permittivity of a </span><span style=\"color: #008000; text-decoration-color: #008000\">'TriangleMesh'</span><span style=\"color: #800000; text-decoration-color: #800000\"> may be    </span>\n",
       "<span style=\"color: #7fbfbf; text-decoration-color: #7fbfbf\">                </span><span style=\"color: #800000; text-decoration-color: #800000\">inaccurate if the mesh is not unionized. We recommend unionizing</span>\n",
       "<span style=\"color: #7fbfbf; text-decoration-color: #7fbfbf\">                </span><span style=\"color: #800000; text-decoration-color: #800000\">all meshes before import. A </span><span style=\"color: #008000; text-decoration-color: #008000\">'PermittivityMonitor'</span><span style=\"color: #800000; text-decoration-color: #800000\"> can be used to</span>\n",
       "<span style=\"color: #7fbfbf; text-decoration-color: #7fbfbf\">                </span><span style=\"color: #800000; text-decoration-color: #800000\">obtain the true permittivity and check that the surface mesh is </span>\n",
       "<span style=\"color: #7fbfbf; text-decoration-color: #7fbfbf\">                </span><span style=\"color: #800000; text-decoration-color: #800000\">loaded correctly.                                               </span>\n",
       "</pre>\n"
      ],
      "text/plain": [
       "\u001b[2;36m               \u001b[0m\u001b[2;36m \u001b[0m\u001b[31mWARNING: Client-side permittivity of a \u001b[0m\u001b[32m'TriangleMesh'\u001b[0m\u001b[31m may be    \u001b[0m\n",
       "\u001b[2;36m                \u001b[0m\u001b[31minaccurate if the mesh is not unionized. We recommend unionizing\u001b[0m\n",
       "\u001b[2;36m                \u001b[0m\u001b[31mall meshes before import. A \u001b[0m\u001b[32m'PermittivityMonitor'\u001b[0m\u001b[31m can be used to\u001b[0m\n",
       "\u001b[2;36m                \u001b[0m\u001b[31mobtain the true permittivity and check that the surface mesh is \u001b[0m\n",
       "\u001b[2;36m                \u001b[0m\u001b[31mloaded correctly.                                               \u001b[0m\n"
      ]
     },
     "metadata": {},
     "output_type": "display_data"
    },
    {
     "data": {
      "text/html": [
       "<pre style=\"white-space:pre;overflow-x:auto;line-height:normal;font-family:Menlo,'DejaVu Sans Mono',consolas,'Courier New',monospace\"><span style=\"color: #7fbfbf; text-decoration-color: #7fbfbf\">                </span><span style=\"color: #800000; text-decoration-color: #800000\">WARNING: Client-side permittivity of a </span><span style=\"color: #008000; text-decoration-color: #008000\">'TriangleMesh'</span><span style=\"color: #800000; text-decoration-color: #800000\"> may be    </span>\n",
       "<span style=\"color: #7fbfbf; text-decoration-color: #7fbfbf\">                </span><span style=\"color: #800000; text-decoration-color: #800000\">inaccurate if the mesh is not unionized. We recommend unionizing</span>\n",
       "<span style=\"color: #7fbfbf; text-decoration-color: #7fbfbf\">                </span><span style=\"color: #800000; text-decoration-color: #800000\">all meshes before import. A </span><span style=\"color: #008000; text-decoration-color: #008000\">'PermittivityMonitor'</span><span style=\"color: #800000; text-decoration-color: #800000\"> can be used to</span>\n",
       "<span style=\"color: #7fbfbf; text-decoration-color: #7fbfbf\">                </span><span style=\"color: #800000; text-decoration-color: #800000\">obtain the true permittivity and check that the surface mesh is </span>\n",
       "<span style=\"color: #7fbfbf; text-decoration-color: #7fbfbf\">                </span><span style=\"color: #800000; text-decoration-color: #800000\">loaded correctly.                                               </span>\n",
       "</pre>\n"
      ],
      "text/plain": [
       "\u001b[2;36m               \u001b[0m\u001b[2;36m \u001b[0m\u001b[31mWARNING: Client-side permittivity of a \u001b[0m\u001b[32m'TriangleMesh'\u001b[0m\u001b[31m may be    \u001b[0m\n",
       "\u001b[2;36m                \u001b[0m\u001b[31minaccurate if the mesh is not unionized. We recommend unionizing\u001b[0m\n",
       "\u001b[2;36m                \u001b[0m\u001b[31mall meshes before import. A \u001b[0m\u001b[32m'PermittivityMonitor'\u001b[0m\u001b[31m can be used to\u001b[0m\n",
       "\u001b[2;36m                \u001b[0m\u001b[31mobtain the true permittivity and check that the surface mesh is \u001b[0m\n",
       "\u001b[2;36m                \u001b[0m\u001b[31mloaded correctly.                                               \u001b[0m\n"
      ]
     },
     "metadata": {},
     "output_type": "display_data"
    },
    {
     "data": {
      "text/html": [
       "<pre style=\"white-space:pre;overflow-x:auto;line-height:normal;font-family:Menlo,'DejaVu Sans Mono',consolas,'Courier New',monospace\"><span style=\"color: #7fbfbf; text-decoration-color: #7fbfbf\">                </span><span style=\"color: #800000; text-decoration-color: #800000\">WARNING: Client-side permittivity of a </span><span style=\"color: #008000; text-decoration-color: #008000\">'TriangleMesh'</span><span style=\"color: #800000; text-decoration-color: #800000\"> may be    </span>\n",
       "<span style=\"color: #7fbfbf; text-decoration-color: #7fbfbf\">                </span><span style=\"color: #800000; text-decoration-color: #800000\">inaccurate if the mesh is not unionized. We recommend unionizing</span>\n",
       "<span style=\"color: #7fbfbf; text-decoration-color: #7fbfbf\">                </span><span style=\"color: #800000; text-decoration-color: #800000\">all meshes before import. A </span><span style=\"color: #008000; text-decoration-color: #008000\">'PermittivityMonitor'</span><span style=\"color: #800000; text-decoration-color: #800000\"> can be used to</span>\n",
       "<span style=\"color: #7fbfbf; text-decoration-color: #7fbfbf\">                </span><span style=\"color: #800000; text-decoration-color: #800000\">obtain the true permittivity and check that the surface mesh is </span>\n",
       "<span style=\"color: #7fbfbf; text-decoration-color: #7fbfbf\">                </span><span style=\"color: #800000; text-decoration-color: #800000\">loaded correctly.                                               </span>\n",
       "</pre>\n"
      ],
      "text/plain": [
       "\u001b[2;36m               \u001b[0m\u001b[2;36m \u001b[0m\u001b[31mWARNING: Client-side permittivity of a \u001b[0m\u001b[32m'TriangleMesh'\u001b[0m\u001b[31m may be    \u001b[0m\n",
       "\u001b[2;36m                \u001b[0m\u001b[31minaccurate if the mesh is not unionized. We recommend unionizing\u001b[0m\n",
       "\u001b[2;36m                \u001b[0m\u001b[31mall meshes before import. A \u001b[0m\u001b[32m'PermittivityMonitor'\u001b[0m\u001b[31m can be used to\u001b[0m\n",
       "\u001b[2;36m                \u001b[0m\u001b[31mobtain the true permittivity and check that the surface mesh is \u001b[0m\n",
       "\u001b[2;36m                \u001b[0m\u001b[31mloaded correctly.                                               \u001b[0m\n"
      ]
     },
     "metadata": {},
     "output_type": "display_data"
    },
    {
     "data": {
      "text/html": [
       "<pre style=\"white-space:pre;overflow-x:auto;line-height:normal;font-family:Menlo,'DejaVu Sans Mono',consolas,'Courier New',monospace\"><span style=\"color: #7fbfbf; text-decoration-color: #7fbfbf\">                </span><span style=\"color: #800000; text-decoration-color: #800000\">WARNING: Client-side permittivity of a </span><span style=\"color: #008000; text-decoration-color: #008000\">'TriangleMesh'</span><span style=\"color: #800000; text-decoration-color: #800000\"> may be    </span>\n",
       "<span style=\"color: #7fbfbf; text-decoration-color: #7fbfbf\">                </span><span style=\"color: #800000; text-decoration-color: #800000\">inaccurate if the mesh is not unionized. We recommend unionizing</span>\n",
       "<span style=\"color: #7fbfbf; text-decoration-color: #7fbfbf\">                </span><span style=\"color: #800000; text-decoration-color: #800000\">all meshes before import. A </span><span style=\"color: #008000; text-decoration-color: #008000\">'PermittivityMonitor'</span><span style=\"color: #800000; text-decoration-color: #800000\"> can be used to</span>\n",
       "<span style=\"color: #7fbfbf; text-decoration-color: #7fbfbf\">                </span><span style=\"color: #800000; text-decoration-color: #800000\">obtain the true permittivity and check that the surface mesh is </span>\n",
       "<span style=\"color: #7fbfbf; text-decoration-color: #7fbfbf\">                </span><span style=\"color: #800000; text-decoration-color: #800000\">loaded correctly.                                               </span>\n",
       "</pre>\n"
      ],
      "text/plain": [
       "\u001b[2;36m               \u001b[0m\u001b[2;36m \u001b[0m\u001b[31mWARNING: Client-side permittivity of a \u001b[0m\u001b[32m'TriangleMesh'\u001b[0m\u001b[31m may be    \u001b[0m\n",
       "\u001b[2;36m                \u001b[0m\u001b[31minaccurate if the mesh is not unionized. We recommend unionizing\u001b[0m\n",
       "\u001b[2;36m                \u001b[0m\u001b[31mall meshes before import. A \u001b[0m\u001b[32m'PermittivityMonitor'\u001b[0m\u001b[31m can be used to\u001b[0m\n",
       "\u001b[2;36m                \u001b[0m\u001b[31mobtain the true permittivity and check that the surface mesh is \u001b[0m\n",
       "\u001b[2;36m                \u001b[0m\u001b[31mloaded correctly.                                               \u001b[0m\n"
      ]
     },
     "metadata": {},
     "output_type": "display_data"
    },
    {
     "data": {
      "text/html": [
       "<pre style=\"white-space:pre;overflow-x:auto;line-height:normal;font-family:Menlo,'DejaVu Sans Mono',consolas,'Courier New',monospace\"><span style=\"color: #7fbfbf; text-decoration-color: #7fbfbf\">                </span><span style=\"color: #800000; text-decoration-color: #800000\">WARNING: Client-side permittivity of a </span><span style=\"color: #008000; text-decoration-color: #008000\">'TriangleMesh'</span><span style=\"color: #800000; text-decoration-color: #800000\"> may be    </span>\n",
       "<span style=\"color: #7fbfbf; text-decoration-color: #7fbfbf\">                </span><span style=\"color: #800000; text-decoration-color: #800000\">inaccurate if the mesh is not unionized. We recommend unionizing</span>\n",
       "<span style=\"color: #7fbfbf; text-decoration-color: #7fbfbf\">                </span><span style=\"color: #800000; text-decoration-color: #800000\">all meshes before import. A </span><span style=\"color: #008000; text-decoration-color: #008000\">'PermittivityMonitor'</span><span style=\"color: #800000; text-decoration-color: #800000\"> can be used to</span>\n",
       "<span style=\"color: #7fbfbf; text-decoration-color: #7fbfbf\">                </span><span style=\"color: #800000; text-decoration-color: #800000\">obtain the true permittivity and check that the surface mesh is </span>\n",
       "<span style=\"color: #7fbfbf; text-decoration-color: #7fbfbf\">                </span><span style=\"color: #800000; text-decoration-color: #800000\">loaded correctly.                                               </span>\n",
       "</pre>\n"
      ],
      "text/plain": [
       "\u001b[2;36m               \u001b[0m\u001b[2;36m \u001b[0m\u001b[31mWARNING: Client-side permittivity of a \u001b[0m\u001b[32m'TriangleMesh'\u001b[0m\u001b[31m may be    \u001b[0m\n",
       "\u001b[2;36m                \u001b[0m\u001b[31minaccurate if the mesh is not unionized. We recommend unionizing\u001b[0m\n",
       "\u001b[2;36m                \u001b[0m\u001b[31mall meshes before import. A \u001b[0m\u001b[32m'PermittivityMonitor'\u001b[0m\u001b[31m can be used to\u001b[0m\n",
       "\u001b[2;36m                \u001b[0m\u001b[31mobtain the true permittivity and check that the surface mesh is \u001b[0m\n",
       "\u001b[2;36m                \u001b[0m\u001b[31mloaded correctly.                                               \u001b[0m\n"
      ]
     },
     "metadata": {},
     "output_type": "display_data"
    },
    {
     "data": {
      "text/html": [
       "<pre style=\"white-space:pre;overflow-x:auto;line-height:normal;font-family:Menlo,'DejaVu Sans Mono',consolas,'Courier New',monospace\"><span style=\"color: #7fbfbf; text-decoration-color: #7fbfbf\">                </span><span style=\"color: #800000; text-decoration-color: #800000\">WARNING: Client-side permittivity of a </span><span style=\"color: #008000; text-decoration-color: #008000\">'TriangleMesh'</span><span style=\"color: #800000; text-decoration-color: #800000\"> may be    </span>\n",
       "<span style=\"color: #7fbfbf; text-decoration-color: #7fbfbf\">                </span><span style=\"color: #800000; text-decoration-color: #800000\">inaccurate if the mesh is not unionized. We recommend unionizing</span>\n",
       "<span style=\"color: #7fbfbf; text-decoration-color: #7fbfbf\">                </span><span style=\"color: #800000; text-decoration-color: #800000\">all meshes before import. A </span><span style=\"color: #008000; text-decoration-color: #008000\">'PermittivityMonitor'</span><span style=\"color: #800000; text-decoration-color: #800000\"> can be used to</span>\n",
       "<span style=\"color: #7fbfbf; text-decoration-color: #7fbfbf\">                </span><span style=\"color: #800000; text-decoration-color: #800000\">obtain the true permittivity and check that the surface mesh is </span>\n",
       "<span style=\"color: #7fbfbf; text-decoration-color: #7fbfbf\">                </span><span style=\"color: #800000; text-decoration-color: #800000\">loaded correctly.                                               </span>\n",
       "</pre>\n"
      ],
      "text/plain": [
       "\u001b[2;36m               \u001b[0m\u001b[2;36m \u001b[0m\u001b[31mWARNING: Client-side permittivity of a \u001b[0m\u001b[32m'TriangleMesh'\u001b[0m\u001b[31m may be    \u001b[0m\n",
       "\u001b[2;36m                \u001b[0m\u001b[31minaccurate if the mesh is not unionized. We recommend unionizing\u001b[0m\n",
       "\u001b[2;36m                \u001b[0m\u001b[31mall meshes before import. A \u001b[0m\u001b[32m'PermittivityMonitor'\u001b[0m\u001b[31m can be used to\u001b[0m\n",
       "\u001b[2;36m                \u001b[0m\u001b[31mobtain the true permittivity and check that the surface mesh is \u001b[0m\n",
       "\u001b[2;36m                \u001b[0m\u001b[31mloaded correctly.                                               \u001b[0m\n"
      ]
     },
     "metadata": {},
     "output_type": "display_data"
    },
    {
     "data": {
      "text/html": [
       "<pre style=\"white-space:pre;overflow-x:auto;line-height:normal;font-family:Menlo,'DejaVu Sans Mono',consolas,'Courier New',monospace\"><span style=\"color: #7fbfbf; text-decoration-color: #7fbfbf\">                </span><span style=\"color: #800000; text-decoration-color: #800000\">WARNING: Client-side permittivity of a </span><span style=\"color: #008000; text-decoration-color: #008000\">'TriangleMesh'</span><span style=\"color: #800000; text-decoration-color: #800000\"> may be    </span>\n",
       "<span style=\"color: #7fbfbf; text-decoration-color: #7fbfbf\">                </span><span style=\"color: #800000; text-decoration-color: #800000\">inaccurate if the mesh is not unionized. We recommend unionizing</span>\n",
       "<span style=\"color: #7fbfbf; text-decoration-color: #7fbfbf\">                </span><span style=\"color: #800000; text-decoration-color: #800000\">all meshes before import. A </span><span style=\"color: #008000; text-decoration-color: #008000\">'PermittivityMonitor'</span><span style=\"color: #800000; text-decoration-color: #800000\"> can be used to</span>\n",
       "<span style=\"color: #7fbfbf; text-decoration-color: #7fbfbf\">                </span><span style=\"color: #800000; text-decoration-color: #800000\">obtain the true permittivity and check that the surface mesh is </span>\n",
       "<span style=\"color: #7fbfbf; text-decoration-color: #7fbfbf\">                </span><span style=\"color: #800000; text-decoration-color: #800000\">loaded correctly.                                               </span>\n",
       "</pre>\n"
      ],
      "text/plain": [
       "\u001b[2;36m               \u001b[0m\u001b[2;36m \u001b[0m\u001b[31mWARNING: Client-side permittivity of a \u001b[0m\u001b[32m'TriangleMesh'\u001b[0m\u001b[31m may be    \u001b[0m\n",
       "\u001b[2;36m                \u001b[0m\u001b[31minaccurate if the mesh is not unionized. We recommend unionizing\u001b[0m\n",
       "\u001b[2;36m                \u001b[0m\u001b[31mall meshes before import. A \u001b[0m\u001b[32m'PermittivityMonitor'\u001b[0m\u001b[31m can be used to\u001b[0m\n",
       "\u001b[2;36m                \u001b[0m\u001b[31mobtain the true permittivity and check that the surface mesh is \u001b[0m\n",
       "\u001b[2;36m                \u001b[0m\u001b[31mloaded correctly.                                               \u001b[0m\n"
      ]
     },
     "metadata": {},
     "output_type": "display_data"
    },
    {
     "data": {
      "text/html": [
       "<pre style=\"white-space:pre;overflow-x:auto;line-height:normal;font-family:Menlo,'DejaVu Sans Mono',consolas,'Courier New',monospace\"><span style=\"color: #7fbfbf; text-decoration-color: #7fbfbf\">                </span><span style=\"color: #800000; text-decoration-color: #800000\">WARNING: Client-side permittivity of a </span><span style=\"color: #008000; text-decoration-color: #008000\">'TriangleMesh'</span><span style=\"color: #800000; text-decoration-color: #800000\"> may be    </span>\n",
       "<span style=\"color: #7fbfbf; text-decoration-color: #7fbfbf\">                </span><span style=\"color: #800000; text-decoration-color: #800000\">inaccurate if the mesh is not unionized. We recommend unionizing</span>\n",
       "<span style=\"color: #7fbfbf; text-decoration-color: #7fbfbf\">                </span><span style=\"color: #800000; text-decoration-color: #800000\">all meshes before import. A </span><span style=\"color: #008000; text-decoration-color: #008000\">'PermittivityMonitor'</span><span style=\"color: #800000; text-decoration-color: #800000\"> can be used to</span>\n",
       "<span style=\"color: #7fbfbf; text-decoration-color: #7fbfbf\">                </span><span style=\"color: #800000; text-decoration-color: #800000\">obtain the true permittivity and check that the surface mesh is </span>\n",
       "<span style=\"color: #7fbfbf; text-decoration-color: #7fbfbf\">                </span><span style=\"color: #800000; text-decoration-color: #800000\">loaded correctly.                                               </span>\n",
       "</pre>\n"
      ],
      "text/plain": [
       "\u001b[2;36m               \u001b[0m\u001b[2;36m \u001b[0m\u001b[31mWARNING: Client-side permittivity of a \u001b[0m\u001b[32m'TriangleMesh'\u001b[0m\u001b[31m may be    \u001b[0m\n",
       "\u001b[2;36m                \u001b[0m\u001b[31minaccurate if the mesh is not unionized. We recommend unionizing\u001b[0m\n",
       "\u001b[2;36m                \u001b[0m\u001b[31mall meshes before import. A \u001b[0m\u001b[32m'PermittivityMonitor'\u001b[0m\u001b[31m can be used to\u001b[0m\n",
       "\u001b[2;36m                \u001b[0m\u001b[31mobtain the true permittivity and check that the surface mesh is \u001b[0m\n",
       "\u001b[2;36m                \u001b[0m\u001b[31mloaded correctly.                                               \u001b[0m\n"
      ]
     },
     "metadata": {},
     "output_type": "display_data"
    },
    {
     "data": {
      "text/html": [
       "<pre style=\"white-space:pre;overflow-x:auto;line-height:normal;font-family:Menlo,'DejaVu Sans Mono',consolas,'Courier New',monospace\"><span style=\"color: #7fbfbf; text-decoration-color: #7fbfbf\">                </span><span style=\"color: #800000; text-decoration-color: #800000\">WARNING: Client-side permittivity of a </span><span style=\"color: #008000; text-decoration-color: #008000\">'TriangleMesh'</span><span style=\"color: #800000; text-decoration-color: #800000\"> may be    </span>\n",
       "<span style=\"color: #7fbfbf; text-decoration-color: #7fbfbf\">                </span><span style=\"color: #800000; text-decoration-color: #800000\">inaccurate if the mesh is not unionized. We recommend unionizing</span>\n",
       "<span style=\"color: #7fbfbf; text-decoration-color: #7fbfbf\">                </span><span style=\"color: #800000; text-decoration-color: #800000\">all meshes before import. A </span><span style=\"color: #008000; text-decoration-color: #008000\">'PermittivityMonitor'</span><span style=\"color: #800000; text-decoration-color: #800000\"> can be used to</span>\n",
       "<span style=\"color: #7fbfbf; text-decoration-color: #7fbfbf\">                </span><span style=\"color: #800000; text-decoration-color: #800000\">obtain the true permittivity and check that the surface mesh is </span>\n",
       "<span style=\"color: #7fbfbf; text-decoration-color: #7fbfbf\">                </span><span style=\"color: #800000; text-decoration-color: #800000\">loaded correctly.                                               </span>\n",
       "</pre>\n"
      ],
      "text/plain": [
       "\u001b[2;36m               \u001b[0m\u001b[2;36m \u001b[0m\u001b[31mWARNING: Client-side permittivity of a \u001b[0m\u001b[32m'TriangleMesh'\u001b[0m\u001b[31m may be    \u001b[0m\n",
       "\u001b[2;36m                \u001b[0m\u001b[31minaccurate if the mesh is not unionized. We recommend unionizing\u001b[0m\n",
       "\u001b[2;36m                \u001b[0m\u001b[31mall meshes before import. A \u001b[0m\u001b[32m'PermittivityMonitor'\u001b[0m\u001b[31m can be used to\u001b[0m\n",
       "\u001b[2;36m                \u001b[0m\u001b[31mobtain the true permittivity and check that the surface mesh is \u001b[0m\n",
       "\u001b[2;36m                \u001b[0m\u001b[31mloaded correctly.                                               \u001b[0m\n"
      ]
     },
     "metadata": {},
     "output_type": "display_data"
    },
    {
     "data": {
      "text/html": [
       "<pre style=\"white-space:pre;overflow-x:auto;line-height:normal;font-family:Menlo,'DejaVu Sans Mono',consolas,'Courier New',monospace\"><span style=\"color: #7fbfbf; text-decoration-color: #7fbfbf\">                </span><span style=\"color: #800000; text-decoration-color: #800000\">WARNING: Client-side permittivity of a </span><span style=\"color: #008000; text-decoration-color: #008000\">'TriangleMesh'</span><span style=\"color: #800000; text-decoration-color: #800000\"> may be    </span>\n",
       "<span style=\"color: #7fbfbf; text-decoration-color: #7fbfbf\">                </span><span style=\"color: #800000; text-decoration-color: #800000\">inaccurate if the mesh is not unionized. We recommend unionizing</span>\n",
       "<span style=\"color: #7fbfbf; text-decoration-color: #7fbfbf\">                </span><span style=\"color: #800000; text-decoration-color: #800000\">all meshes before import. A </span><span style=\"color: #008000; text-decoration-color: #008000\">'PermittivityMonitor'</span><span style=\"color: #800000; text-decoration-color: #800000\"> can be used to</span>\n",
       "<span style=\"color: #7fbfbf; text-decoration-color: #7fbfbf\">                </span><span style=\"color: #800000; text-decoration-color: #800000\">obtain the true permittivity and check that the surface mesh is </span>\n",
       "<span style=\"color: #7fbfbf; text-decoration-color: #7fbfbf\">                </span><span style=\"color: #800000; text-decoration-color: #800000\">loaded correctly.                                               </span>\n",
       "</pre>\n"
      ],
      "text/plain": [
       "\u001b[2;36m               \u001b[0m\u001b[2;36m \u001b[0m\u001b[31mWARNING: Client-side permittivity of a \u001b[0m\u001b[32m'TriangleMesh'\u001b[0m\u001b[31m may be    \u001b[0m\n",
       "\u001b[2;36m                \u001b[0m\u001b[31minaccurate if the mesh is not unionized. We recommend unionizing\u001b[0m\n",
       "\u001b[2;36m                \u001b[0m\u001b[31mall meshes before import. A \u001b[0m\u001b[32m'PermittivityMonitor'\u001b[0m\u001b[31m can be used to\u001b[0m\n",
       "\u001b[2;36m                \u001b[0m\u001b[31mobtain the true permittivity and check that the surface mesh is \u001b[0m\n",
       "\u001b[2;36m                \u001b[0m\u001b[31mloaded correctly.                                               \u001b[0m\n"
      ]
     },
     "metadata": {},
     "output_type": "display_data"
    },
    {
     "data": {
      "text/html": [
       "<pre style=\"white-space:pre;overflow-x:auto;line-height:normal;font-family:Menlo,'DejaVu Sans Mono',consolas,'Courier New',monospace\"><span style=\"color: #7fbfbf; text-decoration-color: #7fbfbf\">                </span><span style=\"color: #800000; text-decoration-color: #800000\">WARNING: Client-side permittivity of a </span><span style=\"color: #008000; text-decoration-color: #008000\">'TriangleMesh'</span><span style=\"color: #800000; text-decoration-color: #800000\"> may be    </span>\n",
       "<span style=\"color: #7fbfbf; text-decoration-color: #7fbfbf\">                </span><span style=\"color: #800000; text-decoration-color: #800000\">inaccurate if the mesh is not unionized. We recommend unionizing</span>\n",
       "<span style=\"color: #7fbfbf; text-decoration-color: #7fbfbf\">                </span><span style=\"color: #800000; text-decoration-color: #800000\">all meshes before import. A </span><span style=\"color: #008000; text-decoration-color: #008000\">'PermittivityMonitor'</span><span style=\"color: #800000; text-decoration-color: #800000\"> can be used to</span>\n",
       "<span style=\"color: #7fbfbf; text-decoration-color: #7fbfbf\">                </span><span style=\"color: #800000; text-decoration-color: #800000\">obtain the true permittivity and check that the surface mesh is </span>\n",
       "<span style=\"color: #7fbfbf; text-decoration-color: #7fbfbf\">                </span><span style=\"color: #800000; text-decoration-color: #800000\">loaded correctly.                                               </span>\n",
       "</pre>\n"
      ],
      "text/plain": [
       "\u001b[2;36m               \u001b[0m\u001b[2;36m \u001b[0m\u001b[31mWARNING: Client-side permittivity of a \u001b[0m\u001b[32m'TriangleMesh'\u001b[0m\u001b[31m may be    \u001b[0m\n",
       "\u001b[2;36m                \u001b[0m\u001b[31minaccurate if the mesh is not unionized. We recommend unionizing\u001b[0m\n",
       "\u001b[2;36m                \u001b[0m\u001b[31mall meshes before import. A \u001b[0m\u001b[32m'PermittivityMonitor'\u001b[0m\u001b[31m can be used to\u001b[0m\n",
       "\u001b[2;36m                \u001b[0m\u001b[31mobtain the true permittivity and check that the surface mesh is \u001b[0m\n",
       "\u001b[2;36m                \u001b[0m\u001b[31mloaded correctly.                                               \u001b[0m\n"
      ]
     },
     "metadata": {},
     "output_type": "display_data"
    },
    {
     "data": {
      "text/html": [
       "<pre style=\"white-space:pre;overflow-x:auto;line-height:normal;font-family:Menlo,'DejaVu Sans Mono',consolas,'Courier New',monospace\"><span style=\"color: #7fbfbf; text-decoration-color: #7fbfbf\">                </span><span style=\"color: #800000; text-decoration-color: #800000\">WARNING: Client-side permittivity of a </span><span style=\"color: #008000; text-decoration-color: #008000\">'TriangleMesh'</span><span style=\"color: #800000; text-decoration-color: #800000\"> may be    </span>\n",
       "<span style=\"color: #7fbfbf; text-decoration-color: #7fbfbf\">                </span><span style=\"color: #800000; text-decoration-color: #800000\">inaccurate if the mesh is not unionized. We recommend unionizing</span>\n",
       "<span style=\"color: #7fbfbf; text-decoration-color: #7fbfbf\">                </span><span style=\"color: #800000; text-decoration-color: #800000\">all meshes before import. A </span><span style=\"color: #008000; text-decoration-color: #008000\">'PermittivityMonitor'</span><span style=\"color: #800000; text-decoration-color: #800000\"> can be used to</span>\n",
       "<span style=\"color: #7fbfbf; text-decoration-color: #7fbfbf\">                </span><span style=\"color: #800000; text-decoration-color: #800000\">obtain the true permittivity and check that the surface mesh is </span>\n",
       "<span style=\"color: #7fbfbf; text-decoration-color: #7fbfbf\">                </span><span style=\"color: #800000; text-decoration-color: #800000\">loaded correctly.                                               </span>\n",
       "</pre>\n"
      ],
      "text/plain": [
       "\u001b[2;36m               \u001b[0m\u001b[2;36m \u001b[0m\u001b[31mWARNING: Client-side permittivity of a \u001b[0m\u001b[32m'TriangleMesh'\u001b[0m\u001b[31m may be    \u001b[0m\n",
       "\u001b[2;36m                \u001b[0m\u001b[31minaccurate if the mesh is not unionized. We recommend unionizing\u001b[0m\n",
       "\u001b[2;36m                \u001b[0m\u001b[31mall meshes before import. A \u001b[0m\u001b[32m'PermittivityMonitor'\u001b[0m\u001b[31m can be used to\u001b[0m\n",
       "\u001b[2;36m                \u001b[0m\u001b[31mobtain the true permittivity and check that the surface mesh is \u001b[0m\n",
       "\u001b[2;36m                \u001b[0m\u001b[31mloaded correctly.                                               \u001b[0m\n"
      ]
     },
     "metadata": {},
     "output_type": "display_data"
    },
    {
     "data": {
      "text/html": [
       "<pre style=\"white-space:pre;overflow-x:auto;line-height:normal;font-family:Menlo,'DejaVu Sans Mono',consolas,'Courier New',monospace\"><span style=\"color: #7fbfbf; text-decoration-color: #7fbfbf\">                </span><span style=\"color: #800000; text-decoration-color: #800000\">WARNING: Client-side permittivity of a </span><span style=\"color: #008000; text-decoration-color: #008000\">'TriangleMesh'</span><span style=\"color: #800000; text-decoration-color: #800000\"> may be    </span>\n",
       "<span style=\"color: #7fbfbf; text-decoration-color: #7fbfbf\">                </span><span style=\"color: #800000; text-decoration-color: #800000\">inaccurate if the mesh is not unionized. We recommend unionizing</span>\n",
       "<span style=\"color: #7fbfbf; text-decoration-color: #7fbfbf\">                </span><span style=\"color: #800000; text-decoration-color: #800000\">all meshes before import. A </span><span style=\"color: #008000; text-decoration-color: #008000\">'PermittivityMonitor'</span><span style=\"color: #800000; text-decoration-color: #800000\"> can be used to</span>\n",
       "<span style=\"color: #7fbfbf; text-decoration-color: #7fbfbf\">                </span><span style=\"color: #800000; text-decoration-color: #800000\">obtain the true permittivity and check that the surface mesh is </span>\n",
       "<span style=\"color: #7fbfbf; text-decoration-color: #7fbfbf\">                </span><span style=\"color: #800000; text-decoration-color: #800000\">loaded correctly.                                               </span>\n",
       "</pre>\n"
      ],
      "text/plain": [
       "\u001b[2;36m               \u001b[0m\u001b[2;36m \u001b[0m\u001b[31mWARNING: Client-side permittivity of a \u001b[0m\u001b[32m'TriangleMesh'\u001b[0m\u001b[31m may be    \u001b[0m\n",
       "\u001b[2;36m                \u001b[0m\u001b[31minaccurate if the mesh is not unionized. We recommend unionizing\u001b[0m\n",
       "\u001b[2;36m                \u001b[0m\u001b[31mall meshes before import. A \u001b[0m\u001b[32m'PermittivityMonitor'\u001b[0m\u001b[31m can be used to\u001b[0m\n",
       "\u001b[2;36m                \u001b[0m\u001b[31mobtain the true permittivity and check that the surface mesh is \u001b[0m\n",
       "\u001b[2;36m                \u001b[0m\u001b[31mloaded correctly.                                               \u001b[0m\n"
      ]
     },
     "metadata": {},
     "output_type": "display_data"
    },
    {
     "data": {
      "text/html": [
       "<pre style=\"white-space:pre;overflow-x:auto;line-height:normal;font-family:Menlo,'DejaVu Sans Mono',consolas,'Courier New',monospace\"><span style=\"color: #7fbfbf; text-decoration-color: #7fbfbf\">                </span><span style=\"color: #800000; text-decoration-color: #800000\">WARNING: Client-side permittivity of a </span><span style=\"color: #008000; text-decoration-color: #008000\">'TriangleMesh'</span><span style=\"color: #800000; text-decoration-color: #800000\"> may be    </span>\n",
       "<span style=\"color: #7fbfbf; text-decoration-color: #7fbfbf\">                </span><span style=\"color: #800000; text-decoration-color: #800000\">inaccurate if the mesh is not unionized. We recommend unionizing</span>\n",
       "<span style=\"color: #7fbfbf; text-decoration-color: #7fbfbf\">                </span><span style=\"color: #800000; text-decoration-color: #800000\">all meshes before import. A </span><span style=\"color: #008000; text-decoration-color: #008000\">'PermittivityMonitor'</span><span style=\"color: #800000; text-decoration-color: #800000\"> can be used to</span>\n",
       "<span style=\"color: #7fbfbf; text-decoration-color: #7fbfbf\">                </span><span style=\"color: #800000; text-decoration-color: #800000\">obtain the true permittivity and check that the surface mesh is </span>\n",
       "<span style=\"color: #7fbfbf; text-decoration-color: #7fbfbf\">                </span><span style=\"color: #800000; text-decoration-color: #800000\">loaded correctly.                                               </span>\n",
       "</pre>\n"
      ],
      "text/plain": [
       "\u001b[2;36m               \u001b[0m\u001b[2;36m \u001b[0m\u001b[31mWARNING: Client-side permittivity of a \u001b[0m\u001b[32m'TriangleMesh'\u001b[0m\u001b[31m may be    \u001b[0m\n",
       "\u001b[2;36m                \u001b[0m\u001b[31minaccurate if the mesh is not unionized. We recommend unionizing\u001b[0m\n",
       "\u001b[2;36m                \u001b[0m\u001b[31mall meshes before import. A \u001b[0m\u001b[32m'PermittivityMonitor'\u001b[0m\u001b[31m can be used to\u001b[0m\n",
       "\u001b[2;36m                \u001b[0m\u001b[31mobtain the true permittivity and check that the surface mesh is \u001b[0m\n",
       "\u001b[2;36m                \u001b[0m\u001b[31mloaded correctly.                                               \u001b[0m\n"
      ]
     },
     "metadata": {},
     "output_type": "display_data"
    },
    {
     "data": {
      "text/html": [
       "<pre style=\"white-space:pre;overflow-x:auto;line-height:normal;font-family:Menlo,'DejaVu Sans Mono',consolas,'Courier New',monospace\"><span style=\"color: #7fbfbf; text-decoration-color: #7fbfbf\">                </span><span style=\"color: #800000; text-decoration-color: #800000\">WARNING: Client-side permittivity of a </span><span style=\"color: #008000; text-decoration-color: #008000\">'TriangleMesh'</span><span style=\"color: #800000; text-decoration-color: #800000\"> may be    </span>\n",
       "<span style=\"color: #7fbfbf; text-decoration-color: #7fbfbf\">                </span><span style=\"color: #800000; text-decoration-color: #800000\">inaccurate if the mesh is not unionized. We recommend unionizing</span>\n",
       "<span style=\"color: #7fbfbf; text-decoration-color: #7fbfbf\">                </span><span style=\"color: #800000; text-decoration-color: #800000\">all meshes before import. A </span><span style=\"color: #008000; text-decoration-color: #008000\">'PermittivityMonitor'</span><span style=\"color: #800000; text-decoration-color: #800000\"> can be used to</span>\n",
       "<span style=\"color: #7fbfbf; text-decoration-color: #7fbfbf\">                </span><span style=\"color: #800000; text-decoration-color: #800000\">obtain the true permittivity and check that the surface mesh is </span>\n",
       "<span style=\"color: #7fbfbf; text-decoration-color: #7fbfbf\">                </span><span style=\"color: #800000; text-decoration-color: #800000\">loaded correctly.                                               </span>\n",
       "</pre>\n"
      ],
      "text/plain": [
       "\u001b[2;36m               \u001b[0m\u001b[2;36m \u001b[0m\u001b[31mWARNING: Client-side permittivity of a \u001b[0m\u001b[32m'TriangleMesh'\u001b[0m\u001b[31m may be    \u001b[0m\n",
       "\u001b[2;36m                \u001b[0m\u001b[31minaccurate if the mesh is not unionized. We recommend unionizing\u001b[0m\n",
       "\u001b[2;36m                \u001b[0m\u001b[31mall meshes before import. A \u001b[0m\u001b[32m'PermittivityMonitor'\u001b[0m\u001b[31m can be used to\u001b[0m\n",
       "\u001b[2;36m                \u001b[0m\u001b[31mobtain the true permittivity and check that the surface mesh is \u001b[0m\n",
       "\u001b[2;36m                \u001b[0m\u001b[31mloaded correctly.                                               \u001b[0m\n"
      ]
     },
     "metadata": {},
     "output_type": "display_data"
    },
    {
     "data": {
      "text/html": [
       "<pre style=\"white-space:pre;overflow-x:auto;line-height:normal;font-family:Menlo,'DejaVu Sans Mono',consolas,'Courier New',monospace\"><span style=\"color: #7fbfbf; text-decoration-color: #7fbfbf\">                </span><span style=\"color: #800000; text-decoration-color: #800000\">WARNING: Client-side permittivity of a </span><span style=\"color: #008000; text-decoration-color: #008000\">'TriangleMesh'</span><span style=\"color: #800000; text-decoration-color: #800000\"> may be    </span>\n",
       "<span style=\"color: #7fbfbf; text-decoration-color: #7fbfbf\">                </span><span style=\"color: #800000; text-decoration-color: #800000\">inaccurate if the mesh is not unionized. We recommend unionizing</span>\n",
       "<span style=\"color: #7fbfbf; text-decoration-color: #7fbfbf\">                </span><span style=\"color: #800000; text-decoration-color: #800000\">all meshes before import. A </span><span style=\"color: #008000; text-decoration-color: #008000\">'PermittivityMonitor'</span><span style=\"color: #800000; text-decoration-color: #800000\"> can be used to</span>\n",
       "<span style=\"color: #7fbfbf; text-decoration-color: #7fbfbf\">                </span><span style=\"color: #800000; text-decoration-color: #800000\">obtain the true permittivity and check that the surface mesh is </span>\n",
       "<span style=\"color: #7fbfbf; text-decoration-color: #7fbfbf\">                </span><span style=\"color: #800000; text-decoration-color: #800000\">loaded correctly.                                               </span>\n",
       "</pre>\n"
      ],
      "text/plain": [
       "\u001b[2;36m               \u001b[0m\u001b[2;36m \u001b[0m\u001b[31mWARNING: Client-side permittivity of a \u001b[0m\u001b[32m'TriangleMesh'\u001b[0m\u001b[31m may be    \u001b[0m\n",
       "\u001b[2;36m                \u001b[0m\u001b[31minaccurate if the mesh is not unionized. We recommend unionizing\u001b[0m\n",
       "\u001b[2;36m                \u001b[0m\u001b[31mall meshes before import. A \u001b[0m\u001b[32m'PermittivityMonitor'\u001b[0m\u001b[31m can be used to\u001b[0m\n",
       "\u001b[2;36m                \u001b[0m\u001b[31mobtain the true permittivity and check that the surface mesh is \u001b[0m\n",
       "\u001b[2;36m                \u001b[0m\u001b[31mloaded correctly.                                               \u001b[0m\n"
      ]
     },
     "metadata": {},
     "output_type": "display_data"
    },
    {
     "data": {
      "text/html": [
       "<pre style=\"white-space:pre;overflow-x:auto;line-height:normal;font-family:Menlo,'DejaVu Sans Mono',consolas,'Courier New',monospace\"><span style=\"color: #7fbfbf; text-decoration-color: #7fbfbf\">                </span><span style=\"color: #800000; text-decoration-color: #800000\">WARNING: Client-side permittivity of a </span><span style=\"color: #008000; text-decoration-color: #008000\">'TriangleMesh'</span><span style=\"color: #800000; text-decoration-color: #800000\"> may be    </span>\n",
       "<span style=\"color: #7fbfbf; text-decoration-color: #7fbfbf\">                </span><span style=\"color: #800000; text-decoration-color: #800000\">inaccurate if the mesh is not unionized. We recommend unionizing</span>\n",
       "<span style=\"color: #7fbfbf; text-decoration-color: #7fbfbf\">                </span><span style=\"color: #800000; text-decoration-color: #800000\">all meshes before import. A </span><span style=\"color: #008000; text-decoration-color: #008000\">'PermittivityMonitor'</span><span style=\"color: #800000; text-decoration-color: #800000\"> can be used to</span>\n",
       "<span style=\"color: #7fbfbf; text-decoration-color: #7fbfbf\">                </span><span style=\"color: #800000; text-decoration-color: #800000\">obtain the true permittivity and check that the surface mesh is </span>\n",
       "<span style=\"color: #7fbfbf; text-decoration-color: #7fbfbf\">                </span><span style=\"color: #800000; text-decoration-color: #800000\">loaded correctly.                                               </span>\n",
       "</pre>\n"
      ],
      "text/plain": [
       "\u001b[2;36m               \u001b[0m\u001b[2;36m \u001b[0m\u001b[31mWARNING: Client-side permittivity of a \u001b[0m\u001b[32m'TriangleMesh'\u001b[0m\u001b[31m may be    \u001b[0m\n",
       "\u001b[2;36m                \u001b[0m\u001b[31minaccurate if the mesh is not unionized. We recommend unionizing\u001b[0m\n",
       "\u001b[2;36m                \u001b[0m\u001b[31mall meshes before import. A \u001b[0m\u001b[32m'PermittivityMonitor'\u001b[0m\u001b[31m can be used to\u001b[0m\n",
       "\u001b[2;36m                \u001b[0m\u001b[31mobtain the true permittivity and check that the surface mesh is \u001b[0m\n",
       "\u001b[2;36m                \u001b[0m\u001b[31mloaded correctly.                                               \u001b[0m\n"
      ]
     },
     "metadata": {},
     "output_type": "display_data"
    },
    {
     "data": {
      "text/html": [
       "<pre style=\"white-space:pre;overflow-x:auto;line-height:normal;font-family:Menlo,'DejaVu Sans Mono',consolas,'Courier New',monospace\"><span style=\"color: #7fbfbf; text-decoration-color: #7fbfbf\">11:00:31 中国标准时间 </span><span style=\"color: #800000; text-decoration-color: #800000\">WARNING: Client-side permittivity of a </span><span style=\"color: #008000; text-decoration-color: #008000\">'TriangleMesh'</span><span style=\"color: #800000; text-decoration-color: #800000\"> may </span>\n",
       "<span style=\"color: #7fbfbf; text-decoration-color: #7fbfbf\">                      </span><span style=\"color: #800000; text-decoration-color: #800000\">be inaccurate if the mesh is not unionized. We recommend  </span>\n",
       "<span style=\"color: #7fbfbf; text-decoration-color: #7fbfbf\">                      </span><span style=\"color: #800000; text-decoration-color: #800000\">unionizing all meshes before import. A                    </span>\n",
       "<span style=\"color: #7fbfbf; text-decoration-color: #7fbfbf\">                      </span><span style=\"color: #008000; text-decoration-color: #008000\">'PermittivityMonitor'</span><span style=\"color: #800000; text-decoration-color: #800000\"> can be used to obtain the true      </span>\n",
       "<span style=\"color: #7fbfbf; text-decoration-color: #7fbfbf\">                      </span><span style=\"color: #800000; text-decoration-color: #800000\">permittivity and check that the surface mesh is loaded    </span>\n",
       "<span style=\"color: #7fbfbf; text-decoration-color: #7fbfbf\">                      </span><span style=\"color: #800000; text-decoration-color: #800000\">correctly.                                                </span>\n",
       "</pre>\n"
      ],
      "text/plain": [
       "\u001b[2;36m11:00:31 中国标准时间\u001b[0m\u001b[2;36m \u001b[0m\u001b[31mWARNING: Client-side permittivity of a \u001b[0m\u001b[32m'TriangleMesh'\u001b[0m\u001b[31m may \u001b[0m\n",
       "\u001b[2;36m                      \u001b[0m\u001b[31mbe inaccurate if the mesh is not unionized. We recommend  \u001b[0m\n",
       "\u001b[2;36m                      \u001b[0m\u001b[31munionizing all meshes before import. A                    \u001b[0m\n",
       "\u001b[2;36m                      \u001b[0m\u001b[32m'PermittivityMonitor'\u001b[0m\u001b[31m can be used to obtain the true      \u001b[0m\n",
       "\u001b[2;36m                      \u001b[0m\u001b[31mpermittivity and check that the surface mesh is loaded    \u001b[0m\n",
       "\u001b[2;36m                      \u001b[0m\u001b[31mcorrectly.                                                \u001b[0m\n"
      ]
     },
     "metadata": {},
     "output_type": "display_data"
    },
    {
     "data": {
      "text/html": [
       "<pre style=\"white-space:pre;overflow-x:auto;line-height:normal;font-family:Menlo,'DejaVu Sans Mono',consolas,'Courier New',monospace\"><span style=\"color: #7fbfbf; text-decoration-color: #7fbfbf\">                </span><span style=\"color: #800000; text-decoration-color: #800000\">WARNING: Client-side permittivity of a </span><span style=\"color: #008000; text-decoration-color: #008000\">'TriangleMesh'</span><span style=\"color: #800000; text-decoration-color: #800000\"> may be    </span>\n",
       "<span style=\"color: #7fbfbf; text-decoration-color: #7fbfbf\">                </span><span style=\"color: #800000; text-decoration-color: #800000\">inaccurate if the mesh is not unionized. We recommend unionizing</span>\n",
       "<span style=\"color: #7fbfbf; text-decoration-color: #7fbfbf\">                </span><span style=\"color: #800000; text-decoration-color: #800000\">all meshes before import. A </span><span style=\"color: #008000; text-decoration-color: #008000\">'PermittivityMonitor'</span><span style=\"color: #800000; text-decoration-color: #800000\"> can be used to</span>\n",
       "<span style=\"color: #7fbfbf; text-decoration-color: #7fbfbf\">                </span><span style=\"color: #800000; text-decoration-color: #800000\">obtain the true permittivity and check that the surface mesh is </span>\n",
       "<span style=\"color: #7fbfbf; text-decoration-color: #7fbfbf\">                </span><span style=\"color: #800000; text-decoration-color: #800000\">loaded correctly.                                               </span>\n",
       "</pre>\n"
      ],
      "text/plain": [
       "\u001b[2;36m               \u001b[0m\u001b[2;36m \u001b[0m\u001b[31mWARNING: Client-side permittivity of a \u001b[0m\u001b[32m'TriangleMesh'\u001b[0m\u001b[31m may be    \u001b[0m\n",
       "\u001b[2;36m                \u001b[0m\u001b[31minaccurate if the mesh is not unionized. We recommend unionizing\u001b[0m\n",
       "\u001b[2;36m                \u001b[0m\u001b[31mall meshes before import. A \u001b[0m\u001b[32m'PermittivityMonitor'\u001b[0m\u001b[31m can be used to\u001b[0m\n",
       "\u001b[2;36m                \u001b[0m\u001b[31mobtain the true permittivity and check that the surface mesh is \u001b[0m\n",
       "\u001b[2;36m                \u001b[0m\u001b[31mloaded correctly.                                               \u001b[0m\n"
      ]
     },
     "metadata": {},
     "output_type": "display_data"
    },
    {
     "data": {
      "text/html": [
       "<pre style=\"white-space:pre;overflow-x:auto;line-height:normal;font-family:Menlo,'DejaVu Sans Mono',consolas,'Courier New',monospace\"><span style=\"color: #7fbfbf; text-decoration-color: #7fbfbf\">                </span><span style=\"color: #800000; text-decoration-color: #800000\">WARNING: Client-side permittivity of a </span><span style=\"color: #008000; text-decoration-color: #008000\">'TriangleMesh'</span><span style=\"color: #800000; text-decoration-color: #800000\"> may be    </span>\n",
       "<span style=\"color: #7fbfbf; text-decoration-color: #7fbfbf\">                </span><span style=\"color: #800000; text-decoration-color: #800000\">inaccurate if the mesh is not unionized. We recommend unionizing</span>\n",
       "<span style=\"color: #7fbfbf; text-decoration-color: #7fbfbf\">                </span><span style=\"color: #800000; text-decoration-color: #800000\">all meshes before import. A </span><span style=\"color: #008000; text-decoration-color: #008000\">'PermittivityMonitor'</span><span style=\"color: #800000; text-decoration-color: #800000\"> can be used to</span>\n",
       "<span style=\"color: #7fbfbf; text-decoration-color: #7fbfbf\">                </span><span style=\"color: #800000; text-decoration-color: #800000\">obtain the true permittivity and check that the surface mesh is </span>\n",
       "<span style=\"color: #7fbfbf; text-decoration-color: #7fbfbf\">                </span><span style=\"color: #800000; text-decoration-color: #800000\">loaded correctly.                                               </span>\n",
       "</pre>\n"
      ],
      "text/plain": [
       "\u001b[2;36m               \u001b[0m\u001b[2;36m \u001b[0m\u001b[31mWARNING: Client-side permittivity of a \u001b[0m\u001b[32m'TriangleMesh'\u001b[0m\u001b[31m may be    \u001b[0m\n",
       "\u001b[2;36m                \u001b[0m\u001b[31minaccurate if the mesh is not unionized. We recommend unionizing\u001b[0m\n",
       "\u001b[2;36m                \u001b[0m\u001b[31mall meshes before import. A \u001b[0m\u001b[32m'PermittivityMonitor'\u001b[0m\u001b[31m can be used to\u001b[0m\n",
       "\u001b[2;36m                \u001b[0m\u001b[31mobtain the true permittivity and check that the surface mesh is \u001b[0m\n",
       "\u001b[2;36m                \u001b[0m\u001b[31mloaded correctly.                                               \u001b[0m\n"
      ]
     },
     "metadata": {},
     "output_type": "display_data"
    },
    {
     "data": {
      "text/html": [
       "<pre style=\"white-space:pre;overflow-x:auto;line-height:normal;font-family:Menlo,'DejaVu Sans Mono',consolas,'Courier New',monospace\"><span style=\"color: #7fbfbf; text-decoration-color: #7fbfbf\">                </span><span style=\"color: #800000; text-decoration-color: #800000\">WARNING: Client-side permittivity of a </span><span style=\"color: #008000; text-decoration-color: #008000\">'TriangleMesh'</span><span style=\"color: #800000; text-decoration-color: #800000\"> may be    </span>\n",
       "<span style=\"color: #7fbfbf; text-decoration-color: #7fbfbf\">                </span><span style=\"color: #800000; text-decoration-color: #800000\">inaccurate if the mesh is not unionized. We recommend unionizing</span>\n",
       "<span style=\"color: #7fbfbf; text-decoration-color: #7fbfbf\">                </span><span style=\"color: #800000; text-decoration-color: #800000\">all meshes before import. A </span><span style=\"color: #008000; text-decoration-color: #008000\">'PermittivityMonitor'</span><span style=\"color: #800000; text-decoration-color: #800000\"> can be used to</span>\n",
       "<span style=\"color: #7fbfbf; text-decoration-color: #7fbfbf\">                </span><span style=\"color: #800000; text-decoration-color: #800000\">obtain the true permittivity and check that the surface mesh is </span>\n",
       "<span style=\"color: #7fbfbf; text-decoration-color: #7fbfbf\">                </span><span style=\"color: #800000; text-decoration-color: #800000\">loaded correctly.                                               </span>\n",
       "</pre>\n"
      ],
      "text/plain": [
       "\u001b[2;36m               \u001b[0m\u001b[2;36m \u001b[0m\u001b[31mWARNING: Client-side permittivity of a \u001b[0m\u001b[32m'TriangleMesh'\u001b[0m\u001b[31m may be    \u001b[0m\n",
       "\u001b[2;36m                \u001b[0m\u001b[31minaccurate if the mesh is not unionized. We recommend unionizing\u001b[0m\n",
       "\u001b[2;36m                \u001b[0m\u001b[31mall meshes before import. A \u001b[0m\u001b[32m'PermittivityMonitor'\u001b[0m\u001b[31m can be used to\u001b[0m\n",
       "\u001b[2;36m                \u001b[0m\u001b[31mobtain the true permittivity and check that the surface mesh is \u001b[0m\n",
       "\u001b[2;36m                \u001b[0m\u001b[31mloaded correctly.                                               \u001b[0m\n"
      ]
     },
     "metadata": {},
     "output_type": "display_data"
    }
   ],
   "source": [
    "\n",
    "plane = td.Box(center=(0, 0, 0), size=(4, 0, 3.5))\n",
    "mode_spec = td.ModeSpec(\n",
    "    num_modes=3,\n",
    ")\n",
    "from tidy3d.constants import C_0\n",
    "from tidy3d.plugins.mode.mode_solver import ModeSolver\n",
    "import numpy as np\n",
    "# central frequency\n",
    "wvl_um = 1.55\n",
    "freq0 = C_0 / wvl_um\n",
    "fwidth = freq0 / 3\n",
    "num_freqs = 11\n",
    "f0_ind = num_freqs // 2\n",
    "freqs = np.linspace(freq0 - fwidth / 2, freq0 + fwidth / 2, num_freqs)\n",
    "\n",
    "mode_solver = ModeSolver(\n",
    "    simulation=sim,\n",
    "    plane=plane,\n",
    "    mode_spec=mode_spec,\n",
    "    freqs=freqs,\n",
    ")\n",
    "mode_data = mode_solver.solve()\n"
   ]
  },
  {
   "cell_type": "code",
   "execution_count": 20,
   "id": "195dc4a1",
   "metadata": {},
   "outputs": [
    {
     "data": {
      "image/png": "[encoded data removed]",
      "text/plain": [
       "<Figure size 640x480 with 1 Axes>"
      ]
     },
     "metadata": {},
     "output_type": "display_data"
    }
   ],
   "source": [
    "import matplotlib.pyplot as plt\n",
    "fig, ax = plt.subplots(1)\n",
    "n_eff = mode_data.n_eff  # real part of the effective mode index\n",
    "n_eff.plot.line(x=\"f\")\n",
    "plt.show()\n"
   ]
  },
  {
   "cell_type": "code",
   "execution_count": 21,
   "id": "3618ac08",
   "metadata": {},
   "outputs": [
    {
     "data": {
      "image/png": "[encoded data removed]",
      "text/plain": [
       "<Figure size 1000x300 with 4 Axes>"
      ]
     },
     "metadata": {},
     "output_type": "display_data"
    }
   ],
   "source": [
    "f, (ax1, ax2) = plt.subplots(1, 2, tight_layout=True, figsize=(10, 3))\n",
    "abs(mode_data.Ex.isel(mode_index=0, f=f0_ind)).plot(x=\"x\", y=\"z\", ax=ax1, cmap=\"magma\")\n",
    "abs(mode_data.Ez.isel(mode_index=0, f=f0_ind)).plot(x=\"x\", y=\"z\", ax=ax2, cmap=\"magma\")\n",
    "\n",
    "ax1.set_title(\"|Ex(x, y)|\")\n",
    "ax1.set_aspect(\"equal\")\n",
    "ax2.set_title(\"|Ez(x, y)|\")\n",
    "ax2.set_aspect(\"equal\")\n",
    "plt.show()\n"
   ]
  },
  {
   "cell_type": "code",
   "execution_count": 16,
   "id": "6f0fc5dc",
   "metadata": {},
   "outputs": [
    {
     "data": {
      "image/png": "[encoded data removed]",
      "text/plain": [
       "<Figure size 1000x300 with 4 Axes>"
      ]
     },
     "metadata": {},
     "output_type": "display_data"
    }
   ],
   "source": [
    "mode_index = 1\n",
    "f, (ax1, ax2) = plt.subplots(1, 2, tight_layout=True, figsize=(10, 3))\n",
    "mode_solver.plot_field(\"Ex\", \"abs\", mode_index=mode_index, f=freq0, ax=ax1)\n",
    "mode_solver.plot_field(\"Ez\", \"abs\", mode_index=mode_index, f=freq0, ax=ax2)\n",
    "plt.show()\n"
   ]
  },
  {
   "cell_type": "code",
   "execution_count": 7,
   "id": "1b7b4742",
   "metadata": {},
   "outputs": [
    {
     "data": {
      "image/png": "[encoded data removed]",
      "text/plain": [
       "<Figure size 1000x300 with 4 Axes>"
      ]
     },
     "metadata": {},
     "output_type": "display_data"
    }
   ],
   "source": [
    "mode_index = 2\n",
    "f, (ax1, ax2) = plt.subplots(1, 2, tight_layout=True, figsize=(10, 3))\n",
    "mode_solver.plot_field(\"Ex\", \"abs\", mode_index=mode_index, f=freq0, ax=ax1)\n",
    "mode_solver.plot_field(\"Ez\", \"abs\", mode_index=mode_index, f=freq0, ax=ax2)\n",
    "plt.show()\n"
   ]
  }
 ],
 "metadata": {
  "kernelspec": {
   "display_name": ".venv",
   "language": "python",
   "name": "python3"
  },
  "language_info": {
   "codemirror_mode": {
    "name": "ipython",
    "version": 3
   },
   "file_extension": ".py",
   "mimetype": "text/x-python",
   "name": "python",
   "nbconvert_exporter": "python",
   "pygments_lexer": "ipython3",
   "version": "3.11.4"
  }
 },
 "nbformat": 4,
 "nbformat_minor": 5
}
